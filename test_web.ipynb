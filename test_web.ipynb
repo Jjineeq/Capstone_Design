{
 "cells": [
  {
   "cell_type": "code",
   "execution_count": 51,
   "metadata": {},
   "outputs": [],
   "source": [
    "import numpy as np\n",
    "import json\n",
    "from flask import Flask, request, jsonify, render_template\n",
    "import pandas as pd\n",
    "import numpy as np\n",
    "import pvlib\n",
    "from pvlib.modelchain import ModelChain"
   ]
  },
  {
   "cell_type": "code",
   "execution_count": 52,
   "metadata": {},
   "outputs": [],
   "source": [
    "def clear_sky():\n",
    "    latitude = -33.8878872\n",
    "    longitude = 151.2007315\n",
    "    start_date = '2020-01-01'\n",
    "    end_date = '2020-01-02'\n",
    "    capacity = 100\n",
    "\n",
    "    location = pvlib.location.Location(latitude, longitude, tz='Australia/Sydney')\n",
    "\n",
    "    times = pd.date_range(start=start_date, end=end_date, freq='1H', tz='Australia/Sydney')\n",
    "    solpos = location.get_solarposition(times=times)\n",
    "    dni_extra = pvlib.irradiance.get_extra_radiation(times)\n",
    "    airmass = pvlib.atmosphere.get_relative_airmass(solpos['apparent_zenith'])\n",
    "    pressure = pvlib.atmosphere.alt2pres(location.altitude)\n",
    "    am_abs = pvlib.atmosphere.get_absolute_airmass(airmass, pressure)\n",
    "    tl = pvlib.clearsky.lookup_linke_turbidity(times, latitude, longitude)\n",
    "\n",
    "    solis_clearsky = pvlib.clearsky.simplified_solis(solpos['apparent_zenith'], am_abs, tl)\n",
    "    cs = location.get_clearsky(times, model='simplified_solis')\n",
    "\n",
    "    capacity = float(capacity)\n",
    "\n",
    "    system = pvlib.pvsystem.PVSystem(surface_tilt=30, surface_azimuth=180,\n",
    "                                     module_parameters={'pdc0': capacity, 'gamma_pdc': -0.004},\n",
    "                                     inverter_parameters={'pdc0': capacity},\n",
    "                                     modules_per_string=1, strings_per_inverter=1,\n",
    "                                     temperature_model_parameters={'a': -3.56, 'b': -0.075, 'deltaT': 3})\n",
    "    mc = pvlib.modelchain.ModelChain(system, location, spectral_model='no_loss', aoi_model='no_loss')\n",
    "\n",
    "    mc.run_model(solis_clearsky)\n",
    "\n",
    "    # Replace NaN values in the 'ac' column with 0\n",
    "    mc.ac.fillna(0, inplace=True)\n",
    "\n",
    "    return mc\n",
    "    "
   ]
  },
  {
   "cell_type": "code",
   "execution_count": 79,
   "metadata": {},
   "outputs": [],
   "source": [
    "latitude = -33.8878872\n",
    "longitude = 151.2007315\n",
    "start_date = '2020-01-01'\n",
    "end_date = '2020-01-02'\n",
    "capacity = 100\n",
    "\n",
    "location = pvlib.location.Location(latitude, longitude, tz='Australia/Sydney')\n",
    "\n",
    "times = pd.date_range(start=start_date, end=end_date, freq='1H', tz='Australia/Sydney')\n",
    "solpos = location.get_solarposition(times=times)\n",
    "dni_extra = pvlib.irradiance.get_extra_radiation(times)\n",
    "airmass = pvlib.atmosphere.get_relative_airmass(solpos['apparent_zenith'])\n",
    "pressure = pvlib.atmosphere.alt2pres(location.altitude)\n",
    "am_abs = pvlib.atmosphere.get_absolute_airmass(airmass, pressure)\n",
    "tl = pvlib.clearsky.lookup_linke_turbidity(times, latitude, longitude)\n",
    "\n",
    "solis_clearsky = pvlib.clearsky.simplified_solis(solpos['apparent_zenith'], am_abs, tl)\n",
    "cs = location.get_clearsky(times, model='simplified_solis')\n",
    "\n",
    "capacity = float(capacity)\n",
    "\n",
    "system = pvlib.pvsystem.PVSystem(surface_tilt=30, surface_azimuth=180,\n",
    "                                    module_parameters={'pdc0': capacity, 'gamma_pdc': -0.004},\n",
    "                                    inverter_parameters={'pdc0': capacity},\n",
    "                                    modules_per_string=1, strings_per_inverter=1,\n",
    "                                    temperature_model_parameters={'a': -3.56, 'b': -0.075, 'deltaT': 3})\n",
    "mc = pvlib.modelchain.ModelChain(system, location, spectral_model='no_loss', aoi_model='no_loss')\n"
   ]
  },
  {
   "cell_type": "code",
   "execution_count": 81,
   "metadata": {},
   "outputs": [
    {
     "data": {
      "text/plain": [
       "ModelChain: \n",
       "  name: None\n",
       "  clearsky_model: ineichen\n",
       "  transposition_model: haydavies\n",
       "  solar_position_method: nrel_numpy\n",
       "  airmass_model: kastenyoung1989\n",
       "  dc_model: pvwatts_dc\n",
       "  ac_model: pvwatts_inverter\n",
       "  aoi_model: no_aoi_loss\n",
       "  spectral_model: no_spectral_loss\n",
       "  temperature_model: sapm_temp\n",
       "  losses_model: no_extra_losses"
      ]
     },
     "execution_count": 81,
     "metadata": {},
     "output_type": "execute_result"
    }
   ],
   "source": [
    "mc.run_model(solis_clearsky.fillna(0))"
   ]
  },
  {
   "cell_type": "code",
   "execution_count": 85,
   "metadata": {},
   "outputs": [
    {
     "data": {
      "text/plain": [
       "2020-01-01 00:00:00+11:00     0.000000\n",
       "2020-01-01 01:00:00+11:00     0.000000\n",
       "2020-01-01 02:00:00+11:00     0.000000\n",
       "2020-01-01 03:00:00+11:00     0.000000\n",
       "2020-01-01 04:00:00+11:00     0.000000\n",
       "2020-01-01 05:00:00+11:00     0.000000\n",
       "2020-01-01 06:00:00+11:00     0.000000\n",
       "2020-01-01 07:00:00+11:00     0.299349\n",
       "2020-01-01 08:00:00+11:00     6.353778\n",
       "2020-01-01 09:00:00+11:00    12.767803\n",
       "2020-01-01 10:00:00+11:00    16.248710\n",
       "2020-01-01 11:00:00+11:00    16.257803\n",
       "2020-01-01 12:00:00+11:00    12.735190\n",
       "2020-01-01 13:00:00+11:00     9.293585\n",
       "2020-01-01 14:00:00+11:00    13.008783\n",
       "2020-01-01 15:00:00+11:00    16.346375\n",
       "2020-01-01 16:00:00+11:00    16.142269\n",
       "2020-01-01 17:00:00+11:00    12.462111\n",
       "2020-01-01 18:00:00+11:00     5.939298\n",
       "2020-01-01 19:00:00+11:00     0.107830\n",
       "2020-01-01 20:00:00+11:00     0.000000\n",
       "2020-01-01 21:00:00+11:00     0.000000\n",
       "2020-01-01 22:00:00+11:00     0.000000\n",
       "2020-01-01 23:00:00+11:00     0.000000\n",
       "2020-01-02 00:00:00+11:00     0.000000\n",
       "Freq: H, Name: p_mp, dtype: float64"
      ]
     },
     "execution_count": 85,
     "metadata": {},
     "output_type": "execute_result"
    }
   ],
   "source": [
    "mc.results.ac"
   ]
  },
  {
   "cell_type": "code",
   "execution_count": 73,
   "metadata": {},
   "outputs": [
    {
     "ename": "AttributeError",
     "evalue": "'ModelChain' object has no attribute 'get_ac'",
     "output_type": "error",
     "traceback": [
      "\u001b[1;31m---------------------------------------------------------------------------\u001b[0m",
      "\u001b[1;31mAttributeError\u001b[0m                            Traceback (most recent call last)",
      "Cell \u001b[1;32mIn[73], line 1\u001b[0m\n\u001b[1;32m----> 1\u001b[0m mc\u001b[39m.\u001b[39;49mget_ac()\n",
      "\u001b[1;31mAttributeError\u001b[0m: 'ModelChain' object has no attribute 'get_ac'"
     ]
    }
   ],
   "source": [
    "mc.get_ac()"
   ]
  },
  {
   "cell_type": "code",
   "execution_count": 72,
   "metadata": {},
   "outputs": [
    {
     "data": {
      "text/plain": [
       "ModelChain: \n",
       "  name: None\n",
       "  clearsky_model: ineichen\n",
       "  transposition_model: haydavies\n",
       "  solar_position_method: nrel_numpy\n",
       "  airmass_model: kastenyoung1989\n",
       "  dc_model: pvwatts_dc\n",
       "  ac_model: pvwatts_inverter\n",
       "  aoi_model: no_aoi_loss\n",
       "  spectral_model: no_spectral_loss\n",
       "  temperature_model: sapm_temp\n",
       "  losses_model: no_extra_losses"
      ]
     },
     "execution_count": 72,
     "metadata": {},
     "output_type": "execute_result"
    }
   ],
   "source": [
    "mc.run_model(solis_clearsky)"
   ]
  },
  {
   "cell_type": "code",
   "execution_count": 76,
   "metadata": {},
   "outputs": [
    {
     "data": {
      "text/plain": [
       "ModelChain: \n",
       "  name: None\n",
       "  clearsky_model: ineichen\n",
       "  transposition_model: haydavies\n",
       "  solar_position_method: nrel_numpy\n",
       "  airmass_model: kastenyoung1989\n",
       "  dc_model: pvwatts_dc\n",
       "  ac_model: pvwatts_inverter\n",
       "  aoi_model: no_aoi_loss\n",
       "  spectral_model: no_spectral_loss\n",
       "  temperature_model: sapm_temp\n",
       "  losses_model: no_extra_losses"
      ]
     },
     "execution_count": 76,
     "metadata": {},
     "output_type": "execute_result"
    }
   ],
   "source": [
    "mc"
   ]
  },
  {
   "cell_type": "code",
   "execution_count": 3,
   "metadata": {},
   "outputs": [
    {
     "ename": "AttributeError",
     "evalue": "'ModelChain' object has no attribute 'ac'",
     "output_type": "error",
     "traceback": [
      "\u001b[1;31m---------------------------------------------------------------------------\u001b[0m",
      "\u001b[1;31mAttributeError\u001b[0m                            Traceback (most recent call last)",
      "Cell \u001b[1;32mIn[3], line 1\u001b[0m\n\u001b[1;32m----> 1\u001b[0m aa \u001b[39m=\u001b[39m clear_sky()\n",
      "Cell \u001b[1;32mIn[2], line 33\u001b[0m, in \u001b[0;36mclear_sky\u001b[1;34m()\u001b[0m\n\u001b[0;32m     30\u001b[0m mc\u001b[39m.\u001b[39mrun_model(solis_clearsky)\n\u001b[0;32m     32\u001b[0m \u001b[39m# Replace NaN values in the 'ac' column with 0\u001b[39;00m\n\u001b[1;32m---> 33\u001b[0m mc\u001b[39m.\u001b[39;49mac\u001b[39m.\u001b[39mfillna(\u001b[39m0\u001b[39m, inplace\u001b[39m=\u001b[39m\u001b[39mTrue\u001b[39;00m)\n\u001b[0;32m     35\u001b[0m \u001b[39mreturn\u001b[39;00m mc\n",
      "\u001b[1;31mAttributeError\u001b[0m: 'ModelChain' object has no attribute 'ac'"
     ]
    }
   ],
   "source": [
    "aa = clear_sky()"
   ]
  },
  {
   "cell_type": "code",
   "execution_count": 26,
   "metadata": {},
   "outputs": [
    {
     "name": "stderr",
     "output_type": "stream",
     "text": [
      "c:\\Users\\user\\AppData\\Local\\Programs\\Python\\Python311\\Lib\\site-packages\\pvlib\\modelchain.py:511: pvlibDeprecationWarning: ModelChain.ac is deprecated and will be removed in v0.10. Use ModelChain.results.ac instead\n",
      "  warnings.warn(msg, pvlibDeprecationWarning)\n"
     ]
    },
    {
     "data": {
      "text/plain": [
       "[{'p_mp': 0.0},\n",
       " {'p_mp': 0.0},\n",
       " {'p_mp': 0.0},\n",
       " {'p_mp': 0.0},\n",
       " {'p_mp': 0.0},\n",
       " {'p_mp': 0.0},\n",
       " {'p_mp': 0.0},\n",
       " {'p_mp': 0.29934939546724537},\n",
       " {'p_mp': 6.3537777679600405},\n",
       " {'p_mp': 12.767802514482204},\n",
       " {'p_mp': 16.248709525390943},\n",
       " {'p_mp': 16.257803363775185},\n",
       " {'p_mp': 12.73519031256454},\n",
       " {'p_mp': 9.293585184661623},\n",
       " {'p_mp': 13.008782932890531},\n",
       " {'p_mp': 16.34637496673007},\n",
       " {'p_mp': 16.14226911424045},\n",
       " {'p_mp': 12.46211059124388},\n",
       " {'p_mp': 5.939298172159064},\n",
       " {'p_mp': 0.10783020005853403},\n",
       " {'p_mp': 0.0},\n",
       " {'p_mp': 0.0},\n",
       " {'p_mp': 0.0},\n",
       " {'p_mp': 0.0},\n",
       " {'p_mp': 0.0}]"
      ]
     },
     "execution_count": 26,
     "metadata": {},
     "output_type": "execute_result"
    }
   ],
   "source": [
    "pd.DataFrame(aa.ac).to_dict('records')"
   ]
  },
  {
   "cell_type": "code",
   "execution_count": 22,
   "metadata": {},
   "outputs": [
    {
     "name": "stderr",
     "output_type": "stream",
     "text": [
      "c:\\Users\\user\\AppData\\Local\\Programs\\Python\\Python311\\Lib\\site-packages\\pvlib\\modelchain.py:511: pvlibDeprecationWarning: ModelChain.ac is deprecated and will be removed in v0.10. Use ModelChain.results.ac instead\n",
      "  warnings.warn(msg, pvlibDeprecationWarning)\n"
     ]
    },
    {
     "ename": "RuntimeError",
     "evalue": "Working outside of application context.\n\nThis typically means that you attempted to use functionality that needed\nthe current application. To solve this, set up an application context\nwith app.app_context(). See the documentation for more information.",
     "output_type": "error",
     "traceback": [
      "\u001b[1;31m---------------------------------------------------------------------------\u001b[0m",
      "\u001b[1;31mRuntimeError\u001b[0m                              Traceback (most recent call last)",
      "Cell \u001b[1;32mIn[22], line 1\u001b[0m\n\u001b[1;32m----> 1\u001b[0m jsonify({\u001b[39m'\u001b[39;49m\u001b[39mresult\u001b[39;49m\u001b[39m'\u001b[39;49m:aa\u001b[39m.\u001b[39;49mac\u001b[39m.\u001b[39;49mto_dict()})\n",
      "File \u001b[1;32mc:\\Users\\user\\AppData\\Local\\Programs\\Python\\Python311\\Lib\\site-packages\\flask\\json\\__init__.py:342\u001b[0m, in \u001b[0;36mjsonify\u001b[1;34m(*args, **kwargs)\u001b[0m\n\u001b[0;32m    310\u001b[0m \u001b[39mdef\u001b[39;00m \u001b[39mjsonify\u001b[39m(\u001b[39m*\u001b[39margs: t\u001b[39m.\u001b[39mAny, \u001b[39m*\u001b[39m\u001b[39m*\u001b[39mkwargs: t\u001b[39m.\u001b[39mAny) \u001b[39m-\u001b[39m\u001b[39m>\u001b[39m Response:\n\u001b[0;32m    311\u001b[0m \u001b[39m    \u001b[39m\u001b[39m\"\"\"Serialize the given arguments as JSON, and return a\u001b[39;00m\n\u001b[0;32m    312\u001b[0m \u001b[39m    :class:`~flask.Response` object with the ``application/json``\u001b[39;00m\n\u001b[0;32m    313\u001b[0m \u001b[39m    mimetype. A dict or list returned from a view will be converted to a\u001b[39;00m\n\u001b[1;32m   (...)\u001b[0m\n\u001b[0;32m    340\u001b[0m \u001b[39m    .. versionadded:: 0.2\u001b[39;00m\n\u001b[0;32m    341\u001b[0m \u001b[39m    \"\"\"\u001b[39;00m\n\u001b[1;32m--> 342\u001b[0m     \u001b[39mreturn\u001b[39;00m current_app\u001b[39m.\u001b[39;49mjson\u001b[39m.\u001b[39mresponse(\u001b[39m*\u001b[39margs, \u001b[39m*\u001b[39m\u001b[39m*\u001b[39mkwargs)\n",
      "File \u001b[1;32mc:\\Users\\user\\AppData\\Local\\Programs\\Python\\Python311\\Lib\\site-packages\\werkzeug\\local.py:316\u001b[0m, in \u001b[0;36m_ProxyLookup.__get__\u001b[1;34m(self, instance, owner)\u001b[0m\n\u001b[0;32m    313\u001b[0m     \u001b[39mreturn\u001b[39;00m \u001b[39mself\u001b[39m\n\u001b[0;32m    315\u001b[0m \u001b[39mtry\u001b[39;00m:\n\u001b[1;32m--> 316\u001b[0m     obj \u001b[39m=\u001b[39m instance\u001b[39m.\u001b[39;49m_get_current_object()\n\u001b[0;32m    317\u001b[0m \u001b[39mexcept\u001b[39;00m \u001b[39mRuntimeError\u001b[39;00m:\n\u001b[0;32m    318\u001b[0m     \u001b[39mif\u001b[39;00m \u001b[39mself\u001b[39m\u001b[39m.\u001b[39mfallback \u001b[39mis\u001b[39;00m \u001b[39mNone\u001b[39;00m:\n",
      "File \u001b[1;32mc:\\Users\\user\\AppData\\Local\\Programs\\Python\\Python311\\Lib\\site-packages\\werkzeug\\local.py:513\u001b[0m, in \u001b[0;36mLocalProxy.__init__.<locals>._get_current_object\u001b[1;34m()\u001b[0m\n\u001b[0;32m    511\u001b[0m     obj \u001b[39m=\u001b[39m local\u001b[39m.\u001b[39mget()  \u001b[39m# type: ignore[union-attr]\u001b[39;00m\n\u001b[0;32m    512\u001b[0m \u001b[39mexcept\u001b[39;00m \u001b[39mLookupError\u001b[39;00m:\n\u001b[1;32m--> 513\u001b[0m     \u001b[39mraise\u001b[39;00m \u001b[39mRuntimeError\u001b[39;00m(unbound_message) \u001b[39mfrom\u001b[39;00m \u001b[39mNone\u001b[39m\n\u001b[0;32m    515\u001b[0m \u001b[39mreturn\u001b[39;00m get_name(obj)\n",
      "\u001b[1;31mRuntimeError\u001b[0m: Working outside of application context.\n\nThis typically means that you attempted to use functionality that needed\nthe current application. To solve this, set up an application context\nwith app.app_context(). See the documentation for more information."
     ]
    }
   ],
   "source": [
    "jsonify({'result':aa.ac.to_dict()})"
   ]
  }
 ],
 "metadata": {
  "kernelspec": {
   "display_name": "Python 3",
   "language": "python",
   "name": "python3"
  },
  "language_info": {
   "codemirror_mode": {
    "name": "ipython",
    "version": 3
   },
   "file_extension": ".py",
   "mimetype": "text/x-python",
   "name": "python",
   "nbconvert_exporter": "python",
   "pygments_lexer": "ipython3",
   "version": "3.9.15"
  },
  "orig_nbformat": 4
 },
 "nbformat": 4,
 "nbformat_minor": 2
}
