{
 "cells": [
  {
   "cell_type": "code",
   "execution_count": 1,
   "metadata": {},
   "outputs": [],
   "source": [
    "import numpy as np\n",
    "import json\n",
    "from flask import Flask, request, jsonify, render_template\n",
    "import pandas as pd\n",
    "import numpy as np\n",
    "import pvlib"
   ]
  },
  {
   "cell_type": "code",
   "execution_count": 5,
   "metadata": {},
   "outputs": [],
   "source": [
    "def clear_sky():\n",
    "    latitude = -33.8878872\n",
    "    longitude = 151.2007315\n",
    "    start_date = '2020-01-01'\n",
    "    end_date = '2020-01-02'\n",
    "    capacity = 100\n",
    "\n",
    "    location = pvlib.location.Location(latitude, longitude, tz='Australia/Sydney')\n",
    "\n",
    "    times = pd.date_range(start=start_date, end=end_date, freq='1H', tz='Australia/Sydney')\n",
    "    solpos = location.get_solarposition(times=times)\n",
    "    dni_extra = pvlib.irradiance.get_extra_radiation(times)\n",
    "    airmass = pvlib.atmosphere.get_relative_airmass(solpos['apparent_zenith'])\n",
    "    pressure = pvlib.atmosphere.alt2pres(location.altitude)\n",
    "    am_abs = pvlib.atmosphere.get_absolute_airmass(airmass, pressure)\n",
    "    tl = pvlib.clearsky.lookup_linke_turbidity(times, latitude, longitude)\n",
    "\n",
    "    solis_clearsky = pvlib.clearsky.simplified_solis(solpos['apparent_zenith'], am_abs, tl)\n",
    "    cs = location.get_clearsky(times, model='simplified_solis')\n",
    "\n",
    "    capacity = float(capacity)\n",
    "\n",
    "    system = pvlib.pvsystem.PVSystem(surface_tilt=30, surface_azimuth=180,\n",
    "                                     module_parameters={'pdc0': capacity, 'gamma_pdc': -0.004},\n",
    "                                     inverter_parameters={'pdc0': capacity},\n",
    "                                     modules_per_string=1, strings_per_inverter=1,\n",
    "                                     temperature_model_parameters={'a': -3.56, 'b': -0.075, 'deltaT': 3})\n",
    "    mc = pvlib.modelchain.ModelChain(system, location, spectral_model='no_loss', aoi_model='no_loss')\n",
    "\n",
    "    mc.run_model(solis_clearsky)\n",
    "\n",
    "    # Replace NaN values in the 'ac' column with 0\n",
    "    mc.ac.fillna(0, inplace=True)\n",
    "\n",
    "    return mc\n",
    "    "
   ]
  },
  {
   "cell_type": "code",
   "execution_count": 7,
   "metadata": {},
   "outputs": [
    {
     "name": "stderr",
     "output_type": "stream",
     "text": [
      "c:\\Users\\user\\AppData\\Local\\Programs\\Python\\Python311\\Lib\\site-packages\\pvlib\\modelchain.py:511: pvlibDeprecationWarning: ModelChain.ac is deprecated and will be removed in v0.10. Use ModelChain.results.ac instead\n",
      "  warnings.warn(msg, pvlibDeprecationWarning)\n"
     ]
    }
   ],
   "source": [
    "aa = clear_sky()"
   ]
  },
  {
   "cell_type": "code",
   "execution_count": 17,
   "metadata": {},
   "outputs": [
    {
     "name": "stderr",
     "output_type": "stream",
     "text": [
      "c:\\Users\\user\\AppData\\Local\\Programs\\Python\\Python311\\Lib\\site-packages\\pvlib\\modelchain.py:511: pvlibDeprecationWarning: ModelChain.ac is deprecated and will be removed in v0.10. Use ModelChain.results.ac instead\n",
      "  warnings.warn(msg, pvlibDeprecationWarning)\n"
     ]
    },
    {
     "data": {
      "text/plain": [
       "[0.0,\n",
       " 0.0,\n",
       " 0.0,\n",
       " 0.0,\n",
       " 0.0,\n",
       " 0.0,\n",
       " 0.0,\n",
       " 0.29934939546724537,\n",
       " 6.3537777679600405,\n",
       " 12.767802514482204,\n",
       " 16.248709525390943,\n",
       " 16.257803363775185,\n",
       " 12.73519031256454,\n",
       " 9.293585184661623,\n",
       " 13.008782932890531,\n",
       " 16.34637496673007,\n",
       " 16.14226911424045,\n",
       " 12.46211059124388,\n",
       " 5.939298172159064,\n",
       " 0.10783020005853403,\n",
       " 0.0,\n",
       " 0.0,\n",
       " 0.0,\n",
       " 0.0,\n",
       " 0.0]"
      ]
     },
     "execution_count": 17,
     "metadata": {},
     "output_type": "execute_result"
    }
   ],
   "source": [
    "aa.ac.values.tolist()"
   ]
  },
  {
   "cell_type": "code",
   "execution_count": 19,
   "metadata": {},
   "outputs": [
    {
     "data": {
      "text/plain": [
       "{Timestamp('2020-01-01 00:00:00+1100', tz='Australia/Sydney', freq='H'): 0.0,\n",
       " Timestamp('2020-01-01 01:00:00+1100', tz='Australia/Sydney', freq='H'): 0.0,\n",
       " Timestamp('2020-01-01 02:00:00+1100', tz='Australia/Sydney', freq='H'): 0.0,\n",
       " Timestamp('2020-01-01 03:00:00+1100', tz='Australia/Sydney', freq='H'): 0.0,\n",
       " Timestamp('2020-01-01 04:00:00+1100', tz='Australia/Sydney', freq='H'): 0.0,\n",
       " Timestamp('2020-01-01 05:00:00+1100', tz='Australia/Sydney', freq='H'): 0.0,\n",
       " Timestamp('2020-01-01 06:00:00+1100', tz='Australia/Sydney', freq='H'): 0.0,\n",
       " Timestamp('2020-01-01 07:00:00+1100', tz='Australia/Sydney', freq='H'): 0.29934939546724537,\n",
       " Timestamp('2020-01-01 08:00:00+1100', tz='Australia/Sydney', freq='H'): 6.3537777679600405,\n",
       " Timestamp('2020-01-01 09:00:00+1100', tz='Australia/Sydney', freq='H'): 12.767802514482204,\n",
       " Timestamp('2020-01-01 10:00:00+1100', tz='Australia/Sydney', freq='H'): 16.248709525390943,\n",
       " Timestamp('2020-01-01 11:00:00+1100', tz='Australia/Sydney', freq='H'): 16.257803363775185,\n",
       " Timestamp('2020-01-01 12:00:00+1100', tz='Australia/Sydney', freq='H'): 12.73519031256454,\n",
       " Timestamp('2020-01-01 13:00:00+1100', tz='Australia/Sydney', freq='H'): 9.293585184661623,\n",
       " Timestamp('2020-01-01 14:00:00+1100', tz='Australia/Sydney', freq='H'): 13.008782932890531,\n",
       " Timestamp('2020-01-01 15:00:00+1100', tz='Australia/Sydney', freq='H'): 16.34637496673007,\n",
       " Timestamp('2020-01-01 16:00:00+1100', tz='Australia/Sydney', freq='H'): 16.14226911424045,\n",
       " Timestamp('2020-01-01 17:00:00+1100', tz='Australia/Sydney', freq='H'): 12.46211059124388,\n",
       " Timestamp('2020-01-01 18:00:00+1100', tz='Australia/Sydney', freq='H'): 5.939298172159064,\n",
       " Timestamp('2020-01-01 19:00:00+1100', tz='Australia/Sydney', freq='H'): 0.10783020005853403,\n",
       " Timestamp('2020-01-01 20:00:00+1100', tz='Australia/Sydney', freq='H'): 0.0,\n",
       " Timestamp('2020-01-01 21:00:00+1100', tz='Australia/Sydney', freq='H'): 0.0,\n",
       " Timestamp('2020-01-01 22:00:00+1100', tz='Australia/Sydney', freq='H'): 0.0,\n",
       " Timestamp('2020-01-01 23:00:00+1100', tz='Australia/Sydney', freq='H'): 0.0,\n",
       " Timestamp('2020-01-02 00:00:00+1100', tz='Australia/Sydney', freq='H'): 0.0}"
      ]
     },
     "execution_count": 19,
     "metadata": {},
     "output_type": "execute_result"
    }
   ],
   "source": [
    "aa.ac.to_dict()"
   ]
  },
  {
   "cell_type": "code",
   "execution_count": 21,
   "metadata": {},
   "outputs": [
    {
     "ename": "SyntaxError",
     "evalue": "invalid syntax (2893559713.py, line 1)",
     "output_type": "error",
     "traceback": [
      "\u001b[1;36m  Cell \u001b[1;32mIn[21], line 1\u001b[1;36m\u001b[0m\n\u001b[1;33m    jsonify('result':aa.ac.to_dict())\u001b[0m\n\u001b[1;37m                    ^\u001b[0m\n\u001b[1;31mSyntaxError\u001b[0m\u001b[1;31m:\u001b[0m invalid syntax\n"
     ]
    }
   ],
   "source": [
    "jsonify({'result':aa.ac.to_dict()})"
   ]
  }
 ],
 "metadata": {
  "kernelspec": {
   "display_name": "Python 3",
   "language": "python",
   "name": "python3"
  },
  "language_info": {
   "codemirror_mode": {
    "name": "ipython",
    "version": 3
   },
   "file_extension": ".py",
   "mimetype": "text/x-python",
   "name": "python",
   "nbconvert_exporter": "python",
   "pygments_lexer": "ipython3",
   "version": "3.11.4"
  },
  "orig_nbformat": 4
 },
 "nbformat": 4,
 "nbformat_minor": 2
}
