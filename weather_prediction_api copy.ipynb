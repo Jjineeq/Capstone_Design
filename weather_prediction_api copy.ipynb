{
 "cells": [
  {
   "cell_type": "code",
   "execution_count": 54,
   "metadata": {},
   "outputs": [],
   "source": [
    "import requests\n",
    "import pandas as pd\n",
    "import numpy as np"
   ]
  },
  {
   "cell_type": "code",
   "execution_count": 80,
   "metadata": {},
   "outputs": [
    {
     "name": "stdout",
     "output_type": "stream",
     "text": [
      "b'{\"response\":{\"header\":{\"resultCode\":\"00\",\"resultMsg\":\"NORMAL_SERVICE\"},\"body\":{\"dataType\":\"JSON\",\"items\":{\"item\":[{\"baseDate\":\"20230131\",\"baseTime\":\"0600\",\"category\":\"PTY\",\"nx\":55,\"ny\":127,\"obsrValue\":\"0\"},{\"baseDate\":\"20230131\",\"baseTime\":\"0600\",\"category\":\"REH\",\"nx\":55,\"ny\":127,\"obsrValue\":\"61\"},{\"baseDate\":\"20230131\",\"baseTime\":\"0600\",\"category\":\"RN1\",\"nx\":55,\"ny\":127,\"obsrValue\":\"0\"},{\"baseDate\":\"20230131\",\"baseTime\":\"0600\",\"category\":\"T1H\",\"nx\":55,\"ny\":127,\"obsrValue\":\"-1.2\"},{\"baseDate\":\"20230131\",\"baseTime\":\"0600\",\"category\":\"UUU\",\"nx\":55,\"ny\":127,\"obsrValue\":\"-1.5\"},{\"baseDate\":\"20230131\",\"baseTime\":\"0600\",\"category\":\"VEC\",\"nx\":55,\"ny\":127,\"obsrValue\":\"115\"},{\"baseDate\":\"20230131\",\"baseTime\":\"0600\",\"category\":\"VVV\",\"nx\":55,\"ny\":127,\"obsrValue\":\"0.8\"},{\"baseDate\":\"20230131\",\"baseTime\":\"0600\",\"category\":\"WSD\",\"nx\":55,\"ny\":127,\"obsrValue\":\"1.8\"}]},\"pageNo\":1,\"numOfRows\":1000,\"totalCount\":8}}}'\n"
     ]
    }
   ],
   "source": [
    "url = 'http://apis.data.go.kr/1360000/VilageFcstInfoService_2.0/getUltraSrtNcst'\n",
    "params ={'serviceKey' : 'HBsd7IB4qCP0hHVD3lw2kZl+bAP0XU7KmA6WDTB8lh8AAbPtxJmuIgLJne4VTQB6NPgsIf9jRJ6nTjW9ZYykdw==', \n",
    "        'pageNo' : '1', \n",
    "        'numOfRows' : '1000', \n",
    "        'dataType' : 'JSON', \n",
    "        'base_date' : '20230131', \n",
    "        'base_time' : '0600', \n",
    "        'nx' : '55', \n",
    "        'ny' : '127' }\n",
    "\n",
    "response = requests.get(url, params=params)\n",
    "print(response.content)\n"
   ]
  },
  {
   "cell_type": "code",
   "execution_count": 159,
   "metadata": {},
   "outputs": [],
   "source": [
    "import json"
   ]
  },
  {
   "cell_type": "code",
   "execution_count": 189,
   "metadata": {},
   "outputs": [],
   "source": [
    "j = response.json()"
   ]
  },
  {
   "cell_type": "code",
   "execution_count": 190,
   "metadata": {},
   "outputs": [
    {
     "data": {
      "text/plain": [
       "'{\"response\": {\"header\": {\"resultCode\": \"00\", \"resultMsg\": \"NORMAL_SERVICE\"}, \"body\": {\"dataType\": \"JSON\", \"items\": {\"item\": [{\"baseDate\": \"20230131\", \"baseTime\": \"0600\", \"category\": \"PTY\", \"nx\": 55, \"ny\": 127, \"obsrValue\": \"0\"}, {\"baseDate\": \"20230131\", \"baseTime\": \"0600\", \"category\": \"REH\", \"nx\": 55, \"ny\": 127, \"obsrValue\": \"61\"}, {\"baseDate\": \"20230131\", \"baseTime\": \"0600\", \"category\": \"RN1\", \"nx\": 55, \"ny\": 127, \"obsrValue\": \"0\"}, {\"baseDate\": \"20230131\", \"baseTime\": \"0600\", \"category\": \"T1H\", \"nx\": 55, \"ny\": 127, \"obsrValue\": \"-1.2\"}, {\"baseDate\": \"20230131\", \"baseTime\": \"0600\", \"category\": \"UUU\", \"nx\": 55, \"ny\": 127, \"obsrValue\": \"-1.5\"}, {\"baseDate\": \"20230131\", \"baseTime\": \"0600\", \"category\": \"VEC\", \"nx\": 55, \"ny\": 127, \"obsrValue\": \"115\"}, {\"baseDate\": \"20230131\", \"baseTime\": \"0600\", \"category\": \"VVV\", \"nx\": 55, \"ny\": 127, \"obsrValue\": \"0.8\"}, {\"baseDate\": \"20230131\", \"baseTime\": \"0600\", \"category\": \"WSD\", \"nx\": 55, \"ny\": 127, \"obsrValue\": \"1.8\"}]}, \"pageNo\": 1, \"numOfRows\": 1000, \"totalCount\": 8}}}'"
      ]
     },
     "execution_count": 190,
     "metadata": {},
     "output_type": "execute_result"
    }
   ],
   "source": [
    "json.dumps(j)."
   ]
  },
  {
   "cell_type": "code",
   "execution_count": 170,
   "metadata": {},
   "outputs": [
    {
     "ename": "TypeError",
     "evalue": "the JSON object must be str, bytes or bytearray, not dict",
     "output_type": "error",
     "traceback": [
      "\u001b[1;31m---------------------------------------------------------------------------\u001b[0m",
      "\u001b[1;31mTypeError\u001b[0m                                 Traceback (most recent call last)",
      "Cell \u001b[1;32mIn [170], line 1\u001b[0m\n\u001b[1;32m----> 1\u001b[0m json\u001b[39m.\u001b[39;49mloads(j)\n",
      "File \u001b[1;32mc:\\Users\\User\\AppData\\Local\\Programs\\Python\\Python311\\Lib\\json\\__init__.py:339\u001b[0m, in \u001b[0;36mloads\u001b[1;34m(s, cls, object_hook, parse_float, parse_int, parse_constant, object_pairs_hook, **kw)\u001b[0m\n\u001b[0;32m    337\u001b[0m \u001b[39melse\u001b[39;00m:\n\u001b[0;32m    338\u001b[0m     \u001b[39mif\u001b[39;00m \u001b[39mnot\u001b[39;00m \u001b[39misinstance\u001b[39m(s, (\u001b[39mbytes\u001b[39m, \u001b[39mbytearray\u001b[39m)):\n\u001b[1;32m--> 339\u001b[0m         \u001b[39mraise\u001b[39;00m \u001b[39mTypeError\u001b[39;00m(\u001b[39mf\u001b[39m\u001b[39m'\u001b[39m\u001b[39mthe JSON object must be str, bytes or bytearray, \u001b[39m\u001b[39m'\u001b[39m\n\u001b[0;32m    340\u001b[0m                         \u001b[39mf\u001b[39m\u001b[39m'\u001b[39m\u001b[39mnot \u001b[39m\u001b[39m{\u001b[39;00ms\u001b[39m.\u001b[39m\u001b[39m__class__\u001b[39m\u001b[39m.\u001b[39m\u001b[39m__name__\u001b[39m\u001b[39m}\u001b[39;00m\u001b[39m'\u001b[39m)\n\u001b[0;32m    341\u001b[0m     s \u001b[39m=\u001b[39m s\u001b[39m.\u001b[39mdecode(detect_encoding(s), \u001b[39m'\u001b[39m\u001b[39msurrogatepass\u001b[39m\u001b[39m'\u001b[39m)\n\u001b[0;32m    343\u001b[0m \u001b[39mif\u001b[39;00m (\u001b[39mcls\u001b[39m \u001b[39mis\u001b[39;00m \u001b[39mNone\u001b[39;00m \u001b[39mand\u001b[39;00m object_hook \u001b[39mis\u001b[39;00m \u001b[39mNone\u001b[39;00m \u001b[39mand\u001b[39;00m\n\u001b[0;32m    344\u001b[0m         parse_int \u001b[39mis\u001b[39;00m \u001b[39mNone\u001b[39;00m \u001b[39mand\u001b[39;00m parse_float \u001b[39mis\u001b[39;00m \u001b[39mNone\u001b[39;00m \u001b[39mand\u001b[39;00m\n\u001b[0;32m    345\u001b[0m         parse_constant \u001b[39mis\u001b[39;00m \u001b[39mNone\u001b[39;00m \u001b[39mand\u001b[39;00m object_pairs_hook \u001b[39mis\u001b[39;00m \u001b[39mNone\u001b[39;00m \u001b[39mand\u001b[39;00m \u001b[39mnot\u001b[39;00m kw):\n",
      "\u001b[1;31mTypeError\u001b[0m: the JSON object must be str, bytes or bytearray, not dict"
     ]
    }
   ],
   "source": [
    "json.loads(j)"
   ]
  }
 ],
 "metadata": {
  "kernelspec": {
   "display_name": "Python 3",
   "language": "python",
   "name": "python3"
  },
  "language_info": {
   "codemirror_mode": {
    "name": "ipython",
    "version": 3
   },
   "file_extension": ".py",
   "mimetype": "text/x-python",
   "name": "python",
   "nbconvert_exporter": "python",
   "pygments_lexer": "ipython3",
   "version": "3.11.0 (main, Oct 24 2022, 18:26:48) [MSC v.1933 64 bit (AMD64)]"
  },
  "orig_nbformat": 4,
  "vscode": {
   "interpreter": {
    "hash": "ebfc0a8d552866b0d59eba665220a57de3bc06f3ac643b8bef38dd8f66781fdd"
   }
  }
 },
 "nbformat": 4,
 "nbformat_minor": 2
}
