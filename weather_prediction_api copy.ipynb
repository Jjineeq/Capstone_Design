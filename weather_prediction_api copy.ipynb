{
 "cells": [
  {
   "cell_type": "code",
   "execution_count": 1,
   "metadata": {},
   "outputs": [],
   "source": [
    "import requests\n",
    "import pandas as pd\n",
    "import numpy as np"
   ]
  },
  {
   "cell_type": "code",
   "execution_count": 5,
   "metadata": {},
   "outputs": [
    {
     "name": "stdout",
     "output_type": "stream",
     "text": [
      "b'{\"response\":{\"header\":{\"resultCode\":\"00\",\"resultMsg\":\"NORMAL_SERVICE\"},\"body\":{\"dataType\":\"JSON\",\"items\":{\"item\":[{\"baseDate\":\"20230203\",\"baseTime\":\"0600\",\"category\":\"PTY\",\"nx\":55,\"ny\":127,\"obsrValue\":\"0\"},{\"baseDate\":\"20230203\",\"baseTime\":\"0600\",\"category\":\"REH\",\"nx\":55,\"ny\":127,\"obsrValue\":\"58\"},{\"baseDate\":\"20230203\",\"baseTime\":\"0600\",\"category\":\"RN1\",\"nx\":55,\"ny\":127,\"obsrValue\":\"0\"},{\"baseDate\":\"20230203\",\"baseTime\":\"0600\",\"category\":\"T1H\",\"nx\":55,\"ny\":127,\"obsrValue\":\"-5\"},{\"baseDate\":\"20230203\",\"baseTime\":\"0600\",\"category\":\"UUU\",\"nx\":55,\"ny\":127,\"obsrValue\":\"0.8\"},{\"baseDate\":\"20230203\",\"baseTime\":\"0600\",\"category\":\"VEC\",\"nx\":55,\"ny\":127,\"obsrValue\":\"311\"},{\"baseDate\":\"20230203\",\"baseTime\":\"0600\",\"category\":\"VVV\",\"nx\":55,\"ny\":127,\"obsrValue\":\"-0.6\"},{\"baseDate\":\"20230203\",\"baseTime\":\"0600\",\"category\":\"WSD\",\"nx\":55,\"ny\":127,\"obsrValue\":\"1\"}]},\"pageNo\":1,\"numOfRows\":1000,\"totalCount\":8}}}'\n"
     ]
    }
   ],
   "source": [
    "url = 'http://apis.data.go.kr/1360000/VilageFcstInfoService_2.0/getUltraSrtNcst'\n",
    "params ={'serviceKey' : 'HBsd7IB4qCP0hHVD3lw2kZl+bAP0XU7KmA6WDTB8lh8AAbPtxJmuIgLJne4VTQB6NPgsIf9jRJ6nTjW9ZYykdw==', \n",
    "        'pageNo' : '1', \n",
    "        'numOfRows' : '1000', \n",
    "        'dataType' : 'JSON', \n",
    "        'base_date' : '20230203', \n",
    "        'base_time' : '0600', \n",
    "        'nx' : '55', \n",
    "        'ny' : '127' }\n",
    "\n",
    "response = requests.get(url, params=params)\n",
    "print(response.content)\n"
   ]
  },
  {
   "cell_type": "code",
   "execution_count": 159,
   "metadata": {},
   "outputs": [],
   "source": [
    "import json"
   ]
  },
  {
   "cell_type": "code",
   "execution_count": 7,
   "metadata": {},
   "outputs": [],
   "source": [
    "j = response.json()"
   ]
  },
  {
   "cell_type": "code",
   "execution_count": 21,
   "metadata": {},
   "outputs": [],
   "source": [
    "q = j['response']['body']['items']"
   ]
  },
  {
   "cell_type": "code",
   "execution_count": 23,
   "metadata": {},
   "outputs": [
    {
     "data": {
      "text/html": [
       "<div>\n",
       "<style scoped>\n",
       "    .dataframe tbody tr th:only-of-type {\n",
       "        vertical-align: middle;\n",
       "    }\n",
       "\n",
       "    .dataframe tbody tr th {\n",
       "        vertical-align: top;\n",
       "    }\n",
       "\n",
       "    .dataframe thead th {\n",
       "        text-align: right;\n",
       "    }\n",
       "</style>\n",
       "<table border=\"1\" class=\"dataframe\">\n",
       "  <thead>\n",
       "    <tr style=\"text-align: right;\">\n",
       "      <th></th>\n",
       "      <th>item</th>\n",
       "    </tr>\n",
       "  </thead>\n",
       "  <tbody>\n",
       "    <tr>\n",
       "      <th>0</th>\n",
       "      <td>{'baseDate': '20230203', 'baseTime': '0600', '...</td>\n",
       "    </tr>\n",
       "    <tr>\n",
       "      <th>1</th>\n",
       "      <td>{'baseDate': '20230203', 'baseTime': '0600', '...</td>\n",
       "    </tr>\n",
       "    <tr>\n",
       "      <th>2</th>\n",
       "      <td>{'baseDate': '20230203', 'baseTime': '0600', '...</td>\n",
       "    </tr>\n",
       "    <tr>\n",
       "      <th>3</th>\n",
       "      <td>{'baseDate': '20230203', 'baseTime': '0600', '...</td>\n",
       "    </tr>\n",
       "    <tr>\n",
       "      <th>4</th>\n",
       "      <td>{'baseDate': '20230203', 'baseTime': '0600', '...</td>\n",
       "    </tr>\n",
       "    <tr>\n",
       "      <th>5</th>\n",
       "      <td>{'baseDate': '20230203', 'baseTime': '0600', '...</td>\n",
       "    </tr>\n",
       "    <tr>\n",
       "      <th>6</th>\n",
       "      <td>{'baseDate': '20230203', 'baseTime': '0600', '...</td>\n",
       "    </tr>\n",
       "    <tr>\n",
       "      <th>7</th>\n",
       "      <td>{'baseDate': '20230203', 'baseTime': '0600', '...</td>\n",
       "    </tr>\n",
       "  </tbody>\n",
       "</table>\n",
       "</div>"
      ],
      "text/plain": [
       "                                                item\n",
       "0  {'baseDate': '20230203', 'baseTime': '0600', '...\n",
       "1  {'baseDate': '20230203', 'baseTime': '0600', '...\n",
       "2  {'baseDate': '20230203', 'baseTime': '0600', '...\n",
       "3  {'baseDate': '20230203', 'baseTime': '0600', '...\n",
       "4  {'baseDate': '20230203', 'baseTime': '0600', '...\n",
       "5  {'baseDate': '20230203', 'baseTime': '0600', '...\n",
       "6  {'baseDate': '20230203', 'baseTime': '0600', '...\n",
       "7  {'baseDate': '20230203', 'baseTime': '0600', '..."
      ]
     },
     "execution_count": 23,
     "metadata": {},
     "output_type": "execute_result"
    }
   ],
   "source": [
    "pd.DataFrame(q)"
   ]
  }
 ],
 "metadata": {
  "kernelspec": {
   "display_name": "Python 3",
   "language": "python",
   "name": "python3"
  },
  "language_info": {
   "codemirror_mode": {
    "name": "ipython",
    "version": 3
   },
   "file_extension": ".py",
   "mimetype": "text/x-python",
   "name": "python",
   "nbconvert_exporter": "python",
   "pygments_lexer": "ipython3",
   "version": "3.11.0"
  },
  "orig_nbformat": 4,
  "vscode": {
   "interpreter": {
    "hash": "3e3c98ab7c9c211aaa30aed04e93d16024578d0172113cda1c267a25ee14bb06"
   }
  }
 },
 "nbformat": 4,
 "nbformat_minor": 2
}
