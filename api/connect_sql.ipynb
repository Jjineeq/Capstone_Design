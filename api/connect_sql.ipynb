{
 "cells": [
  {
   "cell_type": "code",
   "execution_count": 1,
   "metadata": {},
   "outputs": [],
   "source": [
    "import pymysql\n",
    "import numpy as np\n",
    "import pandas as pd\n",
    "from tqdm import tqdm\n",
    "from datetime import datetime"
   ]
  },
  {
   "cell_type": "code",
   "execution_count": null,
   "metadata": {},
   "outputs": [],
   "source": [
    "conn = pymysql.connect(host='127.0.0.1',\n",
    "                        user='root',\n",
    "                        password='2568',\n",
    "                        db = 'mydb',\n",
    "                        charset='utf8'\n",
    "                        )"
   ]
  },
  {
   "cell_type": "code",
   "execution_count": null,
   "metadata": {},
   "outputs": [],
   "source": [
    "conn = pymysql.connect(host='127.0.0.1',\n",
    "                        user='capstone',\n",
    "                        password='Jangsung2568@',\n",
    "                        db = 'test_db',\n",
    "                        charset='utf8'\n",
    "                        )"
   ]
  },
  {
   "attachments": {},
   "cell_type": "markdown",
   "metadata": {},
   "source": [
    "conn = pymysql.connect(host='220.149.218.111',\n",
    "                       port=8888,\n",
    "                        user='capstone',\n",
    "                        password='Jangsung2568@',\n",
    "                        db = 'test_db',\n",
    "                        charset='utf8',\n",
    "                        connect_timeout=10000\n",
    "                        )"
   ]
  },
  {
   "cell_type": "code",
   "execution_count": 3,
   "metadata": {},
   "outputs": [],
   "source": [
    "df = pd.read_csv('C:/Users/user/github/Data/capstone/total_eda_real.csv')"
   ]
  },
  {
   "cell_type": "code",
   "execution_count": 4,
   "metadata": {},
   "outputs": [
    {
     "data": {
      "text/html": [
       "<div>\n",
       "<style scoped>\n",
       "    .dataframe tbody tr th:only-of-type {\n",
       "        vertical-align: middle;\n",
       "    }\n",
       "\n",
       "    .dataframe tbody tr th {\n",
       "        vertical-align: top;\n",
       "    }\n",
       "\n",
       "    .dataframe thead th {\n",
       "        text-align: right;\n",
       "    }\n",
       "</style>\n",
       "<table border=\"1\" class=\"dataframe\">\n",
       "  <thead>\n",
       "    <tr style=\"text-align: right;\">\n",
       "      <th></th>\n",
       "      <th>지점</th>\n",
       "      <th>위도</th>\n",
       "      <th>경도</th>\n",
       "      <th>지점명</th>\n",
       "      <th>일시</th>\n",
       "      <th>기온</th>\n",
       "      <th>풍속</th>\n",
       "      <th>풍향</th>\n",
       "      <th>습도</th>\n",
       "      <th>강수량</th>\n",
       "    </tr>\n",
       "  </thead>\n",
       "  <tbody>\n",
       "    <tr>\n",
       "      <th>0</th>\n",
       "      <td>90</td>\n",
       "      <td>38.2509</td>\n",
       "      <td>128.5647</td>\n",
       "      <td>속초</td>\n",
       "      <td>2021-01-01 00:00</td>\n",
       "      <td>-6.3</td>\n",
       "      <td>2.6</td>\n",
       "      <td>290.0</td>\n",
       "      <td>30.0</td>\n",
       "      <td>0.0</td>\n",
       "    </tr>\n",
       "    <tr>\n",
       "      <th>1</th>\n",
       "      <td>90</td>\n",
       "      <td>38.2509</td>\n",
       "      <td>128.5647</td>\n",
       "      <td>속초</td>\n",
       "      <td>2021-01-01 01:00</td>\n",
       "      <td>-6.7</td>\n",
       "      <td>4.3</td>\n",
       "      <td>320.0</td>\n",
       "      <td>30.0</td>\n",
       "      <td>0.0</td>\n",
       "    </tr>\n",
       "    <tr>\n",
       "      <th>2</th>\n",
       "      <td>90</td>\n",
       "      <td>38.2509</td>\n",
       "      <td>128.5647</td>\n",
       "      <td>속초</td>\n",
       "      <td>2021-01-01 02:00</td>\n",
       "      <td>-6.7</td>\n",
       "      <td>2.0</td>\n",
       "      <td>340.0</td>\n",
       "      <td>26.0</td>\n",
       "      <td>0.0</td>\n",
       "    </tr>\n",
       "    <tr>\n",
       "      <th>3</th>\n",
       "      <td>90</td>\n",
       "      <td>38.2509</td>\n",
       "      <td>128.5647</td>\n",
       "      <td>속초</td>\n",
       "      <td>2021-01-01 03:00</td>\n",
       "      <td>-7.2</td>\n",
       "      <td>1.3</td>\n",
       "      <td>320.0</td>\n",
       "      <td>25.0</td>\n",
       "      <td>0.0</td>\n",
       "    </tr>\n",
       "    <tr>\n",
       "      <th>4</th>\n",
       "      <td>90</td>\n",
       "      <td>38.2509</td>\n",
       "      <td>128.5647</td>\n",
       "      <td>속초</td>\n",
       "      <td>2021-01-01 04:00</td>\n",
       "      <td>-7.6</td>\n",
       "      <td>0.8</td>\n",
       "      <td>180.0</td>\n",
       "      <td>25.0</td>\n",
       "      <td>0.0</td>\n",
       "    </tr>\n",
       "    <tr>\n",
       "      <th>...</th>\n",
       "      <td>...</td>\n",
       "      <td>...</td>\n",
       "      <td>...</td>\n",
       "      <td>...</td>\n",
       "      <td>...</td>\n",
       "      <td>...</td>\n",
       "      <td>...</td>\n",
       "      <td>...</td>\n",
       "      <td>...</td>\n",
       "      <td>...</td>\n",
       "    </tr>\n",
       "    <tr>\n",
       "      <th>1662115</th>\n",
       "      <td>295</td>\n",
       "      <td>34.8166</td>\n",
       "      <td>127.9264</td>\n",
       "      <td>남해</td>\n",
       "      <td>2022-12-30 20:00</td>\n",
       "      <td>3.5</td>\n",
       "      <td>1.7</td>\n",
       "      <td>290.0</td>\n",
       "      <td>52.0</td>\n",
       "      <td>0.0</td>\n",
       "    </tr>\n",
       "    <tr>\n",
       "      <th>1662116</th>\n",
       "      <td>295</td>\n",
       "      <td>34.8166</td>\n",
       "      <td>127.9264</td>\n",
       "      <td>남해</td>\n",
       "      <td>2022-12-30 21:00</td>\n",
       "      <td>2.3</td>\n",
       "      <td>1.4</td>\n",
       "      <td>270.0</td>\n",
       "      <td>60.0</td>\n",
       "      <td>0.0</td>\n",
       "    </tr>\n",
       "    <tr>\n",
       "      <th>1662117</th>\n",
       "      <td>295</td>\n",
       "      <td>34.8166</td>\n",
       "      <td>127.9264</td>\n",
       "      <td>남해</td>\n",
       "      <td>2022-12-30 22:00</td>\n",
       "      <td>0.8</td>\n",
       "      <td>1.1</td>\n",
       "      <td>270.0</td>\n",
       "      <td>67.0</td>\n",
       "      <td>0.0</td>\n",
       "    </tr>\n",
       "    <tr>\n",
       "      <th>1662118</th>\n",
       "      <td>295</td>\n",
       "      <td>34.8166</td>\n",
       "      <td>127.9264</td>\n",
       "      <td>남해</td>\n",
       "      <td>2022-12-30 23:00</td>\n",
       "      <td>0.8</td>\n",
       "      <td>0.7</td>\n",
       "      <td>290.0</td>\n",
       "      <td>65.0</td>\n",
       "      <td>0.0</td>\n",
       "    </tr>\n",
       "    <tr>\n",
       "      <th>1662119</th>\n",
       "      <td>295</td>\n",
       "      <td>34.8166</td>\n",
       "      <td>127.9264</td>\n",
       "      <td>남해</td>\n",
       "      <td>2022-12-31 00:00</td>\n",
       "      <td>0.4</td>\n",
       "      <td>1.1</td>\n",
       "      <td>250.0</td>\n",
       "      <td>66.0</td>\n",
       "      <td>0.0</td>\n",
       "    </tr>\n",
       "  </tbody>\n",
       "</table>\n",
       "<p>1662120 rows × 10 columns</p>\n",
       "</div>"
      ],
      "text/plain": [
       "          지점       위도        경도 지점명                일시   기온   풍속     풍향    습도  \\\n",
       "0         90  38.2509  128.5647  속초  2021-01-01 00:00 -6.3  2.6  290.0  30.0   \n",
       "1         90  38.2509  128.5647  속초  2021-01-01 01:00 -6.7  4.3  320.0  30.0   \n",
       "2         90  38.2509  128.5647  속초  2021-01-01 02:00 -6.7  2.0  340.0  26.0   \n",
       "3         90  38.2509  128.5647  속초  2021-01-01 03:00 -7.2  1.3  320.0  25.0   \n",
       "4         90  38.2509  128.5647  속초  2021-01-01 04:00 -7.6  0.8  180.0  25.0   \n",
       "...      ...      ...       ...  ..               ...  ...  ...    ...   ...   \n",
       "1662115  295  34.8166  127.9264  남해  2022-12-30 20:00  3.5  1.7  290.0  52.0   \n",
       "1662116  295  34.8166  127.9264  남해  2022-12-30 21:00  2.3  1.4  270.0  60.0   \n",
       "1662117  295  34.8166  127.9264  남해  2022-12-30 22:00  0.8  1.1  270.0  67.0   \n",
       "1662118  295  34.8166  127.9264  남해  2022-12-30 23:00  0.8  0.7  290.0  65.0   \n",
       "1662119  295  34.8166  127.9264  남해  2022-12-31 00:00  0.4  1.1  250.0  66.0   \n",
       "\n",
       "         강수량  \n",
       "0        0.0  \n",
       "1        0.0  \n",
       "2        0.0  \n",
       "3        0.0  \n",
       "4        0.0  \n",
       "...      ...  \n",
       "1662115  0.0  \n",
       "1662116  0.0  \n",
       "1662117  0.0  \n",
       "1662118  0.0  \n",
       "1662119  0.0  \n",
       "\n",
       "[1662120 rows x 10 columns]"
      ]
     },
     "execution_count": 4,
     "metadata": {},
     "output_type": "execute_result"
    }
   ],
   "source": [
    "df"
   ]
  },
  {
   "cell_type": "code",
   "execution_count": 5,
   "metadata": {},
   "outputs": [
    {
     "data": {
      "text/plain": [
       "Index(['지점', '위도', '경도', '지점명', '일시', '기온', '풍속', '풍향', '습도', '강수량'], dtype='object')"
      ]
     },
     "execution_count": 5,
     "metadata": {},
     "output_type": "execute_result"
    }
   ],
   "source": [
    "df.columns"
   ]
  },
  {
   "cell_type": "code",
   "execution_count": 6,
   "metadata": {},
   "outputs": [],
   "source": [
    "df = df[['일시', '지점', '지점명', '위도', '경도', '기온', '풍속', '풍향', '습도', '강수량']]"
   ]
  },
  {
   "cell_type": "code",
   "execution_count": 7,
   "metadata": {},
   "outputs": [],
   "source": [
    "df.일시 = pd.to_datetime(df.일시)"
   ]
  },
  {
   "cell_type": "code",
   "execution_count": 9,
   "metadata": {},
   "outputs": [
    {
     "name": "stderr",
     "output_type": "stream",
     "text": [
      "100%|██████████| 1662120/1662120 [06:15<00:00, 4421.90it/s]\n"
     ]
    }
   ],
   "source": [
    "# 전역변수 선언부\n",
    "conn, cur = None, None\n",
    "sql = ''\n",
    "\n",
    "# 메인코드\n",
    "conn = pymysql.connect(host = '127.0.0.1',\n",
    "                        user = 'root',\n",
    "                        password='2568',\n",
    "                        db = 'mydb',\n",
    "                        charset='utf8')\n",
    "cur = conn.cursor()\n",
    "\n",
    "for i in tqdm(range(len(df))):\n",
    "    df_select = df.iloc[i,:]\n",
    "\n",
    "    datetime = df_select[0].strftime(\"%Y-%m-%d %H:%M:%S\")\n",
    "    point = str(df_select[1])\n",
    "    point_name = df_select[2]\n",
    "    latitude = str(df_select[3])\n",
    "    longitude = str(df_select[4])\n",
    "    temp = str(df_select[5])\n",
    "    windspeed = str(df_select[6])\n",
    "    winddir = str(df_select[7])\n",
    "    humidity = str(df_select[8])\n",
    "    precipitation = str(df_select[9])\n",
    "\n",
    "    sql = \"INSERT INTO real_table VALUES('\" + datetime + \"','\" + point + \"','\" + point_name + \"','\" + latitude + \"','\" + longitude + \"','\" + temp + \"','\" + windspeed + \"','\" + winddir + \"','\" + humidity + \"','\" + precipitation + \"')\"\n",
    "    cur.execute(sql)\n",
    "\n",
    "conn.commit()\n",
    "conn.close()"
   ]
  },
  {
   "cell_type": "code",
   "execution_count": 120,
   "metadata": {},
   "outputs": [
    {
     "data": {
      "text/plain": [
       "\"INSERT INTO real_table VALUES('2021-01-01 00:00:00','90','속초',38.2509',128.5647',-6.3',2.6',290.0',30.0',0.0)\""
      ]
     },
     "execution_count": 120,
     "metadata": {},
     "output_type": "execute_result"
    }
   ],
   "source": [
    "sql"
   ]
  },
  {
   "cell_type": "code",
   "execution_count": 92,
   "metadata": {},
   "outputs": [
    {
     "name": "stdout",
     "output_type": "stream",
     "text": [
      "<class 'str'>\n",
      "<class 'float'>\n",
      "<class 'str'>\n",
      "<class 'float'>\n",
      "<class 'float'>\n",
      "<class 'float'>\n",
      "<class 'float'>\n",
      "<class 'float'>\n",
      "<class 'float'>\n",
      "<class 'float'>\n"
     ]
    }
   ],
   "source": [
    "print(type(datetime))\n",
    "print(type(point))\n",
    "print(type(point_name))\n",
    "print(type(latitude))\n",
    "print(type(longitude))\n",
    "print(type(temp))\n",
    "print(type(windspeed))\n",
    "print(type(winddir))\n",
    "print(type(humidity))\n",
    "print(type(precipitation))"
   ]
  },
  {
   "cell_type": "code",
   "execution_count": 13,
   "metadata": {},
   "outputs": [],
   "source": [
    "# 전역변수 선언부\n",
    "conn, cur = None, None\n",
    "data1, data2, data3, data4 = '','','',''\n",
    "sql = ''\n",
    "\n",
    "# 메인코드\n",
    "conn = pymysql.connect(host = '127.0.0.1',\n",
    "                        user = 'root',\n",
    "                        password='2568',\n",
    "                        db = 'test_db',\n",
    "                        charset='utf8')\n",
    "cur = conn.cursor()\n",
    "\n",
    "while (True):\n",
    "    data1 = input('time ==>')\n",
    "    if data1 =='':\n",
    "        break\n",
    "    data2 = input('score ==> ')\n",
    "    #data3 = input('사용자 이메일 ==> ')\n",
    "    #data4 = input('사용자 출생연도 => ')\n",
    "    sql = \"INSERT INTO time_test VALUES('\" + data1 + \"',\" + data2 + \")\"\n",
    "    cur.execute(sql)\n",
    "\n",
    "conn.commit()\n",
    "conn.close()"
   ]
  },
  {
   "cell_type": "code",
   "execution_count": 9,
   "metadata": {},
   "outputs": [],
   "source": [
    "select = 'SELECT * FROM time_test'"
   ]
  },
  {
   "cell_type": "code",
   "execution_count": 10,
   "metadata": {},
   "outputs": [
    {
     "data": {
      "text/plain": [
       "10"
      ]
     },
     "execution_count": 10,
     "metadata": {},
     "output_type": "execute_result"
    }
   ],
   "source": [
    "cur.execute(select)"
   ]
  },
  {
   "cell_type": "code",
   "execution_count": 11,
   "metadata": {},
   "outputs": [],
   "source": [
    "result = cur.fetchall()"
   ]
  },
  {
   "cell_type": "code",
   "execution_count": 13,
   "metadata": {},
   "outputs": [
    {
     "data": {
      "text/html": [
       "<div>\n",
       "<style scoped>\n",
       "    .dataframe tbody tr th:only-of-type {\n",
       "        vertical-align: middle;\n",
       "    }\n",
       "\n",
       "    .dataframe tbody tr th {\n",
       "        vertical-align: top;\n",
       "    }\n",
       "\n",
       "    .dataframe thead th {\n",
       "        text-align: right;\n",
       "    }\n",
       "</style>\n",
       "<table border=\"1\" class=\"dataframe\">\n",
       "  <thead>\n",
       "    <tr style=\"text-align: right;\">\n",
       "      <th></th>\n",
       "      <th>0</th>\n",
       "      <th>1</th>\n",
       "    </tr>\n",
       "  </thead>\n",
       "  <tbody>\n",
       "    <tr>\n",
       "      <th>0</th>\n",
       "      <td>2020-06-11</td>\n",
       "      <td>250</td>\n",
       "    </tr>\n",
       "    <tr>\n",
       "      <th>1</th>\n",
       "      <td>2020-06-09</td>\n",
       "      <td>100</td>\n",
       "    </tr>\n",
       "    <tr>\n",
       "      <th>2</th>\n",
       "      <td>2020-06-11</td>\n",
       "      <td>250</td>\n",
       "    </tr>\n",
       "    <tr>\n",
       "      <th>3</th>\n",
       "      <td>2023-02-25</td>\n",
       "      <td>100</td>\n",
       "    </tr>\n",
       "    <tr>\n",
       "      <th>4</th>\n",
       "      <td>2023-02-27</td>\n",
       "      <td>250</td>\n",
       "    </tr>\n",
       "    <tr>\n",
       "      <th>5</th>\n",
       "      <td>2023-02-26</td>\n",
       "      <td>110</td>\n",
       "    </tr>\n",
       "    <tr>\n",
       "      <th>6</th>\n",
       "      <td>2023-02-08</td>\n",
       "      <td>150</td>\n",
       "    </tr>\n",
       "    <tr>\n",
       "      <th>7</th>\n",
       "      <td>2023-02-09</td>\n",
       "      <td>139</td>\n",
       "    </tr>\n",
       "    <tr>\n",
       "      <th>8</th>\n",
       "      <td>2023-02-10</td>\n",
       "      <td>320</td>\n",
       "    </tr>\n",
       "    <tr>\n",
       "      <th>9</th>\n",
       "      <td>2023-02-11</td>\n",
       "      <td>114</td>\n",
       "    </tr>\n",
       "  </tbody>\n",
       "</table>\n",
       "</div>"
      ],
      "text/plain": [
       "           0    1\n",
       "0 2020-06-11  250\n",
       "1 2020-06-09  100\n",
       "2 2020-06-11  250\n",
       "3 2023-02-25  100\n",
       "4 2023-02-27  250\n",
       "5 2023-02-26  110\n",
       "6 2023-02-08  150\n",
       "7 2023-02-09  139\n",
       "8 2023-02-10  320\n",
       "9 2023-02-11  114"
      ]
     },
     "execution_count": 13,
     "metadata": {},
     "output_type": "execute_result"
    }
   ],
   "source": [
    "pd.DataFrame(result)"
   ]
  },
  {
   "cell_type": "code",
   "execution_count": null,
   "metadata": {},
   "outputs": [],
   "source": []
  }
 ],
 "metadata": {
  "kernelspec": {
   "display_name": "Python 3",
   "language": "python",
   "name": "python3"
  },
  "language_info": {
   "codemirror_mode": {
    "name": "ipython",
    "version": 3
   },
   "file_extension": ".py",
   "mimetype": "text/x-python",
   "name": "python",
   "nbconvert_exporter": "python",
   "pygments_lexer": "ipython3",
   "version": "3.11.1"
  },
  "orig_nbformat": 4,
  "vscode": {
   "interpreter": {
    "hash": "de47f5c92c0ee6f12a59a5613ac5feff6aab19ddff207ba0b3964cced08c4ccc"
   }
  }
 },
 "nbformat": 4,
 "nbformat_minor": 2
}
