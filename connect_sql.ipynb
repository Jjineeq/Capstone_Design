{
 "cells": [
  {
   "cell_type": "code",
   "execution_count": 2,
   "metadata": {},
   "outputs": [],
   "source": [
    "import pymysql\n",
    "import numpy as np\n",
    "import pandas as pd"
   ]
  },
  {
   "cell_type": "code",
   "execution_count": 3,
   "metadata": {},
   "outputs": [],
   "source": [
    "conn = pymysql.connect(host='127.0.0.1',\n",
    "                        user='root',\n",
    "                        password='2568',\n",
    "                        db = 'test_db',\n",
    "                        charset='utf8'\n",
    "                        )"
   ]
  },
  {
   "cell_type": "code",
   "execution_count": 7,
   "metadata": {},
   "outputs": [],
   "source": [
    "conn = pymysql.connect(host='127.0.0.1',\n",
    "                        user='capstone',\n",
    "                        password='Jangsung2568@',\n",
    "                        db = 'test_db',\n",
    "                        charset='utf8'\n",
    "                        )"
   ]
  },
  {
   "cell_type": "code",
   "execution_count": null,
   "metadata": {},
   "outputs": [],
   "source": [
    "conn = pymysql.connect(host='196.168.50.61:3306',\n",
    "                        user='capstone',\n",
    "                        password='Jangsung2568@',\n",
    "                        db = 'test_db',\n",
    "                        charset='utf8'\n",
    "                        )"
   ]
  },
  {
   "cell_type": "code",
   "execution_count": 8,
   "metadata": {},
   "outputs": [],
   "source": [
    "cur = conn.cursor()"
   ]
  },
  {
   "cell_type": "code",
   "execution_count": 12,
   "metadata": {},
   "outputs": [
    {
     "data": {
      "text/plain": [
       "0"
      ]
     },
     "execution_count": 12,
     "metadata": {},
     "output_type": "execute_result"
    }
   ],
   "source": [
    "#cur.execute('CREATE TABLE userTable (id char(4), userName char(15), email char(20), birthYear int)')"
   ]
  },
  {
   "cell_type": "code",
   "execution_count": null,
   "metadata": {},
   "outputs": [],
   "source": [
    "cur.execute(\"INSERT INTO test VALUES('2023-02-08', 105)\")\n",
    "cur.execute(\"INSERT INTO test VALUES('2023-02-09',  201)\")\n",
    "cur.execute(\"INSERT INTO test VALUES('2023-02-10',  199)\")\n",
    "cur.execute(\"INSERT INTO test VALUES('2023-02-11',  192)\")\n",
    "cur.execute(\"INSERT INTO test VALUES('2023-02-12', 215)\")\n",
    "cur.execute(\"INSERT INTO test VALUES('2023-02-13',  115)\")\n",
    "cur.execute(\"INSERT INTO test VALUES('2023-02-14',  180)\")\n",
    "cur.execute(\"INSERT INTO userTable VALUES('2023-02-15',  166)\")"
   ]
  },
  {
   "cell_type": "code",
   "execution_count": 14,
   "metadata": {},
   "outputs": [],
   "source": [
    "conn.commit()"
   ]
  },
  {
   "cell_type": "code",
   "execution_count": 15,
   "metadata": {},
   "outputs": [],
   "source": [
    "conn.close()"
   ]
  },
  {
   "cell_type": "code",
   "execution_count": 19,
   "metadata": {},
   "outputs": [],
   "source": [
    "# 전역변수 선언부\n",
    "conn, cur = None, None\n",
    "data1, data2, data3, data4 = '','','',''\n",
    "sql = ''\n",
    "\n",
    "# 메인코드\n",
    "conn = pymysql.connect(host = '127.0.0.1',\n",
    "                        user = 'root',\n",
    "                        password='2568',\n",
    "                        db = 'test_db',\n",
    "                        charset='utf8')\n",
    "cur = conn.cursor()\n",
    "\n",
    "while (True):\n",
    "    data1 = input('time ==>')\n",
    "    if data1 =='':\n",
    "        break\n",
    "    data2 = input('score ==> ')\n",
    "    #data3 = input('사용자 이메일 ==> ')\n",
    "    #data4 = input('사용자 출생연도 => ')\n",
    "    sql = \"INSERT INTO userTable VALUES('\" + data1 + \"','\" + data2 + \"','\" + data3 + \"',\" + data4 + \")\"\n",
    "    cur.execute(sql)\n",
    "\n",
    "conn.commit()\n",
    "conn.close()"
   ]
  },
  {
   "cell_type": "code",
   "execution_count": 13,
   "metadata": {},
   "outputs": [],
   "source": [
    "# 전역변수 선언부\n",
    "conn, cur = None, None\n",
    "data1, data2, data3, data4 = '','','',''\n",
    "sql = ''\n",
    "\n",
    "# 메인코드\n",
    "conn = pymysql.connect(host = '127.0.0.1',\n",
    "                        user = 'root',\n",
    "                        password='2568',\n",
    "                        db = 'test_db',\n",
    "                        charset='utf8')\n",
    "cur = conn.cursor()\n",
    "\n",
    "while (True):\n",
    "    data1 = input('time ==>')\n",
    "    if data1 =='':\n",
    "        break\n",
    "    data2 = input('score ==> ')\n",
    "    #data3 = input('사용자 이메일 ==> ')\n",
    "    #data4 = input('사용자 출생연도 => ')\n",
    "    sql = \"INSERT INTO time_test VALUES('\" + data1 + \"',\" + data2 + \")\"\n",
    "    cur.execute(sql)\n",
    "\n",
    "conn.commit()\n",
    "conn.close()"
   ]
  },
  {
   "cell_type": "code",
   "execution_count": 9,
   "metadata": {},
   "outputs": [],
   "source": [
    "select = 'SELECT * FROM time_test'"
   ]
  },
  {
   "cell_type": "code",
   "execution_count": 10,
   "metadata": {},
   "outputs": [
    {
     "data": {
      "text/plain": [
       "10"
      ]
     },
     "execution_count": 10,
     "metadata": {},
     "output_type": "execute_result"
    }
   ],
   "source": [
    "cur.execute(select)"
   ]
  },
  {
   "cell_type": "code",
   "execution_count": 11,
   "metadata": {},
   "outputs": [],
   "source": [
    "result = cur.fetchall()"
   ]
  },
  {
   "cell_type": "code",
   "execution_count": 13,
   "metadata": {},
   "outputs": [
    {
     "data": {
      "text/html": [
       "<div>\n",
       "<style scoped>\n",
       "    .dataframe tbody tr th:only-of-type {\n",
       "        vertical-align: middle;\n",
       "    }\n",
       "\n",
       "    .dataframe tbody tr th {\n",
       "        vertical-align: top;\n",
       "    }\n",
       "\n",
       "    .dataframe thead th {\n",
       "        text-align: right;\n",
       "    }\n",
       "</style>\n",
       "<table border=\"1\" class=\"dataframe\">\n",
       "  <thead>\n",
       "    <tr style=\"text-align: right;\">\n",
       "      <th></th>\n",
       "      <th>0</th>\n",
       "      <th>1</th>\n",
       "    </tr>\n",
       "  </thead>\n",
       "  <tbody>\n",
       "    <tr>\n",
       "      <th>0</th>\n",
       "      <td>2020-06-11</td>\n",
       "      <td>250</td>\n",
       "    </tr>\n",
       "    <tr>\n",
       "      <th>1</th>\n",
       "      <td>2020-06-09</td>\n",
       "      <td>100</td>\n",
       "    </tr>\n",
       "    <tr>\n",
       "      <th>2</th>\n",
       "      <td>2020-06-11</td>\n",
       "      <td>250</td>\n",
       "    </tr>\n",
       "    <tr>\n",
       "      <th>3</th>\n",
       "      <td>2023-02-25</td>\n",
       "      <td>100</td>\n",
       "    </tr>\n",
       "    <tr>\n",
       "      <th>4</th>\n",
       "      <td>2023-02-27</td>\n",
       "      <td>250</td>\n",
       "    </tr>\n",
       "    <tr>\n",
       "      <th>5</th>\n",
       "      <td>2023-02-26</td>\n",
       "      <td>110</td>\n",
       "    </tr>\n",
       "    <tr>\n",
       "      <th>6</th>\n",
       "      <td>2023-02-08</td>\n",
       "      <td>150</td>\n",
       "    </tr>\n",
       "    <tr>\n",
       "      <th>7</th>\n",
       "      <td>2023-02-09</td>\n",
       "      <td>139</td>\n",
       "    </tr>\n",
       "    <tr>\n",
       "      <th>8</th>\n",
       "      <td>2023-02-10</td>\n",
       "      <td>320</td>\n",
       "    </tr>\n",
       "    <tr>\n",
       "      <th>9</th>\n",
       "      <td>2023-02-11</td>\n",
       "      <td>114</td>\n",
       "    </tr>\n",
       "  </tbody>\n",
       "</table>\n",
       "</div>"
      ],
      "text/plain": [
       "           0    1\n",
       "0 2020-06-11  250\n",
       "1 2020-06-09  100\n",
       "2 2020-06-11  250\n",
       "3 2023-02-25  100\n",
       "4 2023-02-27  250\n",
       "5 2023-02-26  110\n",
       "6 2023-02-08  150\n",
       "7 2023-02-09  139\n",
       "8 2023-02-10  320\n",
       "9 2023-02-11  114"
      ]
     },
     "execution_count": 13,
     "metadata": {},
     "output_type": "execute_result"
    }
   ],
   "source": [
    "pd.DataFrame(result)"
   ]
  },
  {
   "cell_type": "code",
   "execution_count": null,
   "metadata": {},
   "outputs": [],
   "source": []
  }
 ],
 "metadata": {
  "kernelspec": {
   "display_name": "Python 3",
   "language": "python",
   "name": "python3"
  },
  "language_info": {
   "codemirror_mode": {
    "name": "ipython",
    "version": 3
   },
   "file_extension": ".py",
   "mimetype": "text/x-python",
   "name": "python",
   "nbconvert_exporter": "python",
   "pygments_lexer": "ipython3",
   "version": "3.11.1"
  },
  "orig_nbformat": 4,
  "vscode": {
   "interpreter": {
    "hash": "de47f5c92c0ee6f12a59a5613ac5feff6aab19ddff207ba0b3964cced08c4ccc"
   }
  }
 },
 "nbformat": 4,
 "nbformat_minor": 2
}
