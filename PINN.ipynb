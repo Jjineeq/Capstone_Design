{
 "cells": [
  {
   "cell_type": "code",
   "execution_count": 2,
   "metadata": {},
   "outputs": [],
   "source": [
    "import numpy as np\n",
    "import pandas as pd\n",
    "import tensorflow as tf\n",
    "from tensorflow import keras\n",
    "from tensorflow.keras import layers\n",
    "import matplotlib.pyplot as plt\n"
   ]
  },
  {
   "cell_type": "code",
   "execution_count": 3,
   "metadata": {},
   "outputs": [],
   "source": [
    "n_samples = 1000\n",
    "x_temp = np.random.uniform(low=-10.0, high=40.0, size=n_samples)\n",
    "x_sky = np.random.choice(['sunny', 'cloudy', 'rainy'], size=n_samples)\n",
    "x_prec_prob = np.random.uniform(low=0.0, high=1.0, size=n_samples)\n",
    "x_precip = np.random.uniform(low=0.0, high=10.0, size=n_samples)\n",
    "x_humidity = np.random.uniform(low=0.0, high=100.0, size=n_samples)\n",
    "x_wind_speed = np.random.uniform(low=0.0, high=20.0, size=n_samples)\n",
    "y_solar_power = np.random.uniform(low=0.0, high=1000.0, size=n_samples)\n",
    "\n",
    "x_temp_norm = (x_temp - np.mean(x_temp)) / np.std(x_temp)\n",
    "x_prec_prob_norm = (x_prec_prob - np.mean(x_prec_prob)) / np.std(x_prec_prob)\n",
    "x_precip_norm = (x_precip - np.mean(x_precip)) / np.std(x_precip)\n",
    "x_humidity_norm = (x_humidity - np.mean(x_humidity)) / np.std(x_humidity)\n",
    "x_wind_speed_norm = (x_wind_speed - np.mean(x_wind_speed)) / np.std(x_wind_speed)\n",
    "y_solar_norm = (y_solar_power - np.mean(y_solar_power)) / np.std(y_solar_power)\n"
   ]
  },
  {
   "cell_type": "code",
   "execution_count": 4,
   "metadata": {},
   "outputs": [],
   "source": [
    "y_tr = y_solar_norm[:700]\n",
    "y_ts = y_solar_norm[700:]"
   ]
  },
  {
   "cell_type": "code",
   "execution_count": 5,
   "metadata": {},
   "outputs": [],
   "source": [
    "sky = pd.DataFrame(x_sky)"
   ]
  },
  {
   "cell_type": "code",
   "execution_count": 6,
   "metadata": {},
   "outputs": [],
   "source": [
    "sky = np.array(pd.get_dummies(sky).values)"
   ]
  },
  {
   "cell_type": "code",
   "execution_count": 7,
   "metadata": {},
   "outputs": [],
   "source": [
    "x_data = np.concatenate([sky, x_temp_norm[:,np.newaxis], x_prec_prob_norm[:,np.newaxis], x_precip_norm[:,np.newaxis], x_humidity_norm[:,np.newaxis], x_wind_speed_norm[:,np.newaxis] ], axis = 1)"
   ]
  },
  {
   "cell_type": "code",
   "execution_count": 8,
   "metadata": {},
   "outputs": [],
   "source": [
    "x_tr = x_data[:700]\n",
    "x_ts = x_data[700:]"
   ]
  },
  {
   "cell_type": "code",
   "execution_count": 9,
   "metadata": {},
   "outputs": [],
   "source": [
    "inputs = layers.Input(shape=(8,))\n",
    "x = layers.Dense(32, activation='relu')(inputs)\n",
    "x = layers.Dense(32, activation='relu')(x)\n",
    "outputs = layers.Dense(1)(x)\n",
    "\n",
    "model = keras.Model(inputs=inputs, outputs=outputs)\n"
   ]
  },
  {
   "cell_type": "code",
   "execution_count": 10,
   "metadata": {},
   "outputs": [],
   "source": [
    "class PINN(tf.keras.Model):\n",
    "    def __init__(self, input_dim, output_dim):\n",
    "        super().__init__()\n",
    "        self.hidden_layer_1 = tf.keras.layers.Dense(units=50, activation=tf.nn.tanh)\n",
    "        self.hidden_layer_2 = tf.keras.layers.Dense(units=50, activation=tf.nn.tanh)\n",
    "        self.output_layer = tf.keras.layers.Dense(units=output_dim)\n",
    "\n",
    "    def call(self, inputs):\n",
    "        x = self.hidden_layer_1(inputs)\n",
    "        x = self.hidden_layer_2(x)\n",
    "        output = self.output_layer(x)\n",
    "        return output\n",
    "\n",
    "def custom_loss(model, inputs, outputs):\n",
    "    with tf.GradientTape() as tape:\n",
    "        tape.watch(inputs)\n",
    "        predictions = model(inputs)\n",
    "        loss = tf.reduce_mean(tf.square(predictions - outputs))\n",
    "\n",
    "    grads = tape.gradient(loss, model.trainable_variables)\n",
    "\n",
    "    boundary_x = tf.constant([[0.0, 0.0, 0.0, 0.0, 0.0, 0.0, 0.0, 0.0], [1.0, 1.0, 1.0, 1.0, 1.0, 1.0, 1.0, 1.0]])\n",
    "    boundary_y = tf.constant([[0.0], [0.0]])\n",
    "\n",
    "    predictions_boundary = model(boundary_x)\n",
    "    loss_boundary = tf.reduce_mean(tf.square(predictions_boundary - boundary_y))\n",
    "\n",
    "    return loss + loss_boundary\n"
   ]
  },
  {
   "cell_type": "code",
   "execution_count": 11,
   "metadata": {},
   "outputs": [
    {
     "name": "stdout",
     "output_type": "stream",
     "text": [
      "Epoch 0 Loss 1.2352\n",
      "Epoch 500 Loss 0.6568\n",
      "Epoch 1000 Loss 0.1477\n",
      "Epoch 1500 Loss 0.0226\n",
      "Epoch 2000 Loss 0.0039\n",
      "Epoch 2500 Loss 0.0008\n",
      "Epoch 3000 Loss 0.0002\n",
      "Epoch 3500 Loss 0.0000\n",
      "Epoch 4000 Loss 0.0032\n",
      "Epoch 4500 Loss 0.0003\n",
      "Mean Squared Error: 3.0270\n"
     ]
    }
   ],
   "source": [
    "input_dim = 8\n",
    "output_dim = 1\n",
    "model = PINN(input_dim, output_dim)\n",
    "optimizer = tf.keras.optimizers.Adam(learning_rate=0.001)\n",
    "num_epochs = 5000\n",
    "\n",
    "y_tr = y_tr.reshape(-1,1)\n",
    "x_train = tf.convert_to_tensor(x_tr, dtype=tf.float32)\n",
    "\n",
    "for epoch in range(num_epochs):\n",
    "    with tf.GradientTape() as tape:\n",
    "        loss = custom_loss(model, x_train, y_tr)\n",
    "\n",
    "    grads = tape.gradient(loss, model.trainable_variables)\n",
    "    optimizer.apply_gradients(zip(grads, model.trainable_variables))\n",
    "\n",
    "    if epoch % 500 == 0:\n",
    "        print(f\"Epoch {epoch} Loss {loss.numpy():.4f}\")\n",
    "\n",
    "\n",
    "x_test = np.random.rand(1000, 6)\n",
    "y_test = np.sin(np.sum(x_test, axis=1)).reshape(-1, 1)\n",
    "\n",
    "predictions = model(x_ts)\n",
    "mse = tf.reduce_mean(tf.square(predictions - y_ts))\n",
    "print(f\"Mean Squared Error: {mse.numpy():.4f}\")\n"
   ]
  },
  {
   "cell_type": "code",
   "execution_count": 12,
   "metadata": {},
   "outputs": [
    {
     "name": "stdout",
     "output_type": "stream",
     "text": [
      "10/10 [==============================] - 0s 1ms/step\n",
      "Mean Squared Error: 3.0269926870110586\n"
     ]
    }
   ],
   "source": [
    "# Predict on test set\n",
    "preds = model.predict(x_ts)\n",
    "\n",
    "# Calculate mean squared error\n",
    "mse = np.mean((preds - y_ts)**2)\n",
    "\n",
    "print('Mean Squared Error:', mse)"
   ]
  },
  {
   "attachments": {},
   "cell_type": "markdown",
   "metadata": {},
   "source": [
    "plt.scatter(y_test, preds)\n",
    "plt.plot([0, 1], [0, 1], '--k')\n",
    "plt.xlabel('Actual')\n",
    "plt.ylabel('Predicted')\n",
    "plt.title('Actual vs Predicted')\n",
    "plt.show()"
   ]
  },
  {
   "cell_type": "code",
   "execution_count": 13,
   "metadata": {},
   "outputs": [
    {
     "data": {
      "text/plain": [
       "[<matplotlib.lines.Line2D at 0x2002cb81c90>]"
      ]
     },
     "execution_count": 13,
     "metadata": {},
     "output_type": "execute_result"
    },
    {
     "data": {
      "image/png": "[encoded data removed]",
      "text/plain": [
       "<Figure size 640x480 with 1 Axes>"
      ]
     },
     "metadata": {},
     "output_type": "display_data"
    }
   ],
   "source": [
    "plt.plot(y_ts)\n",
    "plt.plot(preds)"
   ]
  },
  {
   "cell_type": "markdown",
   "metadata": {},
   "source": [
    "predicted_value = (max_value_norm + 1) / 2 * (max_value - min_value) + min_value"
   ]
  },
  {
   "attachments": {},
   "cell_type": "markdown",
   "metadata": {},
   "source": [
    "----"
   ]
  },
  {
   "cell_type": "code",
   "execution_count": 14,
   "metadata": {},
   "outputs": [],
   "source": [
    "import tensorflow as tf\n",
    "import numpy as np\n",
    "\n",
    "def get_data():\n",
    "    # Generate example data\n",
    "    np.random.seed(123)\n",
    "    X = np.random.randn(1000, 6)\n",
    "    y = np.random.randn(1000, 1)\n",
    "    return X, y\n",
    "\n",
    "def physics_loss(pred_y, y, pred_dy_dx, X):\n",
    "    # Define physics loss\n",
    "    physics_loss = tf.reduce_mean(tf.square(pred_dy_dx + 0.5 * X[:,0:1] - X[:,1:2] * X[:,5:6] - X[:,3:4] + X[:,4:5] - pred_y))\n",
    "    return physics_loss\n",
    "\n",
    "class PINN(tf.keras.Model):\n",
    "    def __init__(self):\n",
    "        super(PINN, self).__init__()\n",
    "        self.dense = tf.keras.layers.Dense(64, activation='tanh')\n",
    "        self.dense_1 = tf.keras.layers.Dense(64, activation='tanh')\n",
    "        self.dense_2 = tf.keras.layers.Dense(1)\n",
    "\n",
    "    def call(self, inputs):\n",
    "        x = self.dense(inputs)\n",
    "        x = self.dense_1(x)\n",
    "        return self.dense_2(x)\n",
    "\n"
   ]
  },
  {
   "cell_type": "code",
   "execution_count": 15,
   "metadata": {},
   "outputs": [
    {
     "name": "stdout",
     "output_type": "stream",
     "text": [
      "WARNING:tensorflow:Calling GradientTape.gradient on a persistent tape inside its context is significantly less efficient than calling it outside the context (it causes the gradient ops to be recorded on the tape, leading to increased CPU and memory usage). Only call GradientTape.gradient inside the context if you actually want to trace the gradient in order to compute higher order derivatives.\n",
      "Loss at step 0: 4.34268045425415\n",
      "Loss at step 100: 0.9844391942024231\n",
      "Loss at step 200: 0.5773169994354248\n",
      "Loss at step 300: 0.5245225429534912\n",
      "Loss at step 400: 0.5059948563575745\n",
      "Loss at step 500: 0.4957543909549713\n",
      "Loss at step 600: 0.48844170570373535\n",
      "Loss at step 700: 0.48217108845710754\n",
      "Loss at step 800: 0.47602757811546326\n",
      "Loss at step 900: 0.46995335817337036\n"
     ]
    }
   ],
   "source": [
    "# Get example data\n",
    "X, y = get_data()\n",
    "X = tf.convert_to_tensor(X, dtype=tf.float32)\n",
    "\n",
    "# Define model and optimizer\n",
    "model = PINN()\n",
    "optimizer = tf.keras.optimizers.Adam()\n",
    "\n",
    "# Training loop\n",
    "for i in range(1000):\n",
    "    with tf.GradientTape(persistent=True) as tape:\n",
    "        tape.watch(X)\n",
    "        pred_y = model(X)\n",
    "        pred_dy_dx = tape.gradient(pred_y, X)\n",
    "        loss = physics_loss(pred_y, y, pred_dy_dx, X)\n",
    "\n",
    "    # Compute gradients and update variables\n",
    "    grads = tape.gradient(loss, model.trainable_variables)\n",
    "    optimizer.apply_gradients(zip(grads, model.trainable_variables))\n",
    "\n",
    "    # Print loss every 100 iterations\n",
    "    if i % 100 == 0:\n",
    "        print(f\"Loss at step {i}: {loss.numpy()}\")\n"
   ]
  },
  {
   "attachments": {},
   "cell_type": "markdown",
   "metadata": {},
   "source": [
    "----"
   ]
  },
  {
   "cell_type": "code",
   "execution_count": null,
   "metadata": {},
   "outputs": [],
   "source": [
    "from math import *"
   ]
  },
  {
   "cell_type": "code",
   "execution_count": 16,
   "metadata": {},
   "outputs": [
    {
     "ename": "TypeError",
     "evalue": "cannot unpack non-iterable int object",
     "output_type": "error",
     "traceback": [
      "\u001b[1;31m---------------------------------------------------------------------------\u001b[0m",
      "\u001b[1;31mTypeError\u001b[0m                                 Traceback (most recent call last)",
      "Cell \u001b[1;32mIn[16], line 1\u001b[0m\n\u001b[1;32m----> 1\u001b[0m Gsc,theta, tau, A, emiss, sigma, T \u001b[39m=\u001b[39m \u001b[39m1367\u001b[39m\n",
      "\u001b[1;31mTypeError\u001b[0m: cannot unpack non-iterable int object"
     ]
    }
   ],
   "source": [
    "Gsc,theta, tau, A, emiss, sigma, T = 1367"
   ]
  },
  {
   "cell_type": "code",
   "execution_count": null,
   "metadata": {},
   "outputs": [],
   "source": [
    "Q = (Gsc * cos(theta) * tau * A) + (emiss * sigma * A * ((T + 273.15) ** 4))"
   ]
  },
  {
   "cell_type": "code",
   "execution_count": 18,
   "metadata": {},
   "outputs": [],
   "source": [
    "def clear_sky_model(T_air, GHI):\n",
    "    \"\"\"\n",
    "    Compute the clear sky GHI based on the Linke turbidity factor model.\n",
    "\n",
    "    Parameters:\n",
    "        - T_air (float): air temperature in Celsius.\n",
    "        - GHI (float): global horizontal irradiance in W/m^2.\n",
    "\n",
    "    Returns:\n",
    "        - GHI_clear (float): clear sky global horizontal irradiance in W/m^2.\n",
    "    \"\"\"\n",
    "    # Convert temperature to Kelvin\n",
    "    T = T_air + 273.15\n",
    "\n",
    "    # Calculate optical air mass\n",
    "    AM = 1 / (np.cos(np.radians(zenith_angle)) + 0.50572*(96.07995-zenith_angle)**(-1.6364))\n",
    "\n",
    "    # Calculate extraterrestrial irradiance\n",
    "    I_0 = 1367 * (1 + 0.033 * np.cos(2 * np.pi * doy / 365))\n",
    "\n",
    "    # Calculate clear sky GHI\n",
    "    GHI_clear = I_0 * np.exp(-0.0903 * AM**0.84 * (I_0 / GHI)**0.68 * ((T - 273.15 - 25) / 800)**3.0)\n",
    "\n",
    "    return GHI_clear\n"
   ]
  },
  {
   "cell_type": "code",
   "execution_count": 19,
   "metadata": {},
   "outputs": [],
   "source": [
    "def photovoltaic_equation(I_SC, I_L, V_OC, V_m, I, T_cell, N_s, N_p):\n",
    "    \"\"\"\n",
    "    Compute the photovoltaic output power based on the single-diode model.\n",
    "\n",
    "    Parameters:\n",
    "        - I_SC (float): short-circuit current in amperes.\n",
    "        - I_L (float): light-generated current in amperes.\n",
    "        - V_OC (float): open-circuit voltage in volts.\n",
    "        - V_m (float): voltage at the maximum power point in volts.\n",
    "        - I (float): current in amperes.\n",
    "        - T_cell (float): cell temperature in Celsius.\n",
    "        - N_s (int): number of cells in series.\n",
    "        - N_p (int): number of cells in parallel.\n",
    "\n",
    "    Returns:\n",
    "        - P_pv (float): photovoltaic output power in watts.\n",
    "    \"\"\"\n",
    "    # Calculate cell temperature in Kelvin\n",
    "    T = T_cell + 273.15\n",
    "\n",
    "    # Calculate the diode ideality factor\n",
    "    n = 1.1\n",
    "\n",
    "    # Calculate the Boltzmann constant\n",
    "    k = 1.38e-23\n",
    "\n",
    "    # Calculate the electron charge\n",
    "    q = 1.6e-19\n",
    "\n",
    "    # Calculate the series resistance\n",
    "    R_s = 0.01 * N_s\n",
    "\n",
    "    # Calculate the shunt resistance\n",
    "    R_sh = 100 * N_s\n",
    "\n",
    "    # Calculate the saturation current\n",
    "    I_0 = (I_SC + (I_L / (np.exp((q * V_OC) / (n * k * T)) - 1))) / (np.exp((q * V_OC) / (n * k * T)) - 1)\n",
    "\n",
    "    # Calculate the current at the given voltage\n",
    "    I_pv = I_L - I_0 * (np.exp((q * (N_s * V_m + I * R_s)) / (n * k * T)) - 1) - ((N_s * V_m + I * R_s) / R_sh)\n",
    "\n",
    "    # Calculate the output power\n",
    "    P_pv = I_pv * I\n",
    "\n",
    "    return P_pv\n"
   ]
  },
  {
   "cell_type": "code",
   "execution_count": 21,
   "metadata": {},
   "outputs": [],
   "source": [
    "inputs = tf.keras.Input(shape=(5,))\n",
    "outputs = tf.keras.layers.Dense(1)(inputs)\n",
    "\n",
    "# Define the model architecture\n",
    "model = tf.keras.Model(inputs=inputs, outputs=outputs)\n",
    "\n",
    "# Define the loss function using the photovoltaic and clear sky models\n",
    "def custom_loss(y_true, y_pred):\n",
    "    # Extract the input variables\n",
    "    temp, hum, wind_dir, wind_speed, sky_state = tf.unstack(y_true, axis=-1)\n",
    "    \n",
    "    # Calculate the solar irradiance using the clear sky model\n",
    "    irradiance = clear_sky_model(latitude, longitude, day, time)\n",
    "    \n",
    "    # Calculate the cell temperature using the photovoltaic equation\n",
    "    cell_temp = photovoltaic_equation(irradiance, temp)\n",
    "    \n",
    "    # Calculate the output power using the photovoltaic equation\n",
    "    power = photovoltaic_equation(irradiance, cell_temp)\n",
    "    \n",
    "    # Calculate the predicted output power\n",
    "    pred_power = y_pred\n",
    "    \n",
    "    # Calculate the loss as the mean squared error between the predicted and actual output power\n",
    "    loss = tf.reduce_mean(tf.square(pred_power - power))\n",
    "    \n",
    "    return loss\n",
    "\n"
   ]
  },
  {
   "cell_type": "code",
   "execution_count": null,
   "metadata": {},
   "outputs": [],
   "source": [
    "# Compile the model using the custom loss function\n",
    "model.compile(optimizer='adam', loss=custom_loss)\n",
    "\n",
    "# Generate example data\n",
    "data = pd.DataFrame({\n",
    "    'temperature': np.random.uniform(0, 50, size=100),\n",
    "    'humidity': np.random.uniform(0, 100, size=100),\n",
    "    'wind_dir': np.random.uniform(0, 360, size=100),\n",
    "    'wind_speed': np.random.uniform(0, 20, size=100),\n",
    "    'sky_state': np.random.choice([0, 1, 2, 3], size=100),\n",
    "    'power': np.random.uniform(0, 1000, size=100)\n",
    "})"
   ]
  },
  {
   "cell_type": "code",
   "execution_count": 22,
   "metadata": {},
   "outputs": [],
   "source": [
    "# Train the model\n",
    "X = data[['temperature', 'humidity', 'wind_dir', 'wind_speed', 'sky_state']]\n",
    "y = data['power']\n"
   ]
  },
  {
   "cell_type": "code",
   "execution_count": 34,
   "metadata": {},
   "outputs": [],
   "source": [
    "xx_train = X[:80]\n",
    "yy_train = y[:80]"
   ]
  },
  {
   "cell_type": "code",
   "execution_count": 36,
   "metadata": {},
   "outputs": [],
   "source": [
    "xx_train = tf.convert_to_tensor(x_train, dtype=tf.float32)"
   ]
  },
  {
   "cell_type": "code",
   "execution_count": 38,
   "metadata": {},
   "outputs": [],
   "source": [
    "y = np.array(y).reshape(-1,1)"
   ]
  },
  {
   "cell_type": "code",
   "execution_count": 39,
   "metadata": {},
   "outputs": [
    {
     "ename": "RuntimeError",
     "evalue": "You must compile your model before training/testing. Use `model.compile(optimizer, loss)`.",
     "output_type": "error",
     "traceback": [
      "\u001b[1;31m---------------------------------------------------------------------------\u001b[0m",
      "\u001b[1;31mRuntimeError\u001b[0m                              Traceback (most recent call last)",
      "Cell \u001b[1;32mIn[39], line 1\u001b[0m\n\u001b[1;32m----> 1\u001b[0m model\u001b[39m.\u001b[39;49mfit(xx_train, yy_train, epochs\u001b[39m=\u001b[39;49m\u001b[39m200\u001b[39;49m, batch_size\u001b[39m=\u001b[39;49m\u001b[39m64\u001b[39;49m, validation_split\u001b[39m=\u001b[39;49m\u001b[39m0.1\u001b[39;49m)\n",
      "File \u001b[1;32mc:\\Users\\user\\AppData\\Local\\Programs\\Python\\Python311\\Lib\\site-packages\\keras\\utils\\traceback_utils.py:70\u001b[0m, in \u001b[0;36mfilter_traceback.<locals>.error_handler\u001b[1;34m(*args, **kwargs)\u001b[0m\n\u001b[0;32m     67\u001b[0m     filtered_tb \u001b[39m=\u001b[39m _process_traceback_frames(e\u001b[39m.\u001b[39m__traceback__)\n\u001b[0;32m     68\u001b[0m     \u001b[39m# To get the full stack trace, call:\u001b[39;00m\n\u001b[0;32m     69\u001b[0m     \u001b[39m# `tf.debugging.disable_traceback_filtering()`\u001b[39;00m\n\u001b[1;32m---> 70\u001b[0m     \u001b[39mraise\u001b[39;00m e\u001b[39m.\u001b[39mwith_traceback(filtered_tb) \u001b[39mfrom\u001b[39;00m \u001b[39mNone\u001b[39m\n\u001b[0;32m     71\u001b[0m \u001b[39mfinally\u001b[39;00m:\n\u001b[0;32m     72\u001b[0m     \u001b[39mdel\u001b[39;00m filtered_tb\n",
      "File \u001b[1;32mc:\\Users\\user\\AppData\\Local\\Programs\\Python\\Python311\\Lib\\site-packages\\keras\\engine\\training.py:3685\u001b[0m, in \u001b[0;36mModel._assert_compile_was_called\u001b[1;34m(self)\u001b[0m\n\u001b[0;32m   3679\u001b[0m \u001b[39mdef\u001b[39;00m \u001b[39m_assert_compile_was_called\u001b[39m(\u001b[39mself\u001b[39m):\n\u001b[0;32m   3680\u001b[0m     \u001b[39m# Checks whether `compile` has been called. If it has been called,\u001b[39;00m\n\u001b[0;32m   3681\u001b[0m     \u001b[39m# then the optimizer is set. This is different from whether the\u001b[39;00m\n\u001b[0;32m   3682\u001b[0m     \u001b[39m# model is compiled\u001b[39;00m\n\u001b[0;32m   3683\u001b[0m     \u001b[39m# (i.e. whether the model is built and its inputs/outputs are set).\u001b[39;00m\n\u001b[0;32m   3684\u001b[0m     \u001b[39mif\u001b[39;00m \u001b[39mnot\u001b[39;00m \u001b[39mself\u001b[39m\u001b[39m.\u001b[39m_is_compiled:\n\u001b[1;32m-> 3685\u001b[0m         \u001b[39mraise\u001b[39;00m \u001b[39mRuntimeError\u001b[39;00m(\n\u001b[0;32m   3686\u001b[0m             \u001b[39m\"\u001b[39m\u001b[39mYou must compile your model before \u001b[39m\u001b[39m\"\u001b[39m\n\u001b[0;32m   3687\u001b[0m             \u001b[39m\"\u001b[39m\u001b[39mtraining/testing. \u001b[39m\u001b[39m\"\u001b[39m\n\u001b[0;32m   3688\u001b[0m             \u001b[39m\"\u001b[39m\u001b[39mUse `model.compile(optimizer, loss)`.\u001b[39m\u001b[39m\"\u001b[39m\n\u001b[0;32m   3689\u001b[0m         )\n",
      "\u001b[1;31mRuntimeError\u001b[0m: You must compile your model before training/testing. Use `model.compile(optimizer, loss)`."
     ]
    }
   ],
   "source": [
    "model.fit(xx_train, yy_train, epochs=200, batch_size=64, validation_split=0.1)"
   ]
  },
  {
   "cell_type": "code",
   "execution_count": 43,
   "metadata": {},
   "outputs": [],
   "source": [
    "def equation_of_time(day):\n",
    "    \"\"\"Compute the equation of time for a given day\"\"\"\n",
    "    B = (day - 1) * (360 / 365)\n",
    "    EoT = 229.18 * (0.000075 + 0.001868 * np.cos(np.radians(B)) - 0.032077 * np.sin(np.radians(B)) \\\n",
    "        - 0.014615 * np.cos(2 * np.radians(B)) - 0.040849 * np.sin(2 * np.radians(B)))\n",
    "    return EoT\n",
    "\n",
    "def clear_sky_index(zenith_angle):\n",
    "    \"\"\"Compute the clear sky index for a given zenith angle\"\"\"\n",
    "    csi = 1.0 / (1 + (6.8 / (np.cos(zenith_angle) ** 0.75)))\n",
    "    return csi\n",
    "\n",
    "def extraterrestrial_radiation(day, latitude):\n",
    "    \"\"\"Compute the extraterrestrial radiation for a given day\"\"\"\n",
    "    delta = 23.45 * np.sin(np.radians(360 * (284 + day) / 365))\n",
    "    Gsc = 1367  # Solar constant\n",
    "    dr = 1 + 0.033 * np.cos(np.radians(360 * day / 365))\n",
    "    omega = np.arccos(-np.tan(np.radians(delta)) * np.tan(np.radians(23.45)))\n",
    "    Ra = (24 * 60 / np.pi) * Gsc * dr * (omega * np.sin(np.radians(delta)) * np.sin(np.radians(latitude)) \\\n",
    "        + np.cos(np.radians(delta)) * np.cos(np.radians(latitude)) * np.sin(omega))\n",
    "    return Ra\n",
    "\n",
    "def clear_sky_model(latitude, longitude, day, time):\n",
    "    # Convert inputs to radians\n",
    "    lat_rad = np.radians(latitude)\n",
    "    long_rad = np.radians(longitude)\n",
    "\n",
    "    # Calculate declination angle\n",
    "    B = (day - 1) * (360 / 365)\n",
    "    declination = 23.45 * np.sin(np.radians(B))\n",
    "\n",
    "    # Calculate solar noon time\n",
    "    solar_noon = 12 + ((4 * long_rad) / np.pi) - (equation_of_time(day) / 60)\n",
    "\n",
    "    # Calculate time correction factor\n",
    "    tc = 60 * (time - solar_noon)\n",
    "\n",
    "    # Calculate zenith angle\n",
    "    zenith_angle = np.arccos(np.sin(lat_rad) * np.sin(declination) + np.cos(lat_rad) * np.cos(declination) * np.cos(np.radians(tc)))\n",
    "\n",
    "    # Calculate clear sky radiation\n",
    "    clear_sky_radiation = clear_sky_index(zenith_angle) * extraterrestrial_radiation(day, latitude) * 0.7\n",
    "\n",
    "    return clear_sky_radiation\n",
    "\n",
    "\n",
    "    \n",
    "# Define photovoltaic equation\n",
    "def photovoltaic_equation(T_air, GHI, clear_sky_radiation):\n",
    "    # Define constants\n",
    "    k = 1.38e-23  # Boltzmann constant\n",
    "    q = 1.6e-19   # Electron charge\n",
    "    Eg = 1.12     # Silicon bandgap energy\n",
    "    A = 1         # Cell area\n",
    "\n",
    "    # Calculate short-circuit current\n",
    "    I_sc = (GHI / 1000) * A\n",
    "\n",
    "    # Calculate open-circuit voltage\n",
    "    T_ref = 25\n",
    "    V_oc = ((k * (T_ref + 273.15)) / q) * np.log((I_sc / A) / ((q / k) * (T_air + 273.15)) + 1)\n",
    "\n",
    "    # Calculate fill factor\n",
    "    FF = 0.7\n",
    "\n",
    "    # Calculate maximum power point current\n",
    "    I_mpp = I_sc * FF\n",
    "\n",
    "    # Calculate maximum power point voltage\n",
    "    V_mpp = V_oc - (k * (T_ref + 273.15) / q) * np.log((I_mpp / A) / ((q / k) * (T_air + 273.15)) + 1)\n",
    "\n",
    "    # Calculate power output\n",
    "    P_out = I_mpp * V_mpp\n",
    "\n",
    "    # Calculate efficiency\n",
    "    eta = P_out / (GHI * A)\n",
    "\n",
    "    # Calculate actual power output\n",
    "    power_output = eta * clear_sky_radiation * A\n",
    "\n",
    "    return power_output\n",
    "\n",
    "\n",
    "\n"
   ]
  },
  {
   "cell_type": "code",
   "execution_count": 40,
   "metadata": {},
   "outputs": [],
   "source": [
    "# Create a virtual dataset\n",
    "N = 1000\n",
    "wind_directions = np.random.uniform(low=0, high=360, size=(N, 1))\n",
    "wind_speeds = np.random.uniform(low=0, high=20, size=(N, 1))\n",
    "temperatures = np.random.uniform(low=0, high=50, size=(N, 1))\n",
    "humidities = np.random.uniform(low=0, high=100, size=(N, 1))\n",
    "sky_conditions = np.random.uniform(low=0, high=1, size=(N, 1))\n",
    "inputs = [wind_directions, wind_speeds, temperatures, humidities, sky_conditions]\n"
   ]
  },
  {
   "cell_type": "code",
   "execution_count": 57,
   "metadata": {},
   "outputs": [],
   "source": [
    "import tensorflow as tf\n",
    "import numpy as np\n",
    "\n",
    "class PINN:\n",
    "    def __init__(self, x, y):\n",
    "        self.x = tf.Variable(x, dtype=tf.float32)\n",
    "        self.y = tf.Variable(y, dtype=tf.float32)\n",
    "        self.t = tf.Variable(tf.zeros_like(x), dtype=tf.float32)\n",
    "\n",
    "        self.dt = tf.Variable(tf.ones_like(self.t), dtype=tf.float32)\n",
    "\n",
    "        self.model = self.create_model()\n",
    "\n",
    "    def create_model(self):\n",
    "        # Define input layers\n",
    "        X_input = tf.keras.layers.Input(shape=(1,), name='x_input')\n",
    "        Y_input = tf.keras.layers.Input(shape=(1,), name='y_input')\n",
    "        T_input = tf.keras.layers.Input(shape=(1,), name='t_input')\n",
    "        dt_input = tf.keras.layers.Input(shape=(1,), name='dt_input')\n",
    "\n",
    "        # Define the neural network\n",
    "        H = tf.keras.layers.Concatenate()([X_input, Y_input, T_input, dt_input])\n",
    "        H = tf.keras.layers.Dense(50, activation='tanh')(H)\n",
    "        H = tf.keras.layers.Dense(50, activation='tanh')(H)\n",
    "        H = tf.keras.layers.Dense(50, activation='tanh')(H)\n",
    "        H = tf.keras.layers.Dense(50, activation='tanh')(H)\n",
    "        H = tf.keras.layers.Dense(50, activation='tanh')(H)\n",
    "        H = tf.keras.layers.Dense(50, activation='tanh')(H)\n",
    "\n",
    "        # Define the output layer\n",
    "        P_output = tf.keras.layers.Dense(1)(H)\n",
    "\n",
    "        # Define the PINN model\n",
    "        model = tf.keras.models.Model(inputs=[X_input, Y_input, T_input, dt_input], outputs=P_output)\n",
    "\n",
    "        return model\n",
    "\n",
    "    @tf.function\n",
    "    def predict(self, x, y, t):\n",
    "        # Predict the output of the PINN model at the given inputs\n",
    "        return self.model([x, y, t, tf.ones_like(x)])\n",
    "\n",
    "    @tf.function\n",
    "    def train(self, epochs=5000, batch_size=128):\n",
    "        optimizer = tf.keras.optimizers.Adam()\n",
    "\n",
    "        for epoch in range(epochs):\n",
    "            # Generate random batch\n",
    "            idx = np.random.choice(self.x.shape[0], batch_size, replace=False)\n",
    "            x_batch = tf.gather(self.x, idx)\n",
    "            y_batch = tf.gather(self.y, idx)\n",
    "            t_batch = tf.gather(self.t, idx)\n",
    "            dt_batch = tf.gather(self.dt, idx)\n",
    "\n",
    "            # Define the loss function\n",
    "            with tf.GradientTape(persistent=True) as tape:\n",
    "                P_pred = self.predict(x_batch, y_batch, t_batch)\n",
    "                dP_dt = tf.gradients(P_pred, t_batch)\n",
    "                dP_dx = tf.gradients(P_pred, x_batch)\n",
    "                dP_dy = tf.gradients(P_pred, y_batch)\n",
    "\n",
    "                # Compute the partial derivatives of the input variables\n",
    "                d2P_dx2 = tf.gradients(dP_dx, x_batch)\n",
    "                d2P_dy2 = tf.gradients(dP_dy, y_batch)\n",
    "\n",
    "                # Compute the loss function\n",
    "                loss = tf.reduce_mean(tf.square(dP_dt + 2 * (d2P_dx2 + d2P_dy2)))\n",
    "\n",
    "            # Compute the gradients and update the variables\n",
    "            grads = tape.gradient(loss, self.model.trainable_variables)\n",
    "            optimizer.apply_gradients(zip(grads, self.model.trainable_variables))\n",
    "\n",
    "            # Print the loss every 100 epochs\n",
    "            if epoch % 100 == 0:\n",
    "                print(\"Epoch: {} Loss: {}\".format(epoch, loss))\n",
    "\n"
   ]
  },
  {
   "cell_type": "code",
   "execution_count": 58,
   "metadata": {},
   "outputs": [],
   "source": [
    "N = 1000\n",
    "wind_directions = np.random.uniform(low=0, high=360, size=(N, 1))\n",
    "wind_speeds = np.random.uniform(low=0, high=20, size=(N, 1))\n",
    "temperatures = np.random.uniform(low=0, high=50, size=(N, 1))\n",
    "humidities = np.random.uniform(low=0, high=100, size=(N, 1))\n",
    "sky_conditions = np.random.uniform(low=0, high=1, size=(N, 1))\n",
    "\n",
    "inputs = np.concatenate([wind_directions, wind_speeds, temperatures, humidities, sky_conditions], axis=1)\n",
    "inputs = tf.convert_to_tensor(inputs, dtype=tf.float32)\n",
    "pinn_model = PINN(inputs[:, :2], inputs[:, 2])\n"
   ]
  },
  {
   "cell_type": "code",
   "execution_count": 68,
   "metadata": {},
   "outputs": [],
   "source": [
    "pinn_model = PINN(inputs, inputs)"
   ]
  },
  {
   "cell_type": "code",
   "execution_count": 67,
   "metadata": {},
   "outputs": [
    {
     "ename": "ValueError",
     "evalue": "in user code:\n\n    File \"C:\\Users\\user\\AppData\\Local\\Temp\\ipykernel_3132\\2695135045.py\", line 57, in train  *\n        P_pred = self.predict(x_batch, y_batch, t_batch)\n    File \"C:\\Users\\user\\AppData\\Local\\Temp\\ipykernel_3132\\3681396726.py\", line 41, in predict  *\n        return self.model([x, y, t, tf.ones_like(x)])\n    File \"c:\\Users\\user\\AppData\\Local\\Programs\\Python\\Python311\\Lib\\site-packages\\keras\\utils\\traceback_utils.py\", line 70, in error_handler  **\n        raise e.with_traceback(filtered_tb) from None\n    File \"c:\\Users\\user\\AppData\\Local\\Programs\\Python\\Python311\\Lib\\site-packages\\keras\\engine\\input_spec.py\", line 280, in assert_input_compatibility\n        raise ValueError(\n\n    ValueError: Exception encountered when calling layer 'model_7' (type Functional).\n    \n    Input 0 of layer \"dense_51\" is incompatible with the layer: expected axis -1 of input shape to have value 4, but received input with shape (256, 20)\n    \n    Call arguments received by layer 'model_7' (type Functional):\n      • inputs=['tf.Tensor(shape=(256, 5), dtype=float32)', 'tf.Tensor(shape=(256, 5), dtype=float32)', 'tf.Tensor(shape=(256, 5), dtype=float32)', 'tf.Tensor(shape=(256, 5), dtype=float32)']\n      • training=None\n      • mask=None\n",
     "output_type": "error",
     "traceback": [
      "\u001b[1;31m---------------------------------------------------------------------------\u001b[0m",
      "\u001b[1;31mValueError\u001b[0m                                Traceback (most recent call last)",
      "Cell \u001b[1;32mIn[67], line 1\u001b[0m\n\u001b[1;32m----> 1\u001b[0m pinn_model\u001b[39m.\u001b[39;49mtrain(epochs\u001b[39m=\u001b[39;49m\u001b[39m10000\u001b[39;49m, batch_size\u001b[39m=\u001b[39;49m\u001b[39m256\u001b[39;49m)\n",
      "File \u001b[1;32mc:\\Users\\user\\AppData\\Local\\Programs\\Python\\Python311\\Lib\\site-packages\\tensorflow\\python\\util\\traceback_utils.py:153\u001b[0m, in \u001b[0;36mfilter_traceback.<locals>.error_handler\u001b[1;34m(*args, **kwargs)\u001b[0m\n\u001b[0;32m    151\u001b[0m \u001b[39mexcept\u001b[39;00m \u001b[39mException\u001b[39;00m \u001b[39mas\u001b[39;00m e:\n\u001b[0;32m    152\u001b[0m   filtered_tb \u001b[39m=\u001b[39m _process_traceback_frames(e\u001b[39m.\u001b[39m__traceback__)\n\u001b[1;32m--> 153\u001b[0m   \u001b[39mraise\u001b[39;00m e\u001b[39m.\u001b[39mwith_traceback(filtered_tb) \u001b[39mfrom\u001b[39;00m \u001b[39mNone\u001b[39m\n\u001b[0;32m    154\u001b[0m \u001b[39mfinally\u001b[39;00m:\n\u001b[0;32m    155\u001b[0m   \u001b[39mdel\u001b[39;00m filtered_tb\n",
      "File \u001b[1;32m~\\AppData\\Local\\Temp\\__autograph_generated_filefphnd_oi.py:61\u001b[0m, in \u001b[0;36mouter_factory.<locals>.inner_factory.<locals>.tf__train\u001b[1;34m(self, epochs, batch_size)\u001b[0m\n\u001b[0;32m     59\u001b[0m tape \u001b[39m=\u001b[39m ag__\u001b[39m.\u001b[39mUndefined(\u001b[39m'\u001b[39m\u001b[39mtape\u001b[39m\u001b[39m'\u001b[39m)\n\u001b[0;32m     60\u001b[0m loss \u001b[39m=\u001b[39m ag__\u001b[39m.\u001b[39mUndefined(\u001b[39m'\u001b[39m\u001b[39mloss\u001b[39m\u001b[39m'\u001b[39m)\n\u001b[1;32m---> 61\u001b[0m ag__\u001b[39m.\u001b[39;49mfor_stmt(ag__\u001b[39m.\u001b[39;49mconverted_call(ag__\u001b[39m.\u001b[39;49mld(\u001b[39mrange\u001b[39;49m), (ag__\u001b[39m.\u001b[39;49mld(epochs),), \u001b[39mNone\u001b[39;49;00m, fscope), \u001b[39mNone\u001b[39;49;00m, loop_body, get_state_1, set_state_1, (), {\u001b[39m'\u001b[39;49m\u001b[39miterate_names\u001b[39;49m\u001b[39m'\u001b[39;49m: \u001b[39m'\u001b[39;49m\u001b[39mepoch\u001b[39;49m\u001b[39m'\u001b[39;49m})\n",
      "File \u001b[1;32m~\\AppData\\Local\\Temp\\__autograph_generated_filefphnd_oi.py:24\u001b[0m, in \u001b[0;36mouter_factory.<locals>.inner_factory.<locals>.tf__train.<locals>.loop_body\u001b[1;34m(itr)\u001b[0m\n\u001b[0;32m     22\u001b[0m dt_batch \u001b[39m=\u001b[39m ag__\u001b[39m.\u001b[39mconverted_call(ag__\u001b[39m.\u001b[39mld(tf)\u001b[39m.\u001b[39mgather, (ag__\u001b[39m.\u001b[39mld(\u001b[39mself\u001b[39m)\u001b[39m.\u001b[39mdt, ag__\u001b[39m.\u001b[39mld(idx)), \u001b[39mNone\u001b[39;00m, fscope)\n\u001b[0;32m     23\u001b[0m \u001b[39mwith\u001b[39;00m ag__\u001b[39m.\u001b[39mld(tf)\u001b[39m.\u001b[39mGradientTape(persistent\u001b[39m=\u001b[39m\u001b[39mTrue\u001b[39;00m) \u001b[39mas\u001b[39;00m tape:\n\u001b[1;32m---> 24\u001b[0m     P_pred \u001b[39m=\u001b[39m ag__\u001b[39m.\u001b[39;49mconverted_call(ag__\u001b[39m.\u001b[39;49mld(\u001b[39mself\u001b[39;49m)\u001b[39m.\u001b[39;49mpredict, (ag__\u001b[39m.\u001b[39;49mld(x_batch), ag__\u001b[39m.\u001b[39;49mld(y_batch), ag__\u001b[39m.\u001b[39;49mld(t_batch)), \u001b[39mNone\u001b[39;49;00m, fscope)\n\u001b[0;32m     25\u001b[0m     dP_dt \u001b[39m=\u001b[39m ag__\u001b[39m.\u001b[39mconverted_call(ag__\u001b[39m.\u001b[39mld(tf)\u001b[39m.\u001b[39mgradients, (ag__\u001b[39m.\u001b[39mld(P_pred), ag__\u001b[39m.\u001b[39mld(t_batch)), \u001b[39mNone\u001b[39;00m, fscope)\n\u001b[0;32m     26\u001b[0m     dP_dx \u001b[39m=\u001b[39m ag__\u001b[39m.\u001b[39mconverted_call(ag__\u001b[39m.\u001b[39mld(tf)\u001b[39m.\u001b[39mgradients, (ag__\u001b[39m.\u001b[39mld(P_pred), ag__\u001b[39m.\u001b[39mld(x_batch)), \u001b[39mNone\u001b[39;00m, fscope)\n",
      "File \u001b[1;32m~\\AppData\\Local\\Temp\\__autograph_generated_filese4l7w9m.py:12\u001b[0m, in \u001b[0;36mouter_factory.<locals>.inner_factory.<locals>.tf__predict\u001b[1;34m(self, x, y, t)\u001b[0m\n\u001b[0;32m     10\u001b[0m \u001b[39mtry\u001b[39;00m:\n\u001b[0;32m     11\u001b[0m     do_return \u001b[39m=\u001b[39m \u001b[39mTrue\u001b[39;00m\n\u001b[1;32m---> 12\u001b[0m     retval_ \u001b[39m=\u001b[39m ag__\u001b[39m.\u001b[39mconverted_call(ag__\u001b[39m.\u001b[39mld(\u001b[39mself\u001b[39m)\u001b[39m.\u001b[39mmodel, ([ag__\u001b[39m.\u001b[39mld(x), ag__\u001b[39m.\u001b[39mld(y), ag__\u001b[39m.\u001b[39mld(t), ag__\u001b[39m.\u001b[39mconverted_call(ag__\u001b[39m.\u001b[39mld(tf)\u001b[39m.\u001b[39mones_like, (ag__\u001b[39m.\u001b[39mld(x),), \u001b[39mNone\u001b[39;00m, fscope)],), \u001b[39mNone\u001b[39;00m, fscope)\n\u001b[0;32m     13\u001b[0m \u001b[39mexcept\u001b[39;00m:\n\u001b[0;32m     14\u001b[0m     do_return \u001b[39m=\u001b[39m \u001b[39mFalse\u001b[39;00m\n",
      "File \u001b[1;32mc:\\Users\\user\\AppData\\Local\\Programs\\Python\\Python311\\Lib\\site-packages\\keras\\utils\\traceback_utils.py:70\u001b[0m, in \u001b[0;36mfilter_traceback.<locals>.error_handler\u001b[1;34m(*args, **kwargs)\u001b[0m\n\u001b[0;32m     67\u001b[0m     filtered_tb \u001b[39m=\u001b[39m _process_traceback_frames(e\u001b[39m.\u001b[39m__traceback__)\n\u001b[0;32m     68\u001b[0m     \u001b[39m# To get the full stack trace, call:\u001b[39;00m\n\u001b[0;32m     69\u001b[0m     \u001b[39m# `tf.debugging.disable_traceback_filtering()`\u001b[39;00m\n\u001b[1;32m---> 70\u001b[0m     \u001b[39mraise\u001b[39;00m e\u001b[39m.\u001b[39mwith_traceback(filtered_tb) \u001b[39mfrom\u001b[39;00m \u001b[39mNone\u001b[39m\n\u001b[0;32m     71\u001b[0m \u001b[39mfinally\u001b[39;00m:\n\u001b[0;32m     72\u001b[0m     \u001b[39mdel\u001b[39;00m filtered_tb\n",
      "File \u001b[1;32mc:\\Users\\user\\AppData\\Local\\Programs\\Python\\Python311\\Lib\\site-packages\\keras\\engine\\input_spec.py:280\u001b[0m, in \u001b[0;36massert_input_compatibility\u001b[1;34m(input_spec, inputs, layer_name)\u001b[0m\n\u001b[0;32m    275\u001b[0m             value \u001b[39m=\u001b[39m value\u001b[39m.\u001b[39mvalue\n\u001b[0;32m    276\u001b[0m         \u001b[39mif\u001b[39;00m value \u001b[39mis\u001b[39;00m \u001b[39mnot\u001b[39;00m \u001b[39mNone\u001b[39;00m \u001b[39mand\u001b[39;00m shape_as_list[\u001b[39mint\u001b[39m(axis)] \u001b[39mnot\u001b[39;00m \u001b[39min\u001b[39;00m {\n\u001b[0;32m    277\u001b[0m             value,\n\u001b[0;32m    278\u001b[0m             \u001b[39mNone\u001b[39;00m,\n\u001b[0;32m    279\u001b[0m         }:\n\u001b[1;32m--> 280\u001b[0m             \u001b[39mraise\u001b[39;00m \u001b[39mValueError\u001b[39;00m(\n\u001b[0;32m    281\u001b[0m                 \u001b[39mf\u001b[39m\u001b[39m'\u001b[39m\u001b[39mInput \u001b[39m\u001b[39m{\u001b[39;00minput_index\u001b[39m}\u001b[39;00m\u001b[39m of layer \u001b[39m\u001b[39m\"\u001b[39m\u001b[39m{\u001b[39;00mlayer_name\u001b[39m}\u001b[39;00m\u001b[39m\"\u001b[39m\u001b[39m is \u001b[39m\u001b[39m'\u001b[39m\n\u001b[0;32m    282\u001b[0m                 \u001b[39mf\u001b[39m\u001b[39m\"\u001b[39m\u001b[39mincompatible with the layer: expected axis \u001b[39m\u001b[39m{\u001b[39;00maxis\u001b[39m}\u001b[39;00m\u001b[39m \u001b[39m\u001b[39m\"\u001b[39m\n\u001b[0;32m    283\u001b[0m                 \u001b[39mf\u001b[39m\u001b[39m\"\u001b[39m\u001b[39mof input shape to have value \u001b[39m\u001b[39m{\u001b[39;00mvalue\u001b[39m}\u001b[39;00m\u001b[39m, \u001b[39m\u001b[39m\"\u001b[39m\n\u001b[0;32m    284\u001b[0m                 \u001b[39m\"\u001b[39m\u001b[39mbut received input with \u001b[39m\u001b[39m\"\u001b[39m\n\u001b[0;32m    285\u001b[0m                 \u001b[39mf\u001b[39m\u001b[39m\"\u001b[39m\u001b[39mshape \u001b[39m\u001b[39m{\u001b[39;00mdisplay_shape(x\u001b[39m.\u001b[39mshape)\u001b[39m}\u001b[39;00m\u001b[39m\"\u001b[39m\n\u001b[0;32m    286\u001b[0m             )\n\u001b[0;32m    287\u001b[0m \u001b[39m# Check shape.\u001b[39;00m\n\u001b[0;32m    288\u001b[0m \u001b[39mif\u001b[39;00m spec\u001b[39m.\u001b[39mshape \u001b[39mis\u001b[39;00m \u001b[39mnot\u001b[39;00m \u001b[39mNone\u001b[39;00m \u001b[39mand\u001b[39;00m shape\u001b[39m.\u001b[39mrank \u001b[39mis\u001b[39;00m \u001b[39mnot\u001b[39;00m \u001b[39mNone\u001b[39;00m:\n",
      "\u001b[1;31mValueError\u001b[0m: in user code:\n\n    File \"C:\\Users\\user\\AppData\\Local\\Temp\\ipykernel_3132\\2695135045.py\", line 57, in train  *\n        P_pred = self.predict(x_batch, y_batch, t_batch)\n    File \"C:\\Users\\user\\AppData\\Local\\Temp\\ipykernel_3132\\3681396726.py\", line 41, in predict  *\n        return self.model([x, y, t, tf.ones_like(x)])\n    File \"c:\\Users\\user\\AppData\\Local\\Programs\\Python\\Python311\\Lib\\site-packages\\keras\\utils\\traceback_utils.py\", line 70, in error_handler  **\n        raise e.with_traceback(filtered_tb) from None\n    File \"c:\\Users\\user\\AppData\\Local\\Programs\\Python\\Python311\\Lib\\site-packages\\keras\\engine\\input_spec.py\", line 280, in assert_input_compatibility\n        raise ValueError(\n\n    ValueError: Exception encountered when calling layer 'model_7' (type Functional).\n    \n    Input 0 of layer \"dense_51\" is incompatible with the layer: expected axis -1 of input shape to have value 4, but received input with shape (256, 20)\n    \n    Call arguments received by layer 'model_7' (type Functional):\n      • inputs=['tf.Tensor(shape=(256, 5), dtype=float32)', 'tf.Tensor(shape=(256, 5), dtype=float32)', 'tf.Tensor(shape=(256, 5), dtype=float32)', 'tf.Tensor(shape=(256, 5), dtype=float32)']\n      • training=None\n      • mask=None\n"
     ]
    }
   ],
   "source": [
    "pinn_model.train(epochs=10000, batch_size=256)\n"
   ]
  },
  {
   "cell_type": "code",
   "execution_count": null,
   "metadata": {},
   "outputs": [],
   "source": []
  }
 ],
 "metadata": {
  "kernelspec": {
   "display_name": "Python 3",
   "language": "python",
   "name": "python3"
  },
  "language_info": {
   "codemirror_mode": {
    "name": "ipython",
    "version": 3
   },
   "file_extension": ".py",
   "mimetype": "text/x-python",
   "name": "python",
   "nbconvert_exporter": "python",
   "pygments_lexer": "ipython3",
   "version": "3.11.1"
  },
  "orig_nbformat": 4,
  "vscode": {
   "interpreter": {
    "hash": "de47f5c92c0ee6f12a59a5613ac5feff6aab19ddff207ba0b3964cced08c4ccc"
   }
  }
 },
 "nbformat": 4,
 "nbformat_minor": 2
}
