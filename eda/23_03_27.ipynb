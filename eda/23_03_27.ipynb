{
 "cells": [
  {
   "cell_type": "code",
   "execution_count": 1,
   "metadata": {},
   "outputs": [],
   "source": [
    "import pandas as pd\n",
    "import numpy as np\n",
    "import matplotlib.pyplot as plt\n",
    "import seaborn as sns\n",
    "import warnings\n",
    "warnings.filterwarnings('ignore')\n",
    "from haversine import haversine\n",
    "import pymysql\n",
    "from itertools import *\n",
    "from tqdm import tqdm"
   ]
  },
  {
   "cell_type": "code",
   "execution_count": 2,
   "metadata": {},
   "outputs": [],
   "source": [
    "df = pd.read_csv('C:/Users/user/github/Data/capstone/total_eda_real.csv')"
   ]
  },
  {
   "cell_type": "code",
   "execution_count": 3,
   "metadata": {},
   "outputs": [
    {
     "data": {
      "text/html": [
       "<div>\n",
       "<style scoped>\n",
       "    .dataframe tbody tr th:only-of-type {\n",
       "        vertical-align: middle;\n",
       "    }\n",
       "\n",
       "    .dataframe tbody tr th {\n",
       "        vertical-align: top;\n",
       "    }\n",
       "\n",
       "    .dataframe thead th {\n",
       "        text-align: right;\n",
       "    }\n",
       "</style>\n",
       "<table border=\"1\" class=\"dataframe\">\n",
       "  <thead>\n",
       "    <tr style=\"text-align: right;\">\n",
       "      <th></th>\n",
       "      <th>지점</th>\n",
       "      <th>위도</th>\n",
       "      <th>경도</th>\n",
       "      <th>지점명</th>\n",
       "      <th>일시</th>\n",
       "      <th>기온</th>\n",
       "      <th>풍속</th>\n",
       "      <th>풍향</th>\n",
       "      <th>습도</th>\n",
       "      <th>강수량</th>\n",
       "    </tr>\n",
       "  </thead>\n",
       "  <tbody>\n",
       "    <tr>\n",
       "      <th>0</th>\n",
       "      <td>90</td>\n",
       "      <td>38.2509</td>\n",
       "      <td>128.5647</td>\n",
       "      <td>속초</td>\n",
       "      <td>2021-01-01 00:00</td>\n",
       "      <td>-6.3</td>\n",
       "      <td>2.6</td>\n",
       "      <td>290.0</td>\n",
       "      <td>30.0</td>\n",
       "      <td>0.0</td>\n",
       "    </tr>\n",
       "  </tbody>\n",
       "</table>\n",
       "</div>"
      ],
      "text/plain": [
       "   지점       위도        경도 지점명                일시   기온   풍속     풍향    습도  강수량\n",
       "0  90  38.2509  128.5647  속초  2021-01-01 00:00 -6.3  2.6  290.0  30.0  0.0"
      ]
     },
     "execution_count": 3,
     "metadata": {},
     "output_type": "execute_result"
    }
   ],
   "source": [
    "df.head(1)"
   ]
  },
  {
   "cell_type": "code",
   "execution_count": 4,
   "metadata": {},
   "outputs": [],
   "source": [
    "conn = pymysql.connect(host = '127.0.0.1',\n",
    "                        user = 'root',\n",
    "                        password='2568',\n",
    "                        db = 'mydb',\n",
    "                        charset='utf8')\n",
    "\n",
    "curs = conn.cursor(pymysql.cursors.DictCursor)"
   ]
  },
  {
   "cell_type": "code",
   "execution_count": 5,
   "metadata": {},
   "outputs": [
    {
     "data": {
      "text/plain": [
       "1662120"
      ]
     },
     "execution_count": 5,
     "metadata": {},
     "output_type": "execute_result"
    }
   ],
   "source": [
    "curs.execute('SELECT * FROM real_table;')"
   ]
  },
  {
   "cell_type": "code",
   "execution_count": 6,
   "metadata": {},
   "outputs": [],
   "source": [
    "sql_df = pd.DataFrame(curs.fetchall())"
   ]
  },
  {
   "cell_type": "code",
   "execution_count": 7,
   "metadata": {},
   "outputs": [
    {
     "data": {
      "text/html": [
       "<div>\n",
       "<style scoped>\n",
       "    .dataframe tbody tr th:only-of-type {\n",
       "        vertical-align: middle;\n",
       "    }\n",
       "\n",
       "    .dataframe tbody tr th {\n",
       "        vertical-align: top;\n",
       "    }\n",
       "\n",
       "    .dataframe thead th {\n",
       "        text-align: right;\n",
       "    }\n",
       "</style>\n",
       "<table border=\"1\" class=\"dataframe\">\n",
       "  <thead>\n",
       "    <tr style=\"text-align: right;\">\n",
       "      <th></th>\n",
       "      <th>datetime</th>\n",
       "      <th>point</th>\n",
       "      <th>point_name</th>\n",
       "      <th>latitude</th>\n",
       "      <th>longitude</th>\n",
       "      <th>temp</th>\n",
       "      <th>windspeed</th>\n",
       "      <th>winddir</th>\n",
       "      <th>humidity</th>\n",
       "      <th>precipitation</th>\n",
       "    </tr>\n",
       "  </thead>\n",
       "  <tbody>\n",
       "    <tr>\n",
       "      <th>0</th>\n",
       "      <td>2021-01-01</td>\n",
       "      <td>90</td>\n",
       "      <td>속초</td>\n",
       "      <td>38.2509</td>\n",
       "      <td>128.565</td>\n",
       "      <td>-6.3</td>\n",
       "      <td>2.6</td>\n",
       "      <td>290.0</td>\n",
       "      <td>30.0</td>\n",
       "      <td>0.0</td>\n",
       "    </tr>\n",
       "    <tr>\n",
       "      <th>1</th>\n",
       "      <td>2021-01-01</td>\n",
       "      <td>93</td>\n",
       "      <td>북춘천</td>\n",
       "      <td>37.9475</td>\n",
       "      <td>127.755</td>\n",
       "      <td>-10.7</td>\n",
       "      <td>0.5</td>\n",
       "      <td>360.0</td>\n",
       "      <td>63.0</td>\n",
       "      <td>0.0</td>\n",
       "    </tr>\n",
       "    <tr>\n",
       "      <th>2</th>\n",
       "      <td>2021-01-01</td>\n",
       "      <td>95</td>\n",
       "      <td>철원</td>\n",
       "      <td>38.1479</td>\n",
       "      <td>127.304</td>\n",
       "      <td>-10.7</td>\n",
       "      <td>0.5</td>\n",
       "      <td>160.0</td>\n",
       "      <td>50.0</td>\n",
       "      <td>0.0</td>\n",
       "    </tr>\n",
       "    <tr>\n",
       "      <th>3</th>\n",
       "      <td>2021-01-01</td>\n",
       "      <td>98</td>\n",
       "      <td>동두천</td>\n",
       "      <td>37.9019</td>\n",
       "      <td>127.061</td>\n",
       "      <td>-10.0</td>\n",
       "      <td>1.1</td>\n",
       "      <td>50.0</td>\n",
       "      <td>63.0</td>\n",
       "      <td>0.0</td>\n",
       "    </tr>\n",
       "    <tr>\n",
       "      <th>4</th>\n",
       "      <td>2021-01-01</td>\n",
       "      <td>99</td>\n",
       "      <td>파주</td>\n",
       "      <td>37.8859</td>\n",
       "      <td>126.767</td>\n",
       "      <td>-12.0</td>\n",
       "      <td>0.7</td>\n",
       "      <td>140.0</td>\n",
       "      <td>82.0</td>\n",
       "      <td>0.0</td>\n",
       "    </tr>\n",
       "    <tr>\n",
       "      <th>...</th>\n",
       "      <td>...</td>\n",
       "      <td>...</td>\n",
       "      <td>...</td>\n",
       "      <td>...</td>\n",
       "      <td>...</td>\n",
       "      <td>...</td>\n",
       "      <td>...</td>\n",
       "      <td>...</td>\n",
       "      <td>...</td>\n",
       "      <td>...</td>\n",
       "    </tr>\n",
       "    <tr>\n",
       "      <th>1662115</th>\n",
       "      <td>2022-12-31</td>\n",
       "      <td>285</td>\n",
       "      <td>합천</td>\n",
       "      <td>35.5651</td>\n",
       "      <td>128.170</td>\n",
       "      <td>-2.1</td>\n",
       "      <td>0.1</td>\n",
       "      <td>0.0</td>\n",
       "      <td>79.0</td>\n",
       "      <td>0.0</td>\n",
       "    </tr>\n",
       "    <tr>\n",
       "      <th>1662116</th>\n",
       "      <td>2022-12-31</td>\n",
       "      <td>288</td>\n",
       "      <td>밀양</td>\n",
       "      <td>35.4915</td>\n",
       "      <td>128.744</td>\n",
       "      <td>-3.6</td>\n",
       "      <td>0.2</td>\n",
       "      <td>0.0</td>\n",
       "      <td>79.0</td>\n",
       "      <td>0.0</td>\n",
       "    </tr>\n",
       "    <tr>\n",
       "      <th>1662117</th>\n",
       "      <td>2022-12-31</td>\n",
       "      <td>289</td>\n",
       "      <td>산청</td>\n",
       "      <td>35.4130</td>\n",
       "      <td>127.879</td>\n",
       "      <td>0.6</td>\n",
       "      <td>2.9</td>\n",
       "      <td>320.0</td>\n",
       "      <td>58.0</td>\n",
       "      <td>0.0</td>\n",
       "    </tr>\n",
       "    <tr>\n",
       "      <th>1662118</th>\n",
       "      <td>2022-12-31</td>\n",
       "      <td>294</td>\n",
       "      <td>거제</td>\n",
       "      <td>34.8882</td>\n",
       "      <td>128.605</td>\n",
       "      <td>1.9</td>\n",
       "      <td>1.3</td>\n",
       "      <td>290.0</td>\n",
       "      <td>59.0</td>\n",
       "      <td>0.0</td>\n",
       "    </tr>\n",
       "    <tr>\n",
       "      <th>1662119</th>\n",
       "      <td>2022-12-31</td>\n",
       "      <td>295</td>\n",
       "      <td>남해</td>\n",
       "      <td>34.8166</td>\n",
       "      <td>127.926</td>\n",
       "      <td>0.4</td>\n",
       "      <td>1.1</td>\n",
       "      <td>250.0</td>\n",
       "      <td>66.0</td>\n",
       "      <td>0.0</td>\n",
       "    </tr>\n",
       "  </tbody>\n",
       "</table>\n",
       "<p>1662120 rows × 10 columns</p>\n",
       "</div>"
      ],
      "text/plain": [
       "          datetime  point point_name  latitude  longitude  temp  windspeed  \\\n",
       "0       2021-01-01     90         속초   38.2509    128.565  -6.3        2.6   \n",
       "1       2021-01-01     93        북춘천   37.9475    127.755 -10.7        0.5   \n",
       "2       2021-01-01     95         철원   38.1479    127.304 -10.7        0.5   \n",
       "3       2021-01-01     98        동두천   37.9019    127.061 -10.0        1.1   \n",
       "4       2021-01-01     99         파주   37.8859    126.767 -12.0        0.7   \n",
       "...            ...    ...        ...       ...        ...   ...        ...   \n",
       "1662115 2022-12-31    285         합천   35.5651    128.170  -2.1        0.1   \n",
       "1662116 2022-12-31    288         밀양   35.4915    128.744  -3.6        0.2   \n",
       "1662117 2022-12-31    289         산청   35.4130    127.879   0.6        2.9   \n",
       "1662118 2022-12-31    294         거제   34.8882    128.605   1.9        1.3   \n",
       "1662119 2022-12-31    295         남해   34.8166    127.926   0.4        1.1   \n",
       "\n",
       "         winddir  humidity  precipitation  \n",
       "0          290.0      30.0            0.0  \n",
       "1          360.0      63.0            0.0  \n",
       "2          160.0      50.0            0.0  \n",
       "3           50.0      63.0            0.0  \n",
       "4          140.0      82.0            0.0  \n",
       "...          ...       ...            ...  \n",
       "1662115      0.0      79.0            0.0  \n",
       "1662116      0.0      79.0            0.0  \n",
       "1662117    320.0      58.0            0.0  \n",
       "1662118    290.0      59.0            0.0  \n",
       "1662119    250.0      66.0            0.0  \n",
       "\n",
       "[1662120 rows x 10 columns]"
      ]
     },
     "execution_count": 7,
     "metadata": {},
     "output_type": "execute_result"
    }
   ],
   "source": [
    "sql_df"
   ]
  },
  {
   "cell_type": "code",
   "execution_count": 8,
   "metadata": {},
   "outputs": [],
   "source": [
    "point_name = sql_df.point_name.unique().tolist()"
   ]
  },
  {
   "cell_type": "code",
   "execution_count": 9,
   "metadata": {},
   "outputs": [
    {
     "data": {
      "text/plain": [
       "'속초'"
      ]
     },
     "execution_count": 9,
     "metadata": {},
     "output_type": "execute_result"
    }
   ],
   "source": [
    "point_name[0]"
   ]
  },
  {
   "cell_type": "code",
   "execution_count": 10,
   "metadata": {},
   "outputs": [
    {
     "data": {
      "text/plain": [
       "[38.2509, 128.565]"
      ]
     },
     "execution_count": 10,
     "metadata": {},
     "output_type": "execute_result"
    }
   ],
   "source": [
    "sql_df[sql_df['point_name']=='속초'][['latitude','longitude']].values[0].tolist()"
   ]
  },
  {
   "cell_type": "code",
   "execution_count": 11,
   "metadata": {},
   "outputs": [
    {
     "name": "stderr",
     "output_type": "stream",
     "text": [
      "100%|██████████| 95/95 [00:06<00:00, 15.83it/s]\n"
     ]
    }
   ],
   "source": [
    "total_result = []\n",
    "for i in tqdm(range(len(point_name))):\n",
    "    total_result.append([point_name[i],sql_df[sql_df['point_name']==point_name[i]][['latitude','longitude']].values[0].tolist() ])"
   ]
  },
  {
   "cell_type": "code",
   "execution_count": 12,
   "metadata": {},
   "outputs": [
    {
     "data": {
      "text/plain": [
       "[38.2509, 128.565]"
      ]
     },
     "execution_count": 12,
     "metadata": {},
     "output_type": "execute_result"
    }
   ],
   "source": [
    "total_result[0][1]"
   ]
  },
  {
   "cell_type": "code",
   "execution_count": 13,
   "metadata": {},
   "outputs": [],
   "source": [
    "printList = list(combinations(point_name, 2))"
   ]
  },
  {
   "cell_type": "code",
   "execution_count": 14,
   "metadata": {},
   "outputs": [
    {
     "data": {
      "text/plain": [
       "4465"
      ]
     },
     "execution_count": 14,
     "metadata": {},
     "output_type": "execute_result"
    }
   ],
   "source": [
    "len(printList)"
   ]
  },
  {
   "cell_type": "code",
   "execution_count": 15,
   "metadata": {},
   "outputs": [
    {
     "data": {
      "text/plain": [
       "'북춘천'"
      ]
     },
     "execution_count": 15,
     "metadata": {},
     "output_type": "execute_result"
    }
   ],
   "source": [
    "printList[0][0]\n",
    "printList[0][1]"
   ]
  },
  {
   "cell_type": "code",
   "execution_count": 16,
   "metadata": {},
   "outputs": [
    {
     "data": {
      "text/plain": [
       "37.9475"
      ]
     },
     "execution_count": 16,
     "metadata": {},
     "output_type": "execute_result"
    }
   ],
   "source": [
    "sql_df[sql_df['point_name']=='북춘천'].latitude.values[0]"
   ]
  },
  {
   "cell_type": "code",
   "execution_count": 17,
   "metadata": {},
   "outputs": [
    {
     "data": {
      "text/plain": [
       "127.755"
      ]
     },
     "execution_count": 17,
     "metadata": {},
     "output_type": "execute_result"
    }
   ],
   "source": [
    "sql_df[sql_df['point_name']=='북춘천'].longitude.values[0]"
   ]
  },
  {
   "cell_type": "code",
   "execution_count": 18,
   "metadata": {},
   "outputs": [
    {
     "data": {
      "text/plain": [
       "4465"
      ]
     },
     "execution_count": 18,
     "metadata": {},
     "output_type": "execute_result"
    }
   ],
   "source": [
    "len(printList)"
   ]
  },
  {
   "cell_type": "code",
   "execution_count": 19,
   "metadata": {},
   "outputs": [],
   "source": [
    "fi = (sql_df[sql_df['point_name']==printList[i][0]].latitude.values[0], sql_df[sql_df['point_name']==printList[i][0]].longitude.values[0])\n",
    "se = (sql_df[sql_df['point_name']==printList[i][1]].latitude.values[0], sql_df[sql_df['point_name']==printList[i][1]].longitude.values[0])"
   ]
  },
  {
   "cell_type": "code",
   "execution_count": 20,
   "metadata": {},
   "outputs": [
    {
     "data": {
      "text/plain": [
       "45.345141800750646"
      ]
     },
     "execution_count": 20,
     "metadata": {},
     "output_type": "execute_result"
    }
   ],
   "source": [
    "haversine(fi, se)"
   ]
  },
  {
   "cell_type": "code",
   "execution_count": 21,
   "metadata": {},
   "outputs": [
    {
     "data": {
      "text/plain": [
       "'북춘천'"
      ]
     },
     "execution_count": 21,
     "metadata": {},
     "output_type": "execute_result"
    }
   ],
   "source": [
    "printList[i][0]"
   ]
  },
  {
   "cell_type": "code",
   "execution_count": 22,
   "metadata": {},
   "outputs": [
    {
     "name": "stderr",
     "output_type": "stream",
     "text": [
      "100%|██████████| 4465/4465 [18:09<00:00,  4.10it/s]\n"
     ]
    }
   ],
   "source": [
    "re = []\n",
    "for i in tqdm(range(len(printList))):\n",
    "    fi = (sql_df[sql_df['point_name']==printList[i][0]].latitude.values[0], sql_df[sql_df['point_name']==printList[i][0]].longitude.values[0])\n",
    "    se = (sql_df[sql_df['point_name']==printList[i][1]].latitude.values[0], sql_df[sql_df['point_name']==printList[i][1]].longitude.values[0])\n",
    "    rr = haversine(fi,se)\n",
    "    re.append([printList[i][0], printList[i][1], rr])"
   ]
  },
  {
   "cell_type": "code",
   "execution_count": 29,
   "metadata": {},
   "outputs": [],
   "source": [
    "d = pd.DataFrame(re, columns=['지역1','지역2','거리'])"
   ]
  },
  {
   "cell_type": "markdown",
   "metadata": {},
   "source": [
    "d.to_csv('C:/Users/user/github/Data/capstone/distance.csv', index=False, encoding='utf-8-sig')"
   ]
  }
 ],
 "metadata": {
  "kernelspec": {
   "display_name": "Python 3",
   "language": "python",
   "name": "python3"
  },
  "language_info": {
   "codemirror_mode": {
    "name": "ipython",
    "version": 3
   },
   "file_extension": ".py",
   "mimetype": "text/x-python",
   "name": "python",
   "nbconvert_exporter": "python",
   "pygments_lexer": "ipython3",
   "version": "3.11.1"
  },
  "orig_nbformat": 4
 },
 "nbformat": 4,
 "nbformat_minor": 2
}
