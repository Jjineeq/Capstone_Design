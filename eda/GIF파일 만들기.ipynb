{
 "cells": [
  {
   "cell_type": "code",
   "execution_count": 12,
   "metadata": {},
   "outputs": [],
   "source": [
    "from sklearn.datasets import load_iris\n",
    "import matplotlib.pyplot as plt"
   ]
  },
  {
   "cell_type": "code",
   "execution_count": 23,
   "metadata": {},
   "outputs": [],
   "source": [
    "# 예제 데이터\n",
    "iris = load_iris(as_frame=True)\n",
    "dat = iris['data']"
   ]
  },
  {
   "attachments": {},
   "cell_type": "markdown",
   "metadata": {},
   "source": [
    "## Save PNG Files"
   ]
  },
  {
   "cell_type": "code",
   "execution_count": 2,
   "metadata": {},
   "outputs": [],
   "source": [
    "# save PNG file \n",
    "# for i in range(149):\n",
    "#     plt.figure(figsize=(12,5))\n",
    "#     plt.plot(dat.iloc[0:(i+1),:], label=dat.columns)\n",
    "#     plt.xlim([0,150])\n",
    "#     # plt.legend()\n",
    "#     plt.savefig('C:\\\\Users\\\\bbjjh\\\\Desktop\\\\python\\\\test_image\\\\'+str(i)+'.png')\n",
    "#     plt.show()"
   ]
  },
  {
   "attachments": {},
   "cell_type": "markdown",
   "metadata": {},
   "source": [
    "## Convert PNG to GIF"
   ]
  },
  {
   "cell_type": "code",
   "execution_count": 25,
   "metadata": {},
   "outputs": [],
   "source": [
    "import os\n",
    "import glob\n",
    "from PIL import Image, ImageSequence\n",
    "\n",
    "def convertGIF(png_dir, gif_file, duration=500,remove=True):\n",
    "    # duration: 프레임 전환 속도 (500 = 0.5초)\n",
    "\n",
    "    png_list = sorted(glob.glob(png_dir+\"**/*.PNG\", recursive=True), key=os.path.getmtime)\n",
    "     \n",
    "    # Create an empty list to store the frames of the GIF\n",
    "    gif_frames = []\n",
    "\n",
    "    # Iterate over all PNG files in the directory\n",
    "    for filename in png_list:\n",
    "        if filename.endswith(\".png\"):\n",
    "            # Open the PNG image using Pillow\n",
    "            png_image = Image.open(os.path.join(png_dir, filename))\n",
    "\n",
    "            # Convert the PNG to a GIF by extracting each frame and appending to the list of frames\n",
    "            for frame in ImageSequence.Iterator(png_image):\n",
    "                gif_frames.append(frame.convert(\"P\"))\n",
    "\n",
    "    # Save the frames as a new animated GIF\n",
    "    gif_frames[0].save(gif_file, format=\"GIF\", append_images=gif_frames[1:], save_all=True, duration=duration, loop=0)\n",
    "\n",
    "    if remove==True:\n",
    "        [os.remove(f) for f in glob.glob(png_dir+'*.png')]"
   ]
  },
  {
   "cell_type": "code",
   "execution_count": 29,
   "metadata": {},
   "outputs": [],
   "source": [
    "# Set the path to the directory containing the PNG files\n",
    "png_dir = \"C:\\\\Users\\\\bbjjh\\\\Desktop\\\\python\\\\test_image\\\\\"\n",
    "\n",
    "# Set the path and filename for the output GIF file\n",
    "gif_file = png_dir+\"output.gif\" # output GIF file\n",
    "\n",
    "# Convert PNG to GIF\n",
    "convertGIF(png_dir, gif_file, duration=100, remove=True)"
   ]
  }
 ],
 "metadata": {
  "kernelspec": {
   "display_name": "base",
   "language": "python",
   "name": "python3"
  },
  "language_info": {
   "codemirror_mode": {
    "name": "ipython",
    "version": 3
   },
   "file_extension": ".py",
   "mimetype": "text/x-python",
   "name": "python",
   "nbconvert_exporter": "python",
   "pygments_lexer": "ipython3",
   "version": "3.9.12"
  },
  "orig_nbformat": 4
 },
 "nbformat": 4,
 "nbformat_minor": 2
}
