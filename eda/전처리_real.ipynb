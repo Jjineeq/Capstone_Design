{
 "cells": [
  {
   "cell_type": "code",
   "execution_count": 7,
   "metadata": {},
   "outputs": [],
   "source": [
    "import os\n",
    "import numpy as np\n",
    "import pandas as pd\n",
    "import matplotlib.pyplot as plt\n",
    "import glob\n",
    "import warnings\n",
    "warnings.filterwarnings('ignore')"
   ]
  },
  {
   "cell_type": "code",
   "execution_count": 3,
   "metadata": {},
   "outputs": [],
   "source": [
    "os.chdir('C:/Users/user/github/Data/capstone/')\n",
    "file_list = glob.glob(\"**/*.csv\", recursive=True)"
   ]
  },
  {
   "cell_type": "code",
   "execution_count": 8,
   "metadata": {},
   "outputs": [
    {
     "data": {
      "text/plain": [
       "['total_2021.csv', 'total_2022.csv', 'total_eda_real.csv', '서부발전_태양광발전소.csv']"
      ]
     },
     "execution_count": 8,
     "metadata": {},
     "output_type": "execute_result"
    }
   ],
   "source": [
    "file_list"
   ]
  },
  {
   "cell_type": "code",
   "execution_count": 9,
   "metadata": {},
   "outputs": [],
   "source": [
    "df = pd.read_csv(file_list[0], encoding='cp949')"
   ]
  },
  {
   "cell_type": "code",
   "execution_count": 10,
   "metadata": {},
   "outputs": [],
   "source": [
    "df_2 = pd.read_csv(file_list[1], encoding='cp949')"
   ]
  },
  {
   "cell_type": "code",
   "execution_count": 11,
   "metadata": {},
   "outputs": [],
   "source": [
    "total_df = pd.concat([df,df_2])"
   ]
  },
  {
   "cell_type": "code",
   "execution_count": 12,
   "metadata": {},
   "outputs": [],
   "source": [
    "total_df = total_df.sort_values('지점')"
   ]
  },
  {
   "cell_type": "code",
   "execution_count": 13,
   "metadata": {},
   "outputs": [],
   "source": [
    "col = ['지점', '지점명', '일시', '기온', '기온 QC플래그', '강수량', '강수량 QC플래그',\n",
    "       '풍속', '풍속 QC플래그', '풍향', '풍향 QC플래그', '습도', '습도 QC플래그',\n",
    "       '증기압', '이슬점온도', '현지기압', '현지기압 QC플래그', '해면기압',\n",
    "       '해면기압 QC플래그', '일조', '일조 QC플래그', '일사', '일사 QC플래그', '적설',\n",
    "       '3시간신적설', '전운량', '중하층운량', '운형', '최저운고',\n",
    "       '시정', '지면상태', '현상번호', '지면온도', '지면온도 QC플래그',\n",
    "       '5cm 지중온도', '10cm 지중온도', '20cm 지중온도', '30cm 지중온도']"
   ]
  },
  {
   "cell_type": "code",
   "execution_count": 14,
   "metadata": {},
   "outputs": [],
   "source": [
    "total_df.columns = col"
   ]
  },
  {
   "cell_type": "code",
   "execution_count": 15,
   "metadata": {},
   "outputs": [],
   "source": [
    "df_eda = total_df[['지점','지점명','일시','기온','풍속','풍향','습도','강수량']].fillna(0)"
   ]
  },
  {
   "cell_type": "markdown",
   "metadata": {},
   "source": [
    "df_eda.to_csv(\"C:/Users/user/github/Data/capstone/total_eda_real.csv\", index=False, encoding='utf-8-sig')"
   ]
  },
  {
   "cell_type": "code",
   "execution_count": 20,
   "metadata": {},
   "outputs": [
    {
     "data": {
      "text/plain": [
       "array([ 90,  93,  95,  98,  99, 100, 101, 102, 104, 105, 106, 108, 112,\n",
       "       114, 115, 119, 121, 127, 129, 130, 131, 133, 135, 136, 137, 138,\n",
       "       140, 143, 146, 152, 155, 156, 159, 162, 165, 168, 169, 170, 172,\n",
       "       174, 177, 184, 185, 188, 189, 192, 201, 202, 203, 211, 212, 216,\n",
       "       217, 221, 226, 232, 235, 236, 238, 239, 243, 244, 245, 247, 248,\n",
       "       251, 252, 253, 254, 255, 257, 258, 259, 260, 261, 262, 263, 264,\n",
       "       266, 268, 271, 272, 273, 276, 277, 278, 279, 281, 283, 284, 285,\n",
       "       288, 289, 294, 295], dtype=int64)"
      ]
     },
     "execution_count": 20,
     "metadata": {},
     "output_type": "execute_result"
    }
   ],
   "source": [
    "df_eda['지점'].unique()"
   ]
  },
  {
   "cell_type": "code",
   "execution_count": 21,
   "metadata": {},
   "outputs": [
    {
     "data": {
      "text/plain": [
       "90     17496\n",
       "243    17496\n",
       "255    17496\n",
       "254    17496\n",
       "253    17496\n",
       "       ...  \n",
       "152    17496\n",
       "146    17496\n",
       "143    17496\n",
       "140    17496\n",
       "295    17496\n",
       "Name: 지점, Length: 95, dtype: int64"
      ]
     },
     "execution_count": 21,
     "metadata": {},
     "output_type": "execute_result"
    }
   ],
   "source": [
    "df_eda['지점'].value_counts()"
   ]
  },
  {
   "cell_type": "code",
   "execution_count": 25,
   "metadata": {},
   "outputs": [],
   "source": [
    "meta = pd.read_csv('C:/Users/user/Downloads/META_관측지점정보_20230309163204.csv', encoding='cp949')"
   ]
  },
  {
   "cell_type": "code",
   "execution_count": 29,
   "metadata": {},
   "outputs": [],
   "source": [
    "meta = meta.drop_duplicates('지점')"
   ]
  },
  {
   "cell_type": "code",
   "execution_count": 33,
   "metadata": {},
   "outputs": [],
   "source": [
    "meta = meta[['지점','위도','경도']]"
   ]
  },
  {
   "cell_type": "code",
   "execution_count": 40,
   "metadata": {},
   "outputs": [
    {
     "data": {
      "text/html": [
       "<div>\n",
       "<style scoped>\n",
       "    .dataframe tbody tr th:only-of-type {\n",
       "        vertical-align: middle;\n",
       "    }\n",
       "\n",
       "    .dataframe tbody tr th {\n",
       "        vertical-align: top;\n",
       "    }\n",
       "\n",
       "    .dataframe thead th {\n",
       "        text-align: right;\n",
       "    }\n",
       "</style>\n",
       "<table border=\"1\" class=\"dataframe\">\n",
       "  <thead>\n",
       "    <tr style=\"text-align: right;\">\n",
       "      <th></th>\n",
       "      <th>지점</th>\n",
       "      <th>지점명</th>\n",
       "      <th>일시</th>\n",
       "      <th>기온</th>\n",
       "      <th>풍속</th>\n",
       "      <th>풍향</th>\n",
       "      <th>습도</th>\n",
       "      <th>강수량</th>\n",
       "    </tr>\n",
       "  </thead>\n",
       "  <tbody>\n",
       "    <tr>\n",
       "      <th>0</th>\n",
       "      <td>90</td>\n",
       "      <td>속초</td>\n",
       "      <td>2021-01-01 00:00</td>\n",
       "      <td>-6.3</td>\n",
       "      <td>2.6</td>\n",
       "      <td>290.0</td>\n",
       "      <td>30.0</td>\n",
       "      <td>0.0</td>\n",
       "    </tr>\n",
       "    <tr>\n",
       "      <th>2894</th>\n",
       "      <td>90</td>\n",
       "      <td>속초</td>\n",
       "      <td>2022-05-01 15:00</td>\n",
       "      <td>20.7</td>\n",
       "      <td>2.5</td>\n",
       "      <td>270.0</td>\n",
       "      <td>19.0</td>\n",
       "      <td>0.0</td>\n",
       "    </tr>\n",
       "    <tr>\n",
       "      <th>2895</th>\n",
       "      <td>90</td>\n",
       "      <td>속초</td>\n",
       "      <td>2022-05-01 16:00</td>\n",
       "      <td>16.0</td>\n",
       "      <td>4.9</td>\n",
       "      <td>340.0</td>\n",
       "      <td>39.0</td>\n",
       "      <td>0.0</td>\n",
       "    </tr>\n",
       "    <tr>\n",
       "      <th>2896</th>\n",
       "      <td>90</td>\n",
       "      <td>속초</td>\n",
       "      <td>2022-05-01 17:00</td>\n",
       "      <td>13.7</td>\n",
       "      <td>3.5</td>\n",
       "      <td>70.0</td>\n",
       "      <td>54.0</td>\n",
       "      <td>0.0</td>\n",
       "    </tr>\n",
       "    <tr>\n",
       "      <th>2897</th>\n",
       "      <td>90</td>\n",
       "      <td>속초</td>\n",
       "      <td>2022-05-01 18:00</td>\n",
       "      <td>13.8</td>\n",
       "      <td>5.6</td>\n",
       "      <td>360.0</td>\n",
       "      <td>54.0</td>\n",
       "      <td>0.0</td>\n",
       "    </tr>\n",
       "    <tr>\n",
       "      <th>...</th>\n",
       "      <td>...</td>\n",
       "      <td>...</td>\n",
       "      <td>...</td>\n",
       "      <td>...</td>\n",
       "      <td>...</td>\n",
       "      <td>...</td>\n",
       "      <td>...</td>\n",
       "      <td>...</td>\n",
       "    </tr>\n",
       "    <tr>\n",
       "      <th>829277</th>\n",
       "      <td>295</td>\n",
       "      <td>남해</td>\n",
       "      <td>2021-09-01 05:00</td>\n",
       "      <td>25.6</td>\n",
       "      <td>1.1</td>\n",
       "      <td>230.0</td>\n",
       "      <td>81.0</td>\n",
       "      <td>0.0</td>\n",
       "    </tr>\n",
       "    <tr>\n",
       "      <th>829276</th>\n",
       "      <td>295</td>\n",
       "      <td>남해</td>\n",
       "      <td>2021-09-01 04:00</td>\n",
       "      <td>26.4</td>\n",
       "      <td>1.8</td>\n",
       "      <td>250.0</td>\n",
       "      <td>80.0</td>\n",
       "      <td>0.0</td>\n",
       "    </tr>\n",
       "    <tr>\n",
       "      <th>829275</th>\n",
       "      <td>295</td>\n",
       "      <td>남해</td>\n",
       "      <td>2021-09-01 03:00</td>\n",
       "      <td>25.7</td>\n",
       "      <td>0.6</td>\n",
       "      <td>200.0</td>\n",
       "      <td>85.0</td>\n",
       "      <td>0.0</td>\n",
       "    </tr>\n",
       "    <tr>\n",
       "      <th>829281</th>\n",
       "      <td>295</td>\n",
       "      <td>남해</td>\n",
       "      <td>2021-09-01 09:00</td>\n",
       "      <td>26.9</td>\n",
       "      <td>2.7</td>\n",
       "      <td>200.0</td>\n",
       "      <td>80.0</td>\n",
       "      <td>0.0</td>\n",
       "    </tr>\n",
       "    <tr>\n",
       "      <th>829919</th>\n",
       "      <td>295</td>\n",
       "      <td>남해</td>\n",
       "      <td>2022-12-31 00:00</td>\n",
       "      <td>0.4</td>\n",
       "      <td>1.1</td>\n",
       "      <td>250.0</td>\n",
       "      <td>66.0</td>\n",
       "      <td>0.0</td>\n",
       "    </tr>\n",
       "  </tbody>\n",
       "</table>\n",
       "<p>1662120 rows × 8 columns</p>\n",
       "</div>"
      ],
      "text/plain": [
       "         지점 지점명                일시    기온   풍속     풍향    습도  강수량\n",
       "0        90  속초  2021-01-01 00:00  -6.3  2.6  290.0  30.0  0.0\n",
       "2894     90  속초  2022-05-01 15:00  20.7  2.5  270.0  19.0  0.0\n",
       "2895     90  속초  2022-05-01 16:00  16.0  4.9  340.0  39.0  0.0\n",
       "2896     90  속초  2022-05-01 17:00  13.7  3.5   70.0  54.0  0.0\n",
       "2897     90  속초  2022-05-01 18:00  13.8  5.6  360.0  54.0  0.0\n",
       "...     ...  ..               ...   ...  ...    ...   ...  ...\n",
       "829277  295  남해  2021-09-01 05:00  25.6  1.1  230.0  81.0  0.0\n",
       "829276  295  남해  2021-09-01 04:00  26.4  1.8  250.0  80.0  0.0\n",
       "829275  295  남해  2021-09-01 03:00  25.7  0.6  200.0  85.0  0.0\n",
       "829281  295  남해  2021-09-01 09:00  26.9  2.7  200.0  80.0  0.0\n",
       "829919  295  남해  2022-12-31 00:00   0.4  1.1  250.0  66.0  0.0\n",
       "\n",
       "[1662120 rows x 8 columns]"
      ]
     },
     "execution_count": 40,
     "metadata": {},
     "output_type": "execute_result"
    }
   ],
   "source": [
    "df_eda"
   ]
  },
  {
   "cell_type": "code",
   "execution_count": 46,
   "metadata": {},
   "outputs": [],
   "source": [
    "rrr = pd.merge(meta,df_eda, left_on = ['지점'], right_on=['지점'])"
   ]
  },
  {
   "cell_type": "code",
   "execution_count": 54,
   "metadata": {},
   "outputs": [],
   "source": [
    "rrr = rrr.sort_values(['지점','일시'])"
   ]
  },
  {
   "cell_type": "markdown",
   "metadata": {},
   "source": [
    "rrr.to_csv('C:/Users/user/github/Data/capstone/total_eda_real.csv', encoding='utf-8-sig', index=False)"
   ]
  }
 ],
 "metadata": {
  "kernelspec": {
   "display_name": "Python 3",
   "language": "python",
   "name": "python3"
  },
  "language_info": {
   "codemirror_mode": {
    "name": "ipython",
    "version": 3
   },
   "file_extension": ".py",
   "mimetype": "text/x-python",
   "name": "python",
   "nbconvert_exporter": "python",
   "pygments_lexer": "ipython3",
   "version": "3.11.1"
  },
  "orig_nbformat": 4
 },
 "nbformat": 4,
 "nbformat_minor": 2
}
