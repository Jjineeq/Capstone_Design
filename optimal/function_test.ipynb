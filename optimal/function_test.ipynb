{
 "cells": [
  {
   "cell_type": "code",
   "execution_count": 1,
   "metadata": {},
   "outputs": [],
   "source": [
    "import pandas as pd\n",
    "import numpy as np\n",
    "import matplotlib.pyplot as plt\n",
    "import warnings\n",
    "warnings.filterwarnings('ignore')\n",
    "import seaborn as sns\n",
    "import matplotlib\n",
    "matplotlib.rcParams['font.family'] ='Malgun Gothic'\n",
    "matplotlib.rcParams['axes.unicode_minus'] =False\n",
    "from tqdm import tqdm"
   ]
  },
  {
   "cell_type": "code",
   "execution_count": 2,
   "metadata": {},
   "outputs": [],
   "source": [
    "energy = pd.read_csv('C:/Users/user/github/Data/energy/train.csv', encoding='cp949')\n",
    "solar = pd.read_csv('C:\\\\Users\\\\user\\\\github\\\\Data\\\\capstone\\\\weather/solar_power_2204.csv')\n"
   ]
  },
  {
   "cell_type": "code",
   "execution_count": 3,
   "metadata": {},
   "outputs": [],
   "source": [
    "solar['datetime'] = pd.to_datetime(solar['datetime'])\n",
    "solar.target.replace(65535.0, solar.target.mean(), inplace=True)\n",
    "solar['month'] = solar.datetime.dt.month\n",
    "solar['hour'] = solar.datetime.dt.hour\n",
    "solar['year'] = solar.datetime.dt.year\n",
    "solar['day'] = solar.datetime.dt.day\n",
    "\n",
    "solar_eda = solar.groupby(['year','month','day','hour']).mean().reset_index()\n",
    "solar_eda[['year','month','day','hour']] = solar_eda[['year','month','day','hour']].astype('str')\n",
    "solar_eda['date'] = (solar_eda.year + '-' + solar_eda.month + '-' + solar_eda.day + ' ' + solar_eda.hour + ':00')\n",
    "solar_eda.date = pd.to_datetime(solar_eda.date)"
   ]
  },
  {
   "cell_type": "code",
   "execution_count": 4,
   "metadata": {},
   "outputs": [],
   "source": [
    "solar_eda = solar_eda.set_index('date')\n",
    "solar_eda = solar_eda.fillna(0)"
   ]
  },
  {
   "cell_type": "code",
   "execution_count": 5,
   "metadata": {},
   "outputs": [],
   "source": [
    "ee = solar.groupby(['hour']).mean().target\n",
    "ee[:7] = 0\n",
    "ee[20:] = 0\n",
    "ee = ee * 2.5"
   ]
  },
  {
   "cell_type": "code",
   "execution_count": 6,
   "metadata": {},
   "outputs": [],
   "source": [
    "df = pd.read_csv('C:/Users/user/github/Data/energy/train.csv', encoding='cp949')\n",
    "df.date_time = pd.to_datetime(df.date_time)"
   ]
  },
  {
   "cell_type": "code",
   "execution_count": 7,
   "metadata": {},
   "outputs": [],
   "source": [
    "eda_df = df.copy()\n",
    "\n",
    "eda_df['month'] = 0\n",
    "eda_df['hour'] = 0\n",
    "eda_df['year'] = 0\n",
    "eda_df['day'] = 0\n",
    "eda_df['요일'] = 0"
   ]
  },
  {
   "cell_type": "code",
   "execution_count": 8,
   "metadata": {},
   "outputs": [],
   "source": [
    "days = {0: '월요일', 1: '화요일', 2: '수요일', 3: '목요일', 4: '금요일', 5: '토요일', 6: '일요일'}"
   ]
  },
  {
   "cell_type": "code",
   "execution_count": 9,
   "metadata": {},
   "outputs": [],
   "source": [
    "eda_df['month'] = eda_df.date_time.dt.month\n",
    "eda_df['hour'] = eda_df.date_time.dt.hour\n",
    "eda_df['year'] = eda_df.date_time.dt.year\n",
    "eda_df['day'] = eda_df.date_time.dt.day\n",
    "eda_df['요일'] = eda_df['date_time'].dt.weekday.map(days)"
   ]
  },
  {
   "cell_type": "code",
   "execution_count": 10,
   "metadata": {},
   "outputs": [],
   "source": [
    "qq = eda_df[eda_df['태양광보유'] == 0].groupby(['hour']).mean()['전력사용량(kWh)']"
   ]
  },
  {
   "cell_type": "code",
   "execution_count": 11,
   "metadata": {},
   "outputs": [],
   "source": [
    "import sys"
   ]
  },
  {
   "cell_type": "code",
   "execution_count": 12,
   "metadata": {},
   "outputs": [],
   "source": [
    "sys.path.append('C:/Users/user/github/Capstone_Design/email/')"
   ]
  },
  {
   "cell_type": "code",
   "execution_count": 13,
   "metadata": {},
   "outputs": [],
   "source": [
    "from all_function import *"
   ]
  },
  {
   "cell_type": "code",
   "execution_count": 14,
   "metadata": {},
   "outputs": [
    {
     "name": "stdout",
     "output_type": "stream",
     "text": [
      "Best position: [0, 0, 0, 0, 0, 0, 0, 0, 0, 0, 0, 0, 0, 0, 1092.6810068813438, 2536.093144495332, 0, 2439.1406753203414, 2287.5149225387095, 0, 0, 39.37511872969598, 0, 0]\n",
      "Best fitness: 4379705.714718017\n"
     ]
    }
   ],
   "source": [
    "best_position, best_fitness, befor_price = cal_price(ee, qq, \"spring\")"
   ]
  },
  {
   "cell_type": "code",
   "execution_count": 15,
   "metadata": {},
   "outputs": [],
   "source": [
    "weather_list = ['spring', 'summer', 'fall', 'winter']\n",
    "best_position_list = []\n",
    "best_fitness_list = []\n",
    "before_price_list = []\n"
   ]
  },
  {
   "cell_type": "code",
   "execution_count": 16,
   "metadata": {},
   "outputs": [
    {
     "name": "stdout",
     "output_type": "stream",
     "text": [
      "Best position: [0, 0, 0, 0, 0, 0, 0, 0, 0, 0, 0, 2525.4701233033015, 0, 2533.7489115166604, 0, 0, 2521.542452188425, 692.1492949223039, 0, 0, 121.89379785290396, 0, 0, 0]\n",
      "Best fitness: 4382239.077936191\n",
      "Best position: [0, 0, 0, 0, 0, 0, 0, 0, 0, 0, 0, 0, 0, 0, 2540.8695911349905, 2536.093144495332, 0, 2439.1406753203414, 839.3275458768262, 0, 0, 0, 0, 39.37379107703606]\n",
      "Best fitness: 5594995.473849947\n",
      "Best position: [0, 0, 0, 0, 0, 0, 0, 0, 0, 0, 0, 1092.6822244096734, 0, 0, 0, 2536.093144495332, 0, 2439.1406753203414, 2287.5149225387095, 0, 0, 0, 0, 0]\n",
      "Best fitness: 4383930.496938803\n",
      "Best position: [0, 0, 0, 0, 0, 0, 0, 0, 0, 0, 1401.1383872777028, 0, 0, 0, 0, 0, 2521.542452188425, 0, 2287.5149225387095, 2184.609138687666, 0, 0, 0, 0]\n",
      "Best fitness: 5460656.895683367\n"
     ]
    }
   ],
   "source": [
    "for i in weather_list:\n",
    "    best_position, best_fitness, before_price = cal_price(ee, qq, i)\n",
    "    best_position_list.append(best_position)\n",
    "    best_fitness_list.append(best_fitness)\n",
    "    before_price_list.append(before_price)\n",
    "    "
   ]
  },
  {
   "cell_type": "code",
   "execution_count": 17,
   "metadata": {},
   "outputs": [
    {
     "data": {
      "text/plain": [
       "[5536979.970352245, 7434858.095643961, 5536979.970352245, 7101001.773278682]"
      ]
     },
     "execution_count": 17,
     "metadata": {},
     "output_type": "execute_result"
    }
   ],
   "source": [
    "before_price_list"
   ]
  },
  {
   "cell_type": "code",
   "execution_count": 18,
   "metadata": {},
   "outputs": [
    {
     "data": {
      "text/plain": [
       "array([1154740.89241605, 1839862.62179401, 1153049.47341344,\n",
       "       1640344.87759531])"
      ]
     },
     "execution_count": 18,
     "metadata": {},
     "output_type": "execute_result"
    }
   ],
   "source": [
    "np.array(before_price_list) - np.array(best_fitness_list) "
   ]
  },
  {
   "cell_type": "code",
   "execution_count": 19,
   "metadata": {},
   "outputs": [
    {
     "data": {
      "text/plain": [
       "array([20.85506718, 24.74643898, 20.8245195 , 23.10018966])"
      ]
     },
     "execution_count": 19,
     "metadata": {},
     "output_type": "execute_result"
    }
   ],
   "source": [
    "(np.array(before_price_list) - np.array(best_fitness_list)) / np.array(before_price_list) * 100"
   ]
  },
  {
   "cell_type": "code",
   "execution_count": null,
   "metadata": {},
   "outputs": [],
   "source": []
  }
 ],
 "metadata": {
  "kernelspec": {
   "display_name": "Python 3",
   "language": "python",
   "name": "python3"
  },
  "language_info": {
   "codemirror_mode": {
    "name": "ipython",
    "version": 3
   },
   "file_extension": ".py",
   "mimetype": "text/x-python",
   "name": "python",
   "nbconvert_exporter": "python",
   "pygments_lexer": "ipython3",
   "version": "3.11.4"
  },
  "orig_nbformat": 4
 },
 "nbformat": 4,
 "nbformat_minor": 2
}
