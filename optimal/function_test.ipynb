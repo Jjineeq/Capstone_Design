{
 "cells": [
  {
   "cell_type": "code",
   "execution_count": 3,
   "metadata": {},
   "outputs": [],
   "source": [
    "import pandas as pd\n",
    "import numpy as np\n",
    "import matplotlib.pyplot as plt\n",
    "import warnings\n",
    "warnings.filterwarnings('ignore')\n",
    "import seaborn as sns\n",
    "import matplotlib\n",
    "matplotlib.rcParams['font.family'] ='Malgun Gothic'\n",
    "matplotlib.rcParams['axes.unicode_minus'] =False\n",
    "from tqdm import tqdm"
   ]
  },
  {
   "cell_type": "code",
   "execution_count": 4,
   "metadata": {},
   "outputs": [],
   "source": [
    "energy = pd.read_csv('C:/Users/user/github/Data/energy/train.csv', encoding='cp949')\n",
    "solar = pd.read_csv('C:\\\\Users\\\\user\\\\github\\\\Data\\\\capstone\\\\weather/solar_power_2204.csv')\n"
   ]
  },
  {
   "cell_type": "code",
   "execution_count": 5,
   "metadata": {},
   "outputs": [],
   "source": [
    "solar['datetime'] = pd.to_datetime(solar['datetime'])\n",
    "solar.target.replace(65535.0, solar.target.mean(), inplace=True)\n",
    "solar['month'] = solar.datetime.dt.month\n",
    "solar['hour'] = solar.datetime.dt.hour\n",
    "solar['year'] = solar.datetime.dt.year\n",
    "solar['day'] = solar.datetime.dt.day\n",
    "\n",
    "solar_eda = solar.groupby(['year','month','day','hour']).mean().reset_index()\n",
    "solar_eda[['year','month','day','hour']] = solar_eda[['year','month','day','hour']].astype('str')\n",
    "solar_eda['date'] = (solar_eda.year + '-' + solar_eda.month + '-' + solar_eda.day + ' ' + solar_eda.hour + ':00')\n",
    "solar_eda.date = pd.to_datetime(solar_eda.date)"
   ]
  },
  {
   "cell_type": "code",
   "execution_count": 6,
   "metadata": {},
   "outputs": [],
   "source": [
    "solar_eda = solar_eda.set_index('date')\n",
    "solar_eda = solar_eda.fillna(0)"
   ]
  },
  {
   "cell_type": "code",
   "execution_count": 7,
   "metadata": {},
   "outputs": [],
   "source": [
    "ee = solar.groupby(['hour']).mean().target\n",
    "ee[:7] = 0\n",
    "ee[20:] = 0\n",
    "ee = ee * 2.5"
   ]
  },
  {
   "cell_type": "code",
   "execution_count": 8,
   "metadata": {},
   "outputs": [],
   "source": [
    "df = pd.read_csv('C:/Users/user/github/Data/energy/train.csv', encoding='cp949')\n",
    "df.date_time = pd.to_datetime(df.date_time)"
   ]
  },
  {
   "cell_type": "code",
   "execution_count": 9,
   "metadata": {},
   "outputs": [],
   "source": [
    "eda_df = df.copy()\n",
    "\n",
    "eda_df['month'] = 0\n",
    "eda_df['hour'] = 0\n",
    "eda_df['year'] = 0\n",
    "eda_df['day'] = 0\n",
    "eda_df['요일'] = 0"
   ]
  },
  {
   "cell_type": "code",
   "execution_count": 10,
   "metadata": {},
   "outputs": [],
   "source": [
    "days = {0: '월요일', 1: '화요일', 2: '수요일', 3: '목요일', 4: '금요일', 5: '토요일', 6: '일요일'}"
   ]
  },
  {
   "cell_type": "code",
   "execution_count": 11,
   "metadata": {},
   "outputs": [],
   "source": [
    "eda_df['month'] = eda_df.date_time.dt.month\n",
    "eda_df['hour'] = eda_df.date_time.dt.hour\n",
    "eda_df['year'] = eda_df.date_time.dt.year\n",
    "eda_df['day'] = eda_df.date_time.dt.day\n",
    "eda_df['요일'] = eda_df['date_time'].dt.weekday.map(days)"
   ]
  },
  {
   "cell_type": "code",
   "execution_count": 12,
   "metadata": {},
   "outputs": [],
   "source": [
    "qq = eda_df[eda_df['태양광보유'] == 0].groupby(['hour']).mean()['전력사용량(kWh)']"
   ]
  },
  {
   "cell_type": "code",
   "execution_count": 13,
   "metadata": {},
   "outputs": [],
   "source": [
    "import sys"
   ]
  },
  {
   "cell_type": "code",
   "execution_count": 14,
   "metadata": {},
   "outputs": [],
   "source": [
    "sys.path.append('C:/Users/user/github/Capstone_Design/email/')"
   ]
  },
  {
   "cell_type": "code",
   "execution_count": 15,
   "metadata": {},
   "outputs": [],
   "source": [
    "from all_function import *"
   ]
  },
  {
   "cell_type": "code",
   "execution_count": 16,
   "metadata": {},
   "outputs": [
    {
     "name": "stdout",
     "output_type": "stream",
     "text": [
      "Best position: [0, 0, 0, 0, 0, 0, 0, 0, 0, 0, 0, 0, 0, 0, 2540.8695911349905, 1087.9053135430943, 0, 2439.1406753203414, 2287.5149225387095, 0, 0, 39.373252151667586, 0, 0]\n",
      "Best fitness: 4379705.811046245\n"
     ]
    }
   ],
   "source": [
    "best_position, best_fitness, befor_price = cal_price(ee, qq, \"spring\")"
   ]
  },
  {
   "cell_type": "code",
   "execution_count": 18,
   "metadata": {},
   "outputs": [
    {
     "name": "stdout",
     "output_type": "stream",
     "text": [
      "Best position: [0, 0, 0, 0, 0, 0, 0, 0, 0, 0, 0, 0, 0, 2533.7489115166604, 2540.8695911349905, 443.7074341107456, 2521.542452188425, 0, 0, 0, 0, 354.9364956049793, 0, 0]\n",
      "Best fitness: 4389393.446698615\n",
      "Best position: [0, 0, 0, 0, 0, 0, 0, 0, 0, 0, 666.673301654743, 2525.4701233033015, 0, 0, 0, 0, 2521.542452188425, 0, 0, 0, 0, 0, 1788.6363203335484, 0]\n",
      "Best fitness: 6082047.457948736\n",
      "Best position: [0, 0, 0, 0, 0, 0, 0, 0, 0, 0, 0, 0, 0, 2533.7489115166604, 2540.8695911349905, 993.2969642275539, 0, 0, 2287.5149225387095, 39.37450314311881, 0, 0, 0, 0]\n",
      "Best fitness: 4379705.692425314\n",
      "Best position: [0, 0, 0, 0, 0, 0, 0, 0, 0, 0, 0, 2525.4701233033015, 0, 0, 0, 0, 2521.542452188425, 2439.1406753203414, 0, 908.6516498984914, 0, 0, 0, 0]\n",
      "Best fitness: 5460656.895679838\n",
      "Best position: [0, 0, 0, 0, 0, 0, 0, 0, 462.68191240991183, 0, 0, 2525.4701233033015, 0, 0, 0, 0, 0, 0, 2287.5149225387095, 0, 0, 1904.3532678381785, 1214.7846608788973, 0]\n",
      "Best fitness: 4515791.419942895\n",
      "Best position: [0, 0, 0, 0, 0, 0, 0, 0, 0, 0, 0, 0, 0, 0, 1521.9619330327553, 0, 2521.542452188425, 0, 2287.5149225387095, 0, 2063.7855929448956, 0, 0, 0]\n",
      "Best fitness: 5759116.775649825\n",
      "Best position: [0, 0, 0, 0, 0, 0, 0, 0, 0, 0, 0, 2525.4701233033015, 0, 1003.8352347461389, 2540.8695911349905, 0, 0, 0, 2285.2274804973977, 0, 0, 39.400494796821356, 0, 0]\n",
      "Best fitness: 4379706.761964452\n",
      "Best position: [0, 0, 0, 0, 0, 0, 0, 0, 0, 0, 0, 2525.4701233033015, 0, 0, 0, 0, 2521.542452188425, 2439.1406753203414, 0, 0, 908.6516498506855, 0, 0, 0]\n",
      "Best fitness: 5512904.365555594\n",
      "Best position: [0, 0, 0, 0, 0, 0, 0, 0, 0, 0, 0, 0, 1413.488897239446, 0, 2540.8695911349905, 2536.093144495332, 0, 0, 0, 0, 0, 1904.3532678381785, 0, 0]\n",
      "Best fitness: 4480354.648522429\n",
      "Best position: [0, 0, 0, 0, 0, 0, 0, 0, 0, 0, 0, 0, 0, 1087.9056747856348, 2540.8695911349905, 0, 0, 2439.1406753203414, 2287.5149225387095, 0, 39.37386507505052, 0, 0, 0]\n",
      "Best fitness: 5592912.610564353\n",
      "Best position: [0, 0, 0, 0, 0, 0, 0, 0, 0, 0, 0, 2525.4701233033015, 0, 2533.7489115166604, 0, 1717.377679079436, 0, 1220.1218216152351, 358.3789910079564, 39.42894909229378, 0, 0, 0, 0]\n",
      "Best fitness: 4379745.785454523\n",
      "Best position: [0, 0, 0, 0, 0, 0, 0, 0, 0, 1112.15028713189, 0, 0, 0, 0, 0, 0, 2521.542452188425, 2439.1406753203414, 0, 2184.609138687666, 0, 137.3620779084902, 0, 0]\n",
      "Best fitness: 5468555.267814746\n",
      "Best position: [0, 0, 0, 0, 0, 0, 0, 0, 0, 0, 0, 0, 0, 2533.7489115166604, 0, 2536.093144495332, 2521.542452188425, 0, 0, 0, 803.4203925101474, 0, 0, 0]\n",
      "Best fitness: 4403161.900104247\n",
      "Best position: [0, 0, 0, 0, 0, 0, 0, 0, 0, 0, 0, 0, 0, 0, 0, 2536.093144495332, 1630.934760561344, 2439.1406753203414, 0, 0, 0, 0, 1788.6363203335484, 0]\n",
      "Best fitness: 5831145.881712806\n",
      "Best position: [0, 0, 0, 0, 0, 0, 0, 0, 0, 0, 0, 2525.4701233033015, 0, 0, 0, 0, 2521.542452188425, 0, 2287.5149225387095, 0, 1060.277402676955, 0, 0, 0]\n",
      "Best fitness: 4411047.410316805\n",
      "Best position: [0, 0, 0, 0, 0, 0, 0, 0, 0, 0, 1249.5126345135188, 0, 0, 0, 0, 0, 2521.542452188425, 2439.1406753203414, 0, 2184.609138687666, 0, 0, 0, 0]\n",
      "Best fitness: 5460656.895679957\n",
      "Best position: [0, 0, 0, 0, 0, 0, 0, 0, 0, 0, 0, 2525.4701233033015, 0, 2533.7489115166604, 0, 2467.6982763332203, 0, 0, 0, 0, 867.8875889643756, 0, 0, 0]\n",
      "Best fitness: 4405141.043117227\n",
      "Best position: [0, 0, 0, 0, 0, 0, 0, 0, 0, 0, 666.6733016541742, 2525.4701233033015, 0, 0, 0, 0, 0, 0, 2287.5149225387095, 0, 0, 0, 0, 1780.426211803036]\n",
      "Best fitness: 6134182.92616921\n",
      "Best position: [0, 0, 0, 0, 0, 0, 0, 0, 0, 0, 0, 2525.4701233033015, 0, 2533.7489115166604, 0, 0, 1431.2325980522278, 0, 0, 0, 0, 1904.3532678381785, 0, 0]\n",
      "Best fitness: 4436960.539376844\n",
      "Best position: [0, 0, 0, 0, 0, 0, 0, 0, 0, 666.6722520284925, 0, 2525.4701233033015, 0, 0, 0, 0, 2521.542452188425, 2439.1406753203414, 0, 0, 241.978649204846, 0, 0, 0]\n",
      "Best fitness: 5474570.814298289\n"
     ]
    }
   ],
   "source": [
    "weather_list = ['spring', 'summer', 'fall', 'winter']\n",
    "best_position_list = []\n",
    "best_fitness_list = []\n",
    "before_price_list = []\n",
    "\n",
    "for k in range(5):\n",
    "    for i in weather_list:\n",
    "        best_position, best_fitness, before_price = cal_price(ee, qq, i)\n",
    "        best_position_list.append(best_position)\n",
    "        best_fitness_list.append(best_fitness)\n",
    "        before_price_list.append(before_price)\n",
    "    "
   ]
  },
  {
   "cell_type": "code",
   "execution_count": 19,
   "metadata": {},
   "outputs": [
    {
     "data": {
      "text/plain": [
       "[5536979.970352245,\n",
       " 7434858.095643961,\n",
       " 5536979.970352245,\n",
       " 7101001.773278682,\n",
       " 5536979.970352245,\n",
       " 7434858.095643961,\n",
       " 5536979.970352245,\n",
       " 7101001.773278682,\n",
       " 5536979.970352245,\n",
       " 7434858.095643961,\n",
       " 5536979.970352245,\n",
       " 7101001.773278682,\n",
       " 5536979.970352245,\n",
       " 7434858.095643961,\n",
       " 5536979.970352245,\n",
       " 7101001.773278682,\n",
       " 5536979.970352245,\n",
       " 7434858.095643961,\n",
       " 5536979.970352245,\n",
       " 7101001.773278682]"
      ]
     },
     "execution_count": 19,
     "metadata": {},
     "output_type": "execute_result"
    }
   ],
   "source": [
    "before_price_list"
   ]
  },
  {
   "cell_type": "code",
   "execution_count": 20,
   "metadata": {},
   "outputs": [
    {
     "data": {
      "text/plain": [
       "array([1147586.52365363, 1352810.63769522, 1157274.27792693,\n",
       "       1640344.87759884, 1021188.55040935, 1675741.31999414,\n",
       "       1157273.20838779, 1588097.40772309, 1056625.32182982,\n",
       "       1841945.48507961, 1157234.18489772, 1632446.50546394,\n",
       "       1133818.070248  , 1603712.21393115, 1125932.56003544,\n",
       "       1640344.87759872, 1131838.92723502, 1300675.16947475,\n",
       "       1100019.4309754 , 1626430.95898039])"
      ]
     },
     "execution_count": 20,
     "metadata": {},
     "output_type": "execute_result"
    }
   ],
   "source": [
    "np.array(before_price_list) - np.array(best_fitness_list) "
   ]
  },
  {
   "cell_type": "code",
   "execution_count": 21,
   "metadata": {},
   "outputs": [
    {
     "data": {
      "text/plain": [
       "array([20.72585651, 18.19551389, 20.9008211 , 23.10018966, 18.44306022,\n",
       "       22.53898189, 20.90080178, 22.36441362, 19.08306202, 24.77445381,\n",
       "       20.900097  , 22.98896068, 20.47719292, 21.57017919, 20.33477755,\n",
       "       23.10018966, 20.44144883, 17.49428372, 19.86677642, 22.90424662])"
      ]
     },
     "execution_count": 21,
     "metadata": {},
     "output_type": "execute_result"
    }
   ],
   "source": [
    "(np.array(before_price_list) - np.array(best_fitness_list)) / np.array(before_price_list) * 100"
   ]
  },
  {
   "cell_type": "code",
   "execution_count": 22,
   "metadata": {},
   "outputs": [],
   "source": [
    "spring_index = np.array([0, 4, 8, 12, 16])\n",
    "summer_index = np.array([1, 5, 9, 13, 17])\n",
    "fall_index = np.array([2, 6, 10, 14, 18])\n",
    "winter_index = np.array([3, 7, 11, 15, 19])"
   ]
  },
  {
   "cell_type": "code",
   "execution_count": 23,
   "metadata": {},
   "outputs": [],
   "source": [
    "best_fit_df = pd.DataFrame(best_fitness_list)"
   ]
  },
  {
   "cell_type": "code",
   "execution_count": 24,
   "metadata": {},
   "outputs": [
    {
     "name": "stdout",
     "output_type": "stream",
     "text": [
      "0    4.438768e+06\n",
      "dtype: float64\n",
      "0    5.879881e+06\n",
      "dtype: float64\n",
      "0    4.397433e+06\n",
      "dtype: float64\n",
      "0    5.475469e+06\n",
      "dtype: float64\n"
     ]
    }
   ],
   "source": [
    "print(best_fit_df.loc[spring_index].mean())\n",
    "print(best_fit_df.loc[summer_index].mean())\n",
    "print(best_fit_df.loc[fall_index].mean())\n",
    "print(best_fit_df.loc[winter_index].mean())"
   ]
  },
  {
   "cell_type": "markdown",
   "metadata": {},
   "source": [
    "# 금액대에 따른 최적화 비율 확인"
   ]
  },
  {
   "cell_type": "code",
   "execution_count": 25,
   "metadata": {},
   "outputs": [],
   "source": [
    "real_weather = pd.read_csv('../../Data/capstone/total_eda_real.csv')"
   ]
  },
  {
   "cell_type": "code",
   "execution_count": 26,
   "metadata": {},
   "outputs": [
    {
     "data": {
      "text/html": [
       "<div>\n",
       "<style scoped>\n",
       "    .dataframe tbody tr th:only-of-type {\n",
       "        vertical-align: middle;\n",
       "    }\n",
       "\n",
       "    .dataframe tbody tr th {\n",
       "        vertical-align: top;\n",
       "    }\n",
       "\n",
       "    .dataframe thead th {\n",
       "        text-align: right;\n",
       "    }\n",
       "</style>\n",
       "<table border=\"1\" class=\"dataframe\">\n",
       "  <thead>\n",
       "    <tr style=\"text-align: right;\">\n",
       "      <th></th>\n",
       "      <th>지점</th>\n",
       "      <th>위도</th>\n",
       "      <th>경도</th>\n",
       "      <th>지점명</th>\n",
       "      <th>일시</th>\n",
       "      <th>기온</th>\n",
       "      <th>풍속</th>\n",
       "      <th>풍향</th>\n",
       "      <th>습도</th>\n",
       "      <th>강수량</th>\n",
       "    </tr>\n",
       "  </thead>\n",
       "  <tbody>\n",
       "    <tr>\n",
       "      <th>0</th>\n",
       "      <td>90</td>\n",
       "      <td>38.2509</td>\n",
       "      <td>128.5647</td>\n",
       "      <td>속초</td>\n",
       "      <td>2021-01-01 00:00</td>\n",
       "      <td>-6.3</td>\n",
       "      <td>2.6</td>\n",
       "      <td>290.0</td>\n",
       "      <td>30.0</td>\n",
       "      <td>0.0</td>\n",
       "    </tr>\n",
       "    <tr>\n",
       "      <th>1</th>\n",
       "      <td>90</td>\n",
       "      <td>38.2509</td>\n",
       "      <td>128.5647</td>\n",
       "      <td>속초</td>\n",
       "      <td>2021-01-01 01:00</td>\n",
       "      <td>-6.7</td>\n",
       "      <td>4.3</td>\n",
       "      <td>320.0</td>\n",
       "      <td>30.0</td>\n",
       "      <td>0.0</td>\n",
       "    </tr>\n",
       "    <tr>\n",
       "      <th>2</th>\n",
       "      <td>90</td>\n",
       "      <td>38.2509</td>\n",
       "      <td>128.5647</td>\n",
       "      <td>속초</td>\n",
       "      <td>2021-01-01 02:00</td>\n",
       "      <td>-6.7</td>\n",
       "      <td>2.0</td>\n",
       "      <td>340.0</td>\n",
       "      <td>26.0</td>\n",
       "      <td>0.0</td>\n",
       "    </tr>\n",
       "    <tr>\n",
       "      <th>3</th>\n",
       "      <td>90</td>\n",
       "      <td>38.2509</td>\n",
       "      <td>128.5647</td>\n",
       "      <td>속초</td>\n",
       "      <td>2021-01-01 03:00</td>\n",
       "      <td>-7.2</td>\n",
       "      <td>1.3</td>\n",
       "      <td>320.0</td>\n",
       "      <td>25.0</td>\n",
       "      <td>0.0</td>\n",
       "    </tr>\n",
       "    <tr>\n",
       "      <th>4</th>\n",
       "      <td>90</td>\n",
       "      <td>38.2509</td>\n",
       "      <td>128.5647</td>\n",
       "      <td>속초</td>\n",
       "      <td>2021-01-01 04:00</td>\n",
       "      <td>-7.6</td>\n",
       "      <td>0.8</td>\n",
       "      <td>180.0</td>\n",
       "      <td>25.0</td>\n",
       "      <td>0.0</td>\n",
       "    </tr>\n",
       "    <tr>\n",
       "      <th>...</th>\n",
       "      <td>...</td>\n",
       "      <td>...</td>\n",
       "      <td>...</td>\n",
       "      <td>...</td>\n",
       "      <td>...</td>\n",
       "      <td>...</td>\n",
       "      <td>...</td>\n",
       "      <td>...</td>\n",
       "      <td>...</td>\n",
       "      <td>...</td>\n",
       "    </tr>\n",
       "    <tr>\n",
       "      <th>1662115</th>\n",
       "      <td>295</td>\n",
       "      <td>34.8166</td>\n",
       "      <td>127.9264</td>\n",
       "      <td>남해</td>\n",
       "      <td>2022-12-30 20:00</td>\n",
       "      <td>3.5</td>\n",
       "      <td>1.7</td>\n",
       "      <td>290.0</td>\n",
       "      <td>52.0</td>\n",
       "      <td>0.0</td>\n",
       "    </tr>\n",
       "    <tr>\n",
       "      <th>1662116</th>\n",
       "      <td>295</td>\n",
       "      <td>34.8166</td>\n",
       "      <td>127.9264</td>\n",
       "      <td>남해</td>\n",
       "      <td>2022-12-30 21:00</td>\n",
       "      <td>2.3</td>\n",
       "      <td>1.4</td>\n",
       "      <td>270.0</td>\n",
       "      <td>60.0</td>\n",
       "      <td>0.0</td>\n",
       "    </tr>\n",
       "    <tr>\n",
       "      <th>1662117</th>\n",
       "      <td>295</td>\n",
       "      <td>34.8166</td>\n",
       "      <td>127.9264</td>\n",
       "      <td>남해</td>\n",
       "      <td>2022-12-30 22:00</td>\n",
       "      <td>0.8</td>\n",
       "      <td>1.1</td>\n",
       "      <td>270.0</td>\n",
       "      <td>67.0</td>\n",
       "      <td>0.0</td>\n",
       "    </tr>\n",
       "    <tr>\n",
       "      <th>1662118</th>\n",
       "      <td>295</td>\n",
       "      <td>34.8166</td>\n",
       "      <td>127.9264</td>\n",
       "      <td>남해</td>\n",
       "      <td>2022-12-30 23:00</td>\n",
       "      <td>0.8</td>\n",
       "      <td>0.7</td>\n",
       "      <td>290.0</td>\n",
       "      <td>65.0</td>\n",
       "      <td>0.0</td>\n",
       "    </tr>\n",
       "    <tr>\n",
       "      <th>1662119</th>\n",
       "      <td>295</td>\n",
       "      <td>34.8166</td>\n",
       "      <td>127.9264</td>\n",
       "      <td>남해</td>\n",
       "      <td>2022-12-31 00:00</td>\n",
       "      <td>0.4</td>\n",
       "      <td>1.1</td>\n",
       "      <td>250.0</td>\n",
       "      <td>66.0</td>\n",
       "      <td>0.0</td>\n",
       "    </tr>\n",
       "  </tbody>\n",
       "</table>\n",
       "<p>1662120 rows × 10 columns</p>\n",
       "</div>"
      ],
      "text/plain": [
       "          지점       위도        경도 지점명                일시   기온   풍속     풍향    습도  \\\n",
       "0         90  38.2509  128.5647  속초  2021-01-01 00:00 -6.3  2.6  290.0  30.0   \n",
       "1         90  38.2509  128.5647  속초  2021-01-01 01:00 -6.7  4.3  320.0  30.0   \n",
       "2         90  38.2509  128.5647  속초  2021-01-01 02:00 -6.7  2.0  340.0  26.0   \n",
       "3         90  38.2509  128.5647  속초  2021-01-01 03:00 -7.2  1.3  320.0  25.0   \n",
       "4         90  38.2509  128.5647  속초  2021-01-01 04:00 -7.6  0.8  180.0  25.0   \n",
       "...      ...      ...       ...  ..               ...  ...  ...    ...   ...   \n",
       "1662115  295  34.8166  127.9264  남해  2022-12-30 20:00  3.5  1.7  290.0  52.0   \n",
       "1662116  295  34.8166  127.9264  남해  2022-12-30 21:00  2.3  1.4  270.0  60.0   \n",
       "1662117  295  34.8166  127.9264  남해  2022-12-30 22:00  0.8  1.1  270.0  67.0   \n",
       "1662118  295  34.8166  127.9264  남해  2022-12-30 23:00  0.8  0.7  290.0  65.0   \n",
       "1662119  295  34.8166  127.9264  남해  2022-12-31 00:00  0.4  1.1  250.0  66.0   \n",
       "\n",
       "         강수량  \n",
       "0        0.0  \n",
       "1        0.0  \n",
       "2        0.0  \n",
       "3        0.0  \n",
       "4        0.0  \n",
       "...      ...  \n",
       "1662115  0.0  \n",
       "1662116  0.0  \n",
       "1662117  0.0  \n",
       "1662118  0.0  \n",
       "1662119  0.0  \n",
       "\n",
       "[1662120 rows x 10 columns]"
      ]
     },
     "execution_count": 26,
     "metadata": {},
     "output_type": "execute_result"
    }
   ],
   "source": [
    "real_weather"
   ]
  },
  {
   "cell_type": "code",
   "execution_count": 27,
   "metadata": {},
   "outputs": [],
   "source": [
    "weather = real_weather[real_weather['지점명'] =='속초']\n",
    "weather['일시'] = pd.to_datetime(weather['일시'])\n",
    "weather.set_index('일시', inplace=True, drop=True)\n",
    "weather_eda = weather.loc[solar_eda.index.min():solar_eda.index.max()]\n",
    "weather_eda.drop(['지점','위도','경도','지점명','풍향','습도','강수량'],axis = 1, inplace=True)"
   ]
  },
  {
   "cell_type": "code",
   "execution_count": 28,
   "metadata": {},
   "outputs": [],
   "source": [
    "weather_eda.columns = ['temp_air','wind_speed']"
   ]
  },
  {
   "cell_type": "code",
   "execution_count": 29,
   "metadata": {},
   "outputs": [],
   "source": [
    "import pvlib"
   ]
  },
  {
   "cell_type": "code",
   "execution_count": 30,
   "metadata": {},
   "outputs": [],
   "source": [
    "longitude = 128.5647\n",
    "latitude = 38.2509"
   ]
  },
  {
   "cell_type": "markdown",
   "metadata": {},
   "source": [
    "location = pvlib.location.Location(latitude, longitude, 'ROK'): 해당 코드는 pvlib.location.Location 클래스를 사용하여 특정 위치에 대한 객체를 생성합니다. 여기서는 위도, 경도, 그리고 시간대('ROK'는 한국 시간대를 나타냅니다)를 인자로 전달하고 있습니다.\n",
    "\n",
    "solpos = location.get_solarposition(times=pd.date_range(start=solar_eda.index.min(), end=solar_eda.index.max(), freq='1H')): 이 코드는 지정된 위치에서 특정 시간대의 태양 위치를 계산하는데 사용됩니다. 여기서는 '1H' 빈도로 설정된 시작 시간과 종료 시간 사이의 모든 시간에 대한 태양 위치를 계산합니다.\n",
    "\n",
    "dni_extra = pvlib.irradiance.get_extra_radiation(solar_eda.index): 이 코드는 각 시간 단위에 대한 외부 대기에서의 태양 복사량을 계산합니다.\n",
    "\n",
    "airmass = pvlib.atmosphere.get_relative_airmass(solpos['apparent_zenith']): 태양의 고도 각에 대한 상대적인 대기 질량을 계산합니다. 대기 질량은 태양 광선이 지구 대기를 통과하는 길이를 측정한 값입니다.\n",
    "\n",
    "pressure = pvlib.atmosphere.alt2pres(location.altitude): 대기압을 계산하는 코드입니다. 이는 고도에 따라 달라집니다.\n",
    "\n",
    "am_abs = pvlib.atmosphere.get_absolute_airmass(airmass, pressure): 절대 대기 질량을 계산합니다. 이는 상대 대기 질량과 대기압을 이용하여 계산됩니다.\n",
    "\n",
    "tl = pvlib.clearsky.lookup_linke_turbidity(solpos.index, latitude, longitude): Linke 탁도를 조회합니다. 이 값은 대기 중의 에어로졸과 먼지의 양을 나타내며, 광선이 대기를 통과하는 과정에서 얼마나 많은 산란이 발생하는지를 나타냅니다.\n",
    "\n",
    "solis_clearsky = pvlib.clearsky.simplified_solis(solpos['apparent_zenith'], am_abs, tl): Simplified Solis 모델을 사용하여 태양 광선이 탁한 대기를 통과한 후의 복사량을 계산합니다. 복사량은 GHI (Global Horizontal Irradiance, 전체 수평 복사량), DNI (Direct Normal Irradiance, 직접 정규 복사량), DHI (Diffuse Horizontal Irradiance, 확산 수평 복사량)로 표현됩니다.\n",
    "\n",
    "cs = location.get_clearsky(solpos.index, model='simplified_solis'): 해당 위치에 대한 clear sky (구름 없는 하늘)의 GHI, DNI, DHI를 얻습니다. 모델은 'simplified_solis'로 설정되어 있습니다.\n",
    "\n",
    "system = pvlib.pvsystem.PVSystem(...): PV 시스템을 정의하는 코드입니다. 특히 여기서는 설치 각도, 방위각, 모듈과 인버터의 파라미터, 문자열 및 인버터의 수, 그리고 온도 모델의 파라미터 등을 설정합니다.\n",
    "\n",
    "mc = pvlib.modelchain.ModelChain(system, location, spectral_model='no_loss', aoi_model='no_loss'): ModelChain은 전체 시스템의 행동을 예측하는 모델을 나타냅니다. 여기서는 spectral_model과 aoi_model을 no_loss로 설정하여 이들 요소가 발전량에 미치는 영향을 무시하도록 설정했습니다. 여기서 'aoi'는 'angle of incidence'로, 태양 광선이 PV 모듈에 닿는 각도를 나타냅니다.\n",
    "\n",
    "surface_tilt: 태양광 모듈의 기울기를 나타내며, 각도로 표현됩니다. 여기서는 30도로 설정되어 있습니다.\n",
    "\n",
    "surface_azimuth: 태양광 모듈의 방위각을 나타냅니다. 여기서는 180도로 설정되어 있습니다.\n",
    "\n",
    "module_parameters: 태양광 모듈의 세부 사항을 나타내는 딕셔너리입니다. 여기서는 pdc0(모듈의 공칭 DC 출력)가 1000W, gamma_pdc(공칭 DC 출력에 대한 온도 계수)가 -0.004로 설정되어 있습니다.\n",
    "\n",
    "inverter_parameters: 인버터의 세부 사항을 나타내는 딕셔너리입니다. 여기서는 pdc0(인버터의 최대 DC 입력)가 1000W로 설정되어 있습니다.\n",
    "\n",
    "modules_per_string: 한 문자열 당 모듈 수를 나타냅니다. 여기서는 1로 설정되어 있습니다.\n",
    "\n",
    "strings_per_inverter: 한 인버터 당 문자열 수를 나타냅니다. 여기서는 1로 설정되어 있습니다.\n",
    "\n",
    "temperature_model_parameters: 모듈 온도를 계산하기 위한 파라미터를 나타내는 딕셔너리입니다. 여기서는 a, b, deltaT 세 가지 파라미터가 사용되었습니다. 이들 파라미터는 일반적으로 'open circuit voltage' (v_oc)를 사용하는 온도 모델에 사용됩니다."
   ]
  },
  {
   "cell_type": "code",
   "execution_count": 31,
   "metadata": {},
   "outputs": [],
   "source": [
    "longitude = 128.5647\n",
    "latitude = 38.2509\n",
    "\n",
    "# 위치와 타임존을 설정합니다.\n",
    "location = pvlib.location.Location(latitude, longitude, tz='Asia/Seoul')\n",
    "\n",
    "# 일일 일사량을 구합니다.\n",
    "times = pd.date_range(start=weather_eda.index.min(), end=weather_eda.index.max(), freq='1H', tz='Asia/Seoul')\n",
    "solpos = location.get_solarposition(times=times)\n",
    "dni_extra = pvlib.irradiance.get_extra_radiation(times)\n",
    "airmass = pvlib.atmosphere.get_relative_airmass(solpos['apparent_zenith'])\n",
    "pressure = pvlib.atmosphere.alt2pres(location.altitude)\n",
    "am_abs = pvlib.atmosphere.get_absolute_airmass(airmass, pressure) \n",
    "tl = pvlib.clearsky.lookup_linke_turbidity(times, latitude, longitude)\n",
    "\n",
    "# Simplified Solis model을 적용하여 clear sky GHI, DNI, DHI를 얻습니다.\n",
    "solis_clearsky = pvlib.clearsky.simplified_solis(solpos['apparent_zenith'], am_abs, tl)\n",
    "cs = location.get_clearsky(times, model='simplified_solis')\n",
    "\n",
    "# 발전량을 계산합니다.\n",
    "system = pvlib.pvsystem.PVSystem(surface_tilt=30, surface_azimuth=180,\n",
    "                                 module_parameters={'pdc0': 5000, 'gamma_pdc': -0.004}, \n",
    "                                 inverter_parameters={'pdc0': 5000},\n",
    "                                 modules_per_string=1, strings_per_inverter=1,\n",
    "                                 temperature_model_parameters={'a': -3.56, 'b': -0.075, 'deltaT': 3})\n",
    "mc = pvlib.modelchain.ModelChain(system, location, spectral_model='no_loss', aoi_model='no_loss')\n"
   ]
  },
  {
   "cell_type": "code",
   "execution_count": 32,
   "metadata": {},
   "outputs": [],
   "source": [
    "weather_eda.index = weather_eda.index.tz_localize('Asia/Seoul')"
   ]
  },
  {
   "cell_type": "code",
   "execution_count": 33,
   "metadata": {},
   "outputs": [
    {
     "data": {
      "text/plain": [
       "ModelChain: \n",
       "  name: None\n",
       "  clearsky_model: ineichen\n",
       "  transposition_model: haydavies\n",
       "  solar_position_method: nrel_numpy\n",
       "  airmass_model: kastenyoung1989\n",
       "  dc_model: pvwatts_dc\n",
       "  ac_model: pvwatts_inverter\n",
       "  aoi_model: no_aoi_loss\n",
       "  spectral_model: no_spectral_loss\n",
       "  temperature_model: sapm_temp\n",
       "  losses_model: no_extra_losses"
      ]
     },
     "execution_count": 33,
     "metadata": {},
     "output_type": "execute_result"
    }
   ],
   "source": [
    "mc.run_model(pd.concat([solis_clearsky, weather_eda], axis=1))"
   ]
  },
  {
   "cell_type": "code",
   "execution_count": 34,
   "metadata": {},
   "outputs": [],
   "source": [
    "generation = pd.DataFrame(mc.ac)"
   ]
  },
  {
   "cell_type": "code",
   "execution_count": 35,
   "metadata": {},
   "outputs": [],
   "source": [
    "generation['hour'] = generation.index.hour\n",
    "generation['month'] = generation.index.month\n",
    "generation['year'] = generation.index.year\n",
    "generation['day'] = generation.index.day\n"
   ]
  },
  {
   "cell_type": "code",
   "execution_count": 36,
   "metadata": {},
   "outputs": [
    {
     "data": {
      "text/plain": [
       "hour\n",
       "0        0.000000\n",
       "1        0.000000\n",
       "2        0.000000\n",
       "3        0.000000\n",
       "4        0.000000\n",
       "5        0.000000\n",
       "6        0.000000\n",
       "7       12.310682\n",
       "8      151.642153\n",
       "9      437.836174\n",
       "10     766.848975\n",
       "11     971.278626\n",
       "12    1031.180073\n",
       "13    1030.952583\n",
       "14     962.806225\n",
       "15     746.656060\n",
       "16     413.881081\n",
       "17     130.793465\n",
       "18       7.522104\n",
       "19       0.000000\n",
       "20       0.000000\n",
       "21       0.000000\n",
       "22       0.000000\n",
       "23       0.000000\n",
       "Name: p_mp, dtype: float64"
      ]
     },
     "execution_count": 36,
     "metadata": {},
     "output_type": "execute_result"
    }
   ],
   "source": [
    "generation.groupby(['hour']).mean()['p_mp']"
   ]
  },
  {
   "cell_type": "code",
   "execution_count": 37,
   "metadata": {},
   "outputs": [],
   "source": [
    "def clear_sky_model_pred(longitude, latitude, capacity, weather):\n",
    "    \"\"\"\n",
    "    input :\n",
    "        longitude : 경도\n",
    "        latitude : 위도\n",
    "        capacity : 용량(단위 : w)\n",
    "        weather : 날씨 데이터 (index가 날짜인 데이터)\n",
    "    output :\n",
    "        generation : 발전량\n",
    "    \"\"\"\n",
    "    location = pvlib.location.Location(latitude, longitude, tz='Asia/Seoul')\n",
    "    start_date = weather.index.min()\n",
    "    end_date = weather.index.max()\n",
    "\n",
    "    times = pd.date_range(start = start_date, end = end_date, freq='1H', tz = 'Asia/Seoul')\n",
    "    solpos = location.get_solarposition(times=times)\n",
    "    dni_extra = pvlib.irradiance.get_extra_radiation(times)\n",
    "    airmass = pvlib.atmosphere.get_relative_airmass(solpos['apparent_zenith'])\n",
    "    pressure = pvlib.atmosphere.alt2pres(location.altitude)\n",
    "    am_abs = pvlib.atmosphere.get_absolute_airmass(airmass, pressure) \n",
    "    tl = pvlib.clearsky.lookup_linke_turbidity(times, latitude, longitude)\n",
    "\n",
    "    solis_clearsky = pvlib.clearsky.simplified_solis(solpos['apparent_zenith'], am_abs, tl)\n",
    "    cs = location.get_clearsky(times, model='simplified_solis')\n",
    "\n",
    "    system = pvlib.pvsystem.PVSystem(surface_tilt=30, surface_azimuth=180,\n",
    "                                    module_parameters={'pdc0': capacity, 'gamma_pdc': -0.004}, \n",
    "                                    inverter_parameters={'pdc0': capacity},\n",
    "                                    modules_per_string=1, strings_per_inverter=1,\n",
    "                                    temperature_model_parameters={'a': -3.56, 'b': -0.075, 'deltaT': 3})\n",
    "    mc = pvlib.modelchain.ModelChain(system, location, spectral_model='no_loss', aoi_model='no_loss')\n",
    "\n",
    "    mc.run_model(pd.concat([solis_clearsky, weather], axis=1))\n",
    "\n",
    "    return pd.DataFrame(mc.ac)\n"
   ]
  },
  {
   "cell_type": "code",
   "execution_count": 38,
   "metadata": {},
   "outputs": [],
   "source": [
    "def group_by_means(df):\n",
    "    df['hour'] = df.index.hour\n",
    "    return df.groupby(['hour']).mean()"
   ]
  },
  {
   "cell_type": "code",
   "execution_count": 49,
   "metadata": {},
   "outputs": [
    {
     "data": {
      "text/html": [
       "<div>\n",
       "<style scoped>\n",
       "    .dataframe tbody tr th:only-of-type {\n",
       "        vertical-align: middle;\n",
       "    }\n",
       "\n",
       "    .dataframe tbody tr th {\n",
       "        vertical-align: top;\n",
       "    }\n",
       "\n",
       "    .dataframe thead th {\n",
       "        text-align: right;\n",
       "    }\n",
       "</style>\n",
       "<table border=\"1\" class=\"dataframe\">\n",
       "  <thead>\n",
       "    <tr style=\"text-align: right;\">\n",
       "      <th></th>\n",
       "      <th>p_mp</th>\n",
       "    </tr>\n",
       "    <tr>\n",
       "      <th>hour</th>\n",
       "      <th></th>\n",
       "    </tr>\n",
       "  </thead>\n",
       "  <tbody>\n",
       "    <tr>\n",
       "      <th>0</th>\n",
       "      <td>0.000000</td>\n",
       "    </tr>\n",
       "    <tr>\n",
       "      <th>1</th>\n",
       "      <td>0.000000</td>\n",
       "    </tr>\n",
       "    <tr>\n",
       "      <th>2</th>\n",
       "      <td>0.000000</td>\n",
       "    </tr>\n",
       "    <tr>\n",
       "      <th>3</th>\n",
       "      <td>0.000000</td>\n",
       "    </tr>\n",
       "    <tr>\n",
       "      <th>4</th>\n",
       "      <td>0.000000</td>\n",
       "    </tr>\n",
       "    <tr>\n",
       "      <th>5</th>\n",
       "      <td>0.000000</td>\n",
       "    </tr>\n",
       "    <tr>\n",
       "      <th>6</th>\n",
       "      <td>0.000000</td>\n",
       "    </tr>\n",
       "    <tr>\n",
       "      <th>7</th>\n",
       "      <td>7.386409</td>\n",
       "    </tr>\n",
       "    <tr>\n",
       "      <th>8</th>\n",
       "      <td>90.985292</td>\n",
       "    </tr>\n",
       "    <tr>\n",
       "      <th>9</th>\n",
       "      <td>262.701704</td>\n",
       "    </tr>\n",
       "    <tr>\n",
       "      <th>10</th>\n",
       "      <td>460.109385</td>\n",
       "    </tr>\n",
       "    <tr>\n",
       "      <th>11</th>\n",
       "      <td>582.767175</td>\n",
       "    </tr>\n",
       "    <tr>\n",
       "      <th>12</th>\n",
       "      <td>618.708044</td>\n",
       "    </tr>\n",
       "    <tr>\n",
       "      <th>13</th>\n",
       "      <td>618.571550</td>\n",
       "    </tr>\n",
       "    <tr>\n",
       "      <th>14</th>\n",
       "      <td>577.683735</td>\n",
       "    </tr>\n",
       "    <tr>\n",
       "      <th>15</th>\n",
       "      <td>447.993636</td>\n",
       "    </tr>\n",
       "    <tr>\n",
       "      <th>16</th>\n",
       "      <td>248.328649</td>\n",
       "    </tr>\n",
       "    <tr>\n",
       "      <th>17</th>\n",
       "      <td>78.476079</td>\n",
       "    </tr>\n",
       "    <tr>\n",
       "      <th>18</th>\n",
       "      <td>4.513262</td>\n",
       "    </tr>\n",
       "    <tr>\n",
       "      <th>19</th>\n",
       "      <td>0.000000</td>\n",
       "    </tr>\n",
       "    <tr>\n",
       "      <th>20</th>\n",
       "      <td>0.000000</td>\n",
       "    </tr>\n",
       "    <tr>\n",
       "      <th>21</th>\n",
       "      <td>0.000000</td>\n",
       "    </tr>\n",
       "    <tr>\n",
       "      <th>22</th>\n",
       "      <td>0.000000</td>\n",
       "    </tr>\n",
       "    <tr>\n",
       "      <th>23</th>\n",
       "      <td>0.000000</td>\n",
       "    </tr>\n",
       "  </tbody>\n",
       "</table>\n",
       "</div>"
      ],
      "text/plain": [
       "            p_mp\n",
       "hour            \n",
       "0       0.000000\n",
       "1       0.000000\n",
       "2       0.000000\n",
       "3       0.000000\n",
       "4       0.000000\n",
       "5       0.000000\n",
       "6       0.000000\n",
       "7       7.386409\n",
       "8      90.985292\n",
       "9     262.701704\n",
       "10    460.109385\n",
       "11    582.767175\n",
       "12    618.708044\n",
       "13    618.571550\n",
       "14    577.683735\n",
       "15    447.993636\n",
       "16    248.328649\n",
       "17     78.476079\n",
       "18      4.513262\n",
       "19      0.000000\n",
       "20      0.000000\n",
       "21      0.000000\n",
       "22      0.000000\n",
       "23      0.000000"
      ]
     },
     "execution_count": 49,
     "metadata": {},
     "output_type": "execute_result"
    }
   ],
   "source": [
    "group_by_means(clear_sky_model_pred(128.5647, 38.2509, 10000, weather_eda)) * 3 / 10"
   ]
  },
  {
   "cell_type": "code",
   "execution_count": 63,
   "metadata": {},
   "outputs": [],
   "source": [
    "from tqdm import tqdm"
   ]
  },
  {
   "cell_type": "code",
   "execution_count": 65,
   "metadata": {},
   "outputs": [
    {
     "name": "stderr",
     "output_type": "stream",
     "text": [
      "  0%|          | 0/10 [00:00<?, ?it/s]"
     ]
    },
    {
     "name": "stdout",
     "output_type": "stream",
     "text": [
      "Best position: [0, 0, 0, 0, 0, 0, 0, 0, 0, 0, 0, 0, 0, 0, 0, 0, 0, 1328.5526005678478, 4.189016836538089, 0, 0, 0, 0, 0]\n",
      "Best fitness: 5353061.627150439\n",
      "Best position: [0, 0, 0, 0, 0, 0, 0, 0, 0, 0, 0, 0, 0, 0, 0, 0, 0, 0, 1332.741640419744, 0, 0, 0, 0, 0]\n",
      "Best fitness: 7141921.483079702\n",
      "Best position: [0, 0, 0, 0, 0, 0, 0, 0, 0, 0, 0, 0, 0, 0, 0, 0, 0, 0, 1332.741640423257, 0, 0, 0, 0, 0]\n",
      "Best fitness: 5353061.623973835\n",
      "Best position: [0, 0, 0, 0, 0, 0, 0, 0, 0, 0, 0, 0, 0, 0, 0, 0, 0, 1331.2372190518063, 0, 0, 0, 1.5044162076389775, 0, 0]\n",
      "Best fitness: 6840670.561680926\n",
      "Best position: [0, 0, 0, 0, 0, 0, 0, 0, 0, 0, 0, 0, 0, 0, 0.7115413928785785, 0, 0, 1330.5225448180845, 0, 0, 1.5075537727288002, 0, 0, 0]\n",
      "Best fitness: 5353107.905935317\n",
      "Best position: [0, 0, 0, 0, 0, 0, 0, 0, 0, 0, 0, 0, 0, 0, 0, 0, 1305.0785240461257, 0, 0, 0, 27.66311612844666, 0, 0, 0]\n",
      "Best fitness: 7144192.624967735\n",
      "Best position: [0, 0, 0, 0, 0, 0, 0, 0, 0, 0, 0, 0, 0, 0, 0, 1046.0633869131477, 0, 0, 286.6781431659358, 0, 0, 0, 0, 0]\n",
      "Best fitness: 5353061.63920133\n",
      "Best position: [0, 0, 0, 0, 0, 0, 0, 0, 0, 0, 0, 0, 0, 0, 0, 0, 0, 0, 1332.7416404312305, 0, 0, 0, 0, 0]\n",
      "Best fitness: 6840584.056738419\n",
      "Best position: [0, 0, 0, 0, 0, 0, 0, 0, 0, 0, 0, 0, 0, 0, 0, 0, 0, 0, 1332.7416404321045, 0, 0, 0, 0, 0]\n",
      "Best fitness: 5353061.623972614\n",
      "Best position: [0, 0, 0, 0, 0, 0, 0, 0, 0, 0, 0, 0, 0, 0, 0, 0, 0, 0, 1332.7416404323417, 0, 0, 0, 0, 0]\n",
      "Best fitness: 7141921.483076933\n",
      "Best position: [0, 0, 0, 0, 0, 0, 0, 0, 0, 0, 0, 0, 0, 0, 0, 0, 0, 0, 1332.741640432325, 0, 0, 0, 0, 0]\n",
      "Best fitness: 5353061.623972584\n"
     ]
    },
    {
     "name": "stderr",
     "output_type": "stream",
     "text": [
      " 10%|█         | 1/10 [11:44<1:45:39, 704.36s/it]"
     ]
    },
    {
     "name": "stdout",
     "output_type": "stream",
     "text": [
      "Best position: [0, 0, 0, 0, 0, 0, 0, 0, 0, 0, 0, 0, 0, 0, 0, 0, 1045.974277202096, 285.13958136000866, 0, 0, 1.5988679693323196, 0, 0, 0]\n",
      "Best fitness: 6840681.641422675\n",
      "Best position: [0, 0, 0, 0, 0, 0, 0, 0, 0, 0, 0, 0, 0, 377.96835832533725, 0, 0, 0, 0, 2287.5149225387095, 0, 0, 0, 0, 0]\n",
      "Best fitness: 5169143.277593005\n",
      "Best position: [0, 0, 0, 0, 0, 0, 0, 0, 0, 0, 0, 0, 0, 0, 0, 0, 223.33376405442186, 2439.1406753203414, 0, 0, 0, 0, 0, 0]\n",
      "Best fitness: 6849646.213869388\n",
      "Best position: [0, 0, 0, 0, 0, 0, 0, 0, 0, 0, 0, 0, 0, 0, 0, 0, 2521.542452188425, 140.93197193771093, 0, 3.008843378110135, 0, 0, 0, 0]\n",
      "Best fitness: 5169235.650928366\n",
      "Best position: [0, 0, 0, 0, 0, 0, 0, 0, 0, 223.33376398426216, 0, 0, 0, 0, 0, 0, 0, 2439.1406753203414, 0, 0, 0, 0, 3.00884126481155, 0]\n",
      "Best fitness: 6580478.056210452\n",
      "Best position: [0, 0, 0, 0, 0, 0, 0, 0, 0, 0, 0, 223.33372104637354, 0, 0, 0, 0, 0, 2439.1406753203414, 0, 0, 0, 3.0088448752109778, 0, 0]\n",
      "Best fitness: 5169235.654598527\n",
      "Best position: [0, 0, 0, 0, 0, 0, 0, 0, 0, 0, 0, 0, 0, 0, 0, 2444.6045717611655, 0, 0, 0, 0, 0, 220.87865242621157, 0, 0]\n",
      "Best fitness: 6867119.020331767\n",
      "Best position: [0, 0, 0, 0, 0, 0, 0, 0, 0, 0, 0, 0, 0, 0, 377.9683583252898, 0, 0, 0, 2287.5149225387095, 0, 0, 0, 0, 0]\n",
      "Best fitness: 5169143.277593012\n",
      "Best position: [0, 0, 0, 0, 0, 0, 0, 0, 0, 0, 0, 0, 0, 0, 0, 0, 2521.542452188425, 0, 0, 143.94082867589452, 0, 0, 0, 0]\n",
      "Best fitness: 6580166.340197793\n",
      "Best position: [0, 0, 0, 0, 0, 0, 0, 0, 0, 0, 0, 0, 0, 0, 0, 2444.5979279682506, 0, 0, 0, 0, 220.88431662807363, 0, 0, 0]\n",
      "Best fitness: 5175924.569118434\n",
      "Best position: [0, 0, 0, 0, 0, 0, 0, 0, 0, 0, 0, 0, 0, 0, 88.61459447947229, 0, 2521.542452188425, 0, 0, 0, 0, 55.32619941028425, 0, 0]\n",
      "Best fitness: 6853527.159127561\n",
      "Best position: [0, 0, 0, 0, 0, 0, 0, 0, 0, 0, 0, 0, 0, 0, 0, 0, 223.33335605402073, 2439.1406753203414, 0, 0, 3.009231860720854, 0, 0, 0]\n",
      "Best fitness: 5169235.663443928\n"
     ]
    },
    {
     "name": "stderr",
     "output_type": "stream",
     "text": [
      " 20%|██        | 2/10 [23:39<1:34:43, 710.44s/it]"
     ]
    },
    {
     "name": "stdout",
     "output_type": "stream",
     "text": [
      "Best position: [0, 0, 0, 0, 0, 0, 0, 0, 0, 0, 0, 0, 0, 0, 0, 0, 0, 2439.1406753203414, 0, 226.34260554433484, 0, 0, 0, 0]\n",
      "Best fitness: 6580166.340197723\n",
      "Best position: [0, 0, 0, 0, 0, 0, 0, 0, 0, 0, 0, 0, 0, 0, 0, 0, 0, 2439.1406753203414, 1559.0842459752917, 0, 0, 0, 0, 0]\n",
      "Best fitness: 4985224.931213446\n",
      "Best position: [0, 0, 0, 0, 0, 0, 0, 0, 0, 0, 0, 0, 0, 0, 1710.7099987554445, 0, 0, 0, 2287.5149225387095, 0, 0, 0, 0, 0]\n",
      "Best fitness: 6556048.257943505\n",
      "Best position: [0, 0, 0, 0, 0, 0, 0, 0, 0, 0, 0, 0, 0, 1130.8134193029887, 0, 2536.093144495332, 0, 0, 0, 0, 331.3181822527645, 0, 0, 0]\n",
      "Best fitness: 4995396.423592354\n",
      "Best position: [0, 0, 0, 0, 0, 0, 0, 0, 0, 0, 0, 0, 0, 0, 0, 0, 1710.7099987583094, 0, 2287.5149225387095, 0, 0, 0, 0, 0]\n",
      "Best fitness: 6319748.623657243\n",
      "Best position: [0, 0, 0, 0, 0, 0, 0, 0, 0, 0, 0, 0, 0, 0, 1532.6476216996, 21.92015862087319, 0, 2439.1406753203414, 0, 4.516416825316365, 0, 0, 0, 0]\n",
      "Best fitness: 4985363.591948454\n",
      "Best position: [0, 0, 0, 0, 0, 0, 0, 0, 0, 0, 0, 0, 0, 2533.7489115166604, 0, 0, 0, 1459.9626891933394, 0, 0, 4.513304537293598, 0, 0, 0]\n",
      "Best fitness: 6556418.803773116\n",
      "Best position: [0, 0, 0, 0, 0, 0, 0, 0, 0, 0, 0, 0, 0, 0, 0, 0, 2521.542452188425, 0, 1476.6824691085176, 0, 0, 0, 0, 0]\n",
      "Best fitness: 4985224.931213265\n",
      "Best position: [0, 0, 0, 0, 0, 0, 0, 0, 0, 0, 0, 1403.9477659273823, 0, 0, 530.4910488256363, 0, 0, 0, 0, 0, 2063.7855929448956, 0, 0, 0]\n",
      "Best fitness: 6468919.630916314\n",
      "Best position: [0, 0, 0, 0, 0, 0, 0, 0, 0, 0, 0, 0, 0, 0, 0, 1710.7099987391557, 0, 0, 2287.5149225387095, 0, 0, 0, 0, 0]\n",
      "Best fitness: 4985224.931215898\n",
      "Best position: [0, 0, 0, 0, 0, 0, 0, 0, 0, 0, 0, 0, 0, 0, 0, 0, 1369.3132813744587, 2439.1406753203414, 189.77075048333342, 0, 0, 0, 0, 0]\n",
      "Best fitness: 6556048.305006207\n",
      "Best position: [0, 0, 0, 0, 0, 0, 0, 0, 0, 0, 0, 0, 0, 0, 0, 0, 2521.542452188425, 1472.1692068828831, 0, 0, 0, 0, 0, 0]\n",
      "Best fitness: 4985847.761400403\n"
     ]
    },
    {
     "name": "stderr",
     "output_type": "stream",
     "text": [
      " 30%|███       | 3/10 [35:09<1:21:49, 701.41s/it]"
     ]
    },
    {
     "name": "stdout",
     "output_type": "stream",
     "text": [
      "Best position: [0, 0, 0, 0, 0, 0, 0, 0, 0, 0, 25.55924004220952, 0, 0, 0, 0, 0, 0, 2439.1406753203414, 0, 1533.5244886918804, 0, 0, 0, 0]\n",
      "Best fitness: 6319748.724726446\n",
      "Best position: [0, 0, 0, 0, 0, 0, 0, 0, 0, 0, 0, 344.93861230621627, 0, 0, 2540.8695911349905, 0, 0, 2439.1406753203414, 0, 0, 0, 0, 0, 0]\n",
      "Best fitness: 4802137.025083149\n",
      "Best position: [0, 0, 0, 0, 0, 0, 0, 0, 0, 0, 0, 0, 0, 2533.7489115166604, 509.70272767401866, 0, 0, 0, 2287.5149225387095, 0, 0, 0, 0, 0]\n",
      "Best fitness: 6263111.645375841\n",
      "Best position: [0, 0, 0, 0, 0, 0, 0, 0, 0, 0, 0, 0, 0, 0, 2540.8695911349905, 0, 0, 502.58204805531835, 2287.5149225387095, 0, 0, 0, 0, 0]\n",
      "Best fitness: 4801306.584833639\n",
      "Best position: [0, 0, 0, 0, 0, 0, 0, 0, 0, 0, 0, 521.909186607583, 0, 0, 0, 0, 2521.542452188425, 0, 2287.5149225387095, 0, 0, 0, 0, 0]\n",
      "Best fitness: 6059330.907193879\n",
      "Best position: [0, 0, 0, 0, 0, 0, 0, 0, 0, 0, 0, 1871.8844790561295, 824.6756099814475, 0, 0, 0, 0, 0, 0, 0, 2063.7855929448956, 0, 570.5985168087095, 0]\n",
      "Best fitness: 4920341.270943123\n",
      "Best position: [0, 0, 0, 0, 0, 0, 0, 0, 0, 0, 0, 502.58204805530266, 0, 0, 2540.8695911349905, 0, 0, 0, 2287.5149225387095, 0, 0, 0, 0, 0]\n",
      "Best fitness: 6263111.645375926\n",
      "Best position: [0, 0, 0, 0, 0, 0, 0, 0, 0, 0, 0, 0, 0, 0, 2540.8695911349905, 519.154187812997, 0, 124.55600257451525, 2146.3829594220692, 0, 0, 0, 0, 0]\n",
      "Best fitness: 4801307.112101892\n",
      "Best position: [0, 0, 0, 0, 0, 0, 0, 0, 0, 0, 0, 624.814970853154, 0, 0, 0, 0, 2521.542452188425, 0, 0, 2184.609138687666, 0, 0, 0, 0]\n",
      "Best fitness: 6059330.907116787\n",
      "Best position: [0, 0, 0, 0, 0, 0, 0, 0, 0, 0, 0, 0, 0, 0, 162.67065585639762, 2536.093144495332, 2521.542452188425, 0, 0, 0, 110.66006469771946, 0, 0, 0]\n",
      "Best fitness: 4804703.882559638\n",
      "Best position: [0, 0, 0, 0, 0, 0, 0, 0, 0, 0, 0, 0, 0, 0, 0, 2536.093144495332, 349.7147399520855, 2439.1406753203414, 0, 6.0179955817007045, 0, 0, 0, 0]\n",
      "Best fitness: 6263605.724215407\n",
      "Best position: [0, 0, 0, 0, 0, 0, 0, 0, 0, 0, 0, 0, 0, 0, 2540.8695911349905, 0, 0, 502.58204805568175, 2287.5149225387095, 0, 0, 0, 0, 0]\n",
      "Best fitness: 4801306.584833588\n"
     ]
    },
    {
     "name": "stderr",
     "output_type": "stream",
     "text": [
      " 40%|████      | 4/10 [46:54<1:10:15, 702.63s/it]"
     ]
    },
    {
     "name": "stdout",
     "output_type": "stream",
     "text": [
      "Best position: [0, 0, 0, 0, 0, 0, 0, 0, 0, 0, 604.3109638674937, 0, 0, 0, 0, 0, 0, 2439.1406753203414, 2287.5149225387095, 0, 0, 0, 0, 0]\n",
      "Best fitness: 6059330.907117315\n",
      "Best position: [0, 0, 0, 0, 0, 0, 0, 0, 0, 0, 0, 0, 0, 0, 0, 0, 2521.542452188425, 2439.1406753203414, 1703.025074652387, 0, 0, 0, 0, 0]\n",
      "Best fitness: 4617388.238454005\n",
      "Best position: [0, 0, 0, 0, 0, 0, 0, 0, 0, 0, 0, 1680.9522786365126, 0, 0, 0, 2536.093144495332, 0, 2439.1406753203414, 0, 0, 0, 0, 0, 0]\n",
      "Best fitness: 5971828.39120417\n",
      "Best position: [0, 0, 0, 0, 0, 0, 0, 0, 0, 0, 0, 0, 0, 2533.7489115166604, 0, 0, 0, 2439.1406753203414, 1690.818615324032, 0, 0, 0, 0, 0]\n",
      "Best fitness: 4617388.2384540215\n",
      "Best position: [0, 0, 0, 0, 0, 0, 0, 0, 0, 0, 975.9875828846798, 0, 0, 0, 0, 0, 2521.542452188425, 0, 981.5670735278167, 2184.609138687666, 0, 0, 0, 0]\n",
      "Best fitness: 5798913.572558492\n",
      "Best position: [0, 0, 0, 0, 0, 0, 0, 0, 0, 0, 0, 0, 0, 1914.9046879275993, 0, 1915.0633337073064, 2521.542452188425, 304.6754644908205, 0, 0, 0, 0, 0, 0]\n",
      "Best fitness: 4618426.310864891\n",
      "Best position: [0, 0, 0, 0, 0, 0, 0, 0, 0, 0, 0, 0, 0, 2533.7489115166604, 2540.8695911349905, 0, 0, 0, 1589.0896995100545, 0, 0, 0, 0, 0]\n",
      "Best fitness: 5970175.032808817\n",
      "Best position: [0, 0, 0, 0, 0, 0, 0, 0, 0, 0, 0, 2334.202290693152, 0, 0, 2540.8695911349905, 0, 0, 0, 0, 0, 0, 0, 1788.6363203335484, 0]\n",
      "Best fitness: 4712543.690695674\n",
      "Best position: [0, 0, 0, 0, 0, 0, 0, 0, 0, 0, 0, 0, 0, 0, 0, 0, 0, 2191.5841409352984, 2287.5149225387095, 2184.609138687666, 0, 0, 0, 0]\n",
      "Best fitness: 5798913.190576291\n",
      "Best position: [0, 0, 0, 0, 0, 0, 0, 0, 0, 0, 0, 0, 0, 0, 0, 0, 2521.542452188425, 0, 2287.5149225387095, 1854.6508274345836, 0, 0, 0, 0]\n",
      "Best fitness: 4674326.018856169\n",
      "Best position: [0, 0, 0, 0, 0, 0, 0, 0, 0, 0, 0, 1835.323688486898, 0, 0, 2540.8695911349905, 0, 0, 0, 2287.5149225387095, 0, 0, 0, 0, 0]\n",
      "Best fitness: 5970175.032809061\n",
      "Best position: [0, 0, 0, 0, 0, 0, 0, 0, 0, 0, 0, 1467.7568631283525, 0, 0, 0, 2536.093144495332, 2521.542452188425, 0, 0, 138.31561242477832, 0, 0, 0, 0]\n",
      "Best fitness: 4621634.545684993\n"
     ]
    },
    {
     "name": "stderr",
     "output_type": "stream",
     "text": [
      " 50%|█████     | 5/10 [58:29<58:20, 700.01s/it]  "
     ]
    },
    {
     "name": "stdout",
     "output_type": "stream",
     "text": [
      "Best position: [0, 0, 0, 0, 0, 0, 0, 0, 0, 0, 0, 0, 0, 0, 0, 0, 2521.542452188425, 0, 2287.5149225387095, 1854.6508274345917, 0, 0, 0, 0]\n",
      "Best fitness: 5798913.19057628\n",
      "Best position: [0, 0, 0, 0, 0, 0, 0, 0, 0, 0, 0, 2525.4701233033015, 0, 0, 2540.8695911349905, 242.58891116666587, 2521.542452188425, 0, 0, 0, 0, 165.97874656129986, 0, 0]\n",
      "Best fitness: 4438565.442110729\n",
      "Best position: [0, 0, 0, 0, 0, 0, 0, 0, 0, 0, 0, 2525.4701233033015, 0, 0, 2540.8695911349905, 0, 0, 0, 2287.5149225387095, 642.5952056169635, 0, 0, 0, 0]\n",
      "Best fitness: 5729995.48662296\n",
      "Best position: [0, 0, 0, 0, 0, 0, 0, 0, 0, 0, 0, 2525.4701233033015, 0, 2533.7489115166604, 0, 0, 0, 2439.1406753203414, 0, 0, 498.09013245378065, 0, 0, 0]\n",
      "Best fitness: 4448761.25914059\n",
      "Best position: [0, 0, 0, 0, 0, 0, 0, 0, 0, 0, 1642.2833041323108, 0, 164.99645086198896, 2533.7489115166604, 967.0784280779707, 0, 2521.542452188425, 0, 0, 0, 0, 0, 166.6625394167021, 0]\n",
      "Best fitness: 5766573.498671188\n",
      "Best position: [0, 0, 0, 0, 0, 0, 0, 0, 0, 0, 0, 2525.4701233033015, 0, 0, 0, 0, 2521.542452188425, 0, 2287.5149225387095, 0, 661.922344563126, 0, 0, 0]\n",
      "Best fitness: 4453790.908052419\n",
      "Best position: [0, 0, 0, 0, 0, 0, 0, 0, 0, 0, 0, 478.44047849198796, 0, 2533.7489115166604, 0, 2536.093144495332, 0, 2439.1406753203414, 0, 9.026620924780136, 0, 0, 0, 0]\n",
      "Best fitness: 5677979.508423233\n",
      "Best position: [0, 0, 0, 0, 0, 0, 0, 0, 0, 0, 0, 0, 0, 2533.7489115166604, 2540.8695911349905, 0, 0, 2439.1406753203414, 0, 0, 0, 482.69066462208895, 0, 0]\n",
      "Best fitness: 4448288.495478158\n",
      "Best position: [0, 0, 0, 0, 0, 0, 0, 0, 0, 0, 402.0019288523266, 2405.170508848297, 0, 1225.8516255544519, 0, 0, 0, 0, 0, 2184.609138687666, 0, 1778.4769450926096, 0, 0]\n",
      "Best fitness: 5711310.74336018\n",
      "Best position: [0, 0, 0, 0, 0, 0, 0, 0, 0, 0, 0, 733.7011002396649, 0, 0, 0, 2536.093144495332, 0, 2439.1406753203414, 2287.5149225387095, 0, 0, 0, 0, 0]\n",
      "Best fitness: 4433469.892074265\n",
      "Best position: [0, 0, 0, 0, 0, 0, 0, 0, 0, 0, 0, 2525.4701233033015, 0, 0, 486.71935568491057, 2536.093144495332, 0, 2439.1406753203414, 0, 9.026490618693803, 0, 0, 0, 0]\n",
      "Best fitness: 5677979.506808672\n",
      "Best position: [0, 0, 0, 0, 0, 0, 0, 0, 0, 0, 0, 0, 2528.1228900680458, 0, 2540.8695911349905, 1329.0721068004643, 1431.8582092463819, 0, 0, 166.49693200177427, 0, 0, 0, 0]\n",
      "Best fitness: 4516198.876253058\n"
     ]
    },
    {
     "name": "stderr",
     "output_type": "stream",
     "text": [
      " 60%|██████    | 6/10 [1:10:10<46:41, 700.26s/it]"
     ]
    },
    {
     "name": "stdout",
     "output_type": "stream",
     "text": [
      "Best position: [0, 0, 0, 0, 0, 0, 0, 0, 0, 0, 748.2517925465855, 0, 0, 0, 0, 0, 2521.542452188425, 2439.1406753203414, 2287.5149225387095, 0, 0, 0, 0, 0]\n",
      "Best fitness: 5538495.474035801\n",
      "Best position: [0, 0, 0, 0, 0, 0, 0, 0, 3.834015763546875, 0, 0, 0, 0, 0, 2540.8695911349905, 2536.093144495332, 0, 0, 0, 2184.609138687666, 2063.7855929448956, 0, 0, 0]\n",
      "Best fitness: 4380094.968239656\n",
      "Best position: [0, 0, 0, 0, 0, 0, 0, 0, 0, 0, 0, 2525.4701233033015, 0, 0, 0, 2536.093144495332, 0, 2439.1406753203414, 1828.4875399073587, 0, 0, 0, 0, 0]\n",
      "Best fitness: 5384301.807674773\n",
      "Best position: [0, 0, 0, 0, 0, 0, 0, 0, 0, 0, 0, 0, 0, 2533.7489115166604, 0, 2068.786973650597, 0, 2439.1406753203414, 2287.5149225387095, 0, 0, 0, 0, 0]\n",
      "Best fitness: 4249551.545694614\n",
      "Best position: [0, 0, 0, 0, 0, 0, 0, 0, 0, 0, 1916.0929005256164, 0, 2528.1228900680458, 0, 0, 0, 0, 0, 2287.5149225387095, 0, 693.1074237374661, 1904.3532678381785, 0, 0]\n",
      "Best fitness: 5572798.828743248\n",
      "Best position: [0, 0, 0, 0, 0, 0, 0, 0, 0, 0, 0, 0, 0, 1756.5834638023448, 2540.8695911349905, 0, 2521.542452188425, 2439.1406753203414, 71.05473151865334, 0, 0, 0, 0, 0]\n",
      "Best fitness: 4249551.624225108\n",
      "Best position: [0, 0, 0, 0, 0, 0, 0, 0, 0, 0, 0, 0, 0, 2533.7489115166604, 0, 2536.093144495332, 2521.542452188425, 1727.2759514042907, 0, 0, 0, 0, 10.530891501070233, 0]\n",
      "Best fitness: 5385723.507023555\n",
      "Best position: [0, 0, 0, 0, 0, 0, 0, 0, 0, 0, 0, 1287.7716095253747, 0, 0, 0, 0, 1526.1277784671488, 2439.1406753203414, 2287.5149225387095, 0, 0, 0, 1788.6363203335484, 0]\n",
      "Best fitness: 4344707.022340442\n",
      "Best position: [0, 0, 0, 0, 0, 0, 0, 0, 0, 0, 0, 2525.4701233033015, 0, 0, 0, 0, 2521.542452188425, 0, 2097.5697688468076, 2184.609138687666, 0, 0, 0, 0]\n",
      "Best fitness: 5278077.757495362\n",
      "Best position: [0, 0, 0, 0, 0, 0, 0, 0, 0, 0, 0, 17.207840034058588, 0, 0, 0, 0, 2521.542452188425, 2439.1406753203414, 2287.5149225387095, 0, 2063.7855929448956, 0, 0, 0]\n",
      "Best fitness: 4312909.763398005\n",
      "Best position: [0, 0, 0, 0, 0, 0, 0, 0, 0, 0, 0, 0, 0, 0, 2080.993432978685, 0, 2521.542452188425, 2439.1406753203414, 2287.5149225387095, 0, 0, 0, 0, 0]\n",
      "Best fitness: 5384301.80767481\n",
      "Best position: [0, 0, 0, 0, 0, 0, 0, 0, 0, 0, 0, 1804.9008366376731, 0, 2533.7489115166604, 2540.8695911349905, 0, 0, 2439.1406753203414, 0, 10.531429230908904, 0, 0, 0, 0]\n",
      "Best fitness: 4249874.865979633\n"
     ]
    },
    {
     "name": "stderr",
     "output_type": "stream",
     "text": [
      " 70%|███████   | 7/10 [1:22:05<35:15, 705.06s/it]"
     ]
    },
    {
     "name": "stdout",
     "output_type": "stream",
     "text": [
      "Best position: [0, 0, 0, 0, 0, 0, 0, 0, 0, 0, 0, 0, 0, 0, 0, 0, 2521.542452188425, 2439.1406753203414, 2183.8992168299787, 2184.609138687666, 0, 0, 0, 0]\n",
      "Best fitness: 5278077.75749532\n",
      "Best position: [0, 0, 0, 0, 0, 0, 0, 0, 0, 0, 0, 2525.4701233033015, 0, 771.9853419851399, 2540.8695911349905, 2536.093144495332, 0, 0, 2287.5149225387095, 0, 0, 0, 0, 0]\n",
      "Best fitness: 4065633.199315113\n",
      "Best position: [0, 0, 0, 0, 0, 0, 0, 0, 0, 0, 1142.7964867406456, 2525.4701233033015, 0, 0, 0, 0, 2521.542452188425, 0, 2287.5149225387095, 2184.609138687666, 0, 0, 0, 0]\n",
      "Best fitness: 5364545.196955392\n",
      "Best position: [0, 0, 0, 0, 0, 0, 0, 0, 0, 0, 135.84442423738426, 2525.4701233033015, 874.420836785103, 0, 2540.8695911349905, 0, 2521.542452188425, 0, 0, 0, 2063.7855929448956, 0, 0, 0]\n",
      "Best fitness: 4160006.574727057\n",
      "Best position: [0, 0, 0, 0, 0, 0, 0, 0, 0, 0, 0, 2525.4701233033015, 2528.1228900680458, 0, 0, 0, 881.684512228304, 2439.1406753203414, 2287.5149225387095, 0, 0, 0, 0, 0]\n",
      "Best fitness: 5163027.107133765\n",
      "Best position: [0, 0, 0, 0, 0, 0, 0, 0, 0, 0, 0, 0, 0, 2533.7489115166604, 0, 2536.093144495332, 2521.542452188425, 783.0336927195987, 2287.5149225387095, 0, 0, 0, 0, 0]\n",
      "Best fitness: 4065633.1993149407\n",
      "Best position: [0, 0, 0, 0, 0, 0, 0, 0, 0, 0, 0, 2525.4701233033015, 0, 1256.8759125006009, 0, 2536.093144495332, 0, 2439.1406753203414, 0, 0, 0, 1904.3532678381785, 0, 0]\n",
      "Best fitness: 5247712.598397461\n",
      "Best position: [0, 0, 0, 0, 0, 0, 0, 0, 0, 0, 0, 2525.4701233033015, 873.7142578001805, 0, 0, 2536.093144495332, 0, 2439.1406753203414, 2287.5149225387095, 0, 0, 0, 0, 0]\n",
      "Best fitness: 4092456.2270295247\n",
      "Best position: [0, 0, 0, 0, 0, 0, 0, 0, 0, 0, 2189.8201222310986, 0, 0, 1607.0758318595758, 0, 0, 2521.542452188425, 2439.1406753203414, 0, 0, 0, 1904.3532678381785, 0, 0]\n",
      "Best fitness: 5219567.365431192\n",
      "Best position: [0, 0, 0, 0, 0, 0, 0, 0, 0, 0, 0, 2525.4701233033015, 0, 976.6200416404142, 0, 2536.093144495332, 0, 2439.1406753203414, 0, 2184.609138687666, 0, 0, 0, 0]\n",
      "Best fitness: 4132700.699874262\n",
      "Best position: [0, 0, 0, 0, 0, 0, 0, 0, 0, 0, 0, 2525.4701233033015, 0, 0, 0, 0, 0, 0, 2287.5149225387095, 0, 0, 0, 0, 0]\n",
      "Best fitness: 6376963.982567887\n",
      "Best position: [0, 0, 0, 0, 0, 0, 0, 0, 0, 0, 0, 2525.4701233033015, 0, 873.7142578008758, 0, 2536.093144495332, 0, 2439.1406753203414, 2287.5149225387095, 0, 0, 0, 0, 0]\n",
      "Best fitness: 4065633.199314963\n"
     ]
    },
    {
     "name": "stderr",
     "output_type": "stream",
     "text": [
      " 80%|████████  | 8/10 [1:34:07<23:40, 710.40s/it]"
     ]
    },
    {
     "name": "stdout",
     "output_type": "stream",
     "text": [
      "Best position: [0, 0, 0, 0, 0, 0, 0, 0, 0, 0, 0, 0, 0, 0, 0, 1686.88279395966, 0, 2439.1406753203414, 2287.5149225387095, 2184.609138687666, 2063.7855929448956, 0, 0, 0]\n",
      "Best fitness: 5233323.4732033145\n",
      "Best position: [0, 0, 0, 0, 0, 0, 0, 0, 0, 0, 2096.4481942054276, 0, 0, 2533.7489115166604, 2540.8695911349905, 2536.093144495332, 0, 0, 2287.5149225387095, 0, 0, 0, 0, 0]\n",
      "Best fitness: 3946075.8124973765\n",
      "Best position: [0, 0, 0, 0, 0, 0, 0, 0, 0, 0, 0, 0, 2528.1228900680458, 0, 2121.4013546005913, 2536.093144495332, 2521.542452188425, 0, 2287.5149225387095, 0, 0, 0, 0, 0]\n",
      "Best fitness: 5005987.4718152825\n",
      "Best position: [0, 0, 0, 0, 0, 0, 0, 0, 0, 0, 0, 0, 0, 2533.7489115166604, 0, 0, 769.2349040244166, 2439.1406753203414, 2287.5149225387095, 2184.609138687666, 0, 0, 0, 1780.426211803036]\n",
      "Best fitness: 4043501.027960943\n",
      "Best position: [0, 0, 0, 0, 0, 0, 0, 0, 0, 0, 0, 2525.4701233033015, 0, 0, 0, 2221.0065905393312, 2521.542452188425, 2439.1406753203414, 2287.5149225387095, 0, 0, 0, 0, 0]\n",
      "Best fitness: 4884950.2033705665\n",
      "Best position: [0, 0, 0, 0, 0, 0, 0, 0, 295.1151041568705, 0, 0, 0, 0, 2533.7489115166604, 0, 0, 2521.542452188425, 0, 2287.5149225387095, 0, 2063.7855929448956, 0, 0, 1780.426211803036]\n",
      "Best fitness: 4119582.515290683\n",
      "Best position: [0, 0, 0, 0, 0, 0, 0, 0, 0, 0, 0, 2525.4701233033015, 0, 0, 2540.8695911349905, 0, 2521.542452188425, 2439.1406753203414, 1967.6519219440247, 0, 0, 0, 0, 0]\n",
      "Best fitness: 4798428.5825407\n",
      "Best position: [0, 0, 0, 0, 0, 0, 0, 0, 295.11510415686035, 0, 0, 0, 0, 2533.7489115166604, 0, 2536.093144495332, 2521.542452188425, 0, 2287.5149225387095, 0, 0, 0, 0, 0]\n",
      "Best fitness: 4142025.9982342143\n",
      "Best position: [0, 0, 0, 0, 0, 0, 0, 0, 23.628936136729216, 0, 0, 2525.4701233033015, 0, 2280.956096200482, 2540.8695911349905, 0, 0, 2439.1406753203414, 0, 2184.609138687666, 0, 0, 0, 0]\n",
      "Best fitness: 5035856.004951236\n",
      "Best position: [0, 0, 0, 0, 0, 0, 0, 0, 0, 0, 0, 2525.4701233033015, 2528.1228900680458, 2533.7489115166604, 1636.822361911635, 0, 2521.542452188425, 0, 0, 248.96796562882741, 0, 0, 0, 0]\n",
      "Best fitness: 3966971.5503850062\n",
      "Best position: [0, 0, 0, 0, 0, 0, 0, 0, 0, 0, 0, 0, 0, 2533.7489115166604, 2115.775333151961, 2536.093144495332, 2521.542452188425, 0, 2287.5149225387095, 0, 0, 0, 0, 0]\n",
      "Best fitness: 4798428.582540699\n",
      "Best position: [0, 0, 0, 0, 0, 0, 0, 0, 0, 0, 0, 2525.4701233033015, 0, 2533.7489115166604, 1652.5932915725589, 931.5618942731049, 0, 0, 2287.5149225387095, 0, 2063.7855929448956, 0, 0, 0]\n",
      "Best fitness: 3945073.0744670588\n"
     ]
    },
    {
     "name": "stderr",
     "output_type": "stream",
     "text": [
      " 90%|█████████ | 9/10 [1:45:20<11:38, 698.70s/it]"
     ]
    },
    {
     "name": "stdout",
     "output_type": "stream",
     "text": [
      "Best position: [0, 0, 0, 0, 0, 0, 0, 0, 295.11510415687263, 0, 0, 2525.4701233033015, 0, 0, 2540.8695911349905, 0, 0, 2439.1406753203414, 0, 0, 0, 0, 0, 1780.426211803036]\n",
      "Best fitness: 5576391.407503355\n",
      "Best position: [0, 0, 0, 0, 0, 0, 0, 0, 0, 0, 0, 2525.4701233033015, 0, 0, 2540.8695911349905, 0, 2521.542452188425, 2439.1406753203414, 2287.5149225387095, 1012.8786398295106, 0, 0, 0, 0]\n",
      "Best fitness: 3728891.8807995017\n",
      "Best position: [0, 0, 0, 0, 0, 0, 0, 0, 0, 0, 0, 0, 2528.1228900680458, 0, 2540.8695911349905, 2536.093144495332, 0, 2439.1406753203414, 0, 0, 2063.7855929448956, 1219.4045103596334, 0, 0]\n",
      "Best fitness: 4982600.766729602\n",
      "Best position: [0, 0, 0, 0, 0, 0, 0, 0, 0, 1203.5749100507544, 0, 0, 2528.1228900680458, 0, 0, 2536.093144495332, 0, 2439.1406753203414, 2287.5149225387095, 0, 2063.7855929448956, 0, 269.18408155948117, 0]\n",
      "Best fitness: 3890038.465715361\n",
      "Best position: [0, 0, 0, 0, 0, 0, 0, 0, 0, 227.12446397686523, 2510.151368746072, 0, 0, 0, 0, 0, 2521.542452188425, 0, 2287.5149225387095, 2184.609138687666, 2063.7855929448956, 1532.6882133719891, 0, 0]\n",
      "Best fitness: 4703621.900952269\n",
      "Best position: [0, 0, 0, 0, 0, 0, 0, 0, 0, 1203.5780195882362, 0, 2525.4701233033015, 0, 2533.7489115166604, 2540.8695911349905, 0, 0, 2439.1406753203414, 0, 0, 0, 0, 1788.6363203335484, 0]\n",
      "Best fitness: 3870746.045310151\n",
      "Best position: [0, 0, 0, 0, 0, 0, 0, 0, 327.90567128130056, 0, 0, 2525.4701233033015, 2528.1228900680458, 0, 2540.8695911349905, 2536.093144495332, 0, 0, 0, 0, 0, 0, 0, 0]\n",
      "Best fitness: 5370568.220352545\n",
      "Best position: [0, 0, 0, 0, 0, 0, 0, 0, 0, 0, 2510.151368746072, 0, 408.37833576891944, 2533.7489115166604, 2540.8695911349905, 2536.093144495332, 2521.542452188425, 0, 0, 0, 0, 0, 276.63236374386446, 0]\n",
      "Best fitness: 3802112.242904019\n",
      "Best position: [0, 0, 0, 0, 0, 0, 0, 0, 0, 226.7303569861916, 2510.151368746072, 0, 0, 2533.7488997165683, 0, 1927.70572583486, 0, 2439.1406753203414, 0, 2184.609138687666, 0, 1505.32220512119, 0, 0]\n",
      "Best fitness: 4839915.845463678\n",
      "Best position: [0, 0, 0, 0, 0, 0, 0, 0, 0, 0, 740.9774222488892, 0, 0, 2533.7489115166604, 2540.8695911349905, 2536.093144495332, 2521.542452188425, 2439.1406753203414, 0, 0, 0, 0, 0, 0]\n",
      "Best fitness: 3722620.614042445\n",
      "Best position: [0, 0, 0, 0, 0, 0, 0, 0, 0, 0, 2510.151368746072, 1505.2813925816893, 0, 0, 0, 0, 2521.542452188425, 2439.1406753203414, 2287.5149225387095, 0, 2063.7855929448956, 0, 0, 0]\n",
      "Best fitness: 4881012.194529224\n",
      "Best position: [0, 0, 0, 0, 0, 0, 0, 0, 0, 0, 2510.151368746072, 0, 0, 0, 0, 2536.093144495332, 0, 2439.1406753203414, 2287.5149225387095, 1490.7307002700877, 2063.7855929448956, 0, 0, 0]\n",
      "Best fitness: 3883981.8037789185\n"
     ]
    },
    {
     "name": "stderr",
     "output_type": "stream",
     "text": [
      "100%|██████████| 10/10 [1:56:55<00:00, 701.59s/it]"
     ]
    },
    {
     "name": "stdout",
     "output_type": "stream",
     "text": [
      "Best position: [0, 0, 0, 0, 0, 0, 0, 0, 0, 227.12412705902537, 2510.151368746072, 0, 2528.1228900680458, 0, 1348.60721411999, 0, 2521.542452188425, 0, 2287.5149225387095, 0, 0, 1904.3532678381785, 0, 0]\n",
      "Best fitness: 4829236.933374269\n"
     ]
    },
    {
     "name": "stderr",
     "output_type": "stream",
     "text": [
      "\n"
     ]
    }
   ],
   "source": [
    "weather_list = ['spring', 'summer', 'fall', 'winter']\n",
    "position_list = []\n",
    "fitness_list = []\n",
    "price_list = []\n",
    "before_optimal_list = []\n",
    "\n",
    "\n",
    "for k in tqdm(range(10)):\n",
    "    q = clear_sky_model_pred(128.5647, 38.2509, 10000, weather_eda)\n",
    "\n",
    "    using = group_by_means(q)\n",
    "    \n",
    "    using_scale = using * (k + 1) / 10\n",
    "    \n",
    "    for j in range(3):\n",
    "        # 데이터프레임에 각 결과 저장\n",
    "        for i in weather_list:\n",
    "            best_position, best_fitness, before_price, before_optimal = cal_price(using_scale.values, qq, i)\n",
    "            \n",
    "            # 결과를 하나의 행에 저장\n",
    "            position_list.append(best_position)\n",
    "            fitness_list.append(best_fitness)\n",
    "            price_list.append(before_price)\n",
    "            before_optimal_list.append(before_optimal)\n",
    "    "
   ]
  }
 ],
 "metadata": {
  "kernelspec": {
   "display_name": "Python 3",
   "language": "python",
   "name": "python3"
  },
  "language_info": {
   "codemirror_mode": {
    "name": "ipython",
    "version": 3
   },
   "file_extension": ".py",
   "mimetype": "text/x-python",
   "name": "python",
   "nbconvert_exporter": "python",
   "pygments_lexer": "ipython3",
   "version": "3.11.4"
  },
  "orig_nbformat": 4
 },
 "nbformat": 4,
 "nbformat_minor": 2
}
