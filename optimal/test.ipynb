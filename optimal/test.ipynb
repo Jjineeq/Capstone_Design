{
 "cells": [
  {
   "cell_type": "code",
   "execution_count": 50,
   "metadata": {},
   "outputs": [],
   "source": [
    "from math import *\n",
    "import random\n",
    "import sys\n",
    "import numpy as np"
   ]
  },
  {
   "cell_type": "code",
   "execution_count": 51,
   "metadata": {},
   "outputs": [],
   "source": [
    "current_phases0 = [31.00, 3.00, 17.00, 3.00, 27.00, 3.00, 38.00, 3.00, 52.00, 3.00, 33.00, 3.00, 17.00, 3.00, 22.00, 3.00, 32.00, 3.00, 61.00, 3.00,\n",
    "                   25.00, 3.00, 47.00, 3.00, 18.00, 3.00, 51.00, 3.00, 24.00, 3.00]"
   ]
  },
  {
   "cell_type": "code",
   "execution_count": 52,
   "metadata": {},
   "outputs": [],
   "source": [
    "class Particle:\n",
    "    def __init__(self, max_iter):\n",
    "        self.position = current_phases0.copy()  # particle current position\n",
    "        self.velocity = [random.uniform(-1, 1) for _ in range(30)]  # particle current velocity\n",
    "        self.best_position = current_phases0.copy()  # particle best position\n",
    "        self.fitness = sys.maxsize   # particle fitness\n",
    "        self.best_fitness = sys.maxsize  # particle best fitness\n",
    "        self.iteration = 0 # 반복 횟수\n",
    "        self.max_iter = max_iter\n",
    "\n",
    "    def evaluate_fitness(self, fitness_func):\n",
    "        self.fitness = fitness_func(self.position)\n",
    "        if self.fitness < self.best_fitness:\n",
    "            self.best_position = self.position.copy()\n",
    "            self.best_fitness = self.fitness\n",
    "\n",
    "    def update_velocity(self, global_best_position):\n",
    "        w_min = 0.7\n",
    "        w_max = 1.2\n",
    "        self.iteration += 1\n",
    "        w = w_max - ((w_max - w_min) * self.iteration / self.max_iter)\n",
    "        c1 = 1.5\n",
    "        c2 = 2.5\n",
    "        for i in range(len(self.position)):\n",
    "            r1 = random.random()\n",
    "            r2 = random.random()\n",
    "            cognitive_velocity = c1 * r1 * (self.best_position[i] - self.position[i])\n",
    "            social_velocity = c2 * r2 * (global_best_position[i] - self.position[i])\n",
    "            self.velocity[i] = w * self.velocity[i] + cognitive_velocity + social_velocity\n",
    "\n",
    "    def update_position(self, bounds):\n",
    "        for i in range(len(self.position)):\n",
    "            self.position[i] += self.velocity[i]\n",
    "            if self.position[i] <= bounds[i][0]:\n",
    "                self.position[i] = bounds[i][0]\n",
    "            elif self.position[i] >= bounds[i][1]:\n",
    "                self.position[i] = bounds[i][1]\n",
    "\n",
    "class PSO:\n",
    "    def __init__(self, fitness_function, bounds, num_particles, max_iter):\n",
    "        self.fitness_func = fitness_function\n",
    "        self.bounds = bounds\n",
    "        self.num_particles = num_particles\n",
    "        self.max_iter = max_iter\n",
    "        self.global_best_position = current_phases0.copy()\n",
    "        self.global_best_fitness = sys.maxsize\n",
    "        self.swarm = [Particle(max_iter) for _ in range(num_particles)]\n",
    "\n",
    "    def run_result(self):\n",
    "        for i in range(self.max_iter):\n",
    "            for j in range(self.num_particles):\n",
    "                self.swarm[j].evaluate_fitness(self.fitness_func)\n",
    "                if self.swarm[j].fitness < self.global_best_fitness:\n",
    "                    self.global_best_position = self.swarm[j].position.copy()\n",
    "                    self.global_best_fitness = self.swarm[j].fitness\n",
    "            for j in range(self.num_particles):\n",
    "                self.swarm[j].update_velocity(self.global_best_position)\n",
    "                self.swarm[j].update_position(self.bounds)\n",
    "        print('Best position:', self.global_best_position)\n",
    "        print('Best fitness:', self.global_best_fitness)\n",
    "        return self.global_best_position, self.global_best_fitness\n"
   ]
  },
  {
   "cell_type": "code",
   "execution_count": 70,
   "metadata": {},
   "outputs": [],
   "source": [
    "import pandas as pd"
   ]
  },
  {
   "cell_type": "code",
   "execution_count": 116,
   "metadata": {},
   "outputs": [],
   "source": [
    "result = []\n",
    "def objective_function(x):\n",
    "\n",
    "    # if sum(x1) != 120:\n",
    "    #     return sys.maxsize\n",
    "    # elif sum(x2) != 120:\n",
    "    #     return sys.maxsize\n",
    "    # elif sum(x3) != 120:\n",
    "    #     return sys.maxsize\n",
    "    \n",
    "    # penalty = 1000  # penalty value\n",
    "    # sum_cond1 = abs(180 - sum(x[:10])) * penalty\n",
    "    # sum_cond2 = abs(180 - sum(x[10:20])) * penalty\n",
    "    # sum_cond3 = abs(180 - sum(x[20:30])) * penalty\n",
    "    \n",
    "    z = sum(x)  #+ sum_cond1 + sum_cond2 + sum_cond3\n",
    "    \n",
    "    result.append([x, z])\n",
    "    \n",
    "    if len(result) % 1000 ==0:\n",
    "        pd.DataFrame(result).to_csv('result{}.csv'.format(len(result)), header=False, index=False)\n",
    "    \n",
    "    return z\n",
    "\n",
    "min_dur = [30, 3, 40, 3, 50, 3, 10, 3, 10, 3, 10, 3, 20, 3, 10, 3, 50, 3, 10, 3,10, 3, 10, 3, 10, 3, 10, 3, 10, 3]\n",
    "max_dur = [50, 3, 70, 3, 100, 3, 70, 3, 30, 3, 30, 3, 30, 3, 40, 3, 200, 3, 30, 3,30, 3, 30, 3, 30, 3, 50, 3, 40, 3]\n",
    "\n"
   ]
  },
  {
   "cell_type": "code",
   "execution_count": 117,
   "metadata": {},
   "outputs": [],
   "source": [
    "bounds = []\n",
    "for i in range(len(min_dur)):\n",
    "    bounds.append((min_dur[i], max_dur[i]))\n"
   ]
  },
  {
   "cell_type": "code",
   "execution_count": 118,
   "metadata": {},
   "outputs": [
    {
     "name": "stdout",
     "output_type": "stream",
     "text": [
      "Best position: [30, 3, 40, 3, 50, 3, 10, 3, 30, 3, 10, 3, 20, 3, 10, 3, 50, 3, 10, 3, 10, 3, 30, 3, 10, 3, 50, 3, 10, 3]\n",
      "Best fitness: 415\n"
     ]
    }
   ],
   "source": [
    "if __name__ == \"__main__\":\n",
    "    num_particles = 10\n",
    "    maxiter = 2000\n",
    "    pso = PSO(objective_function, bounds, num_particles, maxiter)\n",
    "    pso.run_result()"
   ]
  },
  {
   "cell_type": "code",
   "execution_count": null,
   "metadata": {},
   "outputs": [],
   "source": []
  }
 ],
 "metadata": {
  "kernelspec": {
   "display_name": "Python 3",
   "language": "python",
   "name": "python3"
  },
  "language_info": {
   "codemirror_mode": {
    "name": "ipython",
    "version": 3
   },
   "file_extension": ".py",
   "mimetype": "text/x-python",
   "name": "python",
   "nbconvert_exporter": "python",
   "pygments_lexer": "ipython3",
   "version": "3.11.4"
  },
  "orig_nbformat": 4
 },
 "nbformat": 4,
 "nbformat_minor": 2
}
