{
 "cells": [
  {
   "cell_type": "code",
   "execution_count": 1,
   "metadata": {},
   "outputs": [],
   "source": [
    "import pandas as pd\n",
    "import numpy as np\n",
    "import matplotlib.pyplot as plt\n",
    "import warnings\n",
    "warnings.filterwarnings('ignore')\n",
    "import seaborn as sns\n",
    "import matplotlib\n",
    "matplotlib.rcParams['font.family'] ='Malgun Gothic'\n",
    "matplotlib.rcParams['axes.unicode_minus'] =False\n",
    "from tqdm import tqdm"
   ]
  },
  {
   "cell_type": "code",
   "execution_count": 2,
   "metadata": {},
   "outputs": [],
   "source": [
    "energy = pd.read_csv('C:/Users/user/github/Data/energy/train.csv', encoding='cp949')"
   ]
  },
  {
   "cell_type": "code",
   "execution_count": 3,
   "metadata": {},
   "outputs": [],
   "source": [
    "solar = pd.read_csv('C:\\\\Users\\\\user\\\\github\\\\Data\\\\capstone\\\\weather/solar_power_2204.csv')"
   ]
  },
  {
   "cell_type": "code",
   "execution_count": 4,
   "metadata": {},
   "outputs": [],
   "source": [
    "solar['datetime'] = pd.to_datetime(solar['datetime'])\n",
    "solar.target.replace(65535.0, solar.target.mean(), inplace=True)\n",
    "solar['month'] = solar.datetime.dt.month\n",
    "solar['hour'] = solar.datetime.dt.hour\n",
    "solar['year'] = solar.datetime.dt.year\n",
    "solar['day'] = solar.datetime.dt.day\n",
    "\n",
    "solar_eda = solar.groupby(['year','month','day','hour']).mean().reset_index()\n",
    "solar_eda[['year','month','day','hour']] = solar_eda[['year','month','day','hour']].astype('str')\n",
    "solar_eda['date'] = (solar_eda.year + '-' + solar_eda.month + '-' + solar_eda.day + ' ' + solar_eda.hour + ':00')\n",
    "solar_eda.date = pd.to_datetime(solar_eda.date)"
   ]
  },
  {
   "cell_type": "code",
   "execution_count": 5,
   "metadata": {},
   "outputs": [],
   "source": [
    "solar_eda = solar_eda.set_index('date')\n",
    "solar_eda = solar_eda.fillna(0)"
   ]
  },
  {
   "cell_type": "code",
   "execution_count": 6,
   "metadata": {},
   "outputs": [],
   "source": [
    "ee = solar.groupby(['hour']).mean().target\n",
    "\n",
    "ee[:7] = 0\n",
    "ee[20:] = 0\n",
    "ee = ee * 2.5"
   ]
  },
  {
   "cell_type": "code",
   "execution_count": 7,
   "metadata": {},
   "outputs": [],
   "source": [
    "winter_max = [9, 10, 11, 16, 17, 18]\n",
    "winter_mid = [8, 12, 13, 14, 15, 19, 20, 21]\n",
    "winter_min = [0, 1, 2, 3, 4, 5, 6, 7, 22, 23]\n",
    "\n",
    "spring_max = [11, 13, 14, 15, 16, 17]\n",
    "spring_mid = [9, 10, 12, 18, 19, 20, 21]\n",
    "spring_min = [0, 1, 2, 3, 4, 5, 6, 7, 22, 23]"
   ]
  },
  {
   "cell_type": "code",
   "execution_count": 8,
   "metadata": {},
   "outputs": [],
   "source": [
    "df = pd.read_csv('C:/Users/user/github/Data/energy/train.csv', encoding='cp949')"
   ]
  },
  {
   "cell_type": "code",
   "execution_count": 9,
   "metadata": {},
   "outputs": [],
   "source": [
    "df.date_time = pd.to_datetime(df.date_time)"
   ]
  },
  {
   "cell_type": "code",
   "execution_count": 10,
   "metadata": {},
   "outputs": [],
   "source": [
    "eda_df = df.copy()\n",
    "\n",
    "eda_df['month'] = 0\n",
    "eda_df['hour'] = 0\n",
    "eda_df['year'] = 0\n",
    "eda_df['day'] = 0\n",
    "eda_df['요일'] = 0"
   ]
  },
  {
   "cell_type": "code",
   "execution_count": 11,
   "metadata": {},
   "outputs": [],
   "source": [
    "days = {0: '월요일', 1: '화요일', 2: '수요일', 3: '목요일', 4: '금요일', 5: '토요일', 6: '일요일'}"
   ]
  },
  {
   "cell_type": "code",
   "execution_count": 12,
   "metadata": {},
   "outputs": [],
   "source": [
    "eda_df['month'] = eda_df.date_time.dt.month\n",
    "eda_df['hour'] = eda_df.date_time.dt.hour\n",
    "eda_df['year'] = eda_df.date_time.dt.year\n",
    "eda_df['day'] = eda_df.date_time.dt.day"
   ]
  },
  {
   "cell_type": "code",
   "execution_count": 13,
   "metadata": {},
   "outputs": [],
   "source": [
    "eda_df['요일'] = eda_df.date_time.dt.weekday"
   ]
  },
  {
   "cell_type": "code",
   "execution_count": 14,
   "metadata": {},
   "outputs": [],
   "source": [
    "eda_df = eda_df[eda_df['요일'] < 6]"
   ]
  },
  {
   "cell_type": "code",
   "execution_count": 15,
   "metadata": {},
   "outputs": [],
   "source": [
    "eda_df['요일'] = eda_df['date_time'].dt.weekday.map(days)"
   ]
  },
  {
   "cell_type": "code",
   "execution_count": 16,
   "metadata": {},
   "outputs": [],
   "source": [
    "from math import *\n",
    "import random\n",
    "import sys"
   ]
  },
  {
   "cell_type": "code",
   "execution_count": 17,
   "metadata": {},
   "outputs": [],
   "source": [
    "summer_price = [84.8, 84.8, 84.8, 84.8, 84.8,\n",
    "                84.8, 84.8, 84.8, 137.7, 137.7,\n",
    "                137.7, 219.8, 137.7, 219.8, 219.8,\n",
    "                219.8, 219.8, 219.8, 137.7, 137.7,\n",
    "                137.7, 137.7, 84.8, 84.8]\n",
    "\n",
    "normal_price = [84.8, 84.8, 84.8, 84.8, 84.8,\n",
    "                84.8, 84.8, 84.8, 107.3, 107.3,\n",
    "                107.3, 138, 107.3, 138, 138,\n",
    "                138, 138, 138, 107.3, 107.3,\n",
    "                107.3, 107.3, 84.8, 84.8]\n",
    "\n",
    "winter_price = [91.8, 91.8, 91.8, 91.8, 91.8, \n",
    "                91.8, 91.8, 91.8, 137.9, 195.4,\n",
    "                195.4, 195.4, 137.9, 137.9, 137.9,\n",
    "                137.9, 195.4, 195.4, 195.4, 137.9,\n",
    "                137.9, 137.9, 91.8, 91.8]\n",
    "\n",
    "winter_max = [9, 10, 11, 16, 17, 18]\n",
    "winter_mid = [8, 12, 13, 14, 15, 19, 20, 21]\n",
    "winter_min = [0, 1, 2, 3, 4, 5, 6, 7, 22, 23]\n",
    "\n",
    "other_max = [11, 13, 14, 15, 16, 17]\n",
    "other_mid = [8, 9, 10, 12, 18, 19, 20, 21]\n",
    "other_min = [0, 1, 2, 3, 4, 5, 6, 7, 22, 23]\n",
    "\n",
    "price_dict = {\"winter\": winter_price, \"spring\": normal_price, \"summer\": summer_price, \"fall\": normal_price}\n",
    "\n",
    "time_dict = {\"winter_max\": winter_max, \"winter_mid\": winter_mid, \"winter_min\": winter_min,\n",
    "             \"spring_max\": other_max, \"spring_mid\": other_mid, \"spring_min\": other_min}\n"
   ]
  },
  {
   "cell_type": "code",
   "execution_count": 18,
   "metadata": {},
   "outputs": [],
   "source": [
    "class Particle:\n",
    "    def __init__(self, max_iter, initial_position=None):\n",
    "        if initial_position:  # If an initial position is provided\n",
    "            self.position = initial_position.copy()\n",
    "        else:\n",
    "            self.position = [0.0]*24  # particle current position\n",
    "        self.velocity = [random.uniform(-1, 1) for _ in range(24)]  # particle current velocity\n",
    "        self.best_position = [0.0]*24  # particle best position\n",
    "        self.fitness = sys.maxsize   # particle fitness\n",
    "        self.best_fitness = sys.maxsize  # particle best fitness\n",
    "        self.iteration = 0  # iteration count\n",
    "        self.max_iter = max_iter\n",
    "        self.history = []\n",
    "\n",
    "    def evaluate_fitness(self, fitness_func):\n",
    "        self.fitness = fitness_func(self.position)\n",
    "        if self.fitness < self.best_fitness:\n",
    "            self.best_position = self.position.copy()\n",
    "            self.best_fitness = self.fitness\n",
    "\n",
    "    def update_velocity(self, global_best_position):\n",
    "        w_min = 0.5\n",
    "        w_max = 1\n",
    "        self.iteration += 1\n",
    "        w = w_max - ((w_max - w_min) * self.iteration / self.max_iter)\n",
    "        c1 = 1\n",
    "        c2 = 1.5\n",
    "        for i in range(len(self.position)):\n",
    "            r1 = random.random()\n",
    "            r2 = random.random()\n",
    "            cognitive_velocity = c1 * r1 * (self.best_position[i] - self.position[i])\n",
    "            social_velocity = c2 * r2 * (global_best_position[i] - self.position[i])\n",
    "            self.velocity[i] = w * self.velocity[i] + cognitive_velocity + social_velocity\n",
    "\n",
    "    def update_position(self, bounds):\n",
    "        for i in range(len(self.position)):\n",
    "            self.position[i] += self.velocity[i]\n",
    "            if self.position[i] < bounds[i][0]:\n",
    "                self.position[i] = bounds[i][0]\n",
    "            elif self.position[i] > bounds[i][1]:\n",
    "                self.position[i] = bounds[i][1]\n",
    "        self.history = (self.iteration, self.position.copy(), self.fitness)\n",
    "\n",
    "class PSO:\n",
    "    def __init__(self, fitness_function, bounds, num_particles, max_iter, initial_positions=None):\n",
    "        self.fitness_func = fitness_function\n",
    "        self.bounds = bounds\n",
    "        self.num_particles = num_particles\n",
    "        self.max_iter = max_iter\n",
    "        self.global_best_position = [0.0]*24\n",
    "        self.global_best_fitness = sys.maxsize\n",
    "        self.history = []\n",
    "        if initial_positions:\n",
    "            self.swarm = [Particle(max_iter, initial_position=pos) for pos in initial_positions]\n",
    "        else:\n",
    "            self.swarm = [Particle(max_iter) for _ in range(num_particles)]\n",
    "\n",
    "    def run_result(self):\n",
    "        for i in range(self.max_iter):\n",
    "            for j in range(self.num_particles):\n",
    "                self.swarm[j].evaluate_fitness(self.fitness_func)\n",
    "                if self.swarm[j].fitness < self.global_best_fitness:\n",
    "                    self.global_best_position = self.swarm[j].position.copy()\n",
    "                    self.global_best_fitness = self.swarm[j].fitness\n",
    "            for j in range(self.num_particles):\n",
    "                self.swarm[j].update_velocity(self.global_best_position)\n",
    "                self.swarm[j].update_position(self.bounds)\n",
    "            self.history.append((i, self.global_best_position.copy(), self.global_best_fitness))\n",
    "        return self.global_best_position, self.global_best_fitness, self.history\n",
    "\n",
    "def compute_group_mean(data, prices):\n",
    "    price_groups = {}\n",
    "    # Group data by prices\n",
    "    for d, p in zip(data, prices):\n",
    "        if p not in price_groups:\n",
    "            price_groups[p] = []\n",
    "        price_groups[p].append(d)\n",
    "    # Compute mean for each group\n",
    "    group_means = {k: np.mean(v) for k, v in price_groups.items()}\n",
    "    return group_means\n",
    "\n",
    "\n",
    "def find_peak_group(season_price, power_use):\n",
    "    # Create a dictionary to map price to hours\n",
    "    price_to_hours = {}\n",
    "    for hour, price in enumerate(season_price):\n",
    "        if price not in price_to_hours:\n",
    "            price_to_hours[price] = []\n",
    "        price_to_hours[price].append(hour)\n",
    "    \n",
    "    # Identify the group with the highest power use\n",
    "    max_power = -float('inf')\n",
    "    peak_group = None\n",
    "    for price, hours in price_to_hours.items():\n",
    "        total_power = sum([power_use[hour] for hour in hours])\n",
    "        if total_power > max_power:\n",
    "            max_power = total_power\n",
    "            peak_group = hours\n",
    "\n",
    "    return peak_group\n",
    "\n",
    "\n",
    "def fitness_func(position, season, power_generated, power_use):\n",
    "    total_cost = 0\n",
    "    cumulative_generated = 0\n",
    "    cumulative_used = 0\n",
    "    consumption_pattern = []\n",
    "    season_price = price_dict[season]\n",
    "    for i in range(24):\n",
    "        cumulative_generated += power_generated[i]\n",
    "        cumulative_used += position[i]\n",
    "        if cumulative_used > cumulative_generated:  # Cannot use more than generated\n",
    "            return sys.maxsize\n",
    "        consumption_pattern.append(power_use[i] - position[i])\n",
    "        total_cost += (power_use[i] - position[i]) * season_price[i]\n",
    "\n",
    "        if position[i] > power_use[i] * 0.9 :\n",
    "            return sys.maxsize\n",
    "        \n",
    "    return total_cost\n",
    "\n",
    "def variance_fitness_func_with_group_mean(position, base_cost, season, power_generated, power_use):\n",
    "    total_cost = 0\n",
    "    cumulative_generated = 0\n",
    "    cumulative_used = 0\n",
    "    consumption_pattern = []\n",
    "    season_price = price_dict[season]\n",
    "    \n",
    "    for i in range(24):\n",
    "        cumulative_generated += power_generated[i]\n",
    "        cumulative_used += position[i]\n",
    "        \n",
    "        if cumulative_used > cumulative_generated:\n",
    "            return sys.maxsize\n",
    "        \n",
    "        if position[i] > power_use[i] * 0.9 :\n",
    "            return sys.maxsize\n",
    "        \n",
    "        consumption_pattern.append(power_use[i] - position[i])\n",
    "        total_cost += (power_use[i] - position[i]) * season_price[i]\n",
    "    \n",
    "    if total_cost > base_cost:\n",
    "        return sys.maxsize\n",
    "    \n",
    "    group_means = compute_group_mean(consumption_pattern, season_price)\n",
    "    peak_group = find_peak_group(season_price, power_use)\n",
    "    \n",
    "    weighted_deviation = sum([(consumption_pattern[i] - group_means[season_price[i]])**2 for i in peak_group])\n",
    "\n",
    "    # peak_weight = 0.8  \n",
    "    # total_deviation = (peak_weight * weighted_deviation) + (1 - peak_weight) * sum([(consumption_pattern[i] - group_means[season_price[i]])**2 for i in range(24) if i not in peak_group])\n",
    "\n",
    "    return weighted_deviation\n",
    "\n",
    "def cal_price_with_variance_optimization_updated(power_generated, power_use, weather):\n",
    "    bounds = [(0, power_use[i] * 0.9) for i in range(24)]\n",
    "    initial_positions = [(power_generated*0.2).tolist() if i < 125 else [0]*24 for i in range(250)] \n",
    "    pso_price = PSO(lambda x: fitness_func(x, weather, power_generated, power_use), bounds, num_particles = 10, max_iter = 20, initial_positions=initial_positions)\n",
    "    best_position_price, best_fitness_price, history = pso_price.run_result()\n",
    "    \n",
    "    initial_positions_variance = [best_position_price for _ in range(200)]\n",
    "    pso_variance = PSO(lambda x: variance_fitness_func_with_group_mean(x, best_fitness_price, weather, power_generated, power_use), \n",
    "                       bounds, num_particles=10, max_iter=10, initial_positions=initial_positions_variance)\n",
    "    best_position_variance, _ , his_2 = pso_variance.run_result()\n",
    "    \n",
    "    weather_price = {\"winter\": winter_price, \"spring\": normal_price, \"summer\": summer_price, \"fall\": normal_price}\n",
    "    best_fitness_price = np.dot(np.array(power_use) - np.array(best_position_variance), weather_price[weather])\n",
    "    before_price = np.dot(power_use, weather_price[weather])\n",
    "    before_optimal_price = np.dot(np.array(power_use) - np.array(power_generated), weather_price[weather])\n",
    "\n",
    "    return best_position_variance, best_fitness_price, before_optimal_price, before_price, history, his_2\n",
    "\n",
    "\n"
   ]
  },
  {
   "cell_type": "code",
   "execution_count": 19,
   "metadata": {},
   "outputs": [],
   "source": [
    "using = [1735.22558912, 1692.90378425, 1666.60942472, 1633.57393765,\n",
    "       1617.61366307, 1648.86508108, 1734.7991391 , 1899.72908325,\n",
    "       2122.85455022, 2338.61845383, 2510.15136875, 2525.4701233 ,\n",
    "       2528.12289007, 2533.74891152, 2540.86959113, 2536.0931445 ,\n",
    "       2521.54245219, 2439.14067532, 2287.51492254, 2184.60913869,\n",
    "       2063.78559294, 1904.35326784, 1788.63632033, 1780.4262118 ]\n",
    "\n",
    "solar = [   0.        ,    0.        ,    0.        ,    0.        ,\n",
    "          0.        ,    0.        ,    0.        ,  124.03086265,\n",
    "        338.65378978,  649.46583908,  934.12122216, 1145.87171128,\n",
    "       1224.68194677, 1202.18163322, 1069.21578177,  838.69461399,\n",
    "        512.95469621,  233.04044732,   82.51842252,   39.37393395,\n",
    "          0.        ,    0.        ,    0.        ,    0.        ]"
   ]
  },
  {
   "cell_type": "code",
   "execution_count": 20,
   "metadata": {},
   "outputs": [],
   "source": [
    "input = eda_df.drop(['기온(°C)','풍속(m/s)','습도(%)','강수량(mm)','일조(hr)','비전기냉방설비운영','태양광보유','month'], axis=1)"
   ]
  },
  {
   "cell_type": "code",
   "execution_count": 21,
   "metadata": {},
   "outputs": [],
   "source": [
    "import pvlib"
   ]
  },
  {
   "cell_type": "code",
   "execution_count": 22,
   "metadata": {},
   "outputs": [],
   "source": [
    "longitude = 128.5647\n",
    "latitude = 38.2509"
   ]
  },
  {
   "cell_type": "code",
   "execution_count": 23,
   "metadata": {},
   "outputs": [],
   "source": [
    "weather_dict = {'winter' : '2018-12-01' , 'spring' : '2019-04-01' , 'summer' : '2019-07-01' , 'fall' : '2019-10-01'}"
   ]
  },
  {
   "cell_type": "code",
   "execution_count": 24,
   "metadata": {},
   "outputs": [],
   "source": [
    "def generation_model(weather, capacity):\n",
    "    location = pvlib.location.Location(latitude, longitude, tz='Asia/Seoul')\n",
    "\n",
    "    # 일일 일사량을 구합니다.\n",
    "    times = pd.date_range(start=weather_dict[weather], \n",
    "                        end = pd.Timestamp(weather_dict[weather]) + pd.Timedelta(days=1) - pd.Timedelta(hours=1), \n",
    "                        freq='1H', tz='Asia/Seoul')\n",
    "    solpos = location.get_solarposition(times=times)\n",
    "    dni_extra = pvlib.irradiance.get_extra_radiation(times)\n",
    "    airmass = pvlib.atmosphere.get_relative_airmass(solpos['apparent_zenith'])\n",
    "    pressure = pvlib.atmosphere.alt2pres(location.altitude)\n",
    "    am_abs = pvlib.atmosphere.get_absolute_airmass(airmass, pressure) \n",
    "    tl = pvlib.clearsky.lookup_linke_turbidity(times, latitude, longitude)\n",
    "\n",
    "    # Simplified Solis model을 적용하여 clear sky GHI, DNI, DHI를 얻습니다.\n",
    "    solis_clearsky = pvlib.clearsky.simplified_solis(solpos['apparent_zenith'], am_abs, tl)\n",
    "    cs = location.get_clearsky(times, model='simplified_solis')\n",
    "\n",
    "    # 발전량을 계산합니다.\n",
    "    system = pvlib.pvsystem.PVSystem(surface_tilt=30, surface_azimuth=180,\n",
    "                                    module_parameters={'pdc0': capacity, 'gamma_pdc': -0.004}, \n",
    "                                    inverter_parameters={'pdc0': capacity},\n",
    "                                    modules_per_string=1, strings_per_inverter=1,\n",
    "                                    temperature_model_parameters={'a': -3.56, 'b': -0.075, 'deltaT': 3})\n",
    "    mc = pvlib.modelchain.ModelChain(system, location, spectral_model='no_loss', aoi_model='no_loss')\n",
    "\n",
    "    mc.run_model(solis_clearsky)\n",
    "\n",
    "    return mc.results.ac"
   ]
  },
  {
   "cell_type": "code",
   "execution_count": 25,
   "metadata": {},
   "outputs": [],
   "source": [
    "test_company = [48, 6, 41, 17, 28, 15, 1, 50, 58]"
   ]
  },
  {
   "cell_type": "code",
   "execution_count": 26,
   "metadata": {},
   "outputs": [],
   "source": [
    "new_position, new_fitness, new_before_optimal_price, new_before_price, _, _ = cal_price_with_variance_optimization_updated(np.array(solar), np.array(using), 'summer')"
   ]
  },
  {
   "cell_type": "code",
   "execution_count": 27,
   "metadata": {},
   "outputs": [
    {
     "name": "stderr",
     "output_type": "stream",
     "text": [
      "  0%|          | 0/4 [00:00<?, ?it/s]"
     ]
    },
    {
     "name": "stderr",
     "output_type": "stream",
     "text": [
      "100%|██████████| 9/9 [00:43<00:00,  4.79s/it]\n",
      "100%|██████████| 9/9 [00:43<00:00,  4.80s/it]\n",
      "100%|██████████| 9/9 [00:42<00:00,  4.78s/it]\n",
      "100%|██████████| 9/9 [00:42<00:00,  4.77s/it]\n",
      "100%|██████████| 4/4 [02:52<00:00, 43.06s/it]\n"
     ]
    }
   ],
   "source": [
    "weather_list = ['spring', 'summer', 'fall', 'winter']\n",
    "results = []  # 결과를 저장할 리스트\n",
    "solar_none_list = eda_df[eda_df['태양광보유']==0].num.unique()\n",
    "fitness_result_list = []\n",
    "\n",
    "\n",
    "for weather in tqdm(weather_list):\n",
    "    for i in tqdm(range(len(test_company))):\n",
    "        using = input[input['num']==test_company[i]].groupby(['hour']).mean()['전력사용량(kWh)'].values\n",
    "\n",
    "        for j in range(1000, 10100, 2000):\n",
    "            solar = generation_model(weather, j)\n",
    "            best_position, best_fitness, before_optimal_price, before_price, _, _ = cal_price_with_variance_optimization_updated(solar, using, weather)\n",
    "            for _ in range(30):\n",
    "                new_position, new_fitness, new_before_optimal_price, new_before_price, _, _  = cal_price_with_variance_optimization_updated(solar, using, weather)\n",
    "                fitness_result_list.append((test_company[i], weather, j, new_fitness, new_before_optimal_price))\n",
    "                if new_fitness < best_fitness:\n",
    "                    best_position, best_fitness, before_optimal_price, before_price = new_position, new_fitness, new_before_optimal_price, new_before_price\n",
    "            \n",
    "            results.append((weather, j, test_company[i], best_position, best_fitness, before_optimal_price, before_price))\n",
    "\n",
    "df_results = pd.DataFrame(results, columns=['Weather', 'Capacity', 'Company', 'BestPosition', 'BestFitness', 'BeforeOptimalPrice', 'BeforePrice'])\n"
   ]
  },
  {
   "cell_type": "code",
   "execution_count": 28,
   "metadata": {},
   "outputs": [],
   "source": [
    "fitness_df = pd.DataFrame(fitness_result_list, columns=['Company', 'Weather', 'Capacity', 'Fitness', 'before_optimal_price'])"
   ]
  },
  {
   "cell_type": "code",
   "execution_count": 29,
   "metadata": {},
   "outputs": [],
   "source": [
    "fitness_df['save_price'] = fitness_df.before_optimal_price - fitness_df.Fitness"
   ]
  },
  {
   "cell_type": "code",
   "execution_count": 30,
   "metadata": {},
   "outputs": [],
   "source": [
    "fitness_df['save_price_per'] = fitness_df.save_price / fitness_df.before_optimal_price * 100"
   ]
  },
  {
   "cell_type": "code",
   "execution_count": 31,
   "metadata": {},
   "outputs": [],
   "source": [
    "df_results['optimal_rate'] = (df_results['BeforeOptimalPrice']-df_results['BestFitness'])/df_results['BeforeOptimalPrice']*100"
   ]
  },
  {
   "cell_type": "code",
   "execution_count": 32,
   "metadata": {},
   "outputs": [],
   "source": [
    "df_results['save_price'] = df_results['BeforeOptimalPrice'] - df_results['BestFitness']"
   ]
  },
  {
   "cell_type": "code",
   "execution_count": 33,
   "metadata": {},
   "outputs": [],
   "source": [
    "spring_df = df_results[df_results['Weather']=='spring']\n",
    "summer_df = df_results[df_results['Weather']=='summer']\n",
    "fall_df = df_results[df_results['Weather']=='fall']\n",
    "winter_df = df_results[df_results['Weather']=='winter']"
   ]
  },
  {
   "cell_type": "code",
   "execution_count": 34,
   "metadata": {},
   "outputs": [],
   "source": [
    "df_results_eda = df_results[df_results['Capacity'] < 8000]"
   ]
  },
  {
   "cell_type": "code",
   "execution_count": 35,
   "metadata": {},
   "outputs": [
    {
     "data": {
      "text/plain": [
       "2019-09-05 00:00:00+09:00       0.000000\n",
       "2019-09-05 01:00:00+09:00       0.000000\n",
       "2019-09-05 02:00:00+09:00       0.000000\n",
       "2019-09-05 03:00:00+09:00       0.000000\n",
       "2019-09-05 04:00:00+09:00       0.000000\n",
       "2019-09-05 05:00:00+09:00       0.000000\n",
       "2019-09-05 06:00:00+09:00       0.000000\n",
       "2019-09-05 07:00:00+09:00       0.000000\n",
       "2019-09-05 08:00:00+09:00     334.297326\n",
       "2019-09-05 09:00:00+09:00     931.366851\n",
       "2019-09-05 10:00:00+09:00    1385.114286\n",
       "2019-09-05 11:00:00+09:00    1586.743072\n",
       "2019-09-05 12:00:00+09:00    1623.649335\n",
       "2019-09-05 13:00:00+09:00    1622.876036\n",
       "2019-09-05 14:00:00+09:00    1567.068971\n",
       "2019-09-05 15:00:00+09:00    1321.960197\n",
       "2019-09-05 16:00:00+09:00     825.803260\n",
       "2019-09-05 17:00:00+09:00     235.668883\n",
       "2019-09-05 18:00:00+09:00       0.000000\n",
       "2019-09-05 19:00:00+09:00       0.000000\n",
       "2019-09-05 20:00:00+09:00       0.000000\n",
       "2019-09-05 21:00:00+09:00       0.000000\n",
       "2019-09-05 22:00:00+09:00       0.000000\n",
       "2019-09-05 23:00:00+09:00       0.000000\n",
       "Freq: H, Name: p_mp, dtype: float64"
      ]
     },
     "execution_count": 35,
     "metadata": {},
     "output_type": "execute_result"
    }
   ],
   "source": [
    "location = pvlib.location.Location(latitude, longitude, tz='Asia/Seoul')\n",
    "\n",
    "# 일일 일사량을 구합니다.\n",
    "times = pd.date_range(start='2019-09-05', \n",
    "                      end = pd.Timestamp('2019-09-05') + pd.Timedelta(days=1) - pd.Timedelta(hours=1), \n",
    "                      freq='1H', tz='Asia/Seoul')\n",
    "solpos = location.get_solarposition(times=times)\n",
    "dni_extra = pvlib.irradiance.get_extra_radiation(times)\n",
    "airmass = pvlib.atmosphere.get_relative_airmass(solpos['apparent_zenith'])\n",
    "pressure = pvlib.atmosphere.alt2pres(location.altitude)\n",
    "am_abs = pvlib.atmosphere.get_absolute_airmass(airmass, pressure) \n",
    "tl = pvlib.clearsky.lookup_linke_turbidity(times, latitude, longitude)\n",
    "\n",
    "# Simplified Solis model을 적용하여 clear sky GHI, DNI, DHI를 얻습니다.\n",
    "solis_clearsky = pvlib.clearsky.simplified_solis(solpos['apparent_zenith'], am_abs, tl)\n",
    "cs = location.get_clearsky(times, model='simplified_solis')\n",
    "\n",
    "# 발전량을 계산합니다.\n",
    "system = pvlib.pvsystem.PVSystem(surface_tilt=30, surface_azimuth=180,\n",
    "                                 module_parameters={'pdc0': 7000, 'gamma_pdc': -0.004}, \n",
    "                                 inverter_parameters={'pdc0': 7000},\n",
    "                                 modules_per_string=1, strings_per_inverter=1,\n",
    "                                 temperature_model_parameters={'a': -3.56, 'b': -0.075, 'deltaT': 3})\n",
    "mc = pvlib.modelchain.ModelChain(system, location, spectral_model='no_loss', aoi_model='no_loss')\n",
    "\n",
    "mc.run_model(solis_clearsky)\n",
    "\n",
    "mc.results.ac"
   ]
  },
  {
   "cell_type": "code",
   "execution_count": 36,
   "metadata": {},
   "outputs": [
    {
     "data": {
      "image/png": "[encoded data removed]",
      "text/plain": [
       "<Figure size 1000x600 with 1 Axes>"
      ]
     },
     "metadata": {},
     "output_type": "display_data"
    }
   ],
   "source": [
    "hours = np.arange(24)\n",
    "total_power = input[input['num']==6].groupby(['hour']).mean()['전력사용량(kWh)'].values\n",
    "solar_power = mc.results.ac.values\n",
    "purchase_power = total_power - solar_power\n",
    "\n",
    "plt.figure(figsize=(10, 6))\n",
    "bar1 = plt.bar(hours, total_power, edgecolor='blue', hatch='//', color='white', label='구매 전력 사용량')  # 전체 전력 사용량 막대\n",
    "bar2 = plt.bar(hours, df_results.loc[53]['BestPosition'],  color = 'orange',label='태양광 발전량 사용량')  \n",
    "line = plt.plot(solar_power, linewidth = 3, color = 'r', marker = '*',markersize = 10, label = '태양광 발전량')\n",
    "line2 = plt.plot(total_power, linewidth = 2, color = 'k', marker = 'o', markersize = 10, label = '실제 전력 사용량')\n",
    "\n",
    "plt.legend(fontsize = 13)\n",
    "plt.xlabel('시간 (h)', fontsize = 15)\n",
    "plt.ylabel('전력 사용량 (kWh)', fontsize = 15)\n",
    "plt.xticks(hours, fontsize = 15)\n",
    "plt.yticks(fontsize = 15)\n",
    "plt.grid(alpha = 0.3)\n",
    "\n",
    "plt.show()\n"
   ]
  },
  {
   "cell_type": "code",
   "execution_count": null,
   "metadata": {},
   "outputs": [],
   "source": []
  }
 ],
 "metadata": {
  "kernelspec": {
   "display_name": "gpu",
   "language": "python",
   "name": "python3"
  },
  "language_info": {
   "codemirror_mode": {
    "name": "ipython",
    "version": 3
   },
   "file_extension": ".py",
   "mimetype": "text/x-python",
   "name": "python",
   "nbconvert_exporter": "python",
   "pygments_lexer": "ipython3",
   "version": "3.10.11"
  },
  "orig_nbformat": 4
 },
 "nbformat": 4,
 "nbformat_minor": 2
}
