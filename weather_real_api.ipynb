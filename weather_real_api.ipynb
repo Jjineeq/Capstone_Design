{
 "cells": [
  {
   "cell_type": "code",
   "execution_count": 4,
   "metadata": {},
   "outputs": [
    {
     "name": "stdout",
     "output_type": "stream",
     "text": [
      "b\"<?xml version='1.0' encoding='UTF-8'?><response><header><resultCode>00</resultCode><resultMsg>OK</resultMsg></header><body><dataType>XML</dataType><totalCount>150960</totalCount><numOfRows>20</numOfRows><pageNo>1</pageNo><items><item><tradeNo>1</tradeNo><tradeYmd>20220101</tradeYmd><regionNm>\\xea\\xb0\\x95\\xec\\x9b\\x90\\xeb\\x8f\\x84</regionNm><amgo>0.313733</amgo><rn>1</rn></item><item><tradeNo>1</tradeNo><tradeYmd>20220101</tradeYmd><regionNm>\\xea\\xb2\\xbd\\xea\\xb8\\xb0\\xeb\\x8f\\x84</regionNm><amgo>0.593492</amgo><rn>2</rn></item><item><tradeNo>1</tradeNo><tradeYmd>20220101</tradeYmd><regionNm>\\xea\\xb2\\xbd\\xec\\x83\\x81\\xeb\\x82\\xa8\\xeb\\x8f\\x84</regionNm><amgo>1.000064</amgo><rn>3</rn></item><item><tradeNo>1</tradeNo><tradeYmd>20220101</tradeYmd><regionNm>\\xea\\xb2\\xbd\\xec\\x83\\x81\\xeb\\xb6\\x81\\xeb\\x8f\\x84</regionNm><amgo>1.605395</amgo><rn>4</rn></item><item><tradeNo>1</tradeNo><tradeYmd>20220101</tradeYmd><regionNm>\\xea\\xb4\\x91\\xec\\xa3\\xbc\\xec\\x8b\\x9c</regionNm><amgo>0.000000</amgo><rn>5</rn></item><item><tradeNo>1</tradeNo><tradeYmd>20220101</tradeYmd><regionNm>\\xeb\\x8c\\x80\\xea\\xb5\\xac\\xec\\x8b\\x9c</regionNm><amgo>0.000000</amgo><rn>6</rn></item><item><tradeNo>1</tradeNo><tradeYmd>20220101</tradeYmd><regionNm>\\xeb\\x8c\\x80\\xec\\xa0\\x84\\xec\\x8b\\x9c</regionNm><amgo>0.000000</amgo><rn>7</rn></item><item><tradeNo>1</tradeNo><tradeYmd>20220101</tradeYmd><regionNm>\\xeb\\xb6\\x80\\xec\\x82\\xb0\\xec\\x8b\\x9c</regionNm><amgo>0.553920</amgo><rn>8</rn></item><item><tradeNo>1</tradeNo><tradeYmd>20220101</tradeYmd><regionNm>\\xec\\x84\\x9c\\xec\\x9a\\xb8\\xec\\x8b\\x9c</regionNm><amgo>0.000000</amgo><rn>9</rn></item><item><tradeNo>1</tradeNo><tradeYmd>20220101</tradeYmd><regionNm>\\xec\\x84\\xb8\\xec\\xa2\\x85\\xec\\x8b\\x9c</regionNm><amgo>0.000000</amgo><rn>10</rn></item><item><tradeNo>1</tradeNo><tradeYmd>20220101</tradeYmd><regionNm>\\xec\\x9a\\xb8\\xec\\x82\\xb0\\xec\\x8b\\x9c</regionNm><amgo>0.000000</amgo><rn>11</rn></item><item><tradeNo>1</tradeNo><tradeYmd>20220101</tradeYmd><regionNm>\\xec\\x9d\\xb8\\xec\\xb2\\x9c\\xec\\x8b\\x9c</regionNm><amgo>3.412560</amgo><rn>12</rn></item><item><tradeNo>1</tradeNo><tradeYmd>20220101</tradeYmd><regionNm>\\xec\\xa0\\x84\\xeb\\x9d\\xbc\\xeb\\x82\\xa8\\xeb\\x8f\\x84</regionNm><amgo>1.148808</amgo><rn>13</rn></item><item><tradeNo>1</tradeNo><tradeYmd>20220101</tradeYmd><regionNm>\\xec\\xa0\\x84\\xeb\\x9d\\xbc\\xeb\\xb6\\x81\\xeb\\x8f\\x84</regionNm><amgo>4.168628</amgo><rn>14</rn></item><item><tradeNo>1</tradeNo><tradeYmd>20220101</tradeYmd><regionNm>\\xec\\xa0\\x9c\\xec\\xa3\\xbc\\xeb\\x8f\\x84</regionNm><amgo>0.000552</amgo><rn>15</rn></item><item><tradeNo>1</tradeNo><tradeYmd>20220101</tradeYmd><regionNm>\\xec\\xb6\\xa9\\xec\\xb2\\xad\\xeb\\x82\\xa8\\xeb\\x8f\\x84</regionNm><amgo>1.669376</amgo><rn>16</rn></item><item><tradeNo>1</tradeNo><tradeYmd>20220101</tradeYmd><regionNm>\\xec\\xb6\\xa9\\xec\\xb2\\xad\\xeb\\xb6\\x81\\xeb\\x8f\\x84</regionNm><amgo>1.447120</amgo><rn>17</rn></item><item><tradeNo>10</tradeNo><tradeYmd>20220101</tradeYmd><regionNm>\\xea\\xb0\\x95\\xec\\x9b\\x90\\xeb\\x8f\\x84</regionNm><amgo>122.360095</amgo><rn>18</rn></item><item><tradeNo>10</tradeNo><tradeYmd>20220101</tradeYmd><regionNm>\\xea\\xb2\\xbd\\xea\\xb8\\xb0\\xeb\\x8f\\x84</regionNm><amgo>61.025384</amgo><rn>19</rn></item><item><tradeNo>10</tradeNo><tradeYmd>20220101</tradeYmd><regionNm>\\xea\\xb2\\xbd\\xec\\x83\\x81\\xeb\\x82\\xa8\\xeb\\x8f\\x84</regionNm><amgo>114.321755</amgo><rn>20</rn></item></items></body></response>\"\n"
     ]
    }
   ],
   "source": [
    "import requests\n",
    "\n",
    "url = 'http://apis.data.go.kr/B552115/PvAmountByLocHr/getPvAmountByLocHr'\n",
    "params ={'serviceKey' : 'HBsd7IB4qCP0hHVD3lw2kZl+bAP0XU7KmA6WDTB8lh8AAbPtxJmuIgLJne4VTQB6NPgsIf9jRJ6nTjW9ZYykdw==', 'pageNo' : '1', 'numOfRows' : '20', 'dataType' : 'XML', 'dataCd' : 'ASOS', 'dateCd' : 'HR', 'startDt' : '20100101', 'startHh' : '01', 'endDt' : '20100601', 'endHh' : '01', 'stnIds' : '108' }\n",
    "\n",
    "response = requests.get(url, params=params)\n",
    "print(response.content)"
   ]
  },
  {
   "cell_type": "code",
   "execution_count": 9,
   "metadata": {},
   "outputs": [
    {
     "data": {
      "text/plain": [
       "b\"<?xml version='1.0' encoding='UTF-8'?><response><header><resultCode>00</resultCode><resultMsg>OK</resultMsg></header><body><dataType>XML</dataType><totalCount>150960</totalCount><numOfRows>20</numOfRows><pageNo>1</pageNo><items><item><tradeNo>1</tradeNo><tradeYmd>20220101</tradeYmd><regionNm>\\xea\\xb0\\x95\\xec\\x9b\\x90\\xeb\\x8f\\x84</regionNm><amgo>0.313733</amgo><rn>1</rn></item><item><tradeNo>1</tradeNo><tradeYmd>20220101</tradeYmd><regionNm>\\xea\\xb2\\xbd\\xea\\xb8\\xb0\\xeb\\x8f\\x84</regionNm><amgo>0.593492</amgo><rn>2</rn></item><item><tradeNo>1</tradeNo><tradeYmd>20220101</tradeYmd><regionNm>\\xea\\xb2\\xbd\\xec\\x83\\x81\\xeb\\x82\\xa8\\xeb\\x8f\\x84</regionNm><amgo>1.000064</amgo><rn>3</rn></item><item><tradeNo>1</tradeNo><tradeYmd>20220101</tradeYmd><regionNm>\\xea\\xb2\\xbd\\xec\\x83\\x81\\xeb\\xb6\\x81\\xeb\\x8f\\x84</regionNm><amgo>1.605395</amgo><rn>4</rn></item><item><tradeNo>1</tradeNo><tradeYmd>20220101</tradeYmd><regionNm>\\xea\\xb4\\x91\\xec\\xa3\\xbc\\xec\\x8b\\x9c</regionNm><amgo>0.000000</amgo><rn>5</rn></item><item><tradeNo>1</tradeNo><tradeYmd>20220101</tradeYmd><regionNm>\\xeb\\x8c\\x80\\xea\\xb5\\xac\\xec\\x8b\\x9c</regionNm><amgo>0.000000</amgo><rn>6</rn></item><item><tradeNo>1</tradeNo><tradeYmd>20220101</tradeYmd><regionNm>\\xeb\\x8c\\x80\\xec\\xa0\\x84\\xec\\x8b\\x9c</regionNm><amgo>0.000000</amgo><rn>7</rn></item><item><tradeNo>1</tradeNo><tradeYmd>20220101</tradeYmd><regionNm>\\xeb\\xb6\\x80\\xec\\x82\\xb0\\xec\\x8b\\x9c</regionNm><amgo>0.553920</amgo><rn>8</rn></item><item><tradeNo>1</tradeNo><tradeYmd>20220101</tradeYmd><regionNm>\\xec\\x84\\x9c\\xec\\x9a\\xb8\\xec\\x8b\\x9c</regionNm><amgo>0.000000</amgo><rn>9</rn></item><item><tradeNo>1</tradeNo><tradeYmd>20220101</tradeYmd><regionNm>\\xec\\x84\\xb8\\xec\\xa2\\x85\\xec\\x8b\\x9c</regionNm><amgo>0.000000</amgo><rn>10</rn></item><item><tradeNo>1</tradeNo><tradeYmd>20220101</tradeYmd><regionNm>\\xec\\x9a\\xb8\\xec\\x82\\xb0\\xec\\x8b\\x9c</regionNm><amgo>0.000000</amgo><rn>11</rn></item><item><tradeNo>1</tradeNo><tradeYmd>20220101</tradeYmd><regionNm>\\xec\\x9d\\xb8\\xec\\xb2\\x9c\\xec\\x8b\\x9c</regionNm><amgo>3.412560</amgo><rn>12</rn></item><item><tradeNo>1</tradeNo><tradeYmd>20220101</tradeYmd><regionNm>\\xec\\xa0\\x84\\xeb\\x9d\\xbc\\xeb\\x82\\xa8\\xeb\\x8f\\x84</regionNm><amgo>1.148808</amgo><rn>13</rn></item><item><tradeNo>1</tradeNo><tradeYmd>20220101</tradeYmd><regionNm>\\xec\\xa0\\x84\\xeb\\x9d\\xbc\\xeb\\xb6\\x81\\xeb\\x8f\\x84</regionNm><amgo>4.168628</amgo><rn>14</rn></item><item><tradeNo>1</tradeNo><tradeYmd>20220101</tradeYmd><regionNm>\\xec\\xa0\\x9c\\xec\\xa3\\xbc\\xeb\\x8f\\x84</regionNm><amgo>0.000552</amgo><rn>15</rn></item><item><tradeNo>1</tradeNo><tradeYmd>20220101</tradeYmd><regionNm>\\xec\\xb6\\xa9\\xec\\xb2\\xad\\xeb\\x82\\xa8\\xeb\\x8f\\x84</regionNm><amgo>1.669376</amgo><rn>16</rn></item><item><tradeNo>1</tradeNo><tradeYmd>20220101</tradeYmd><regionNm>\\xec\\xb6\\xa9\\xec\\xb2\\xad\\xeb\\xb6\\x81\\xeb\\x8f\\x84</regionNm><amgo>1.447120</amgo><rn>17</rn></item><item><tradeNo>10</tradeNo><tradeYmd>20220101</tradeYmd><regionNm>\\xea\\xb0\\x95\\xec\\x9b\\x90\\xeb\\x8f\\x84</regionNm><amgo>122.360095</amgo><rn>18</rn></item><item><tradeNo>10</tradeNo><tradeYmd>20220101</tradeYmd><regionNm>\\xea\\xb2\\xbd\\xea\\xb8\\xb0\\xeb\\x8f\\x84</regionNm><amgo>61.025384</amgo><rn>19</rn></item><item><tradeNo>10</tradeNo><tradeYmd>20220101</tradeYmd><regionNm>\\xea\\xb2\\xbd\\xec\\x83\\x81\\xeb\\x82\\xa8\\xeb\\x8f\\x84</regionNm><amgo>114.321755</amgo><rn>20</rn></item></items></body></response>\""
      ]
     },
     "execution_count": 9,
     "metadata": {},
     "output_type": "execute_result"
    }
   ],
   "source": [
    "response.content"
   ]
  },
  {
   "cell_type": "code",
   "execution_count": null,
   "metadata": {},
   "outputs": [],
   "source": []
  }
 ],
 "metadata": {
  "kernelspec": {
   "display_name": "crawling",
   "language": "python",
   "name": "python3"
  },
  "language_info": {
   "codemirror_mode": {
    "name": "ipython",
    "version": 3
   },
   "file_extension": ".py",
   "mimetype": "text/x-python",
   "name": "python",
   "nbconvert_exporter": "python",
   "pygments_lexer": "ipython3",
   "version": "3.9.15"
  },
  "orig_nbformat": 4,
  "vscode": {
   "interpreter": {
    "hash": "c83ef3adab64e3cbb510cefd6b611928ffaaeddedd527d1b02ef4edcd5a80c0c"
   }
  }
 },
 "nbformat": 4,
 "nbformat_minor": 2
}
