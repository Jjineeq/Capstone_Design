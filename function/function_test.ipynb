{
 "cells": [
  {
   "cell_type": "code",
   "execution_count": 10,
   "metadata": {},
   "outputs": [],
   "source": [
    "from prediction import *\n",
    "import datetime"
   ]
  },
  {
   "cell_type": "code",
   "execution_count": 11,
   "metadata": {},
   "outputs": [],
   "source": [
    "forecast_weather = pd.read_csv('../../Data\\\\capstone\\\\weather/solar_forecast_weather.csv')\n",
    "solar = pd.read_csv('../../Data\\\\capstone\\\\weather/solar_power_2204.csv')\n",
    "real_weather = pd.read_csv('../../Data/capstone/total_eda_real.csv')\n",
    "solar_2 = pd.read_csv('../../Data/capstone/발전소/하동_eda.csv')\n",
    "\n",
    "def time_change(data, Forecast_time):\n",
    "    \"\"\"\n",
    "    data = forecast가 있는 데이터\n",
    "    Forecast_time = 예보시간\n",
    "\n",
    "    return = 예보시간을 기준으로 데이터를 정렬한 데이터\n",
    "    \"\"\"\n",
    "    data[Forecast_time] = pd.to_datetime(data[Forecast_time])\n",
    "    data['real_time'] = data.apply(lambda row: row['Forecast time'] + datetime.timedelta(hours=row['forecast']), axis=1)\n",
    "    forecast_weather_eda = data.groupby(['real_time']).mean().drop('forecast', axis=1)\n",
    "    forecast_weather_eda.reset_index(inplace=True)\n",
    "    return forecast_weather_eda\n",
    "\n"
   ]
  },
  {
   "cell_type": "code",
   "execution_count": 12,
   "metadata": {},
   "outputs": [
    {
     "name": "stderr",
     "output_type": "stream",
     "text": [
      "C:\\Users\\user\\AppData\\Local\\Temp\\ipykernel_6824\\3394655686.py:7: FutureWarning: The default value of numeric_only in DataFrameGroupBy.sum is deprecated. In a future version, numeric_only will default to False. Either specify numeric_only or select only columns which should be valid for the function.\n",
      "  solar_eda = solar.groupby(['year','month','day','hour']).sum().reset_index()\n"
     ]
    }
   ],
   "source": [
    "solar['datetime'] = pd.to_datetime(solar['datetime'])\n",
    "solar.target.replace(65535.0, solar.target.mean(), inplace=True)\n",
    "solar['month'] = solar.datetime.dt.month\n",
    "solar['hour'] = solar.datetime.dt.hour\n",
    "solar['year'] = solar.datetime.dt.year\n",
    "solar['day'] = solar.datetime.dt.day\n",
    "solar_eda = solar.groupby(['year','month','day','hour']).sum().reset_index()\n",
    "solar_eda['date'] = pd.to_datetime(solar_eda[['year', 'month', 'day', 'hour']])"
   ]
  },
  {
   "cell_type": "code",
   "execution_count": 13,
   "metadata": {},
   "outputs": [
    {
     "name": "stderr",
     "output_type": "stream",
     "text": [
      "C:\\Users\\user\\AppData\\Local\\Temp\\ipykernel_6824\\412407747.py:15: FutureWarning: The default value of numeric_only in DataFrameGroupBy.mean is deprecated. In a future version, numeric_only will default to False. Either specify numeric_only or select only columns which should be valid for the function.\n",
      "  forecast_weather_eda = data.groupby(['real_time']).mean().drop('forecast', axis=1)\n"
     ]
    }
   ],
   "source": [
    "eda_forecast = time_change(forecast_weather, 'Forecast time')\n",
    "\n",
    "reg = real_weather[real_weather['지점명'] =='순천']\n",
    "\n",
    "eda_weather = reg.drop(['지점', '지점명'], axis=1)\n",
    "eda_weather['일시'] = pd.to_datetime(eda_weather['일시'])\n",
    "eda_weather['hour'] = eda_weather['일시'].dt.hour\n",
    "eda_weather['month'] = eda_weather['일시'].dt.month\n",
    "eda_weather['year'] = eda_weather['일시'].dt.year\n",
    "\n",
    "eda_weather.set_index('일시', inplace=True)\n",
    "total_time = pd.date_range(start='2021-01-01 00:00:00', end='2022-04-30 23:00:00', freq='H')\n",
    "solar_2.date = pd.to_datetime(solar_2.date)\n",
    "solar_2.set_index('date', inplace=True)\n"
   ]
  },
  {
   "cell_type": "code",
   "execution_count": 14,
   "metadata": {},
   "outputs": [
    {
     "name": "stderr",
     "output_type": "stream",
     "text": [
      "C:\\Users\\user\\AppData\\Local\\Temp\\ipykernel_6824\\2731628856.py:3: SettingWithCopyWarning: \n",
      "A value is trying to be set on a copy of a slice from a DataFrame\n",
      "\n",
      "See the caveats in the documentation: https://pandas.pydata.org/pandas-docs/stable/user_guide/indexing.html#returning-a-view-versus-a-copy\n",
      "  y.drop('hour', axis=1 , inplace=True)\n",
      "C:\\Users\\user\\AppData\\Local\\Temp\\ipykernel_6824\\2731628856.py:4: SettingWithCopyWarning: \n",
      "A value is trying to be set on a copy of a slice from a DataFrame\n",
      "\n",
      "See the caveats in the documentation: https://pandas.pydata.org/pandas-docs/stable/user_guide/indexing.html#returning-a-view-versus-a-copy\n",
      "  x.drop(['위도','경도'], axis=1, inplace=True)\n"
     ]
    }
   ],
   "source": [
    "x = eda_weather.loc['2021-01-01 00:00:00' : '2022-04-30 23:00:00']\n",
    "y = solar_2.loc['2021-01-01 00:00:00' : '2022-04-30 23:00:00']\n",
    "y.drop('hour', axis=1 , inplace=True)\n",
    "x.drop(['위도','경도'], axis=1, inplace=True)\n",
    "\n",
    "total = pd.concat([x, y], axis = 1)\n",
    "\n",
    "complete_date_rng = pd.date_range(start='2021-01-01', end='2022-04-30', freq='H')\n",
    "\n",
    "# 누락된 시간 찾기\n",
    "missing_dates = complete_date_rng.difference(total.index)\n",
    "\n",
    "total_eda = total[(total.index>='2021-09-28') | (total.index <= '2021-09-22')]\n",
    "total_eda_2 = total_eda[(total_eda.index <= '2022-01-14') | (total_eda.index >= '2022-01-17')]\n",
    "date_counts = total_eda_2.resample('D').count()\n",
    "extra_hourly_data = date_counts[date_counts['month'] < 24]\n",
    "\n",
    "\n",
    "total_eda_2 = total_eda_2[total_eda_2.index != '2022-01-14']\n",
    "total_eda_2 = total_eda_2[total_eda_2.index != '2021-09-22']\n",
    "\n",
    "total_eda_2.interpolate(inplace=True, method='linear')"
   ]
  },
  {
   "cell_type": "code",
   "execution_count": 16,
   "metadata": {},
   "outputs": [],
   "source": [
    "x_train = total_eda_2.drop('value', axis=1).iloc[:-72]\n",
    "y_train = total_eda_2['value'].iloc[:-72]\n",
    "\n",
    "x_test = total_eda_2.drop('value', axis=1).iloc[-72:]\n",
    "y_test = total_eda_2['value'].iloc[-72:]"
   ]
  },
  {
   "cell_type": "code",
   "execution_count": 18,
   "metadata": {},
   "outputs": [],
   "source": [
    "pred_model = model(x_train, y_train, x_test, y_test)"
   ]
  },
  {
   "cell_type": "code",
   "execution_count": 21,
   "metadata": {},
   "outputs": [
    {
     "data": {
      "text/html": [
       "<style>#sk-container-id-2 {color: black;background-color: white;}#sk-container-id-2 pre{padding: 0;}#sk-container-id-2 div.sk-toggleable {background-color: white;}#sk-container-id-2 label.sk-toggleable__label {cursor: pointer;display: block;width: 100%;margin-bottom: 0;padding: 0.3em;box-sizing: border-box;text-align: center;}#sk-container-id-2 label.sk-toggleable__label-arrow:before {content: \"▸\";float: left;margin-right: 0.25em;color: #696969;}#sk-container-id-2 label.sk-toggleable__label-arrow:hover:before {color: black;}#sk-container-id-2 div.sk-estimator:hover label.sk-toggleable__label-arrow:before {color: black;}#sk-container-id-2 div.sk-toggleable__content {max-height: 0;max-width: 0;overflow: hidden;text-align: left;background-color: #f0f8ff;}#sk-container-id-2 div.sk-toggleable__content pre {margin: 0.2em;color: black;border-radius: 0.25em;background-color: #f0f8ff;}#sk-container-id-2 input.sk-toggleable__control:checked~div.sk-toggleable__content {max-height: 200px;max-width: 100%;overflow: auto;}#sk-container-id-2 input.sk-toggleable__control:checked~label.sk-toggleable__label-arrow:before {content: \"▾\";}#sk-container-id-2 div.sk-estimator input.sk-toggleable__control:checked~label.sk-toggleable__label {background-color: #d4ebff;}#sk-container-id-2 div.sk-label input.sk-toggleable__control:checked~label.sk-toggleable__label {background-color: #d4ebff;}#sk-container-id-2 input.sk-hidden--visually {border: 0;clip: rect(1px 1px 1px 1px);clip: rect(1px, 1px, 1px, 1px);height: 1px;margin: -1px;overflow: hidden;padding: 0;position: absolute;width: 1px;}#sk-container-id-2 div.sk-estimator {font-family: monospace;background-color: #f0f8ff;border: 1px dotted black;border-radius: 0.25em;box-sizing: border-box;margin-bottom: 0.5em;}#sk-container-id-2 div.sk-estimator:hover {background-color: #d4ebff;}#sk-container-id-2 div.sk-parallel-item::after {content: \"\";width: 100%;border-bottom: 1px solid gray;flex-grow: 1;}#sk-container-id-2 div.sk-label:hover label.sk-toggleable__label {background-color: #d4ebff;}#sk-container-id-2 div.sk-serial::before {content: \"\";position: absolute;border-left: 1px solid gray;box-sizing: border-box;top: 0;bottom: 0;left: 50%;z-index: 0;}#sk-container-id-2 div.sk-serial {display: flex;flex-direction: column;align-items: center;background-color: white;padding-right: 0.2em;padding-left: 0.2em;position: relative;}#sk-container-id-2 div.sk-item {position: relative;z-index: 1;}#sk-container-id-2 div.sk-parallel {display: flex;align-items: stretch;justify-content: center;background-color: white;position: relative;}#sk-container-id-2 div.sk-item::before, #sk-container-id-2 div.sk-parallel-item::before {content: \"\";position: absolute;border-left: 1px solid gray;box-sizing: border-box;top: 0;bottom: 0;left: 50%;z-index: -1;}#sk-container-id-2 div.sk-parallel-item {display: flex;flex-direction: column;z-index: 1;position: relative;background-color: white;}#sk-container-id-2 div.sk-parallel-item:first-child::after {align-self: flex-end;width: 50%;}#sk-container-id-2 div.sk-parallel-item:last-child::after {align-self: flex-start;width: 50%;}#sk-container-id-2 div.sk-parallel-item:only-child::after {width: 0;}#sk-container-id-2 div.sk-dashed-wrapped {border: 1px dashed gray;margin: 0 0.4em 0.5em 0.4em;box-sizing: border-box;padding-bottom: 0.4em;background-color: white;}#sk-container-id-2 div.sk-label label {font-family: monospace;font-weight: bold;display: inline-block;line-height: 1.2em;}#sk-container-id-2 div.sk-label-container {text-align: center;}#sk-container-id-2 div.sk-container {/* jupyter's `normalize.less` sets `[hidden] { display: none; }` but bootstrap.min.css set `[hidden] { display: none !important; }` so we also need the `!important` here to be able to override the default hidden behavior on the sphinx rendered scikit-learn.org. See: https://github.com/scikit-learn/scikit-learn/issues/21755 */display: inline-block !important;position: relative;}#sk-container-id-2 div.sk-text-repr-fallback {display: none;}</style><div id=\"sk-container-id-2\" class=\"sk-top-container\"><div class=\"sk-text-repr-fallback\"><pre>RandomForestRegressor(max_depth=5, min_samples_leaf=8)</pre><b>In a Jupyter environment, please rerun this cell to show the HTML representation or trust the notebook. <br />On GitHub, the HTML representation is unable to render, please try loading this page with nbviewer.org.</b></div><div class=\"sk-container\" hidden><div class=\"sk-item\"><div class=\"sk-estimator sk-toggleable\"><input class=\"sk-toggleable__control sk-hidden--visually\" id=\"sk-estimator-id-2\" type=\"checkbox\" checked><label for=\"sk-estimator-id-2\" class=\"sk-toggleable__label sk-toggleable__label-arrow\">RandomForestRegressor</label><div class=\"sk-toggleable__content\"><pre>RandomForestRegressor(max_depth=5, min_samples_leaf=8)</pre></div></div></div></div></div>"
      ],
      "text/plain": [
       "RandomForestRegressor(max_depth=5, min_samples_leaf=8)"
      ]
     },
     "execution_count": 21,
     "metadata": {},
     "output_type": "execute_result"
    }
   ],
   "source": [
    "pred_model.rf_fit(Grid=False)"
   ]
  },
  {
   "cell_type": "code",
   "execution_count": 22,
   "metadata": {},
   "outputs": [
    {
     "data": {
      "text/plain": [
       "array([1.26403364e-04, 1.26403364e-04, 3.10892651e-03, 3.10892651e-03,\n",
       "       3.10892651e-03, 3.10892651e-03, 7.56062573e-02, 9.67671192e+01,\n",
       "       5.15008357e+02, 1.46067566e+03, 2.42729470e+03, 2.53535554e+03,\n",
       "       2.53535554e+03, 2.76617688e+03, 2.96791630e+03, 2.95406179e+03,\n",
       "       1.76384489e+03, 1.27110468e+03, 5.27526888e+02, 1.15232537e+02,\n",
       "       6.95763086e+00, 6.95763086e+00, 6.95763086e+00, 8.04683987e+00,\n",
       "       1.26403364e-04, 1.26403364e-04, 1.26403364e-04, 1.26403364e-04,\n",
       "       3.10892651e-03, 3.10892651e-03, 7.56062573e-02, 1.18588815e+02,\n",
       "       3.93642456e+02, 6.86501847e+02, 8.58867377e+02, 8.86270346e+02,\n",
       "       1.54374599e+03, 1.35172084e+03, 1.57998080e+03, 1.57998080e+03,\n",
       "       1.60002442e+03, 1.10499646e+03, 1.07619014e+02, 2.00811490e+01,\n",
       "       6.95763086e+00, 6.95763086e+00, 6.95763086e+00, 6.95763086e+00,\n",
       "       1.26403364e-04, 1.26403364e-04, 1.26403364e-04, 1.26403364e-04,\n",
       "       1.26403364e-04, 1.26403364e-04, 2.54677028e-02, 1.09699856e+02,\n",
       "       6.01965691e+02, 1.57649604e+03, 2.15641822e+03, 2.30774521e+03,\n",
       "       2.43528268e+03, 2.48786175e+03, 2.43528268e+03, 2.29082948e+03,\n",
       "       1.60750189e+03, 1.09787145e+03, 1.43388326e+02, 2.00811490e+01,\n",
       "       6.95763086e+00, 6.95763086e+00, 6.95763086e+00, 6.95763086e+00])"
      ]
     },
     "execution_count": 22,
     "metadata": {},
     "output_type": "execute_result"
    }
   ],
   "source": [
    "pred_model.rf_pred(x_test)"
   ]
  }
 ],
 "metadata": {
  "kernelspec": {
   "display_name": "3_9",
   "language": "python",
   "name": "python3"
  },
  "language_info": {
   "codemirror_mode": {
    "name": "ipython",
    "version": 3
   },
   "file_extension": ".py",
   "mimetype": "text/x-python",
   "name": "python",
   "nbconvert_exporter": "python",
   "pygments_lexer": "ipython3",
   "version": "3.9.16"
  }
 },
 "nbformat": 4,
 "nbformat_minor": 2
}
