{
 "cells": [
  {
   "cell_type": "code",
   "execution_count": 100,
   "metadata": {},
   "outputs": [
    {
     "name": "stdout",
     "output_type": "stream",
     "text": [
      "b'{  \"response\" : {    \"header\" : {      \"resultCode\" : \"00\",      \"resultMsg\" : \"OK\"    },    \"body\" : {      \"dataType\" : \"JSON\",      \"totalCount\" : \"159120\",      \"numOfRows\" : \"100\",      \"pageNo\" : \"1\",      \"items\" : {        \"item\" : [ {          \"tradeNo\" : \"1\",          \"tradeYmd\" : \"20220101\",          \"regionNm\" : \"\\xea\\xb0\\x95\\xec\\x9b\\x90\\xeb\\x8f\\x84\",          \"amgo\" : 0.313733,          \"rn\" : 1        }, {          \"tradeNo\" : \"1\",          \"tradeYmd\" : \"20220101\",          \"regionNm\" : \"\\xea\\xb2\\xbd\\xea\\xb8\\xb0\\xeb\\x8f\\x84\",          \"amgo\" : 0.593492,          \"rn\" : 2        }, {          \"tradeNo\" : \"1\",          \"tradeYmd\" : \"20220101\",          \"regionNm\" : \"\\xea\\xb2\\xbd\\xec\\x83\\x81\\xeb\\x82\\xa8\\xeb\\x8f\\x84\",          \"amgo\" : 1.000064,          \"rn\" : 3        }, {          \"tradeNo\" : \"1\",          \"tradeYmd\" : \"20220101\",          \"regionNm\" : \"\\xea\\xb2\\xbd\\xec\\x83\\x81\\xeb\\xb6\\x81\\xeb\\x8f\\x84\",          \"amgo\" : 1.605395,          \"rn\" : 4        }, {          \"tradeNo\" : \"1\",          \"tradeYmd\" : \"20220101\",          \"regionNm\" : \"\\xea\\xb4\\x91\\xec\\xa3\\xbc\\xec\\x8b\\x9c\",          \"amgo\" : 0.000000,          \"rn\" : 5        }, {          \"tradeNo\" : \"1\",          \"tradeYmd\" : \"20220101\",          \"regionNm\" : \"\\xeb\\x8c\\x80\\xea\\xb5\\xac\\xec\\x8b\\x9c\",          \"amgo\" : 0.000000,          \"rn\" : 6        }, {          \"tradeNo\" : \"1\",          \"tradeYmd\" : \"20220101\",          \"regionNm\" : \"\\xeb\\x8c\\x80\\xec\\xa0\\x84\\xec\\x8b\\x9c\",          \"amgo\" : 0.000000,          \"rn\" : 7        }, {          \"tradeNo\" : \"1\",          \"tradeYmd\" : \"20220101\",          \"regionNm\" : \"\\xeb\\xb6\\x80\\xec\\x82\\xb0\\xec\\x8b\\x9c\",          \"amgo\" : 0.553920,          \"rn\" : 8        }, {          \"tradeNo\" : \"1\",          \"tradeYmd\" : \"20220101\",          \"regionNm\" : \"\\xec\\x84\\x9c\\xec\\x9a\\xb8\\xec\\x8b\\x9c\",          \"amgo\" : 0.000000,          \"rn\" : 9        }, {          \"tradeNo\" : \"1\",          \"tradeYmd\" : \"20220101\",          \"regionNm\" : \"\\xec\\x84\\xb8\\xec\\xa2\\x85\\xec\\x8b\\x9c\",          \"amgo\" : 0.000000,          \"rn\" : 10        }, {          \"tradeNo\" : \"1\",          \"tradeYmd\" : \"20220101\",          \"regionNm\" : \"\\xec\\x9a\\xb8\\xec\\x82\\xb0\\xec\\x8b\\x9c\",          \"amgo\" : 0.000000,          \"rn\" : 11        }, {          \"tradeNo\" : \"1\",          \"tradeYmd\" : \"20220101\",          \"regionNm\" : \"\\xec\\x9d\\xb8\\xec\\xb2\\x9c\\xec\\x8b\\x9c\",          \"amgo\" : 3.412560,          \"rn\" : 12        }, {          \"tradeNo\" : \"1\",          \"tradeYmd\" : \"20220101\",          \"regionNm\" : \"\\xec\\xa0\\x84\\xeb\\x9d\\xbc\\xeb\\x82\\xa8\\xeb\\x8f\\x84\",          \"amgo\" : 1.148808,          \"rn\" : 13        }, {          \"tradeNo\" : \"1\",          \"tradeYmd\" : \"20220101\",          \"regionNm\" : \"\\xec\\xa0\\x84\\xeb\\x9d\\xbc\\xeb\\xb6\\x81\\xeb\\x8f\\x84\",          \"amgo\" : 4.168628,          \"rn\" : 14        }, {          \"tradeNo\" : \"1\",          \"tradeYmd\" : \"20220101\",          \"regionNm\" : \"\\xec\\xa0\\x9c\\xec\\xa3\\xbc\\xeb\\x8f\\x84\",          \"amgo\" : 0.000552,          \"rn\" : 15        }, {          \"tradeNo\" : \"1\",          \"tradeYmd\" : \"20220101\",          \"regionNm\" : \"\\xec\\xb6\\xa9\\xec\\xb2\\xad\\xeb\\x82\\xa8\\xeb\\x8f\\x84\",          \"amgo\" : 1.669376,          \"rn\" : 16        }, {          \"tradeNo\" : \"1\",          \"tradeYmd\" : \"20220101\",          \"regionNm\" : \"\\xec\\xb6\\xa9\\xec\\xb2\\xad\\xeb\\xb6\\x81\\xeb\\x8f\\x84\",          \"amgo\" : 1.447120,          \"rn\" : 17        }, {          \"tradeNo\" : \"10\",          \"tradeYmd\" : \"20220101\",          \"regionNm\" : \"\\xea\\xb0\\x95\\xec\\x9b\\x90\\xeb\\x8f\\x84\",          \"amgo\" : 122.360095,          \"rn\" : 18        }, {          \"tradeNo\" : \"10\",          \"tradeYmd\" : \"20220101\",          \"regionNm\" : \"\\xea\\xb2\\xbd\\xea\\xb8\\xb0\\xeb\\x8f\\x84\",          \"amgo\" : 61.025384,          \"rn\" : 19        }, {          \"tradeNo\" : \"10\",          \"tradeYmd\" : \"20220101\",          \"regionNm\" : \"\\xea\\xb2\\xbd\\xec\\x83\\x81\\xeb\\x82\\xa8\\xeb\\x8f\\x84\",          \"amgo\" : 114.321755,          \"rn\" : 20        }, {          \"tradeNo\" : \"10\",          \"tradeYmd\" : \"20220101\",          \"regionNm\" : \"\\xea\\xb2\\xbd\\xec\\x83\\x81\\xeb\\xb6\\x81\\xeb\\x8f\\x84\",          \"amgo\" : 177.892965,          \"rn\" : 21        }, {          \"tradeNo\" : \"10\",          \"tradeYmd\" : \"20220101\",          \"regionNm\" : \"\\xea\\xb4\\x91\\xec\\xa3\\xbc\\xec\\x8b\\x9c\",          \"amgo\" : 12.939649,          \"rn\" : 22        }, {          \"tradeNo\" : \"10\",          \"tradeYmd\" : \"20220101\",          \"regionNm\" : \"\\xeb\\x8c\\x80\\xea\\xb5\\xac\\xec\\x8b\\x9c\",          \"amgo\" : 13.073854,          \"rn\" : 23        }, {          \"tradeNo\" : \"10\",          \"tradeYmd\" : \"20220101\",          \"regionNm\" : \"\\xeb\\x8c\\x80\\xec\\xa0\\x84\\xec\\x8b\\x9c\",          \"amgo\" : 3.451175,          \"rn\" : 24        }, {          \"tradeNo\" : \"10\",          \"tradeYmd\" : \"20220101\",          \"regionNm\" : \"\\xeb\\xb6\\x80\\xec\\x82\\xb0\\xec\\x8b\\x9c\",          \"amgo\" : 25.853782,          \"rn\" : 25        }, {          \"tradeNo\" : \"10\",          \"tradeYmd\" : \"20220101\",          \"regionNm\" : \"\\xec\\x84\\x9c\\xec\\x9a\\xb8\\xec\\x8b\\x9c\",          \"amgo\" : 3.484265,          \"rn\" : 26        }, {          \"tradeNo\" : \"10\",          \"tradeYmd\" : \"20220101\",          \"regionNm\" : \"\\xec\\x84\\xb8\\xec\\xa2\\x85\\xec\\x8b\\x9c\",          \"amgo\" : 5.373623,          \"rn\" : 27        }, {          \"tradeNo\" : \"10\",          \"tradeYmd\" : \"20220101\",          \"regionNm\" : \"\\xec\\x9a\\xb8\\xec\\x82\\xb0\\xec\\x8b\\x9c\",          \"amgo\" : 11.588981,          \"rn\" : 28        }, {          \"tradeNo\" : \"10\",          \"tradeYmd\" : \"20220101\",          \"regionNm\" : \"\\xec\\x9d\\xb8\\xec\\xb2\\x9c\\xec\\x8b\\x9c\",          \"amgo\" : 9.921824,          \"rn\" : 29        }, {          \"tradeNo\" : \"10\",          \"tradeYmd\" : \"20220101\",          \"regionNm\" : \"\\xec\\xa0\\x84\\xeb\\x9d\\xbc\\xeb\\x82\\xa8\\xeb\\x8f\\x84\",          \"amgo\" : 535.457042,          \"rn\" : 30        }, {          \"tradeNo\" : \"10\",          \"tradeYmd\" : \"20220101\",          \"regionNm\" : \"\\xec\\xa0\\x84\\xeb\\x9d\\xbc\\xeb\\xb6\\x81\\xeb\\x8f\\x84\",          \"amgo\" : 171.584899,          \"rn\" : 31        }, {          \"tradeNo\" : \"10\",          \"tradeYmd\" : \"20220101\",          \"regionNm\" : \"\\xec\\xa0\\x9c\\xec\\xa3\\xbc\\xeb\\x8f\\x84\",          \"amgo\" : 96.708595,          \"rn\" : 32        }, {          \"tradeNo\" : \"10\",          \"tradeYmd\" : \"20220101\",          \"regionNm\" : \"\\xec\\xb6\\xa9\\xec\\xb2\\xad\\xeb\\x82\\xa8\\xeb\\x8f\\x84\",          \"amgo\" : 160.556953,          \"rn\" : 33        }, {          \"tradeNo\" : \"10\",          \"tradeYmd\" : \"20220101\",          \"regionNm\" : \"\\xec\\xb6\\xa9\\xec\\xb2\\xad\\xeb\\xb6\\x81\\xeb\\x8f\\x84\",          \"amgo\" : 57.152614,          \"rn\" : 34        }, {          \"tradeNo\" : \"11\",          \"tradeYmd\" : \"20220101\",          \"regionNm\" : \"\\xea\\xb0\\x95\\xec\\x9b\\x90\\xeb\\x8f\\x84\",          \"amgo\" : 164.240103,          \"rn\" : 35        }, {          \"tradeNo\" : \"11\",          \"tradeYmd\" : \"20220101\",          \"regionNm\" : \"\\xea\\xb2\\xbd\\xea\\xb8\\xb0\\xeb\\x8f\\x84\",          \"amgo\" : 95.074964,          \"rn\" : 36        }, {          \"tradeNo\" : \"11\",          \"tradeYmd\" : \"20220101\",          \"regionNm\" : \"\\xea\\xb2\\xbd\\xec\\x83\\x81\\xeb\\x82\\xa8\\xeb\\x8f\\x84\",          \"amgo\" : 155.029642,          \"rn\" : 37        }, {          \"tradeNo\" : \"11\",          \"tradeYmd\" : \"20220101\",          \"regionNm\" : \"\\xea\\xb2\\xbd\\xec\\x83\\x81\\xeb\\xb6\\x81\\xeb\\x8f\\x84\",          \"amgo\" : 229.462900,          \"rn\" : 38        }, {          \"tradeNo\" : \"11\",          \"tradeYmd\" : \"20220101\",          \"regionNm\" : \"\\xea\\xb4\\x91\\xec\\xa3\\xbc\\xec\\x8b\\x9c\",          \"amgo\" : 17.734824,          \"rn\" : 39        }, {          \"tradeNo\" : \"11\",          \"tradeYmd\" : \"20220101\",          \"regionNm\" : \"\\xeb\\x8c\\x80\\xea\\xb5\\xac\\xec\\x8b\\x9c\",          \"amgo\" : 19.357121,          \"rn\" : 40        }, {          \"tradeNo\" : \"11\",          \"tradeYmd\" : \"20220101\",          \"regionNm\" : \"\\xeb\\x8c\\x80\\xec\\xa0\\x84\\xec\\x8b\\x9c\",          \"amgo\" : 5.658108,          \"rn\" : 41        }, {          \"tradeNo\" : \"11\",          \"tradeYmd\" : \"20220101\",          \"regionNm\" : \"\\xeb\\xb6\\x80\\xec\\x82\\xb0\\xec\\x8b\\x9c\",          \"amgo\" : 37.198494,          \"rn\" : 42        }, {          \"tradeNo\" : \"11\",          \"tradeYmd\" : \"20220101\",          \"regionNm\" : \"\\xec\\x84\\x9c\\xec\\x9a\\xb8\\xec\\x8b\\x9c\",          \"amgo\" : 6.153459,          \"rn\" : 43        }, {          \"tradeNo\" : \"11\",          \"tradeYmd\" : \"20220101\",          \"regionNm\" : \"\\xec\\x84\\xb8\\xec\\xa2\\x85\\xec\\x8b\\x9c\",          \"amgo\" : 8.386465,          \"rn\" : 44        }, {          \"tradeNo\" : \"11\",          \"tradeYmd\" : \"20220101\",          \"regionNm\" : \"\\xec\\x9a\\xb8\\xec\\x82\\xb0\\xec\\x8b\\x9c\",          \"amgo\" : 18.709120,          \"rn\" : 45        }, {          \"tradeNo\" : \"11\",          \"tradeYmd\" : \"20220101\",          \"regionNm\" : \"\\xec\\x9d\\xb8\\xec\\xb2\\x9c\\xec\\x8b\\x9c\",          \"amgo\" : 13.513161,          \"rn\" : 46        }, {          \"tradeNo\" : \"11\",          \"tradeYmd\" : \"20220101\",          \"regionNm\" : \"\\xec\\xa0\\x84\\xeb\\x9d\\xbc\\xeb\\x82\\xa8\\xeb\\x8f\\x84\",          \"amgo\" : 525.397705,          \"rn\" : 47        }, {          \"tradeNo\" : \"11\",          \"tradeYmd\" : \"20220101\",          \"regionNm\" : \"\\xec\\xa0\\x84\\xeb\\x9d\\xbc\\xeb\\xb6\\x81\\xeb\\x8f\\x84\",          \"amgo\" : 217.359407,          \"rn\" : 48        }, {          \"tradeNo\" : \"11\",          \"tradeYmd\" : \"20220101\",          \"regionNm\" : \"\\xec\\xa0\\x9c\\xec\\xa3\\xbc\\xeb\\x8f\\x84\",          \"amgo\" : 153.412435,          \"rn\" : 49        }, {          \"tradeNo\" : \"11\",          \"tradeYmd\" : \"20220101\",          \"regionNm\" : \"\\xec\\xb6\\xa9\\xec\\xb2\\xad\\xeb\\x82\\xa8\\xeb\\x8f\\x84\",          \"amgo\" : 191.587256,          \"rn\" : 50        }, {          \"tradeNo\" : \"11\",          \"tradeYmd\" : \"20220101\",          \"regionNm\" : \"\\xec\\xb6\\xa9\\xec\\xb2\\xad\\xeb\\xb6\\x81\\xeb\\x8f\\x84\",          \"amgo\" : 76.863056,          \"rn\" : 51        }, {          \"tradeNo\" : \"12\",          \"tradeYmd\" : \"20220101\",          \"regionNm\" : \"\\xea\\xb0\\x95\\xec\\x9b\\x90\\xeb\\x8f\\x84\",          \"amgo\" : 203.483547,          \"rn\" : 52        }, {          \"tradeNo\" : \"12\",          \"tradeYmd\" : \"20220101\",          \"regionNm\" : \"\\xea\\xb2\\xbd\\xea\\xb8\\xb0\\xeb\\x8f\\x84\",          \"amgo\" : 122.311146,          \"rn\" : 53        }, {          \"tradeNo\" : \"12\",          \"tradeYmd\" : \"20220101\",          \"regionNm\" : \"\\xea\\xb2\\xbd\\xec\\x83\\x81\\xeb\\x82\\xa8\\xeb\\x8f\\x84\",          \"amgo\" : 184.981172,          \"rn\" : 54        }, {          \"tradeNo\" : \"12\",          \"tradeYmd\" : \"20220101\",          \"regionNm\" : \"\\xea\\xb2\\xbd\\xec\\x83\\x81\\xeb\\xb6\\x81\\xeb\\x8f\\x84\",          \"amgo\" : 272.013036,          \"rn\" : 55        }, {          \"tradeNo\" : \"12\",          \"tradeYmd\" : \"20220101\",          \"regionNm\" : \"\\xea\\xb4\\x91\\xec\\xa3\\xbc\\xec\\x8b\\x9c\",          \"amgo\" : 29.859686,          \"rn\" : 56        }, {          \"tradeNo\" : \"12\",          \"tradeYmd\" : \"20220101\",          \"regionNm\" : \"\\xeb\\x8c\\x80\\xea\\xb5\\xac\\xec\\x8b\\x9c\",          \"amgo\" : 22.355565,          \"rn\" : 57        }, {          \"tradeNo\" : \"12\",          \"tradeYmd\" : \"20220101\",          \"regionNm\" : \"\\xeb\\x8c\\x80\\xec\\xa0\\x84\\xec\\x8b\\x9c\",          \"amgo\" : 6.844632,          \"rn\" : 58        }, {          \"tradeNo\" : \"12\",          \"tradeYmd\" : \"20220101\",          \"regionNm\" : \"\\xeb\\xb6\\x80\\xec\\x82\\xb0\\xec\\x8b\\x9c\",          \"amgo\" : 43.812108,          \"rn\" : 59        }, {          \"tradeNo\" : \"12\",          \"tradeYmd\" : \"20220101\",          \"regionNm\" : \"\\xec\\x84\\x9c\\xec\\x9a\\xb8\\xec\\x8b\\x9c\",          \"amgo\" : 8.155277,          \"rn\" : 60        }, {          \"tradeNo\" : \"12\",          \"tradeYmd\" : \"20220101\",          \"regionNm\" : \"\\xec\\x84\\xb8\\xec\\xa2\\x85\\xec\\x8b\\x9c\",          \"amgo\" : 11.229373,          \"rn\" : 61        }, {          \"tradeNo\" : \"12\",          \"tradeYmd\" : \"20220101\",          \"regionNm\" : \"\\xec\\x9a\\xb8\\xec\\x82\\xb0\\xec\\x8b\\x9c\",          \"amgo\" : 22.060150,          \"rn\" : 62        }, {          \"tradeNo\" : \"12\",          \"tradeYmd\" : \"20220101\",          \"regionNm\" : \"\\xec\\x9d\\xb8\\xec\\xb2\\x9c\\xec\\x8b\\x9c\",          \"amgo\" : 17.516090,          \"rn\" : 63        }, {          \"tradeNo\" : \"12\",          \"tradeYmd\" : \"20220101\",          \"regionNm\" : \"\\xec\\xa0\\x84\\xeb\\x9d\\xbc\\xeb\\x82\\xa8\\xeb\\x8f\\x84\",          \"amgo\" : 614.274678,          \"rn\" : 64        }, {          \"tradeNo\" : \"12\",          \"tradeYmd\" : \"20220101\",          \"regionNm\" : \"\\xec\\xa0\\x84\\xeb\\x9d\\xbc\\xeb\\xb6\\x81\\xeb\\x8f\\x84\",          \"amgo\" : 274.021921,          \"rn\" : 65        }, {          \"tradeNo\" : \"12\",          \"tradeYmd\" : \"20220101\",          \"regionNm\" : \"\\xec\\xa0\\x9c\\xec\\xa3\\xbc\\xeb\\x8f\\x84\",          \"amgo\" : 185.801603,          \"rn\" : 66        }, {          \"tradeNo\" : \"12\",          \"tradeYmd\" : \"20220101\",          \"regionNm\" : \"\\xec\\xb6\\xa9\\xec\\xb2\\xad\\xeb\\x82\\xa8\\xeb\\x8f\\x84\",          \"amgo\" : 249.165584,          \"rn\" : 67        }, {          \"tradeNo\" : \"12\",          \"tradeYmd\" : \"20220101\",          \"regionNm\" : \"\\xec\\xb6\\xa9\\xec\\xb2\\xad\\xeb\\xb6\\x81\\xeb\\x8f\\x84\",          \"amgo\" : 98.076842,          \"rn\" : 68        }, {          \"tradeNo\" : \"13\",          \"tradeYmd\" : \"20220101\",          \"regionNm\" : \"\\xea\\xb0\\x95\\xec\\x9b\\x90\\xeb\\x8f\\x84\",          \"amgo\" : 217.183085,          \"rn\" : 69        }, {          \"tradeNo\" : \"13\",          \"tradeYmd\" : \"20220101\",          \"regionNm\" : \"\\xea\\xb2\\xbd\\xea\\xb8\\xb0\\xeb\\x8f\\x84\",          \"amgo\" : 131.376418,          \"rn\" : 70        }, {          \"tradeNo\" : \"13\",          \"tradeYmd\" : \"20220101\",          \"regionNm\" : \"\\xea\\xb2\\xbd\\xec\\x83\\x81\\xeb\\x82\\xa8\\xeb\\x8f\\x84\",          \"amgo\" : 195.844496,          \"rn\" : 71        }, {          \"tradeNo\" : \"13\",          \"tradeYmd\" : \"20220101\",          \"regionNm\" : \"\\xea\\xb2\\xbd\\xec\\x83\\x81\\xeb\\xb6\\x81\\xeb\\x8f\\x84\",          \"amgo\" : 290.863342,          \"rn\" : 72        }, {          \"tradeNo\" : \"13\",          \"tradeYmd\" : \"20220101\",          \"regionNm\" : \"\\xea\\xb4\\x91\\xec\\xa3\\xbc\\xec\\x8b\\x9c\",          \"amgo\" : 32.229229,          \"rn\" : 73        }, {          \"tradeNo\" : \"13\",          \"tradeYmd\" : \"20220101\",          \"regionNm\" : \"\\xeb\\x8c\\x80\\xea\\xb5\\xac\\xec\\x8b\\x9c\",          \"amgo\" : 22.840929,          \"rn\" : 74        }, {          \"tradeNo\" : \"13\",          \"tradeYmd\" : \"20220101\",          \"regionNm\" : \"\\xeb\\x8c\\x80\\xec\\xa0\\x84\\xec\\x8b\\x9c\",          \"amgo\" : 6.524432,          \"rn\" : 75        }, {          \"tradeNo\" : \"13\",          \"tradeYmd\" : \"20220101\",          \"regionNm\" : \"\\xeb\\xb6\\x80\\xec\\x82\\xb0\\xec\\x8b\\x9c\",          \"amgo\" : 45.360150,          \"rn\" : 76        }, {          \"tradeNo\" : \"13\",          \"tradeYmd\" : \"20220101\",          \"regionNm\" : \"\\xec\\x84\\x9c\\xec\\x9a\\xb8\\xec\\x8b\\x9c\",          \"amgo\" : 8.782569,          \"rn\" : 77        }, {          \"tradeNo\" : \"13\",          \"tradeYmd\" : \"20220101\",          \"regionNm\" : \"\\xec\\x84\\xb8\\xec\\xa2\\x85\\xec\\x8b\\x9c\",          \"amgo\" : 9.431403,          \"rn\" : 78        }, {          \"tradeNo\" : \"13\",          \"tradeYmd\" : \"20220101\",          \"regionNm\" : \"\\xec\\x9a\\xb8\\xec\\x82\\xb0\\xec\\x8b\\x9c\",          \"amgo\" : 21.902186,          \"rn\" : 79        }, {          \"tradeNo\" : \"13\",          \"tradeYmd\" : \"20220101\",          \"regionNm\" : \"\\xec\\x9d\\xb8\\xec\\xb2\\x9c\\xec\\x8b\\x9c\",          \"amgo\" : 19.376722,          \"rn\" : 80        }, {          \"tradeNo\" : \"13\",          \"tradeYmd\" : \"20220101\",          \"regionNm\" : \"\\xec\\xa0\\x84\\xeb\\x9d\\xbc\\xeb\\x82\\xa8\\xeb\\x8f\\x84\",          \"amgo\" : 660.524399,          \"rn\" : 81        }, {          \"tradeNo\" : \"13\",          \"tradeYmd\" : \"20220101\",          \"regionNm\" : \"\\xec\\xa0\\x84\\xeb\\x9d\\xbc\\xeb\\xb6\\x81\\xeb\\x8f\\x84\",          \"amgo\" : 320.920864,          \"rn\" : 82        }, {          \"tradeNo\" : \"13\",          \"tradeYmd\" : \"20220101\",          \"regionNm\" : \"\\xec\\xa0\\x9c\\xec\\xa3\\xbc\\xeb\\x8f\\x84\",          \"amgo\" : 190.676466,          \"rn\" : 83        }, {          \"tradeNo\" : \"13\",          \"tradeYmd\" : \"20220101\",          \"regionNm\" : \"\\xec\\xb6\\xa9\\xec\\xb2\\xad\\xeb\\x82\\xa8\\xeb\\x8f\\x84\",          \"amgo\" : 271.934500,          \"rn\" : 84        }, {          \"tradeNo\" : \"13\",          \"tradeYmd\" : \"20220101\",          \"regionNm\" : \"\\xec\\xb6\\xa9\\xec\\xb2\\xad\\xeb\\xb6\\x81\\xeb\\x8f\\x84\",          \"amgo\" : 106.582402,          \"rn\" : 85        }, {          \"tradeNo\" : \"14\",          \"tradeYmd\" : \"20220101\",          \"regionNm\" : \"\\xea\\xb0\\x95\\xec\\x9b\\x90\\xeb\\x8f\\x84\",          \"amgo\" : 208.599725,          \"rn\" : 86        }, {          \"tradeNo\" : \"14\",          \"tradeYmd\" : \"20220101\",          \"regionNm\" : \"\\xea\\xb2\\xbd\\xea\\xb8\\xb0\\xeb\\x8f\\x84\",          \"amgo\" : 122.784228,          \"rn\" : 87        }, {          \"tradeNo\" : \"14\",          \"tradeYmd\" : \"20220101\",          \"regionNm\" : \"\\xea\\xb2\\xbd\\xec\\x83\\x81\\xeb\\x82\\xa8\\xeb\\x8f\\x84\",          \"amgo\" : 194.217964,          \"rn\" : 88        }, {          \"tradeNo\" : \"14\",          \"tradeYmd\" : \"20220101\",          \"regionNm\" : \"\\xea\\xb2\\xbd\\xec\\x83\\x81\\xeb\\xb6\\x81\\xeb\\x8f\\x84\",          \"amgo\" : 269.872037,          \"rn\" : 89        }, {          \"tradeNo\" : \"14\",          \"tradeYmd\" : \"20220101\",          \"regionNm\" : \"\\xea\\xb4\\x91\\xec\\xa3\\xbc\\xec\\x8b\\x9c\",          \"amgo\" : 31.975763,          \"rn\" : 90        }, {          \"tradeNo\" : \"14\",          \"tradeYmd\" : \"20220101\",          \"regionNm\" : \"\\xeb\\x8c\\x80\\xea\\xb5\\xac\\xec\\x8b\\x9c\",          \"amgo\" : 23.001801,          \"rn\" : 91        }, {          \"tradeNo\" : \"14\",          \"tradeYmd\" : \"20220101\",          \"regionNm\" : \"\\xeb\\x8c\\x80\\xec\\xa0\\x84\\xec\\x8b\\x9c\",          \"amgo\" : 5.685035,          \"rn\" : 92        }, {          \"tradeNo\" : \"14\",          \"tradeYmd\" : \"20220101\",          \"regionNm\" : \"\\xeb\\xb6\\x80\\xec\\x82\\xb0\\xec\\x8b\\x9c\",          \"amgo\" : 41.935911,          \"rn\" : 93        }, {          \"tradeNo\" : \"14\",          \"tradeYmd\" : \"20220101\",          \"regionNm\" : \"\\xec\\x84\\x9c\\xec\\x9a\\xb8\\xec\\x8b\\x9c\",          \"amgo\" : 8.411226,          \"rn\" : 94        }, {          \"tradeNo\" : \"14\",          \"tradeYmd\" : \"20220101\",          \"regionNm\" : \"\\xec\\x84\\xb8\\xec\\xa2\\x85\\xec\\x8b\\x9c\",          \"amgo\" : 8.912847,          \"rn\" : 95        }, {          \"tradeNo\" : \"14\",          \"tradeYmd\" : \"20220101\",          \"regionNm\" : \"\\xec\\x9a\\xb8\\xec\\x82\\xb0\\xec\\x8b\\x9c\",          \"amgo\" : 21.277840,          \"rn\" : 96        }, {          \"tradeNo\" : \"14\",          \"tradeYmd\" : \"20220101\",          \"regionNm\" : \"\\xec\\x9d\\xb8\\xec\\xb2\\x9c\\xec\\x8b\\x9c\",          \"amgo\" : 20.308837,          \"rn\" : 97        }, {          \"tradeNo\" : \"14\",          \"tradeYmd\" : \"20220101\",          \"regionNm\" : \"\\xec\\xa0\\x84\\xeb\\x9d\\xbc\\xeb\\x82\\xa8\\xeb\\x8f\\x84\",          \"amgo\" : 653.376653,          \"rn\" : 98        }, {          \"tradeNo\" : \"14\",          \"tradeYmd\" : \"20220101\",          \"regionNm\" : \"\\xec\\xa0\\x84\\xeb\\x9d\\xbc\\xeb\\xb6\\x81\\xeb\\x8f\\x84\",          \"amgo\" : 307.813948,          \"rn\" : 99        }, {          \"tradeNo\" : \"14\",          \"tradeYmd\" : \"20220101\",          \"regionNm\" : \"\\xec\\xa0\\x9c\\xec\\xa3\\xbc\\xeb\\x8f\\x84\",          \"amgo\" : 158.269253,          \"rn\" : 100        } ]      }    }  }}'\n"
     ]
    }
   ],
   "source": [
    "import requests\n",
    "\n",
    "url = 'http://apis.data.go.kr/B552115/PvAmountByLocHr/getPvAmountByLocHr'\n",
    "params ={'serviceKey' : 'HBsd7IB4qCP0hHVD3lw2kZl+bAP0XU7KmA6WDTB8lh8AAbPtxJmuIgLJne4VTQB6NPgsIf9jRJ6nTjW9ZYykdw==', \n",
    "        'pageNo' : '1', \n",
    "        'numOfRows' : '100', \n",
    "        'dataType' : 'JSON', \n",
    "        'dataCd' : 'ASOS', \n",
    "        'dateCd' : 'HR', \n",
    "        'startDt' : '20100101', \n",
    "        'startHh' : '00', \n",
    "        'endDt' : '20100601', \n",
    "        'endHh' : '24', \n",
    "        'stnIds' : '108' }\n",
    "\n",
    "response = requests.get(url, params=params)\n",
    "print(response.content)"
   ]
  },
  {
   "cell_type": "code",
   "execution_count": 113,
   "metadata": {},
   "outputs": [
    {
     "name": "stdout",
     "output_type": "stream",
     "text": [
      "b'{  \"response\" : {    \"header\" : {      \"resultCode\" : \"00\",      \"resultMsg\" : \"OK\"    },    \"body\" : {      \"dataType\" : \"JSON\",      \"totalCount\" : \"159120\",      \"numOfRows\" : \"100\",      \"pageNo\" : \"1\",      \"items\" : {        \"item\" : [ {          \"tradeNo\" : \"1\",          \"tradeYmd\" : \"20220101\",          \"regionNm\" : \"\\xea\\xb0\\x95\\xec\\x9b\\x90\\xeb\\x8f\\x84\",          \"amgo\" : 0.313733,          \"rn\" : 1        }, {          \"tradeNo\" : \"1\",          \"tradeYmd\" : \"20220101\",          \"regionNm\" : \"\\xea\\xb2\\xbd\\xea\\xb8\\xb0\\xeb\\x8f\\x84\",          \"amgo\" : 0.593492,          \"rn\" : 2        }, {          \"tradeNo\" : \"1\",          \"tradeYmd\" : \"20220101\",          \"regionNm\" : \"\\xea\\xb2\\xbd\\xec\\x83\\x81\\xeb\\x82\\xa8\\xeb\\x8f\\x84\",          \"amgo\" : 1.000064,          \"rn\" : 3        }, {          \"tradeNo\" : \"1\",          \"tradeYmd\" : \"20220101\",          \"regionNm\" : \"\\xea\\xb2\\xbd\\xec\\x83\\x81\\xeb\\xb6\\x81\\xeb\\x8f\\x84\",          \"amgo\" : 1.605395,          \"rn\" : 4        }, {          \"tradeNo\" : \"1\",          \"tradeYmd\" : \"20220101\",          \"regionNm\" : \"\\xea\\xb4\\x91\\xec\\xa3\\xbc\\xec\\x8b\\x9c\",          \"amgo\" : 0.000000,          \"rn\" : 5        }, {          \"tradeNo\" : \"1\",          \"tradeYmd\" : \"20220101\",          \"regionNm\" : \"\\xeb\\x8c\\x80\\xea\\xb5\\xac\\xec\\x8b\\x9c\",          \"amgo\" : 0.000000,          \"rn\" : 6        }, {          \"tradeNo\" : \"1\",          \"tradeYmd\" : \"20220101\",          \"regionNm\" : \"\\xeb\\x8c\\x80\\xec\\xa0\\x84\\xec\\x8b\\x9c\",          \"amgo\" : 0.000000,          \"rn\" : 7        }, {          \"tradeNo\" : \"1\",          \"tradeYmd\" : \"20220101\",          \"regionNm\" : \"\\xeb\\xb6\\x80\\xec\\x82\\xb0\\xec\\x8b\\x9c\",          \"amgo\" : 0.553920,          \"rn\" : 8        }, {          \"tradeNo\" : \"1\",          \"tradeYmd\" : \"20220101\",          \"regionNm\" : \"\\xec\\x84\\x9c\\xec\\x9a\\xb8\\xec\\x8b\\x9c\",          \"amgo\" : 0.000000,          \"rn\" : 9        }, {          \"tradeNo\" : \"1\",          \"tradeYmd\" : \"20220101\",          \"regionNm\" : \"\\xec\\x84\\xb8\\xec\\xa2\\x85\\xec\\x8b\\x9c\",          \"amgo\" : 0.000000,          \"rn\" : 10        }, {          \"tradeNo\" : \"1\",          \"tradeYmd\" : \"20220101\",          \"regionNm\" : \"\\xec\\x9a\\xb8\\xec\\x82\\xb0\\xec\\x8b\\x9c\",          \"amgo\" : 0.000000,          \"rn\" : 11        }, {          \"tradeNo\" : \"1\",          \"tradeYmd\" : \"20220101\",          \"regionNm\" : \"\\xec\\x9d\\xb8\\xec\\xb2\\x9c\\xec\\x8b\\x9c\",          \"amgo\" : 3.412560,          \"rn\" : 12        }, {          \"tradeNo\" : \"1\",          \"tradeYmd\" : \"20220101\",          \"regionNm\" : \"\\xec\\xa0\\x84\\xeb\\x9d\\xbc\\xeb\\x82\\xa8\\xeb\\x8f\\x84\",          \"amgo\" : 1.148808,          \"rn\" : 13        }, {          \"tradeNo\" : \"1\",          \"tradeYmd\" : \"20220101\",          \"regionNm\" : \"\\xec\\xa0\\x84\\xeb\\x9d\\xbc\\xeb\\xb6\\x81\\xeb\\x8f\\x84\",          \"amgo\" : 4.168628,          \"rn\" : 14        }, {          \"tradeNo\" : \"1\",          \"tradeYmd\" : \"20220101\",          \"regionNm\" : \"\\xec\\xa0\\x9c\\xec\\xa3\\xbc\\xeb\\x8f\\x84\",          \"amgo\" : 0.000552,          \"rn\" : 15        }, {          \"tradeNo\" : \"1\",          \"tradeYmd\" : \"20220101\",          \"regionNm\" : \"\\xec\\xb6\\xa9\\xec\\xb2\\xad\\xeb\\x82\\xa8\\xeb\\x8f\\x84\",          \"amgo\" : 1.669376,          \"rn\" : 16        }, {          \"tradeNo\" : \"1\",          \"tradeYmd\" : \"20220101\",          \"regionNm\" : \"\\xec\\xb6\\xa9\\xec\\xb2\\xad\\xeb\\xb6\\x81\\xeb\\x8f\\x84\",          \"amgo\" : 1.447120,          \"rn\" : 17        }, {          \"tradeNo\" : \"10\",          \"tradeYmd\" : \"20220101\",          \"regionNm\" : \"\\xea\\xb0\\x95\\xec\\x9b\\x90\\xeb\\x8f\\x84\",          \"amgo\" : 122.360095,          \"rn\" : 18        }, {          \"tradeNo\" : \"10\",          \"tradeYmd\" : \"20220101\",          \"regionNm\" : \"\\xea\\xb2\\xbd\\xea\\xb8\\xb0\\xeb\\x8f\\x84\",          \"amgo\" : 61.025384,          \"rn\" : 19        }, {          \"tradeNo\" : \"10\",          \"tradeYmd\" : \"20220101\",          \"regionNm\" : \"\\xea\\xb2\\xbd\\xec\\x83\\x81\\xeb\\x82\\xa8\\xeb\\x8f\\x84\",          \"amgo\" : 114.321755,          \"rn\" : 20        }, {          \"tradeNo\" : \"10\",          \"tradeYmd\" : \"20220101\",          \"regionNm\" : \"\\xea\\xb2\\xbd\\xec\\x83\\x81\\xeb\\xb6\\x81\\xeb\\x8f\\x84\",          \"amgo\" : 177.892965,          \"rn\" : 21        }, {          \"tradeNo\" : \"10\",          \"tradeYmd\" : \"20220101\",          \"regionNm\" : \"\\xea\\xb4\\x91\\xec\\xa3\\xbc\\xec\\x8b\\x9c\",          \"amgo\" : 12.939649,          \"rn\" : 22        }, {          \"tradeNo\" : \"10\",          \"tradeYmd\" : \"20220101\",          \"regionNm\" : \"\\xeb\\x8c\\x80\\xea\\xb5\\xac\\xec\\x8b\\x9c\",          \"amgo\" : 13.073854,          \"rn\" : 23        }, {          \"tradeNo\" : \"10\",          \"tradeYmd\" : \"20220101\",          \"regionNm\" : \"\\xeb\\x8c\\x80\\xec\\xa0\\x84\\xec\\x8b\\x9c\",          \"amgo\" : 3.451175,          \"rn\" : 24        }, {          \"tradeNo\" : \"10\",          \"tradeYmd\" : \"20220101\",          \"regionNm\" : \"\\xeb\\xb6\\x80\\xec\\x82\\xb0\\xec\\x8b\\x9c\",          \"amgo\" : 25.853782,          \"rn\" : 25        }, {          \"tradeNo\" : \"10\",          \"tradeYmd\" : \"20220101\",          \"regionNm\" : \"\\xec\\x84\\x9c\\xec\\x9a\\xb8\\xec\\x8b\\x9c\",          \"amgo\" : 3.484265,          \"rn\" : 26        }, {          \"tradeNo\" : \"10\",          \"tradeYmd\" : \"20220101\",          \"regionNm\" : \"\\xec\\x84\\xb8\\xec\\xa2\\x85\\xec\\x8b\\x9c\",          \"amgo\" : 5.373623,          \"rn\" : 27        }, {          \"tradeNo\" : \"10\",          \"tradeYmd\" : \"20220101\",          \"regionNm\" : \"\\xec\\x9a\\xb8\\xec\\x82\\xb0\\xec\\x8b\\x9c\",          \"amgo\" : 11.588981,          \"rn\" : 28        }, {          \"tradeNo\" : \"10\",          \"tradeYmd\" : \"20220101\",          \"regionNm\" : \"\\xec\\x9d\\xb8\\xec\\xb2\\x9c\\xec\\x8b\\x9c\",          \"amgo\" : 9.921824,          \"rn\" : 29        }, {          \"tradeNo\" : \"10\",          \"tradeYmd\" : \"20220101\",          \"regionNm\" : \"\\xec\\xa0\\x84\\xeb\\x9d\\xbc\\xeb\\x82\\xa8\\xeb\\x8f\\x84\",          \"amgo\" : 535.457042,          \"rn\" : 30        }, {          \"tradeNo\" : \"10\",          \"tradeYmd\" : \"20220101\",          \"regionNm\" : \"\\xec\\xa0\\x84\\xeb\\x9d\\xbc\\xeb\\xb6\\x81\\xeb\\x8f\\x84\",          \"amgo\" : 171.584899,          \"rn\" : 31        }, {          \"tradeNo\" : \"10\",          \"tradeYmd\" : \"20220101\",          \"regionNm\" : \"\\xec\\xa0\\x9c\\xec\\xa3\\xbc\\xeb\\x8f\\x84\",          \"amgo\" : 96.708595,          \"rn\" : 32        }, {          \"tradeNo\" : \"10\",          \"tradeYmd\" : \"20220101\",          \"regionNm\" : \"\\xec\\xb6\\xa9\\xec\\xb2\\xad\\xeb\\x82\\xa8\\xeb\\x8f\\x84\",          \"amgo\" : 160.556953,          \"rn\" : 33        }, {          \"tradeNo\" : \"10\",          \"tradeYmd\" : \"20220101\",          \"regionNm\" : \"\\xec\\xb6\\xa9\\xec\\xb2\\xad\\xeb\\xb6\\x81\\xeb\\x8f\\x84\",          \"amgo\" : 57.152614,          \"rn\" : 34        }, {          \"tradeNo\" : \"11\",          \"tradeYmd\" : \"20220101\",          \"regionNm\" : \"\\xea\\xb0\\x95\\xec\\x9b\\x90\\xeb\\x8f\\x84\",          \"amgo\" : 164.240103,          \"rn\" : 35        }, {          \"tradeNo\" : \"11\",          \"tradeYmd\" : \"20220101\",          \"regionNm\" : \"\\xea\\xb2\\xbd\\xea\\xb8\\xb0\\xeb\\x8f\\x84\",          \"amgo\" : 95.074964,          \"rn\" : 36        }, {          \"tradeNo\" : \"11\",          \"tradeYmd\" : \"20220101\",          \"regionNm\" : \"\\xea\\xb2\\xbd\\xec\\x83\\x81\\xeb\\x82\\xa8\\xeb\\x8f\\x84\",          \"amgo\" : 155.029642,          \"rn\" : 37        }, {          \"tradeNo\" : \"11\",          \"tradeYmd\" : \"20220101\",          \"regionNm\" : \"\\xea\\xb2\\xbd\\xec\\x83\\x81\\xeb\\xb6\\x81\\xeb\\x8f\\x84\",          \"amgo\" : 229.462900,          \"rn\" : 38        }, {          \"tradeNo\" : \"11\",          \"tradeYmd\" : \"20220101\",          \"regionNm\" : \"\\xea\\xb4\\x91\\xec\\xa3\\xbc\\xec\\x8b\\x9c\",          \"amgo\" : 17.734824,          \"rn\" : 39        }, {          \"tradeNo\" : \"11\",          \"tradeYmd\" : \"20220101\",          \"regionNm\" : \"\\xeb\\x8c\\x80\\xea\\xb5\\xac\\xec\\x8b\\x9c\",          \"amgo\" : 19.357121,          \"rn\" : 40        }, {          \"tradeNo\" : \"11\",          \"tradeYmd\" : \"20220101\",          \"regionNm\" : \"\\xeb\\x8c\\x80\\xec\\xa0\\x84\\xec\\x8b\\x9c\",          \"amgo\" : 5.658108,          \"rn\" : 41        }, {          \"tradeNo\" : \"11\",          \"tradeYmd\" : \"20220101\",          \"regionNm\" : \"\\xeb\\xb6\\x80\\xec\\x82\\xb0\\xec\\x8b\\x9c\",          \"amgo\" : 37.198494,          \"rn\" : 42        }, {          \"tradeNo\" : \"11\",          \"tradeYmd\" : \"20220101\",          \"regionNm\" : \"\\xec\\x84\\x9c\\xec\\x9a\\xb8\\xec\\x8b\\x9c\",          \"amgo\" : 6.153459,          \"rn\" : 43        }, {          \"tradeNo\" : \"11\",          \"tradeYmd\" : \"20220101\",          \"regionNm\" : \"\\xec\\x84\\xb8\\xec\\xa2\\x85\\xec\\x8b\\x9c\",          \"amgo\" : 8.386465,          \"rn\" : 44        }, {          \"tradeNo\" : \"11\",          \"tradeYmd\" : \"20220101\",          \"regionNm\" : \"\\xec\\x9a\\xb8\\xec\\x82\\xb0\\xec\\x8b\\x9c\",          \"amgo\" : 18.709120,          \"rn\" : 45        }, {          \"tradeNo\" : \"11\",          \"tradeYmd\" : \"20220101\",          \"regionNm\" : \"\\xec\\x9d\\xb8\\xec\\xb2\\x9c\\xec\\x8b\\x9c\",          \"amgo\" : 13.513161,          \"rn\" : 46        }, {          \"tradeNo\" : \"11\",          \"tradeYmd\" : \"20220101\",          \"regionNm\" : \"\\xec\\xa0\\x84\\xeb\\x9d\\xbc\\xeb\\x82\\xa8\\xeb\\x8f\\x84\",          \"amgo\" : 525.397705,          \"rn\" : 47        }, {          \"tradeNo\" : \"11\",          \"tradeYmd\" : \"20220101\",          \"regionNm\" : \"\\xec\\xa0\\x84\\xeb\\x9d\\xbc\\xeb\\xb6\\x81\\xeb\\x8f\\x84\",          \"amgo\" : 217.359407,          \"rn\" : 48        }, {          \"tradeNo\" : \"11\",          \"tradeYmd\" : \"20220101\",          \"regionNm\" : \"\\xec\\xa0\\x9c\\xec\\xa3\\xbc\\xeb\\x8f\\x84\",          \"amgo\" : 153.412435,          \"rn\" : 49        }, {          \"tradeNo\" : \"11\",          \"tradeYmd\" : \"20220101\",          \"regionNm\" : \"\\xec\\xb6\\xa9\\xec\\xb2\\xad\\xeb\\x82\\xa8\\xeb\\x8f\\x84\",          \"amgo\" : 191.587256,          \"rn\" : 50        }, {          \"tradeNo\" : \"11\",          \"tradeYmd\" : \"20220101\",          \"regionNm\" : \"\\xec\\xb6\\xa9\\xec\\xb2\\xad\\xeb\\xb6\\x81\\xeb\\x8f\\x84\",          \"amgo\" : 76.863056,          \"rn\" : 51        }, {          \"tradeNo\" : \"12\",          \"tradeYmd\" : \"20220101\",          \"regionNm\" : \"\\xea\\xb0\\x95\\xec\\x9b\\x90\\xeb\\x8f\\x84\",          \"amgo\" : 203.483547,          \"rn\" : 52        }, {          \"tradeNo\" : \"12\",          \"tradeYmd\" : \"20220101\",          \"regionNm\" : \"\\xea\\xb2\\xbd\\xea\\xb8\\xb0\\xeb\\x8f\\x84\",          \"amgo\" : 122.311146,          \"rn\" : 53        }, {          \"tradeNo\" : \"12\",          \"tradeYmd\" : \"20220101\",          \"regionNm\" : \"\\xea\\xb2\\xbd\\xec\\x83\\x81\\xeb\\x82\\xa8\\xeb\\x8f\\x84\",          \"amgo\" : 184.981172,          \"rn\" : 54        }, {          \"tradeNo\" : \"12\",          \"tradeYmd\" : \"20220101\",          \"regionNm\" : \"\\xea\\xb2\\xbd\\xec\\x83\\x81\\xeb\\xb6\\x81\\xeb\\x8f\\x84\",          \"amgo\" : 272.013036,          \"rn\" : 55        }, {          \"tradeNo\" : \"12\",          \"tradeYmd\" : \"20220101\",          \"regionNm\" : \"\\xea\\xb4\\x91\\xec\\xa3\\xbc\\xec\\x8b\\x9c\",          \"amgo\" : 29.859686,          \"rn\" : 56        }, {          \"tradeNo\" : \"12\",          \"tradeYmd\" : \"20220101\",          \"regionNm\" : \"\\xeb\\x8c\\x80\\xea\\xb5\\xac\\xec\\x8b\\x9c\",          \"amgo\" : 22.355565,          \"rn\" : 57        }, {          \"tradeNo\" : \"12\",          \"tradeYmd\" : \"20220101\",          \"regionNm\" : \"\\xeb\\x8c\\x80\\xec\\xa0\\x84\\xec\\x8b\\x9c\",          \"amgo\" : 6.844632,          \"rn\" : 58        }, {          \"tradeNo\" : \"12\",          \"tradeYmd\" : \"20220101\",          \"regionNm\" : \"\\xeb\\xb6\\x80\\xec\\x82\\xb0\\xec\\x8b\\x9c\",          \"amgo\" : 43.812108,          \"rn\" : 59        }, {          \"tradeNo\" : \"12\",          \"tradeYmd\" : \"20220101\",          \"regionNm\" : \"\\xec\\x84\\x9c\\xec\\x9a\\xb8\\xec\\x8b\\x9c\",          \"amgo\" : 8.155277,          \"rn\" : 60        }, {          \"tradeNo\" : \"12\",          \"tradeYmd\" : \"20220101\",          \"regionNm\" : \"\\xec\\x84\\xb8\\xec\\xa2\\x85\\xec\\x8b\\x9c\",          \"amgo\" : 11.229373,          \"rn\" : 61        }, {          \"tradeNo\" : \"12\",          \"tradeYmd\" : \"20220101\",          \"regionNm\" : \"\\xec\\x9a\\xb8\\xec\\x82\\xb0\\xec\\x8b\\x9c\",          \"amgo\" : 22.060150,          \"rn\" : 62        }, {          \"tradeNo\" : \"12\",          \"tradeYmd\" : \"20220101\",          \"regionNm\" : \"\\xec\\x9d\\xb8\\xec\\xb2\\x9c\\xec\\x8b\\x9c\",          \"amgo\" : 17.516090,          \"rn\" : 63        }, {          \"tradeNo\" : \"12\",          \"tradeYmd\" : \"20220101\",          \"regionNm\" : \"\\xec\\xa0\\x84\\xeb\\x9d\\xbc\\xeb\\x82\\xa8\\xeb\\x8f\\x84\",          \"amgo\" : 614.274678,          \"rn\" : 64        }, {          \"tradeNo\" : \"12\",          \"tradeYmd\" : \"20220101\",          \"regionNm\" : \"\\xec\\xa0\\x84\\xeb\\x9d\\xbc\\xeb\\xb6\\x81\\xeb\\x8f\\x84\",          \"amgo\" : 274.021921,          \"rn\" : 65        }, {          \"tradeNo\" : \"12\",          \"tradeYmd\" : \"20220101\",          \"regionNm\" : \"\\xec\\xa0\\x9c\\xec\\xa3\\xbc\\xeb\\x8f\\x84\",          \"amgo\" : 185.801603,          \"rn\" : 66        }, {          \"tradeNo\" : \"12\",          \"tradeYmd\" : \"20220101\",          \"regionNm\" : \"\\xec\\xb6\\xa9\\xec\\xb2\\xad\\xeb\\x82\\xa8\\xeb\\x8f\\x84\",          \"amgo\" : 249.165584,          \"rn\" : 67        }, {          \"tradeNo\" : \"12\",          \"tradeYmd\" : \"20220101\",          \"regionNm\" : \"\\xec\\xb6\\xa9\\xec\\xb2\\xad\\xeb\\xb6\\x81\\xeb\\x8f\\x84\",          \"amgo\" : 98.076842,          \"rn\" : 68        }, {          \"tradeNo\" : \"13\",          \"tradeYmd\" : \"20220101\",          \"regionNm\" : \"\\xea\\xb0\\x95\\xec\\x9b\\x90\\xeb\\x8f\\x84\",          \"amgo\" : 217.183085,          \"rn\" : 69        }, {          \"tradeNo\" : \"13\",          \"tradeYmd\" : \"20220101\",          \"regionNm\" : \"\\xea\\xb2\\xbd\\xea\\xb8\\xb0\\xeb\\x8f\\x84\",          \"amgo\" : 131.376418,          \"rn\" : 70        }, {          \"tradeNo\" : \"13\",          \"tradeYmd\" : \"20220101\",          \"regionNm\" : \"\\xea\\xb2\\xbd\\xec\\x83\\x81\\xeb\\x82\\xa8\\xeb\\x8f\\x84\",          \"amgo\" : 195.844496,          \"rn\" : 71        }, {          \"tradeNo\" : \"13\",          \"tradeYmd\" : \"20220101\",          \"regionNm\" : \"\\xea\\xb2\\xbd\\xec\\x83\\x81\\xeb\\xb6\\x81\\xeb\\x8f\\x84\",          \"amgo\" : 290.863342,          \"rn\" : 72        }, {          \"tradeNo\" : \"13\",          \"tradeYmd\" : \"20220101\",          \"regionNm\" : \"\\xea\\xb4\\x91\\xec\\xa3\\xbc\\xec\\x8b\\x9c\",          \"amgo\" : 32.229229,          \"rn\" : 73        }, {          \"tradeNo\" : \"13\",          \"tradeYmd\" : \"20220101\",          \"regionNm\" : \"\\xeb\\x8c\\x80\\xea\\xb5\\xac\\xec\\x8b\\x9c\",          \"amgo\" : 22.840929,          \"rn\" : 74        }, {          \"tradeNo\" : \"13\",          \"tradeYmd\" : \"20220101\",          \"regionNm\" : \"\\xeb\\x8c\\x80\\xec\\xa0\\x84\\xec\\x8b\\x9c\",          \"amgo\" : 6.524432,          \"rn\" : 75        }, {          \"tradeNo\" : \"13\",          \"tradeYmd\" : \"20220101\",          \"regionNm\" : \"\\xeb\\xb6\\x80\\xec\\x82\\xb0\\xec\\x8b\\x9c\",          \"amgo\" : 45.360150,          \"rn\" : 76        }, {          \"tradeNo\" : \"13\",          \"tradeYmd\" : \"20220101\",          \"regionNm\" : \"\\xec\\x84\\x9c\\xec\\x9a\\xb8\\xec\\x8b\\x9c\",          \"amgo\" : 8.782569,          \"rn\" : 77        }, {          \"tradeNo\" : \"13\",          \"tradeYmd\" : \"20220101\",          \"regionNm\" : \"\\xec\\x84\\xb8\\xec\\xa2\\x85\\xec\\x8b\\x9c\",          \"amgo\" : 9.431403,          \"rn\" : 78        }, {          \"tradeNo\" : \"13\",          \"tradeYmd\" : \"20220101\",          \"regionNm\" : \"\\xec\\x9a\\xb8\\xec\\x82\\xb0\\xec\\x8b\\x9c\",          \"amgo\" : 21.902186,          \"rn\" : 79        }, {          \"tradeNo\" : \"13\",          \"tradeYmd\" : \"20220101\",          \"regionNm\" : \"\\xec\\x9d\\xb8\\xec\\xb2\\x9c\\xec\\x8b\\x9c\",          \"amgo\" : 19.376722,          \"rn\" : 80        }, {          \"tradeNo\" : \"13\",          \"tradeYmd\" : \"20220101\",          \"regionNm\" : \"\\xec\\xa0\\x84\\xeb\\x9d\\xbc\\xeb\\x82\\xa8\\xeb\\x8f\\x84\",          \"amgo\" : 660.524399,          \"rn\" : 81        }, {          \"tradeNo\" : \"13\",          \"tradeYmd\" : \"20220101\",          \"regionNm\" : \"\\xec\\xa0\\x84\\xeb\\x9d\\xbc\\xeb\\xb6\\x81\\xeb\\x8f\\x84\",          \"amgo\" : 320.920864,          \"rn\" : 82        }, {          \"tradeNo\" : \"13\",          \"tradeYmd\" : \"20220101\",          \"regionNm\" : \"\\xec\\xa0\\x9c\\xec\\xa3\\xbc\\xeb\\x8f\\x84\",          \"amgo\" : 190.676466,          \"rn\" : 83        }, {          \"tradeNo\" : \"13\",          \"tradeYmd\" : \"20220101\",          \"regionNm\" : \"\\xec\\xb6\\xa9\\xec\\xb2\\xad\\xeb\\x82\\xa8\\xeb\\x8f\\x84\",          \"amgo\" : 271.934500,          \"rn\" : 84        }, {          \"tradeNo\" : \"13\",          \"tradeYmd\" : \"20220101\",          \"regionNm\" : \"\\xec\\xb6\\xa9\\xec\\xb2\\xad\\xeb\\xb6\\x81\\xeb\\x8f\\x84\",          \"amgo\" : 106.582402,          \"rn\" : 85        }, {          \"tradeNo\" : \"14\",          \"tradeYmd\" : \"20220101\",          \"regionNm\" : \"\\xea\\xb0\\x95\\xec\\x9b\\x90\\xeb\\x8f\\x84\",          \"amgo\" : 208.599725,          \"rn\" : 86        }, {          \"tradeNo\" : \"14\",          \"tradeYmd\" : \"20220101\",          \"regionNm\" : \"\\xea\\xb2\\xbd\\xea\\xb8\\xb0\\xeb\\x8f\\x84\",          \"amgo\" : 122.784228,          \"rn\" : 87        }, {          \"tradeNo\" : \"14\",          \"tradeYmd\" : \"20220101\",          \"regionNm\" : \"\\xea\\xb2\\xbd\\xec\\x83\\x81\\xeb\\x82\\xa8\\xeb\\x8f\\x84\",          \"amgo\" : 194.217964,          \"rn\" : 88        }, {          \"tradeNo\" : \"14\",          \"tradeYmd\" : \"20220101\",          \"regionNm\" : \"\\xea\\xb2\\xbd\\xec\\x83\\x81\\xeb\\xb6\\x81\\xeb\\x8f\\x84\",          \"amgo\" : 269.872037,          \"rn\" : 89        }, {          \"tradeNo\" : \"14\",          \"tradeYmd\" : \"20220101\",          \"regionNm\" : \"\\xea\\xb4\\x91\\xec\\xa3\\xbc\\xec\\x8b\\x9c\",          \"amgo\" : 31.975763,          \"rn\" : 90        }, {          \"tradeNo\" : \"14\",          \"tradeYmd\" : \"20220101\",          \"regionNm\" : \"\\xeb\\x8c\\x80\\xea\\xb5\\xac\\xec\\x8b\\x9c\",          \"amgo\" : 23.001801,          \"rn\" : 91        }, {          \"tradeNo\" : \"14\",          \"tradeYmd\" : \"20220101\",          \"regionNm\" : \"\\xeb\\x8c\\x80\\xec\\xa0\\x84\\xec\\x8b\\x9c\",          \"amgo\" : 5.685035,          \"rn\" : 92        }, {          \"tradeNo\" : \"14\",          \"tradeYmd\" : \"20220101\",          \"regionNm\" : \"\\xeb\\xb6\\x80\\xec\\x82\\xb0\\xec\\x8b\\x9c\",          \"amgo\" : 41.935911,          \"rn\" : 93        }, {          \"tradeNo\" : \"14\",          \"tradeYmd\" : \"20220101\",          \"regionNm\" : \"\\xec\\x84\\x9c\\xec\\x9a\\xb8\\xec\\x8b\\x9c\",          \"amgo\" : 8.411226,          \"rn\" : 94        }, {          \"tradeNo\" : \"14\",          \"tradeYmd\" : \"20220101\",          \"regionNm\" : \"\\xec\\x84\\xb8\\xec\\xa2\\x85\\xec\\x8b\\x9c\",          \"amgo\" : 8.912847,          \"rn\" : 95        }, {          \"tradeNo\" : \"14\",          \"tradeYmd\" : \"20220101\",          \"regionNm\" : \"\\xec\\x9a\\xb8\\xec\\x82\\xb0\\xec\\x8b\\x9c\",          \"amgo\" : 21.277840,          \"rn\" : 96        }, {          \"tradeNo\" : \"14\",          \"tradeYmd\" : \"20220101\",          \"regionNm\" : \"\\xec\\x9d\\xb8\\xec\\xb2\\x9c\\xec\\x8b\\x9c\",          \"amgo\" : 20.308837,          \"rn\" : 97        }, {          \"tradeNo\" : \"14\",          \"tradeYmd\" : \"20220101\",          \"regionNm\" : \"\\xec\\xa0\\x84\\xeb\\x9d\\xbc\\xeb\\x82\\xa8\\xeb\\x8f\\x84\",          \"amgo\" : 653.376653,          \"rn\" : 98        }, {          \"tradeNo\" : \"14\",          \"tradeYmd\" : \"20220101\",          \"regionNm\" : \"\\xec\\xa0\\x84\\xeb\\x9d\\xbc\\xeb\\xb6\\x81\\xeb\\x8f\\x84\",          \"amgo\" : 307.813948,          \"rn\" : 99        }, {          \"tradeNo\" : \"14\",          \"tradeYmd\" : \"20220101\",          \"regionNm\" : \"\\xec\\xa0\\x9c\\xec\\xa3\\xbc\\xeb\\x8f\\x84\",          \"amgo\" : 158.269253,          \"rn\" : 100        } ]      }    }  }}'\n"
     ]
    }
   ],
   "source": [
    "url = 'http://apis.data.go.kr/B552115/PvAmountByLocHr/getPvAmountByLocHr'\n",
    "params ={'serviceKey' : 'HBsd7IB4qCP0hHVD3lw2kZl+bAP0XU7KmA6WDTB8lh8AAbPtxJmuIgLJne4VTQB6NPgsIf9jRJ6nTjW9ZYykdw==', \n",
    "        'pageNo' : '1', \n",
    "        'numOfRows' : '100', \n",
    "        'dataType' : 'JSON', \n",
    "        'dataCd' : 'ASOS', \n",
    "        'dateCd' : 'HR', \n",
    "        'startDt' : '20190101', \n",
    "        'startHh' : '00', \n",
    "        'endDt' : '20191231', \n",
    "        'endHh' : '24', \n",
    "        'stnIds' : '230' }\n",
    "\n",
    "response = requests.get(url, params=params)\n",
    "print(response.content)"
   ]
  },
  {
   "cell_type": "code",
   "execution_count": 114,
   "metadata": {},
   "outputs": [],
   "source": [
    "import json\n",
    "import pandas as pd"
   ]
  },
  {
   "cell_type": "code",
   "execution_count": 115,
   "metadata": {},
   "outputs": [
    {
     "data": {
      "text/plain": [
       "'159120'"
      ]
     },
     "execution_count": 115,
     "metadata": {},
     "output_type": "execute_result"
    }
   ],
   "source": [
    "response.json()['response']['body']['totalCount']"
   ]
  },
  {
   "cell_type": "code",
   "execution_count": 109,
   "metadata": {},
   "outputs": [],
   "source": [
    "qq = response.json()['response']['body']['items']['item']"
   ]
  },
  {
   "cell_type": "code",
   "execution_count": 110,
   "metadata": {},
   "outputs": [],
   "source": [
    "df = pd.DataFrame(qq)"
   ]
  },
  {
   "cell_type": "code",
   "execution_count": 111,
   "metadata": {},
   "outputs": [
    {
     "data": {
      "text/html": [
       "<div>\n",
       "<style scoped>\n",
       "    .dataframe tbody tr th:only-of-type {\n",
       "        vertical-align: middle;\n",
       "    }\n",
       "\n",
       "    .dataframe tbody tr th {\n",
       "        vertical-align: top;\n",
       "    }\n",
       "\n",
       "    .dataframe thead th {\n",
       "        text-align: right;\n",
       "    }\n",
       "</style>\n",
       "<table border=\"1\" class=\"dataframe\">\n",
       "  <thead>\n",
       "    <tr style=\"text-align: right;\">\n",
       "      <th></th>\n",
       "      <th>tradeNo</th>\n",
       "      <th>tradeYmd</th>\n",
       "      <th>regionNm</th>\n",
       "      <th>amgo</th>\n",
       "      <th>rn</th>\n",
       "    </tr>\n",
       "  </thead>\n",
       "  <tbody>\n",
       "    <tr>\n",
       "      <th>0</th>\n",
       "      <td>1</td>\n",
       "      <td>20220101</td>\n",
       "      <td>강원도</td>\n",
       "      <td>0.313733</td>\n",
       "      <td>1</td>\n",
       "    </tr>\n",
       "    <tr>\n",
       "      <th>1</th>\n",
       "      <td>1</td>\n",
       "      <td>20220101</td>\n",
       "      <td>경기도</td>\n",
       "      <td>0.593492</td>\n",
       "      <td>2</td>\n",
       "    </tr>\n",
       "    <tr>\n",
       "      <th>2</th>\n",
       "      <td>1</td>\n",
       "      <td>20220101</td>\n",
       "      <td>경상남도</td>\n",
       "      <td>1.000064</td>\n",
       "      <td>3</td>\n",
       "    </tr>\n",
       "    <tr>\n",
       "      <th>3</th>\n",
       "      <td>1</td>\n",
       "      <td>20220101</td>\n",
       "      <td>경상북도</td>\n",
       "      <td>1.605395</td>\n",
       "      <td>4</td>\n",
       "    </tr>\n",
       "    <tr>\n",
       "      <th>4</th>\n",
       "      <td>1</td>\n",
       "      <td>20220101</td>\n",
       "      <td>광주시</td>\n",
       "      <td>0.000000</td>\n",
       "      <td>5</td>\n",
       "    </tr>\n",
       "    <tr>\n",
       "      <th>...</th>\n",
       "      <td>...</td>\n",
       "      <td>...</td>\n",
       "      <td>...</td>\n",
       "      <td>...</td>\n",
       "      <td>...</td>\n",
       "    </tr>\n",
       "    <tr>\n",
       "      <th>95</th>\n",
       "      <td>14</td>\n",
       "      <td>20220101</td>\n",
       "      <td>울산시</td>\n",
       "      <td>21.277840</td>\n",
       "      <td>96</td>\n",
       "    </tr>\n",
       "    <tr>\n",
       "      <th>96</th>\n",
       "      <td>14</td>\n",
       "      <td>20220101</td>\n",
       "      <td>인천시</td>\n",
       "      <td>20.308837</td>\n",
       "      <td>97</td>\n",
       "    </tr>\n",
       "    <tr>\n",
       "      <th>97</th>\n",
       "      <td>14</td>\n",
       "      <td>20220101</td>\n",
       "      <td>전라남도</td>\n",
       "      <td>653.376653</td>\n",
       "      <td>98</td>\n",
       "    </tr>\n",
       "    <tr>\n",
       "      <th>98</th>\n",
       "      <td>14</td>\n",
       "      <td>20220101</td>\n",
       "      <td>전라북도</td>\n",
       "      <td>307.813948</td>\n",
       "      <td>99</td>\n",
       "    </tr>\n",
       "    <tr>\n",
       "      <th>99</th>\n",
       "      <td>14</td>\n",
       "      <td>20220101</td>\n",
       "      <td>제주도</td>\n",
       "      <td>158.269253</td>\n",
       "      <td>100</td>\n",
       "    </tr>\n",
       "  </tbody>\n",
       "</table>\n",
       "<p>100 rows × 5 columns</p>\n",
       "</div>"
      ],
      "text/plain": [
       "   tradeNo  tradeYmd regionNm        amgo   rn\n",
       "0        1  20220101      강원도    0.313733    1\n",
       "1        1  20220101      경기도    0.593492    2\n",
       "2        1  20220101     경상남도    1.000064    3\n",
       "3        1  20220101     경상북도    1.605395    4\n",
       "4        1  20220101      광주시    0.000000    5\n",
       "..     ...       ...      ...         ...  ...\n",
       "95      14  20220101      울산시   21.277840   96\n",
       "96      14  20220101      인천시   20.308837   97\n",
       "97      14  20220101     전라남도  653.376653   98\n",
       "98      14  20220101     전라북도  307.813948   99\n",
       "99      14  20220101      제주도  158.269253  100\n",
       "\n",
       "[100 rows x 5 columns]"
      ]
     },
     "execution_count": 111,
     "metadata": {},
     "output_type": "execute_result"
    }
   ],
   "source": [
    "df"
   ]
  },
  {
   "cell_type": "code",
   "execution_count": 112,
   "metadata": {},
   "outputs": [
    {
     "data": {
      "text/plain": [
       "array(['1', '10', '11', '12', '13', '14'], dtype=object)"
      ]
     },
     "execution_count": 112,
     "metadata": {},
     "output_type": "execute_result"
    }
   ],
   "source": [
    "df['tradeNo'].unique()"
   ]
  },
  {
   "cell_type": "code",
   "execution_count": null,
   "metadata": {},
   "outputs": [],
   "source": []
  }
 ],
 "metadata": {
  "kernelspec": {
   "display_name": "Python 3",
   "language": "python",
   "name": "python3"
  },
  "language_info": {
   "codemirror_mode": {
    "name": "ipython",
    "version": 3
   },
   "file_extension": ".py",
   "mimetype": "text/x-python",
   "name": "python",
   "nbconvert_exporter": "python",
   "pygments_lexer": "ipython3",
   "version": "3.11.1"
  },
  "orig_nbformat": 4,
  "vscode": {
   "interpreter": {
    "hash": "de47f5c92c0ee6f12a59a5613ac5feff6aab19ddff207ba0b3964cced08c4ccc"
   }
  }
 },
 "nbformat": 4,
 "nbformat_minor": 2
}
