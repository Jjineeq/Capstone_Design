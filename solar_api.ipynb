{
 "cells": [
  {
   "cell_type": "code",
   "execution_count": 9,
   "metadata": {},
   "outputs": [
    {
     "name": "stdout",
     "output_type": "stream",
     "text": [
      "b'{\"response\":{\"header\":{\"resultCode\":\"00\",\"resultMsg\":\"NORMAL_SERVICE\"},\"body\":{\"dataType\":\"JSON\",\"items\":{\"item\":[{\"tm\":\"2018-01-01 01:00\",\"rnum\":\"1\",\"stnId\":\"108\",\"stnNm\":\"\\xec\\x84\\x9c\\xec\\x9a\\xb8\",\"ta\":\"-3.3\",\"taQcflg\":\"0\",\"rn\":\"\",\"rnQcflg\":\"\",\"ws\":\"0.7\",\"wsQcflg\":\"0\",\"wd\":\"360\",\"wdQcflg\":\"0\",\"hm\":\"41\",\"hmQcflg\":\"0\",\"pv\":\"2.0\",\"td\":\"-14.7\",\"pa\":\"1015.1\",\"paQcflg\":\"0\",\"ps\":\"1026.1\",\"psQcflg\":\"0\",\"ss\":\"\",\"ssQcflg\":\"9\",\"icsr\":\"\",\"dsnw\":\"\",\"hr3Fhsc\":\"\",\"dc10Tca\":\"\",\"dc10LmcsCa\":\"0\",\"clfmAbbrCd\":\"\",\"lcsCh\":\"\",\"vs\":\"2000\",\"gndSttCd\":\"\",\"dmstMtphNo\":\"\",\"ts\":\"-2.7\",\"tsQcflg\":\"0\",\"m005Te\":\"-0.1\",\"m01Te\":\"0.3\",\"m02Te\":\"0.9\",\"m03Te\":\"1.5\"},{\"tm\":\"2018-01-01 02:00\",\"rnum\":\"2\",\"stnId\":\"108\",\"stnNm\":\"\\xec\\x84\\x9c\\xec\\x9a\\xb8\",\"ta\":\"-3.7\",\"taQcflg\":\"0\",\"rn\":\"\",\"rnQcflg\":\"\",\"ws\":\"0.9\",\"wsQcflg\":\"0\",\"wd\":\"270\",\"wdQcflg\":\"0\",\"hm\":\"42\",\"hmQcflg\":\"0\",\"pv\":\"2.0\",\"td\":\"-14.7\",\"pa\":\"1015.2\",\"paQcflg\":\"0\",\"ps\":\"1026.3\",\"psQcflg\":\"0\",\"ss\":\"\",\"ssQcflg\":\"9\",\"icsr\":\"\",\"dsnw\":\"\",\"hr3Fhsc\":\"\",\"dc10Tca\":\"\",\"dc10LmcsCa\":\"0\",\"clfmAbbrCd\":\"\",\"lcsCh\":\"\",\"vs\":\"2000\",\"gndSttCd\":\"\",\"dmstMtphNo\":\"\",\"ts\":\"-3.0\",\"tsQcflg\":\"0\",\"m005Te\":\"-0.2\",\"m01Te\":\"0.3\",\"m02Te\":\"0.9\",\"m03Te\":\"1.6\"},{\"tm\":\"2018-01-01 03:00\",\"rnum\":\"3\",\"stnId\":\"108\",\"stnNm\":\"\\xec\\x84\\x9c\\xec\\x9a\\xb8\",\"ta\":\"-4.0\",\"taQcflg\":\"0\",\"rn\":\"\",\"rnQcflg\":\"\",\"ws\":\"1.0\",\"wsQcflg\":\"0\",\"wd\":\"290\",\"wdQcflg\":\"0\",\"hm\":\"44\",\"hmQcflg\":\"0\",\"pv\":\"2.0\",\"td\":\"-14.4\",\"pa\":\"1015.5\",\"paQcflg\":\"0\",\"ps\":\"1026.6\",\"psQcflg\":\"0\",\"ss\":\"\",\"ssQcflg\":\"9\",\"icsr\":\"\",\"dsnw\":\"\",\"hr3Fhsc\":\"\",\"dc10Tca\":\"0\",\"dc10LmcsCa\":\"0\",\"clfmAbbrCd\":\"\",\"lcsCh\":\"\",\"vs\":\"2000\",\"gndSttCd\":\"\",\"dmstMtphNo\":\"\",\"ts\":\"-3.5\",\"tsQcflg\":\"0\",\"m005Te\":\"-0.2\",\"m01Te\":\"0.3\",\"m02Te\":\"1.0\",\"m03Te\":\"1.5\"},{\"tm\":\"2018-01-01 04:00\",\"rnum\":\"4\",\"stnId\":\"108\",\"stnNm\":\"\\xec\\x84\\x9c\\xec\\x9a\\xb8\",\"ta\":\"-4.2\",\"taQcflg\":\"0\",\"rn\":\"\",\"rnQcflg\":\"\",\"ws\":\"1.1\",\"wsQcflg\":\"0\",\"wd\":\"290\",\"wdQcflg\":\"0\",\"hm\":\"53\",\"hmQcflg\":\"0\",\"pv\":\"2.4\",\"td\":\"-12.3\",\"pa\":\"1015.5\",\"paQcflg\":\"0\",\"ps\":\"1026.6\",\"psQcflg\":\"0\",\"ss\":\"\",\"ssQcflg\":\"9\",\"icsr\":\"\",\"dsnw\":\"\",\"hr3Fhsc\":\"\",\"dc10Tca\":\"0\",\"dc10LmcsCa\":\"0\",\"clfmAbbrCd\":\"\",\"lcsCh\":\"\",\"vs\":\"1994\",\"gndSttCd\":\"\",\"dmstMtphNo\":\"\",\"ts\":\"-3.8\",\"tsQcflg\":\"0\",\"m005Te\":\"-0.3\",\"m01Te\":\"0.3\",\"m02Te\":\"0.9\",\"m03Te\":\"1.6\"},{\"tm\":\"2018-01-01 05:00\",\"rnum\":\"5\",\"stnId\":\"108\",\"stnNm\":\"\\xec\\x84\\x9c\\xec\\x9a\\xb8\",\"ta\":\"-4.4\",\"taQcflg\":\"0\",\"rn\":\"\",\"rnQcflg\":\"\",\"ws\":\"0.8\",\"wsQcflg\":\"0\",\"wd\":\"290\",\"wdQcflg\":\"0\",\"hm\":\"54\",\"hmQcflg\":\"0\",\"pv\":\"2.4\",\"td\":\"-12.3\",\"pa\":\"1015.7\",\"paQcflg\":\"0\",\"ps\":\"1026.8\",\"psQcflg\":\"0\",\"ss\":\"\",\"ssQcflg\":\"9\",\"icsr\":\"\",\"dsnw\":\"\",\"hr3Fhsc\":\"\",\"dc10Tca\":\"0\",\"dc10LmcsCa\":\"0\",\"clfmAbbrCd\":\"\",\"lcsCh\":\"\",\"vs\":\"1786\",\"gndSttCd\":\"\",\"dmstMtphNo\":\"\",\"ts\":\"-4.2\",\"tsQcflg\":\"0\",\"m005Te\":\"-0.5\",\"m01Te\":\"0.2\",\"m02Te\":\"1.0\",\"m03Te\":\"1.6\"},{\"tm\":\"2018-01-01 06:00\",\"rnum\":\"6\",\"stnId\":\"108\",\"stnNm\":\"\\xec\\x84\\x9c\\xec\\x9a\\xb8\",\"ta\":\"-4.5\",\"taQcflg\":\"0\",\"rn\":\"\",\"rnQcflg\":\"\",\"ws\":\"1.1\",\"wsQcflg\":\"0\",\"wd\":\"320\",\"wdQcflg\":\"0\",\"hm\":\"51\",\"hmQcflg\":\"0\",\"pv\":\"2.2\",\"td\":\"-13.1\",\"pa\":\"1015.8\",\"paQcflg\":\"0\",\"ps\":\"1026.9\",\"psQcflg\":\"0\",\"ss\":\"\",\"ssQcflg\":\"9\",\"icsr\":\"\",\"dsnw\":\"\",\"hr3Fhsc\":\"\",\"dc10Tca\":\"0\",\"dc10LmcsCa\":\"0\",\"clfmAbbrCd\":\"\",\"lcsCh\":\"\",\"vs\":\"2000\",\"gndSttCd\":\"\",\"dmstMtphNo\":\"\",\"ts\":\"-4.4\",\"tsQcflg\":\"0\",\"m005Te\":\"-0.7\",\"m01Te\":\"0.3\",\"m02Te\":\"1.0\",\"m03Te\":\"1.6\"},{\"tm\":\"2018-01-01 07:00\",\"rnum\":\"7\",\"stnId\":\"108\",\"stnNm\":\"\\xec\\x84\\x9c\\xec\\x9a\\xb8\",\"ta\":\"-4.7\",\"taQcflg\":\"0\",\"rn\":\"\",\"rnQcflg\":\"\",\"ws\":\"1.1\",\"wsQcflg\":\"0\",\"wd\":\"290\",\"wdQcflg\":\"0\",\"hm\":\"56\",\"hmQcflg\":\"0\",\"pv\":\"2.4\",\"td\":\"-12.1\",\"pa\":\"1016.1\",\"paQcflg\":\"0\",\"ps\":\"1027.2\",\"psQcflg\":\"0\",\"ss\":\"\",\"ssQcflg\":\"9\",\"icsr\":\"\",\"dsnw\":\"\",\"hr3Fhsc\":\"\",\"dc10Tca\":\"0\",\"dc10LmcsCa\":\"0\",\"clfmAbbrCd\":\"\",\"lcsCh\":\"\",\"vs\":\"2000\",\"gndSttCd\":\"\",\"dmstMtphNo\":\"\",\"ts\":\"-4.7\",\"tsQcflg\":\"0\",\"m005Te\":\"-0.8\",\"m01Te\":\"0.2\",\"m02Te\":\"0.9\",\"m03Te\":\"1.6\"},{\"tm\":\"2018-01-01 08:00\",\"rnum\":\"8\",\"stnId\":\"108\",\"stnNm\":\"\\xec\\x84\\x9c\\xec\\x9a\\xb8\",\"ta\":\"-5.0\",\"taQcflg\":\"0\",\"rn\":\"\",\"rnQcflg\":\"\",\"ws\":\"1.0\",\"wsQcflg\":\"0\",\"wd\":\"290\",\"wdQcflg\":\"0\",\"hm\":\"55\",\"hmQcflg\":\"0\",\"pv\":\"2.3\",\"td\":\"-12.6\",\"pa\":\"1016.5\",\"paQcflg\":\"0\",\"ps\":\"1027.6\",\"psQcflg\":\"0\",\"ss\":\"0.0\",\"ssQcflg\":\"0\",\"icsr\":\"0.0\",\"dsnw\":\"\",\"hr3Fhsc\":\"\",\"dc10Tca\":\"0\",\"dc10LmcsCa\":\"0\",\"clfmAbbrCd\":\"\",\"lcsCh\":\"\",\"vs\":\"2000\",\"gndSttCd\":\"\",\"dmstMtphNo\":\"\",\"ts\":\"-4.9\",\"tsQcflg\":\"0\",\"m005Te\":\"-1.0\",\"m01Te\":\"0.2\",\"m02Te\":\"1.0\",\"m03Te\":\"1.6\"},{\"tm\":\"2018-01-01 09:00\",\"rnum\":\"9\",\"stnId\":\"108\",\"stnNm\":\"\\xec\\x84\\x9c\\xec\\x9a\\xb8\",\"ta\":\"-4.3\",\"taQcflg\":\"0\",\"rn\":\"\",\"rnQcflg\":\"\",\"ws\":\"0.7\",\"wsQcflg\":\"0\",\"wd\":\"290\",\"wdQcflg\":\"0\",\"hm\":\"39\",\"hmQcflg\":\"0\",\"pv\":\"1.7\",\"td\":\"-16.2\",\"pa\":\"1017.0\",\"paQcflg\":\"0\",\"ps\":\"1028.1\",\"psQcflg\":\"0\",\"ss\":\"0.6\",\"ssQcflg\":\"0\",\"icsr\":\"0.15\",\"dsnw\":\"\",\"hr3Fhsc\":\"\",\"dc10Tca\":\"0\",\"dc10LmcsCa\":\"0\",\"clfmAbbrCd\":\"\",\"lcsCh\":\"\",\"vs\":\"1973\",\"gndSttCd\":\"\",\"dmstMtphNo\":\"\",\"ts\":\"-3.6\",\"tsQcflg\":\"0\",\"m005Te\":\"-0.7\",\"m01Te\":\"0.3\",\"m02Te\":\"1.0\",\"m03Te\":\"1.6\"},{\"tm\":\"2018-01-01 10:00\",\"rnum\":\"10\",\"stnId\":\"108\",\"stnNm\":\"\\xec\\x84\\x9c\\xec\\x9a\\xb8\",\"ta\":\"-1.6\",\"taQcflg\":\"0\",\"rn\":\"\",\"rnQcflg\":\"\",\"ws\":\"0.8\",\"wsQcflg\":\"0\",\"wd\":\"270\",\"wdQcflg\":\"0\",\"hm\":\"32\",\"hmQcflg\":\"0\",\"pv\":\"1.7\",\"td\":\"-16.1\",\"pa\":\"1017.7\",\"paQcflg\":\"0\",\"ps\":\"1028.7\",\"psQcflg\":\"0\",\"ss\":\"1.0\",\"ssQcflg\":\"0\",\"icsr\":\"0.53\",\"dsnw\":\"\",\"hr3Fhsc\":\"\",\"dc10Tca\":\"0\",\"dc10LmcsCa\":\"0\",\"clfmAbbrCd\":\"\",\"lcsCh\":\"\",\"vs\":\"1766\",\"gndSttCd\":\"\",\"dmstMtphNo\":\"\",\"ts\":\"-0.8\",\"tsQcflg\":\"0\",\"m005Te\":\"-0.1\",\"m01Te\":\"0.3\",\"m02Te\":\"1.0\",\"m03Te\":\"1.6\"}]},\"pageNo\":1,\"numOfRows\":10,\"totalCount\":3625}}}'\n"
     ]
    }
   ],
   "source": [
    "import requests\n",
    "\n",
    "url = 'http://apis.data.go.kr/1360000/AsosHourlyInfoService/getWthrDataList'\n",
    "params ={'serviceKey' : 'HBsd7IB4qCP0hHVD3lw2kZl+bAP0XU7KmA6WDTB8lh8AAbPtxJmuIgLJne4VTQB6NPgsIf9jRJ6nTjW9ZYykdw==', 'pageNo' : '1', 'numOfRows' : '10', 'dataType' : 'JSON', 'dataCd' : 'ASOS', 'dateCd' : 'HR', 'startDt' : '20180101', 'startHh' : '01', 'endDt' : '20180601', 'endHh' : '01', 'stnIds' : '108' }\n",
    "\n",
    "response = requests.get(url, params=params)\n",
    "print(response.content)"
   ]
  },
  {
   "cell_type": "code",
   "execution_count": 13,
   "metadata": {},
   "outputs": [
    {
     "data": {
      "text/plain": [
       "'{\"response\":{\"header\":{\"resultCode\":\"00\",\"resultMsg\":\"NORMAL_SERVICE\"},\"body\":{\"dataType\":\"JSON\",\"items\":{\"item\":[{\"tm\":\"2018-01-01 01:00\",\"rnum\":\"1\",\"stnId\":\"108\",\"stnNm\":\"서울\",\"ta\":\"-3.3\",\"taQcflg\":\"0\",\"rn\":\"\",\"rnQcflg\":\"\",\"ws\":\"0.7\",\"wsQcflg\":\"0\",\"wd\":\"360\",\"wdQcflg\":\"0\",\"hm\":\"41\",\"hmQcflg\":\"0\",\"pv\":\"2.0\",\"td\":\"-14.7\",\"pa\":\"1015.1\",\"paQcflg\":\"0\",\"ps\":\"1026.1\",\"psQcflg\":\"0\",\"ss\":\"\",\"ssQcflg\":\"9\",\"icsr\":\"\",\"dsnw\":\"\",\"hr3Fhsc\":\"\",\"dc10Tca\":\"\",\"dc10LmcsCa\":\"0\",\"clfmAbbrCd\":\"\",\"lcsCh\":\"\",\"vs\":\"2000\",\"gndSttCd\":\"\",\"dmstMtphNo\":\"\",\"ts\":\"-2.7\",\"tsQcflg\":\"0\",\"m005Te\":\"-0.1\",\"m01Te\":\"0.3\",\"m02Te\":\"0.9\",\"m03Te\":\"1.5\"},{\"tm\":\"2018-01-01 02:00\",\"rnum\":\"2\",\"stnId\":\"108\",\"stnNm\":\"서울\",\"ta\":\"-3.7\",\"taQcflg\":\"0\",\"rn\":\"\",\"rnQcflg\":\"\",\"ws\":\"0.9\",\"wsQcflg\":\"0\",\"wd\":\"270\",\"wdQcflg\":\"0\",\"hm\":\"42\",\"hmQcflg\":\"0\",\"pv\":\"2.0\",\"td\":\"-14.7\",\"pa\":\"1015.2\",\"paQcflg\":\"0\",\"ps\":\"1026.3\",\"psQcflg\":\"0\",\"ss\":\"\",\"ssQcflg\":\"9\",\"icsr\":\"\",\"dsnw\":\"\",\"hr3Fhsc\":\"\",\"dc10Tca\":\"\",\"dc10LmcsCa\":\"0\",\"clfmAbbrCd\":\"\",\"lcsCh\":\"\",\"vs\":\"2000\",\"gndSttCd\":\"\",\"dmstMtphNo\":\"\",\"ts\":\"-3.0\",\"tsQcflg\":\"0\",\"m005Te\":\"-0.2\",\"m01Te\":\"0.3\",\"m02Te\":\"0.9\",\"m03Te\":\"1.6\"},{\"tm\":\"2018-01-01 03:00\",\"rnum\":\"3\",\"stnId\":\"108\",\"stnNm\":\"서울\",\"ta\":\"-4.0\",\"taQcflg\":\"0\",\"rn\":\"\",\"rnQcflg\":\"\",\"ws\":\"1.0\",\"wsQcflg\":\"0\",\"wd\":\"290\",\"wdQcflg\":\"0\",\"hm\":\"44\",\"hmQcflg\":\"0\",\"pv\":\"2.0\",\"td\":\"-14.4\",\"pa\":\"1015.5\",\"paQcflg\":\"0\",\"ps\":\"1026.6\",\"psQcflg\":\"0\",\"ss\":\"\",\"ssQcflg\":\"9\",\"icsr\":\"\",\"dsnw\":\"\",\"hr3Fhsc\":\"\",\"dc10Tca\":\"0\",\"dc10LmcsCa\":\"0\",\"clfmAbbrCd\":\"\",\"lcsCh\":\"\",\"vs\":\"2000\",\"gndSttCd\":\"\",\"dmstMtphNo\":\"\",\"ts\":\"-3.5\",\"tsQcflg\":\"0\",\"m005Te\":\"-0.2\",\"m01Te\":\"0.3\",\"m02Te\":\"1.0\",\"m03Te\":\"1.5\"},{\"tm\":\"2018-01-01 04:00\",\"rnum\":\"4\",\"stnId\":\"108\",\"stnNm\":\"서울\",\"ta\":\"-4.2\",\"taQcflg\":\"0\",\"rn\":\"\",\"rnQcflg\":\"\",\"ws\":\"1.1\",\"wsQcflg\":\"0\",\"wd\":\"290\",\"wdQcflg\":\"0\",\"hm\":\"53\",\"hmQcflg\":\"0\",\"pv\":\"2.4\",\"td\":\"-12.3\",\"pa\":\"1015.5\",\"paQcflg\":\"0\",\"ps\":\"1026.6\",\"psQcflg\":\"0\",\"ss\":\"\",\"ssQcflg\":\"9\",\"icsr\":\"\",\"dsnw\":\"\",\"hr3Fhsc\":\"\",\"dc10Tca\":\"0\",\"dc10LmcsCa\":\"0\",\"clfmAbbrCd\":\"\",\"lcsCh\":\"\",\"vs\":\"1994\",\"gndSttCd\":\"\",\"dmstMtphNo\":\"\",\"ts\":\"-3.8\",\"tsQcflg\":\"0\",\"m005Te\":\"-0.3\",\"m01Te\":\"0.3\",\"m02Te\":\"0.9\",\"m03Te\":\"1.6\"},{\"tm\":\"2018-01-01 05:00\",\"rnum\":\"5\",\"stnId\":\"108\",\"stnNm\":\"서울\",\"ta\":\"-4.4\",\"taQcflg\":\"0\",\"rn\":\"\",\"rnQcflg\":\"\",\"ws\":\"0.8\",\"wsQcflg\":\"0\",\"wd\":\"290\",\"wdQcflg\":\"0\",\"hm\":\"54\",\"hmQcflg\":\"0\",\"pv\":\"2.4\",\"td\":\"-12.3\",\"pa\":\"1015.7\",\"paQcflg\":\"0\",\"ps\":\"1026.8\",\"psQcflg\":\"0\",\"ss\":\"\",\"ssQcflg\":\"9\",\"icsr\":\"\",\"dsnw\":\"\",\"hr3Fhsc\":\"\",\"dc10Tca\":\"0\",\"dc10LmcsCa\":\"0\",\"clfmAbbrCd\":\"\",\"lcsCh\":\"\",\"vs\":\"1786\",\"gndSttCd\":\"\",\"dmstMtphNo\":\"\",\"ts\":\"-4.2\",\"tsQcflg\":\"0\",\"m005Te\":\"-0.5\",\"m01Te\":\"0.2\",\"m02Te\":\"1.0\",\"m03Te\":\"1.6\"},{\"tm\":\"2018-01-01 06:00\",\"rnum\":\"6\",\"stnId\":\"108\",\"stnNm\":\"서울\",\"ta\":\"-4.5\",\"taQcflg\":\"0\",\"rn\":\"\",\"rnQcflg\":\"\",\"ws\":\"1.1\",\"wsQcflg\":\"0\",\"wd\":\"320\",\"wdQcflg\":\"0\",\"hm\":\"51\",\"hmQcflg\":\"0\",\"pv\":\"2.2\",\"td\":\"-13.1\",\"pa\":\"1015.8\",\"paQcflg\":\"0\",\"ps\":\"1026.9\",\"psQcflg\":\"0\",\"ss\":\"\",\"ssQcflg\":\"9\",\"icsr\":\"\",\"dsnw\":\"\",\"hr3Fhsc\":\"\",\"dc10Tca\":\"0\",\"dc10LmcsCa\":\"0\",\"clfmAbbrCd\":\"\",\"lcsCh\":\"\",\"vs\":\"2000\",\"gndSttCd\":\"\",\"dmstMtphNo\":\"\",\"ts\":\"-4.4\",\"tsQcflg\":\"0\",\"m005Te\":\"-0.7\",\"m01Te\":\"0.3\",\"m02Te\":\"1.0\",\"m03Te\":\"1.6\"},{\"tm\":\"2018-01-01 07:00\",\"rnum\":\"7\",\"stnId\":\"108\",\"stnNm\":\"서울\",\"ta\":\"-4.7\",\"taQcflg\":\"0\",\"rn\":\"\",\"rnQcflg\":\"\",\"ws\":\"1.1\",\"wsQcflg\":\"0\",\"wd\":\"290\",\"wdQcflg\":\"0\",\"hm\":\"56\",\"hmQcflg\":\"0\",\"pv\":\"2.4\",\"td\":\"-12.1\",\"pa\":\"1016.1\",\"paQcflg\":\"0\",\"ps\":\"1027.2\",\"psQcflg\":\"0\",\"ss\":\"\",\"ssQcflg\":\"9\",\"icsr\":\"\",\"dsnw\":\"\",\"hr3Fhsc\":\"\",\"dc10Tca\":\"0\",\"dc10LmcsCa\":\"0\",\"clfmAbbrCd\":\"\",\"lcsCh\":\"\",\"vs\":\"2000\",\"gndSttCd\":\"\",\"dmstMtphNo\":\"\",\"ts\":\"-4.7\",\"tsQcflg\":\"0\",\"m005Te\":\"-0.8\",\"m01Te\":\"0.2\",\"m02Te\":\"0.9\",\"m03Te\":\"1.6\"},{\"tm\":\"2018-01-01 08:00\",\"rnum\":\"8\",\"stnId\":\"108\",\"stnNm\":\"서울\",\"ta\":\"-5.0\",\"taQcflg\":\"0\",\"rn\":\"\",\"rnQcflg\":\"\",\"ws\":\"1.0\",\"wsQcflg\":\"0\",\"wd\":\"290\",\"wdQcflg\":\"0\",\"hm\":\"55\",\"hmQcflg\":\"0\",\"pv\":\"2.3\",\"td\":\"-12.6\",\"pa\":\"1016.5\",\"paQcflg\":\"0\",\"ps\":\"1027.6\",\"psQcflg\":\"0\",\"ss\":\"0.0\",\"ssQcflg\":\"0\",\"icsr\":\"0.0\",\"dsnw\":\"\",\"hr3Fhsc\":\"\",\"dc10Tca\":\"0\",\"dc10LmcsCa\":\"0\",\"clfmAbbrCd\":\"\",\"lcsCh\":\"\",\"vs\":\"2000\",\"gndSttCd\":\"\",\"dmstMtphNo\":\"\",\"ts\":\"-4.9\",\"tsQcflg\":\"0\",\"m005Te\":\"-1.0\",\"m01Te\":\"0.2\",\"m02Te\":\"1.0\",\"m03Te\":\"1.6\"},{\"tm\":\"2018-01-01 09:00\",\"rnum\":\"9\",\"stnId\":\"108\",\"stnNm\":\"서울\",\"ta\":\"-4.3\",\"taQcflg\":\"0\",\"rn\":\"\",\"rnQcflg\":\"\",\"ws\":\"0.7\",\"wsQcflg\":\"0\",\"wd\":\"290\",\"wdQcflg\":\"0\",\"hm\":\"39\",\"hmQcflg\":\"0\",\"pv\":\"1.7\",\"td\":\"-16.2\",\"pa\":\"1017.0\",\"paQcflg\":\"0\",\"ps\":\"1028.1\",\"psQcflg\":\"0\",\"ss\":\"0.6\",\"ssQcflg\":\"0\",\"icsr\":\"0.15\",\"dsnw\":\"\",\"hr3Fhsc\":\"\",\"dc10Tca\":\"0\",\"dc10LmcsCa\":\"0\",\"clfmAbbrCd\":\"\",\"lcsCh\":\"\",\"vs\":\"1973\",\"gndSttCd\":\"\",\"dmstMtphNo\":\"\",\"ts\":\"-3.6\",\"tsQcflg\":\"0\",\"m005Te\":\"-0.7\",\"m01Te\":\"0.3\",\"m02Te\":\"1.0\",\"m03Te\":\"1.6\"},{\"tm\":\"2018-01-01 10:00\",\"rnum\":\"10\",\"stnId\":\"108\",\"stnNm\":\"서울\",\"ta\":\"-1.6\",\"taQcflg\":\"0\",\"rn\":\"\",\"rnQcflg\":\"\",\"ws\":\"0.8\",\"wsQcflg\":\"0\",\"wd\":\"270\",\"wdQcflg\":\"0\",\"hm\":\"32\",\"hmQcflg\":\"0\",\"pv\":\"1.7\",\"td\":\"-16.1\",\"pa\":\"1017.7\",\"paQcflg\":\"0\",\"ps\":\"1028.7\",\"psQcflg\":\"0\",\"ss\":\"1.0\",\"ssQcflg\":\"0\",\"icsr\":\"0.53\",\"dsnw\":\"\",\"hr3Fhsc\":\"\",\"dc10Tca\":\"0\",\"dc10LmcsCa\":\"0\",\"clfmAbbrCd\":\"\",\"lcsCh\":\"\",\"vs\":\"1766\",\"gndSttCd\":\"\",\"dmstMtphNo\":\"\",\"ts\":\"-0.8\",\"tsQcflg\":\"0\",\"m005Te\":\"-0.1\",\"m01Te\":\"0.3\",\"m02Te\":\"1.0\",\"m03Te\":\"1.6\"}]},\"pageNo\":1,\"numOfRows\":10,\"totalCount\":3625}}}'"
      ]
     },
     "execution_count": 13,
     "metadata": {},
     "output_type": "execute_result"
    }
   ],
   "source": [
    "response.text"
   ]
  },
  {
   "cell_type": "code",
   "execution_count": null,
   "metadata": {},
   "outputs": [],
   "source": []
  }
 ],
 "metadata": {
  "kernelspec": {
   "display_name": "crawling",
   "language": "python",
   "name": "python3"
  },
  "language_info": {
   "codemirror_mode": {
    "name": "ipython",
    "version": 3
   },
   "file_extension": ".py",
   "mimetype": "text/x-python",
   "name": "python",
   "nbconvert_exporter": "python",
   "pygments_lexer": "ipython3",
   "version": "3.9.15"
  },
  "orig_nbformat": 4,
  "vscode": {
   "interpreter": {
    "hash": "c83ef3adab64e3cbb510cefd6b611928ffaaeddedd527d1b02ef4edcd5a80c0c"
   }
  }
 },
 "nbformat": 4,
 "nbformat_minor": 2
}
