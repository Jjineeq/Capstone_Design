{
 "cells": [
  {
   "cell_type": "code",
   "execution_count": 26,
   "metadata": {},
   "outputs": [],
   "source": [
    "import pandas as pd\n",
    "import numpy as np\n",
    "import matplotlib.pyplot as plt\n",
    "import warnings\n",
    "warnings.filterwarnings('ignore')\n",
    "import scipy.stats as stats\n",
    "import matplotlib\n",
    "matplotlib.rcParams['font.family'] ='Malgun Gothic'\n",
    "matplotlib.rcParams['axes.unicode_minus'] =False"
   ]
  },
  {
   "cell_type": "code",
   "execution_count": 2,
   "metadata": {},
   "outputs": [],
   "source": [
    "df = pd.read_csv('C:/Users/user/github/Data/energy/train.csv', encoding='cp949')"
   ]
  },
  {
   "cell_type": "code",
   "execution_count": 3,
   "metadata": {},
   "outputs": [],
   "source": [
    "eda_df = df.copy()"
   ]
  },
  {
   "cell_type": "code",
   "execution_count": 4,
   "metadata": {},
   "outputs": [],
   "source": [
    "eda_df['month'] = 0\n",
    "eda_df['hour'] = 0\n",
    "eda_df['year'] = 0\n",
    "eda_df['day'] = 0\n",
    "eda_df['요일'] = 0"
   ]
  },
  {
   "cell_type": "code",
   "execution_count": 11,
   "metadata": {},
   "outputs": [],
   "source": [
    "eda_df.date_time = pd.to_datetime(eda_df.date_time)"
   ]
  },
  {
   "cell_type": "code",
   "execution_count": 15,
   "metadata": {},
   "outputs": [],
   "source": [
    "days = {0: '월요일', 1: '화요일', 2: '수요일', 3: '목요일', 4: '금요일', 5: '토요일', 6: '일요일'}"
   ]
  },
  {
   "cell_type": "code",
   "execution_count": 16,
   "metadata": {},
   "outputs": [],
   "source": [
    "eda_df['month'] = eda_df.date_time.dt.month\n",
    "eda_df['hour'] = eda_df.date_time.dt.hour\n",
    "eda_df['year'] = eda_df.date_time.dt.year\n",
    "eda_df['day'] = eda_df.date_time.dt.day\n",
    "eda_df['요일'] = eda_df['date_time'].dt.weekday.map(days)"
   ]
  },
  {
   "cell_type": "code",
   "execution_count": 17,
   "metadata": {},
   "outputs": [],
   "source": [
    "input = eda_df.drop(['기온(°C)','풍속(m/s)','습도(%)','강수량(mm)','일조(hr)','비전기냉방설비운영','태양광보유','month'], axis=1)"
   ]
  },
  {
   "cell_type": "code",
   "execution_count": 18,
   "metadata": {},
   "outputs": [],
   "source": [
    "mean = pd.DataFrame(input.groupby(['num','요일','hour']).mean()['전력사용량(kWh)'])"
   ]
  },
  {
   "cell_type": "code",
   "execution_count": 19,
   "metadata": {},
   "outputs": [],
   "source": [
    "std = pd.DataFrame(input.groupby(['num','요일','hour']).std()['전력사용량(kWh)'])"
   ]
  },
  {
   "cell_type": "code",
   "execution_count": 20,
   "metadata": {},
   "outputs": [],
   "source": [
    "total_df = pd.merge(mean, std, how='inner', left_on = ['num','요일','hour'], right_on=['num','요일','hour'])"
   ]
  },
  {
   "cell_type": "code",
   "execution_count": 22,
   "metadata": {},
   "outputs": [],
   "source": [
    "total_df.reset_index(inplace=True)"
   ]
  },
  {
   "cell_type": "code",
   "execution_count": 23,
   "metadata": {},
   "outputs": [],
   "source": [
    "total_df.columns = ['num' ,'요일', 'hour', 'mean', 'std']"
   ]
  },
  {
   "cell_type": "code",
   "execution_count": 24,
   "metadata": {},
   "outputs": [],
   "source": [
    "class HourlyDataUpdater:\n",
    "    def __init__(self, hourly_means, hourly_std_devs, alpha=0.1):\n",
    "        self.hourly_means = hourly_means\n",
    "        self.hourly_std_devs = hourly_std_devs\n",
    "        self.alpha = alpha\n",
    "\n",
    "    def update(self, hour, new_data):\n",
    "        old_mean = self.hourly_means[hour]\n",
    "        old_std_dev = self.hourly_std_devs[hour]\n",
    "\n",
    "        # 평균 업데이트\n",
    "        new_mean = old_mean * (1 - self.alpha) + new_data * self.alpha\n",
    "\n",
    "        # 표준편차 업데이트\n",
    "        new_std_dev = np.sqrt((1 - self.alpha) * (old_std_dev ** 2) + self.alpha * ((new_data - old_mean) ** 2))\n",
    "\n",
    "        # 값 업데이트\n",
    "        self.hourly_means[hour] = new_mean\n",
    "        self.hourly_std_devs[hour] = new_std_dev\n",
    "\n",
    "        return new_mean\n",
    "\n",
    "    def predict(self, hour, new_data):\n",
    "        updated_mean = self.update(hour, new_data)\n",
    "        return stats.norm(updated_mean, self.hourly_std_devs[hour]).pdf(new_data)"
   ]
  },
  {
   "cell_type": "code",
   "execution_count": 28,
   "metadata": {},
   "outputs": [],
   "source": [
    "def get_weekday_indices(index):\n",
    "    datetime_index = pd.DatetimeIndex(index)\n",
    "    weekday_indices = datetime_index[datetime_index.weekday < 5]\n",
    "    return weekday_indices"
   ]
  },
  {
   "cell_type": "code",
   "execution_count": 39,
   "metadata": {},
   "outputs": [],
   "source": [
    "df_1 = df[df['num']==1]"
   ]
  },
  {
   "cell_type": "code",
   "execution_count": 41,
   "metadata": {},
   "outputs": [],
   "source": [
    "df_1.date_time = pd.to_datetime(df_1.date_time)"
   ]
  },
  {
   "cell_type": "code",
   "execution_count": 42,
   "metadata": {},
   "outputs": [],
   "source": [
    "df_1 = df_1.set_index(['date_time'])"
   ]
  },
  {
   "cell_type": "code",
   "execution_count": 43,
   "metadata": {},
   "outputs": [],
   "source": [
    "weekday = get_weekday_indices(df_1.index)"
   ]
  },
  {
   "cell_type": "code",
   "execution_count": 44,
   "metadata": {},
   "outputs": [
    {
     "data": {
      "text/plain": [
       "DatetimeIndex(['2020-06-01 00:00:00', '2020-06-01 01:00:00',\n",
       "               '2020-06-01 02:00:00', '2020-06-01 03:00:00',\n",
       "               '2020-06-01 04:00:00', '2020-06-01 05:00:00',\n",
       "               '2020-06-01 06:00:00', '2020-06-01 07:00:00',\n",
       "               '2020-06-01 08:00:00', '2020-06-01 09:00:00',\n",
       "               ...\n",
       "               '2020-08-24 14:00:00', '2020-08-24 15:00:00',\n",
       "               '2020-08-24 16:00:00', '2020-08-24 17:00:00',\n",
       "               '2020-08-24 18:00:00', '2020-08-24 19:00:00',\n",
       "               '2020-08-24 20:00:00', '2020-08-24 21:00:00',\n",
       "               '2020-08-24 22:00:00', '2020-08-24 23:00:00'],\n",
       "              dtype='datetime64[ns]', name='date_time', length=1464, freq=None)"
      ]
     },
     "execution_count": 44,
     "metadata": {},
     "output_type": "execute_result"
    }
   ],
   "source": [
    "weekday"
   ]
  },
  {
   "cell_type": "code",
   "execution_count": 45,
   "metadata": {},
   "outputs": [],
   "source": [
    "input_1 = df_1.loc[weekday]"
   ]
  },
  {
   "cell_type": "code",
   "execution_count": 57,
   "metadata": {},
   "outputs": [],
   "source": [
    "mean = eda_df[(eda_df['태양광보유'] == 0) & (eda_df['num']==1)][:1440].groupby(['hour']).mean()['전력사용량(kWh)']\n",
    "std = eda_df[(eda_df['태양광보유'] == 0) & (eda_df['num']==1)][:1440].groupby(['hour']).std()['전력사용량(kWh)']"
   ]
  },
  {
   "cell_type": "code",
   "execution_count": 58,
   "metadata": {},
   "outputs": [
    {
     "data": {
      "text/plain": [
       "hour\n",
       "0     8503.2504\n",
       "1     8476.0776\n",
       "2     8469.9216\n",
       "3     8454.2508\n",
       "4     8441.1828\n",
       "5     8417.1096\n",
       "6     8410.7592\n",
       "7     8439.4440\n",
       "8     8454.1860\n",
       "9     8495.6148\n",
       "10    8514.0180\n",
       "11    8519.2344\n",
       "12    8516.1996\n",
       "13    8533.8036\n",
       "14    8557.2504\n",
       "15    8564.9616\n",
       "16    8566.3332\n",
       "17    8558.3088\n",
       "18    8542.1844\n",
       "19    8544.9492\n",
       "20    8535.9420\n",
       "21    8538.3612\n",
       "22    8536.7412\n",
       "23    8516.8692\n",
       "Name: 전력사용량(kWh), dtype: float64"
      ]
     },
     "execution_count": 58,
     "metadata": {},
     "output_type": "execute_result"
    }
   ],
   "source": [
    "mean"
   ]
  },
  {
   "cell_type": "code",
   "execution_count": 61,
   "metadata": {},
   "outputs": [],
   "source": [
    "from sklearn.metrics import mean_squared_error\n",
    "from sklearn.metrics import mean_absolute_error"
   ]
  },
  {
   "cell_type": "code",
   "execution_count": 85,
   "metadata": {},
   "outputs": [],
   "source": [
    "hourly_means = mean \n",
    "hourly_std_devs = std\n",
    "total_means = []\n",
    "pred_error_mse = []\n",
    "pred_error_mae = []\n",
    "\n",
    "for i in range(30):\n",
    "    new_data = input_1.iloc[24*i : 24*(i+1), 1]\n",
    "\n",
    "    updater = HourlyDataUpdater(hourly_means, hourly_std_devs, alpha=0.1)\n",
    "\n",
    "    updated_means = []\n",
    "    for hour, data in enumerate(new_data):\n",
    "        updated_mean = updater.update(hour, data)\n",
    "        updated_means.append(updated_mean)\n",
    "    \n",
    "    pred_error_mse.append(mean_squared_error(new_data, updated_means))\n",
    "    pred_error_mae.append(mean_absolute_error(new_data, updated_means))\n",
    "    \n",
    "    total_means.append(updated_means)"
   ]
  },
  {
   "cell_type": "code",
   "execution_count": 86,
   "metadata": {},
   "outputs": [
    {
     "data": {
      "text/plain": [
       "29.295376384653007"
      ]
     },
     "execution_count": 86,
     "metadata": {},
     "output_type": "execute_result"
    }
   ],
   "source": [
    "mean_absolute_error(new_data, updated_means)"
   ]
  },
  {
   "cell_type": "code",
   "execution_count": 87,
   "metadata": {},
   "outputs": [
    {
     "data": {
      "text/plain": [
       "[<matplotlib.lines.Line2D at 0x1c1991e5c70>]"
      ]
     },
     "execution_count": 87,
     "metadata": {},
     "output_type": "execute_result"
    },
    {
     "data": {
      "image/png": "[encoded data removed]",
      "text/plain": [
       "<Figure size 640x480 with 1 Axes>"
      ]
     },
     "metadata": {},
     "output_type": "display_data"
    }
   ],
   "source": [
    "plt.plot(pred_error_mae)"
   ]
  },
  {
   "cell_type": "code",
   "execution_count": null,
   "metadata": {},
   "outputs": [],
   "source": []
  }
 ],
 "metadata": {
  "kernelspec": {
   "display_name": "crawling",
   "language": "python",
   "name": "python3"
  },
  "language_info": {
   "codemirror_mode": {
    "name": "ipython",
    "version": 3
   },
   "file_extension": ".py",
   "mimetype": "text/x-python",
   "name": "python",
   "nbconvert_exporter": "python",
   "pygments_lexer": "ipython3",
   "version": "3.9.15"
  },
  "orig_nbformat": 4
 },
 "nbformat": 4,
 "nbformat_minor": 2
}
