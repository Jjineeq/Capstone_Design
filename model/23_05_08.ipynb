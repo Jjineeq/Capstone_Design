{
 "cells": [
  {
   "cell_type": "code",
   "execution_count": 6,
   "metadata": {},
   "outputs": [],
   "source": [
    "import pvlib\n",
    "import numpy as np\n",
    "import tensorflow as tf\n",
    "from tensorflow.keras.layers import Input, Dense\n",
    "from tensorflow.keras.models import Model\n",
    "import pandas as pd"
   ]
  },
  {
   "cell_type": "code",
   "execution_count": 2,
   "metadata": {},
   "outputs": [],
   "source": [
    "def create_pinn_model(input_dim, hidden_units, output_dim):\n",
    "    inputs = Input(shape=(input_dim,))\n",
    "    x = inputs\n",
    "    \n",
    "    for units in hidden_units:\n",
    "        x = Dense(units, activation='relu')(x)\n",
    "    \n",
    "    outputs = Dense(output_dim)(x)\n",
    "\n",
    "    model = Model(inputs, outputs)\n",
    "    \n",
    "    return model\n"
   ]
  },
  {
   "cell_type": "code",
   "execution_count": 10,
   "metadata": {},
   "outputs": [],
   "source": [
    "# 데이터 예시입니다. 실제 데이터를 사용하십시오.\n",
    "data = {\n",
    "    'wind_direction': [30, 40, 60, 90],\n",
    "    'wind_speed': [3, 5, 7, 9],\n",
    "    'temperature': [25, 23, 24, 27],\n",
    "    'humidity': [30, 50, 60, 45],\n",
    "    'time': ['2023-05-08 10:00', '2023-05-08 11:00', '2023-05-08 12:00', '2023-05-08 13:00'],\n",
    "    'solar_power': [100, 150, 200, 250]\n",
    "}\n",
    "\n",
    "latitude, longitude = 35.6895, 139.6917  # 도쿄 예시 좌표, 실제 위치에 맞게 변경하십시오.\n",
    "tz = 'Asia/Tokyo'"
   ]
  },
  {
   "cell_type": "code",
   "execution_count": 11,
   "metadata": {},
   "outputs": [],
   "source": [
    "# pvlib를 사용하여 Ineichen-Perez Clear Sky Model의 GHI 값을 계산합니다.\n",
    "times = pd.DatetimeIndex(pd.to_datetime(data['time'], utc=True)).tz_convert(tz)"
   ]
  },
  {
   "cell_type": "code",
   "execution_count": 12,
   "metadata": {},
   "outputs": [],
   "source": [
    "solpos = pvlib.solarposition.get_solarposition(times, latitude, longitude)"
   ]
  },
  {
   "cell_type": "code",
   "execution_count": 13,
   "metadata": {},
   "outputs": [],
   "source": [
    "apparent_zenith = solpos['apparent_zenith']"
   ]
  },
  {
   "cell_type": "code",
   "execution_count": 15,
   "metadata": {},
   "outputs": [],
   "source": [
    "airmass_absolute = pvlib.atmosphere.get_absolute_airmass(apparent_zenith)"
   ]
  },
  {
   "cell_type": "code",
   "execution_count": 16,
   "metadata": {},
   "outputs": [],
   "source": [
    "linke_turbidity = pvlib.clearsky.lookup_linke_turbidity(times, latitude, longitude)"
   ]
  },
  {
   "cell_type": "code",
   "execution_count": 17,
   "metadata": {},
   "outputs": [],
   "source": [
    "dni_extra = pvlib.irradiance.get_extra_radiation(times)"
   ]
  },
  {
   "cell_type": "code",
   "execution_count": 23,
   "metadata": {},
   "outputs": [],
   "source": [
    "clear_sky = pvlib.clearsky.ineichen(apparent_zenith, airmass_absolute, linke_turbidity, altitude=latitude, dni_extra=dni_extra)"
   ]
  },
  {
   "cell_type": "code",
   "execution_count": 24,
   "metadata": {},
   "outputs": [],
   "source": [
    "ghi = clear_sky['ghi']"
   ]
  },
  {
   "cell_type": "code",
   "execution_count": 31,
   "metadata": {},
   "outputs": [],
   "source": [
    "input_dim = 5\n",
    "hidden_units = [64, 64, 64]\n",
    "output_dim = 1\n",
    "\n",
    "pinn_model = create_pinn_model(input_dim, hidden_units, output_dim)\n",
    "\n",
    "# 손실 함수 및 최적화 도구를 설정합니다.\n",
    "optimizer = tf.keras.optimizers.Adam(learning_rate=0.001)\n"
   ]
  },
  {
   "cell_type": "code",
   "execution_count": 32,
   "metadata": {},
   "outputs": [],
   "source": [
    "def combined_loss(model, X, y, alpha=0.5):\n",
    "    # 데이터 기반 손실 함수\n",
    "    data_loss = tf.keras.losses.MeanSquaredError()\n",
    "\n",
    "    # 물리식 기반 손실 함수 (여기서는 간단한 선형 관계를 가정)\n",
    "    def physics_loss(y_true, y_pred):\n",
    "        ghi = X[:, -1]\n",
    "        return tf.math.reduce_mean(tf.math.square(y_pred - ghi.reshape(-1, 1)))\n",
    "\n",
    "    # PINN 손실 함수\n",
    "    def pinn_loss(y_true, y_pred):\n",
    "        return (1 - alpha) * data_loss(y_true, y_pred) + alpha * physics_loss(y_true, y_pred)\n",
    "\n",
    "    return pinn_loss\n"
   ]
  },
  {
   "cell_type": "code",
   "execution_count": 33,
   "metadata": {},
   "outputs": [],
   "source": [
    "optimizer = tf.keras.optimizers.Adam(learning_rate=0.001)\n",
    "loss = tf.keras.losses.MeanSquaredError()\n",
    "\n",
    "pinn_model.compile(optimizer=optimizer, loss=combined_loss(pinn_model, X, y))\n",
    "\n",
    "# 데이터를 정리하여 입력 및 출력을 생성합니다.\n",
    "X = np.column_stack([\n",
    "    data['wind_direction'],\n",
    "    data['wind_speed'],\n",
    "    data['temperature'],\n",
    "    data['humidity'],\n",
    "    ghi\n",
    "])\n",
    "\n",
    "y = np.array(data['solar_power']).reshape(-1, 1)"
   ]
  },
  {
   "cell_type": "code",
   "execution_count": 34,
   "metadata": {},
   "outputs": [
    {
     "name": "stdout",
     "output_type": "stream",
     "text": [
      "Epoch 1/100\n",
      "1/1 [==============================] - 1s 569ms/step - loss: 17532.1172\n",
      "Epoch 2/100\n",
      "1/1 [==============================] - 0s 2ms/step - loss: 17132.7148\n",
      "Epoch 3/100\n",
      "1/1 [==============================] - 0s 2ms/step - loss: 16741.8223\n",
      "Epoch 4/100\n",
      "1/1 [==============================] - 0s 1ms/step - loss: 16360.8184\n",
      "Epoch 5/100\n",
      "1/1 [==============================] - 0s 2ms/step - loss: 15993.3145\n",
      "Epoch 6/100\n",
      "1/1 [==============================] - 0s 2ms/step - loss: 15645.2793\n",
      "Epoch 7/100\n",
      "1/1 [==============================] - 0s 1000us/step - loss: 15306.4727\n",
      "Epoch 8/100\n",
      "1/1 [==============================] - 0s 1ms/step - loss: 14989.4268\n",
      "Epoch 9/100\n",
      "1/1 [==============================] - 0s 2ms/step - loss: 14692.7285\n",
      "Epoch 10/100\n",
      "1/1 [==============================] - 0s 2ms/step - loss: 14395.0234\n",
      "Epoch 11/100\n",
      "1/1 [==============================] - 0s 1ms/step - loss: 14102.6143\n",
      "Epoch 12/100\n",
      "1/1 [==============================] - 0s 2ms/step - loss: 13820.9580\n",
      "Epoch 13/100\n",
      "1/1 [==============================] - 0s 2ms/step - loss: 13536.8623\n",
      "Epoch 14/100\n",
      "1/1 [==============================] - 0s 1ms/step - loss: 13248.3203\n",
      "Epoch 15/100\n",
      "1/1 [==============================] - 0s 2ms/step - loss: 12948.7969\n",
      "Epoch 16/100\n",
      "1/1 [==============================] - 0s 2ms/step - loss: 12639.9922\n",
      "Epoch 17/100\n",
      "1/1 [==============================] - 0s 1000us/step - loss: 12321.9365\n",
      "Epoch 18/100\n",
      "1/1 [==============================] - 0s 2ms/step - loss: 11998.6992\n",
      "Epoch 19/100\n",
      "1/1 [==============================] - 0s 1ms/step - loss: 11679.2959\n",
      "Epoch 20/100\n",
      "1/1 [==============================] - 0s 2ms/step - loss: 11360.5732\n",
      "Epoch 21/100\n",
      "1/1 [==============================] - 0s 2ms/step - loss: 11040.6436\n",
      "Epoch 22/100\n",
      "1/1 [==============================] - 0s 1ms/step - loss: 10722.9189\n",
      "Epoch 23/100\n",
      "1/1 [==============================] - 0s 2ms/step - loss: 10413.6592\n",
      "Epoch 24/100\n",
      "1/1 [==============================] - 0s 1ms/step - loss: 10116.6914\n",
      "Epoch 25/100\n",
      "1/1 [==============================] - 0s 2ms/step - loss: 9836.4277\n",
      "Epoch 26/100\n",
      "1/1 [==============================] - 0s 2ms/step - loss: 9574.6553\n",
      "Epoch 27/100\n",
      "1/1 [==============================] - 0s 1000us/step - loss: 9333.2461\n",
      "Epoch 28/100\n",
      "1/1 [==============================] - 0s 2ms/step - loss: 9115.6904\n",
      "Epoch 29/100\n",
      "1/1 [==============================] - 0s 2ms/step - loss: 8924.5908\n",
      "Epoch 30/100\n",
      "1/1 [==============================] - 0s 2ms/step - loss: 8764.3193\n",
      "Epoch 31/100\n",
      "1/1 [==============================] - 0s 2ms/step - loss: 8636.6914\n",
      "Epoch 32/100\n",
      "1/1 [==============================] - 0s 1ms/step - loss: 8542.7705\n",
      "Epoch 33/100\n",
      "1/1 [==============================] - 0s 2ms/step - loss: 8483.5156\n",
      "Epoch 34/100\n",
      "1/1 [==============================] - 0s 2ms/step - loss: 8457.6191\n",
      "Epoch 35/100\n",
      "1/1 [==============================] - 0s 2ms/step - loss: 8461.5947\n",
      "Epoch 36/100\n",
      "1/1 [==============================] - 0s 2ms/step - loss: 8489.6152\n",
      "Epoch 37/100\n",
      "1/1 [==============================] - 0s 2ms/step - loss: 8533.8740\n",
      "Epoch 38/100\n",
      "1/1 [==============================] - 0s 2ms/step - loss: 8585.3633\n",
      "Epoch 39/100\n",
      "1/1 [==============================] - 0s 2ms/step - loss: 8635.1133\n",
      "Epoch 40/100\n",
      "1/1 [==============================] - 0s 1ms/step - loss: 8675.4453\n",
      "Epoch 41/100\n",
      "1/1 [==============================] - 0s 2ms/step - loss: 8701.0391\n",
      "Epoch 42/100\n",
      "1/1 [==============================] - 0s 2ms/step - loss: 8709.5117\n",
      "Epoch 43/100\n",
      "1/1 [==============================] - 0s 2ms/step - loss: 8701.2578\n",
      "Epoch 44/100\n",
      "1/1 [==============================] - 0s 1ms/step - loss: 8678.6973\n",
      "Epoch 45/100\n",
      "1/1 [==============================] - 0s 2ms/step - loss: 8646.0439\n",
      "Epoch 46/100\n",
      "1/1 [==============================] - 0s 2ms/step - loss: 8607.8564\n",
      "Epoch 47/100\n",
      "1/1 [==============================] - 0s 1ms/step - loss: 8568.4551\n",
      "Epoch 48/100\n",
      "1/1 [==============================] - 0s 1ms/step - loss: 8531.7168\n",
      "Epoch 49/100\n",
      "1/1 [==============================] - 0s 1000us/step - loss: 8500.8828\n",
      "Epoch 50/100\n",
      "1/1 [==============================] - 0s 2ms/step - loss: 8477.4941\n",
      "Epoch 51/100\n",
      "1/1 [==============================] - 0s 2ms/step - loss: 8461.9141\n",
      "Epoch 52/100\n",
      "1/1 [==============================] - 0s 1ms/step - loss: 8453.6641\n",
      "Epoch 53/100\n",
      "1/1 [==============================] - 0s 2ms/step - loss: 8451.6240\n",
      "Epoch 54/100\n",
      "1/1 [==============================] - 0s 2ms/step - loss: 8454.2520\n",
      "Epoch 55/100\n",
      "1/1 [==============================] - 0s 2ms/step - loss: 8459.8984\n",
      "Epoch 56/100\n",
      "1/1 [==============================] - 0s 1ms/step - loss: 8467.0000\n",
      "Epoch 57/100\n",
      "1/1 [==============================] - 0s 2ms/step - loss: 8474.1895\n",
      "Epoch 58/100\n",
      "1/1 [==============================] - 0s 2ms/step - loss: 8480.3984\n",
      "Epoch 59/100\n",
      "1/1 [==============================] - 0s 2ms/step - loss: 8484.8887\n",
      "Epoch 60/100\n",
      "1/1 [==============================] - 0s 2ms/step - loss: 8487.2422\n",
      "Epoch 61/100\n",
      "1/1 [==============================] - 0s 2ms/step - loss: 8487.3848\n",
      "Epoch 62/100\n",
      "1/1 [==============================] - 0s 2ms/step - loss: 8485.4902\n",
      "Epoch 63/100\n",
      "1/1 [==============================] - 0s 1ms/step - loss: 8481.9121\n",
      "Epoch 64/100\n",
      "1/1 [==============================] - 0s 2ms/step - loss: 8477.1211\n",
      "Epoch 65/100\n",
      "1/1 [==============================] - 0s 2ms/step - loss: 8471.6484\n",
      "Epoch 66/100\n",
      "1/1 [==============================] - 0s 2ms/step - loss: 8466.0273\n",
      "Epoch 67/100\n",
      "1/1 [==============================] - 0s 1000us/step - loss: 8460.7344\n",
      "Epoch 68/100\n",
      "1/1 [==============================] - 0s 1ms/step - loss: 8456.1543\n",
      "Epoch 69/100\n",
      "1/1 [==============================] - 0s 2ms/step - loss: 8452.5488\n",
      "Epoch 70/100\n",
      "1/1 [==============================] - 0s 2ms/step - loss: 8450.0430\n",
      "Epoch 71/100\n",
      "1/1 [==============================] - 0s 2ms/step - loss: 8448.6396\n",
      "Epoch 72/100\n",
      "1/1 [==============================] - 0s 1000us/step - loss: 8448.2246\n",
      "Epoch 73/100\n",
      "1/1 [==============================] - 0s 2ms/step - loss: 8448.5859\n",
      "Epoch 74/100\n",
      "1/1 [==============================] - 0s 2ms/step - loss: 8449.4648\n",
      "Epoch 75/100\n",
      "1/1 [==============================] - 0s 2ms/step - loss: 8450.5830\n",
      "Epoch 76/100\n",
      "1/1 [==============================] - 0s 1000us/step - loss: 8451.6816\n",
      "Epoch 77/100\n",
      "1/1 [==============================] - 0s 999us/step - loss: 8452.5547\n",
      "Epoch 78/100\n",
      "1/1 [==============================] - 0s 2ms/step - loss: 8453.0605\n",
      "Epoch 79/100\n",
      "1/1 [==============================] - 0s 2ms/step - loss: 8453.1367\n",
      "Epoch 80/100\n",
      "1/1 [==============================] - 0s 2ms/step - loss: 8452.7939\n",
      "Epoch 81/100\n",
      "1/1 [==============================] - 0s 2ms/step - loss: 8452.0957\n",
      "Epoch 82/100\n",
      "1/1 [==============================] - 0s 2ms/step - loss: 8451.1504\n",
      "Epoch 83/100\n",
      "1/1 [==============================] - 0s 1000us/step - loss: 8450.0830\n",
      "Epoch 84/100\n",
      "1/1 [==============================] - 0s 2ms/step - loss: 8449.0156\n",
      "Epoch 85/100\n",
      "1/1 [==============================] - 0s 2ms/step - loss: 8448.0469\n",
      "Epoch 86/100\n",
      "1/1 [==============================] - 0s 2ms/step - loss: 8447.2500\n",
      "Epoch 87/100\n",
      "1/1 [==============================] - 0s 1ms/step - loss: 8446.6641\n",
      "Epoch 88/100\n",
      "1/1 [==============================] - 0s 2ms/step - loss: 8446.2969\n",
      "Epoch 89/100\n",
      "1/1 [==============================] - 0s 2ms/step - loss: 8446.1260\n",
      "Epoch 90/100\n",
      "1/1 [==============================] - 0s 2ms/step - loss: 8446.1113\n",
      "Epoch 91/100\n",
      "1/1 [==============================] - 0s 1000us/step - loss: 8446.1973\n",
      "Epoch 92/100\n",
      "1/1 [==============================] - 0s 2ms/step - loss: 8446.3320\n",
      "Epoch 93/100\n",
      "1/1 [==============================] - 0s 2ms/step - loss: 8446.4619\n",
      "Epoch 94/100\n",
      "1/1 [==============================] - 0s 1000us/step - loss: 8446.5508\n",
      "Epoch 95/100\n",
      "1/1 [==============================] - 0s 2ms/step - loss: 8446.5713\n",
      "Epoch 96/100\n",
      "1/1 [==============================] - 0s 2ms/step - loss: 8446.5137\n",
      "Epoch 97/100\n",
      "1/1 [==============================] - 0s 2ms/step - loss: 8446.3809\n",
      "Epoch 98/100\n",
      "1/1 [==============================] - 0s 2ms/step - loss: 8446.1855\n",
      "Epoch 99/100\n",
      "1/1 [==============================] - 0s 2ms/step - loss: 8445.9492\n",
      "Epoch 100/100\n",
      "1/1 [==============================] - 0s 2ms/step - loss: 8445.6943\n"
     ]
    },
    {
     "data": {
      "text/plain": [
       "<keras.callbacks.History at 0x1d1607c4dd0>"
      ]
     },
     "execution_count": 34,
     "metadata": {},
     "output_type": "execute_result"
    }
   ],
   "source": [
    "pinn_model.fit(X, y, epochs=100, batch_size=len(X), verbose=1)"
   ]
  },
  {
   "cell_type": "code",
   "execution_count": 35,
   "metadata": {},
   "outputs": [
    {
     "name": "stdout",
     "output_type": "stream",
     "text": [
      "1/1 [==============================] - 0s 35ms/step\n"
     ]
    }
   ],
   "source": [
    "y_pred = pinn_model.predict(X)"
   ]
  },
  {
   "cell_type": "code",
   "execution_count": 36,
   "metadata": {},
   "outputs": [
    {
     "data": {
      "text/plain": [
       "array([[ 54.844288],\n",
       "       [ 74.023506],\n",
       "       [ 98.045906],\n",
       "       [123.11807 ]], dtype=float32)"
      ]
     },
     "execution_count": 36,
     "metadata": {},
     "output_type": "execute_result"
    }
   ],
   "source": [
    "y_pred"
   ]
  },
  {
   "cell_type": "code",
   "execution_count": null,
   "metadata": {},
   "outputs": [],
   "source": []
  }
 ],
 "metadata": {
  "kernelspec": {
   "display_name": "Python 3",
   "language": "python",
   "name": "python3"
  },
  "language_info": {
   "codemirror_mode": {
    "name": "ipython",
    "version": 3
   },
   "file_extension": ".py",
   "mimetype": "text/x-python",
   "name": "python",
   "nbconvert_exporter": "python",
   "pygments_lexer": "ipython3",
   "version": "3.11.1"
  },
  "orig_nbformat": 4
 },
 "nbformat": 4,
 "nbformat_minor": 2
}
