{
 "cells": [
  {
   "cell_type": "code",
   "execution_count": 97,
   "metadata": {},
   "outputs": [],
   "source": [
    "import numpy as np\n",
    "import pandas as pd\n",
    "import matplotlib.pyplot as plt\n",
    "import warnings\n",
    "warnings.filterwarnings('ignore')\n",
    "import keras\n",
    "import tensorflow as tf\n",
    "from tensorflow import keras\n",
    "from tensorflow.keras import layers\n",
    "import datetime\n",
    "import warnings\n",
    "warnings.filterwarnings('ignore')\n",
    "from tqdm import tqdm\n",
    "import matplotlib\n",
    "matplotlib.rcParams['font.family'] ='Malgun Gothic'\n",
    "matplotlib.rcParams['axes.unicode_minus'] =False"
   ]
  },
  {
   "cell_type": "code",
   "execution_count": 2,
   "metadata": {},
   "outputs": [],
   "source": [
    "forecast_weather = pd.read_csv('C:\\\\Users\\\\user\\\\github\\\\Data\\\\capstone\\\\weather/solar_forecast_weather.csv')"
   ]
  },
  {
   "cell_type": "code",
   "execution_count": 3,
   "metadata": {},
   "outputs": [],
   "source": [
    "solar = pd.read_csv('C:\\\\Users\\\\user\\\\github\\\\Data\\\\capstone\\\\weather/solar_power_2204.csv')"
   ]
  },
  {
   "cell_type": "code",
   "execution_count": 4,
   "metadata": {},
   "outputs": [],
   "source": [
    "real_weather = pd.read_csv('C:\\\\Users\\\\user\\\\github\\\\Data\\\\capstone\\\\weather/weather_solar_actual.csv')"
   ]
  },
  {
   "cell_type": "code",
   "execution_count": 5,
   "metadata": {},
   "outputs": [
    {
     "data": {
      "text/html": [
       "<div>\n",
       "<style scoped>\n",
       "    .dataframe tbody tr th:only-of-type {\n",
       "        vertical-align: middle;\n",
       "    }\n",
       "\n",
       "    .dataframe tbody tr th {\n",
       "        vertical-align: top;\n",
       "    }\n",
       "\n",
       "    .dataframe thead th {\n",
       "        text-align: right;\n",
       "    }\n",
       "</style>\n",
       "<table border=\"1\" class=\"dataframe\">\n",
       "  <thead>\n",
       "    <tr style=\"text-align: right;\">\n",
       "      <th></th>\n",
       "      <th>Forecast time</th>\n",
       "      <th>forecast</th>\n",
       "      <th>temperature</th>\n",
       "      <th>humidity</th>\n",
       "      <th>windspeed</th>\n",
       "      <th>winddirection</th>\n",
       "    </tr>\n",
       "  </thead>\n",
       "  <tbody>\n",
       "    <tr>\n",
       "      <th>0</th>\n",
       "      <td>2020-09-01 11:00:00</td>\n",
       "      <td>4.0</td>\n",
       "      <td>31.0</td>\n",
       "      <td>65.0</td>\n",
       "      <td>3.0</td>\n",
       "      <td>101.0</td>\n",
       "    </tr>\n",
       "    <tr>\n",
       "      <th>1</th>\n",
       "      <td>2020-09-01 11:00:00</td>\n",
       "      <td>7.0</td>\n",
       "      <td>29.0</td>\n",
       "      <td>80.0</td>\n",
       "      <td>2.4</td>\n",
       "      <td>90.0</td>\n",
       "    </tr>\n",
       "    <tr>\n",
       "      <th>2</th>\n",
       "      <td>2020-09-01 11:00:00</td>\n",
       "      <td>10.0</td>\n",
       "      <td>26.0</td>\n",
       "      <td>90.0</td>\n",
       "      <td>1.7</td>\n",
       "      <td>65.0</td>\n",
       "    </tr>\n",
       "    <tr>\n",
       "      <th>3</th>\n",
       "      <td>2020-09-01 11:00:00</td>\n",
       "      <td>13.0</td>\n",
       "      <td>26.0</td>\n",
       "      <td>90.0</td>\n",
       "      <td>1.5</td>\n",
       "      <td>48.0</td>\n",
       "    </tr>\n",
       "    <tr>\n",
       "      <th>4</th>\n",
       "      <td>2020-09-01 11:00:00</td>\n",
       "      <td>16.0</td>\n",
       "      <td>25.0</td>\n",
       "      <td>90.0</td>\n",
       "      <td>1.6</td>\n",
       "      <td>40.0</td>\n",
       "    </tr>\n",
       "    <tr>\n",
       "      <th>...</th>\n",
       "      <td>...</td>\n",
       "      <td>...</td>\n",
       "      <td>...</td>\n",
       "      <td>...</td>\n",
       "      <td>...</td>\n",
       "      <td>...</td>\n",
       "    </tr>\n",
       "    <tr>\n",
       "      <th>230259</th>\n",
       "      <td>2022-07-01 08:00:00</td>\n",
       "      <td>60.0</td>\n",
       "      <td>26.0</td>\n",
       "      <td>80.0</td>\n",
       "      <td>2.5</td>\n",
       "      <td>78.0</td>\n",
       "    </tr>\n",
       "    <tr>\n",
       "      <th>230260</th>\n",
       "      <td>2022-07-01 08:00:00</td>\n",
       "      <td>61.0</td>\n",
       "      <td>26.0</td>\n",
       "      <td>85.0</td>\n",
       "      <td>2.1</td>\n",
       "      <td>76.0</td>\n",
       "    </tr>\n",
       "    <tr>\n",
       "      <th>230261</th>\n",
       "      <td>2022-07-01 08:00:00</td>\n",
       "      <td>62.0</td>\n",
       "      <td>25.0</td>\n",
       "      <td>85.0</td>\n",
       "      <td>1.7</td>\n",
       "      <td>65.0</td>\n",
       "    </tr>\n",
       "    <tr>\n",
       "      <th>230262</th>\n",
       "      <td>2022-07-01 08:00:00</td>\n",
       "      <td>63.0</td>\n",
       "      <td>25.0</td>\n",
       "      <td>85.0</td>\n",
       "      <td>1.6</td>\n",
       "      <td>43.0</td>\n",
       "    </tr>\n",
       "    <tr>\n",
       "      <th>230263</th>\n",
       "      <td>2022-07-01 08:00:00</td>\n",
       "      <td>64.0</td>\n",
       "      <td>25.0</td>\n",
       "      <td>85.0</td>\n",
       "      <td>1.6</td>\n",
       "      <td>27.0</td>\n",
       "    </tr>\n",
       "  </tbody>\n",
       "</table>\n",
       "<p>230264 rows × 6 columns</p>\n",
       "</div>"
      ],
      "text/plain": [
       "              Forecast time  forecast  temperature  humidity  windspeed  \\\n",
       "0       2020-09-01 11:00:00       4.0         31.0      65.0        3.0   \n",
       "1       2020-09-01 11:00:00       7.0         29.0      80.0        2.4   \n",
       "2       2020-09-01 11:00:00      10.0         26.0      90.0        1.7   \n",
       "3       2020-09-01 11:00:00      13.0         26.0      90.0        1.5   \n",
       "4       2020-09-01 11:00:00      16.0         25.0      90.0        1.6   \n",
       "...                     ...       ...          ...       ...        ...   \n",
       "230259  2022-07-01 08:00:00      60.0         26.0      80.0        2.5   \n",
       "230260  2022-07-01 08:00:00      61.0         26.0      85.0        2.1   \n",
       "230261  2022-07-01 08:00:00      62.0         25.0      85.0        1.7   \n",
       "230262  2022-07-01 08:00:00      63.0         25.0      85.0        1.6   \n",
       "230263  2022-07-01 08:00:00      64.0         25.0      85.0        1.6   \n",
       "\n",
       "        winddirection  \n",
       "0               101.0  \n",
       "1                90.0  \n",
       "2                65.0  \n",
       "3                48.0  \n",
       "4                40.0  \n",
       "...               ...  \n",
       "230259           78.0  \n",
       "230260           76.0  \n",
       "230261           65.0  \n",
       "230262           43.0  \n",
       "230263           27.0  \n",
       "\n",
       "[230264 rows x 6 columns]"
      ]
     },
     "execution_count": 5,
     "metadata": {},
     "output_type": "execute_result"
    }
   ],
   "source": [
    "forecast_weather"
   ]
  },
  {
   "cell_type": "code",
   "execution_count": 6,
   "metadata": {},
   "outputs": [],
   "source": [
    "forecast_weather['Forecast time'] = pd.to_datetime(forecast_weather['Forecast time'])"
   ]
  },
  {
   "cell_type": "code",
   "execution_count": 7,
   "metadata": {},
   "outputs": [],
   "source": [
    "real_weather = real_weather.iloc[:,2:]"
   ]
  },
  {
   "cell_type": "code",
   "execution_count": 8,
   "metadata": {},
   "outputs": [],
   "source": [
    "real_weather.columns = ['date','temp','wind_speed','wind_dir','humidity']"
   ]
  },
  {
   "cell_type": "code",
   "execution_count": 9,
   "metadata": {},
   "outputs": [],
   "source": [
    "forecast_weather['real_time'] = ''"
   ]
  },
  {
   "cell_type": "code",
   "execution_count": 10,
   "metadata": {},
   "outputs": [],
   "source": [
    "for i in range(len(forecast_weather)):\n",
    "    forecast_weather['real_time'][i] = forecast_weather['Forecast time'][i] + datetime.timedelta(hours=forecast_weather['forecast'][i])"
   ]
  },
  {
   "cell_type": "code",
   "execution_count": 11,
   "metadata": {},
   "outputs": [],
   "source": [
    "forecast_weather_eda = forecast_weather.groupby(['real_time']).mean().drop('forecast', axis=1)"
   ]
  },
  {
   "cell_type": "code",
   "execution_count": 12,
   "metadata": {},
   "outputs": [],
   "source": [
    "from scipy import interpolate"
   ]
  },
  {
   "cell_type": "code",
   "execution_count": 13,
   "metadata": {},
   "outputs": [],
   "source": [
    "forecast_weather_eda.reset_index(inplace=True)"
   ]
  },
  {
   "cell_type": "code",
   "execution_count": 14,
   "metadata": {},
   "outputs": [
    {
     "data": {
      "text/html": [
       "<div>\n",
       "<style scoped>\n",
       "    .dataframe tbody tr th:only-of-type {\n",
       "        vertical-align: middle;\n",
       "    }\n",
       "\n",
       "    .dataframe tbody tr th {\n",
       "        vertical-align: top;\n",
       "    }\n",
       "\n",
       "    .dataframe thead th {\n",
       "        text-align: right;\n",
       "    }\n",
       "</style>\n",
       "<table border=\"1\" class=\"dataframe\">\n",
       "  <thead>\n",
       "    <tr style=\"text-align: right;\">\n",
       "      <th></th>\n",
       "      <th>real_time</th>\n",
       "      <th>temperature</th>\n",
       "      <th>humidity</th>\n",
       "      <th>windspeed</th>\n",
       "      <th>winddirection</th>\n",
       "    </tr>\n",
       "  </thead>\n",
       "  <tbody>\n",
       "    <tr>\n",
       "      <th>0</th>\n",
       "      <td>2020-09-01 15:00:00</td>\n",
       "      <td>31.0</td>\n",
       "      <td>65.000000</td>\n",
       "      <td>3.00</td>\n",
       "      <td>101.000000</td>\n",
       "    </tr>\n",
       "    <tr>\n",
       "      <th>1</th>\n",
       "      <td>2020-09-01 18:00:00</td>\n",
       "      <td>29.0</td>\n",
       "      <td>80.000000</td>\n",
       "      <td>2.40</td>\n",
       "      <td>90.000000</td>\n",
       "    </tr>\n",
       "    <tr>\n",
       "      <th>2</th>\n",
       "      <td>2020-09-01 21:00:00</td>\n",
       "      <td>26.0</td>\n",
       "      <td>90.000000</td>\n",
       "      <td>1.80</td>\n",
       "      <td>66.333333</td>\n",
       "    </tr>\n",
       "    <tr>\n",
       "      <th>3</th>\n",
       "      <td>2020-09-02 00:00:00</td>\n",
       "      <td>25.5</td>\n",
       "      <td>90.000000</td>\n",
       "      <td>1.75</td>\n",
       "      <td>48.000000</td>\n",
       "    </tr>\n",
       "    <tr>\n",
       "      <th>4</th>\n",
       "      <td>2020-09-02 03:00:00</td>\n",
       "      <td>25.0</td>\n",
       "      <td>90.000000</td>\n",
       "      <td>1.90</td>\n",
       "      <td>44.200000</td>\n",
       "    </tr>\n",
       "    <tr>\n",
       "      <th>...</th>\n",
       "      <td>...</td>\n",
       "      <td>...</td>\n",
       "      <td>...</td>\n",
       "      <td>...</td>\n",
       "      <td>...</td>\n",
       "    </tr>\n",
       "    <tr>\n",
       "      <th>11236</th>\n",
       "      <td>2022-07-03 20:00:00</td>\n",
       "      <td>26.0</td>\n",
       "      <td>80.000000</td>\n",
       "      <td>2.50</td>\n",
       "      <td>78.000000</td>\n",
       "    </tr>\n",
       "    <tr>\n",
       "      <th>11237</th>\n",
       "      <td>2022-07-03 21:00:00</td>\n",
       "      <td>26.0</td>\n",
       "      <td>81.666667</td>\n",
       "      <td>2.10</td>\n",
       "      <td>76.000000</td>\n",
       "    </tr>\n",
       "    <tr>\n",
       "      <th>11238</th>\n",
       "      <td>2022-07-03 22:00:00</td>\n",
       "      <td>25.0</td>\n",
       "      <td>85.000000</td>\n",
       "      <td>1.70</td>\n",
       "      <td>65.000000</td>\n",
       "    </tr>\n",
       "    <tr>\n",
       "      <th>11239</th>\n",
       "      <td>2022-07-03 23:00:00</td>\n",
       "      <td>25.0</td>\n",
       "      <td>85.000000</td>\n",
       "      <td>1.60</td>\n",
       "      <td>43.000000</td>\n",
       "    </tr>\n",
       "    <tr>\n",
       "      <th>11240</th>\n",
       "      <td>2022-07-04 00:00:00</td>\n",
       "      <td>25.0</td>\n",
       "      <td>85.000000</td>\n",
       "      <td>1.60</td>\n",
       "      <td>27.000000</td>\n",
       "    </tr>\n",
       "  </tbody>\n",
       "</table>\n",
       "<p>11241 rows × 5 columns</p>\n",
       "</div>"
      ],
      "text/plain": [
       "                real_time  temperature   humidity  windspeed  winddirection\n",
       "0     2020-09-01 15:00:00         31.0  65.000000       3.00     101.000000\n",
       "1     2020-09-01 18:00:00         29.0  80.000000       2.40      90.000000\n",
       "2     2020-09-01 21:00:00         26.0  90.000000       1.80      66.333333\n",
       "3     2020-09-02 00:00:00         25.5  90.000000       1.75      48.000000\n",
       "4     2020-09-02 03:00:00         25.0  90.000000       1.90      44.200000\n",
       "...                   ...          ...        ...        ...            ...\n",
       "11236 2022-07-03 20:00:00         26.0  80.000000       2.50      78.000000\n",
       "11237 2022-07-03 21:00:00         26.0  81.666667       2.10      76.000000\n",
       "11238 2022-07-03 22:00:00         25.0  85.000000       1.70      65.000000\n",
       "11239 2022-07-03 23:00:00         25.0  85.000000       1.60      43.000000\n",
       "11240 2022-07-04 00:00:00         25.0  85.000000       1.60      27.000000\n",
       "\n",
       "[11241 rows x 5 columns]"
      ]
     },
     "execution_count": 14,
     "metadata": {},
     "output_type": "execute_result"
    }
   ],
   "source": [
    "forecast_weather_eda"
   ]
  },
  {
   "cell_type": "code",
   "execution_count": 15,
   "metadata": {},
   "outputs": [
    {
     "data": {
      "text/html": [
       "<div>\n",
       "<style scoped>\n",
       "    .dataframe tbody tr th:only-of-type {\n",
       "        vertical-align: middle;\n",
       "    }\n",
       "\n",
       "    .dataframe tbody tr th {\n",
       "        vertical-align: top;\n",
       "    }\n",
       "\n",
       "    .dataframe thead th {\n",
       "        text-align: right;\n",
       "    }\n",
       "</style>\n",
       "<table border=\"1\" class=\"dataframe\">\n",
       "  <thead>\n",
       "    <tr style=\"text-align: right;\">\n",
       "      <th></th>\n",
       "      <th>real_time</th>\n",
       "      <th>temperature</th>\n",
       "      <th>humidity</th>\n",
       "      <th>windspeed</th>\n",
       "      <th>winddirection</th>\n",
       "    </tr>\n",
       "  </thead>\n",
       "  <tbody>\n",
       "    <tr>\n",
       "      <th>0</th>\n",
       "      <td>2020-09-01 15:00:00</td>\n",
       "      <td>31.0</td>\n",
       "      <td>65.000000</td>\n",
       "      <td>3.00</td>\n",
       "      <td>101.000000</td>\n",
       "    </tr>\n",
       "    <tr>\n",
       "      <th>1</th>\n",
       "      <td>2020-09-01 18:00:00</td>\n",
       "      <td>29.0</td>\n",
       "      <td>80.000000</td>\n",
       "      <td>2.40</td>\n",
       "      <td>90.000000</td>\n",
       "    </tr>\n",
       "    <tr>\n",
       "      <th>2</th>\n",
       "      <td>2020-09-01 21:00:00</td>\n",
       "      <td>26.0</td>\n",
       "      <td>90.000000</td>\n",
       "      <td>1.80</td>\n",
       "      <td>66.333333</td>\n",
       "    </tr>\n",
       "    <tr>\n",
       "      <th>3</th>\n",
       "      <td>2020-09-02 00:00:00</td>\n",
       "      <td>25.5</td>\n",
       "      <td>90.000000</td>\n",
       "      <td>1.75</td>\n",
       "      <td>48.000000</td>\n",
       "    </tr>\n",
       "    <tr>\n",
       "      <th>4</th>\n",
       "      <td>2020-09-02 03:00:00</td>\n",
       "      <td>25.0</td>\n",
       "      <td>90.000000</td>\n",
       "      <td>1.90</td>\n",
       "      <td>44.200000</td>\n",
       "    </tr>\n",
       "    <tr>\n",
       "      <th>...</th>\n",
       "      <td>...</td>\n",
       "      <td>...</td>\n",
       "      <td>...</td>\n",
       "      <td>...</td>\n",
       "      <td>...</td>\n",
       "    </tr>\n",
       "    <tr>\n",
       "      <th>11236</th>\n",
       "      <td>2022-07-03 20:00:00</td>\n",
       "      <td>26.0</td>\n",
       "      <td>80.000000</td>\n",
       "      <td>2.50</td>\n",
       "      <td>78.000000</td>\n",
       "    </tr>\n",
       "    <tr>\n",
       "      <th>11237</th>\n",
       "      <td>2022-07-03 21:00:00</td>\n",
       "      <td>26.0</td>\n",
       "      <td>81.666667</td>\n",
       "      <td>2.10</td>\n",
       "      <td>76.000000</td>\n",
       "    </tr>\n",
       "    <tr>\n",
       "      <th>11238</th>\n",
       "      <td>2022-07-03 22:00:00</td>\n",
       "      <td>25.0</td>\n",
       "      <td>85.000000</td>\n",
       "      <td>1.70</td>\n",
       "      <td>65.000000</td>\n",
       "    </tr>\n",
       "    <tr>\n",
       "      <th>11239</th>\n",
       "      <td>2022-07-03 23:00:00</td>\n",
       "      <td>25.0</td>\n",
       "      <td>85.000000</td>\n",
       "      <td>1.60</td>\n",
       "      <td>43.000000</td>\n",
       "    </tr>\n",
       "    <tr>\n",
       "      <th>11240</th>\n",
       "      <td>2022-07-04 00:00:00</td>\n",
       "      <td>25.0</td>\n",
       "      <td>85.000000</td>\n",
       "      <td>1.60</td>\n",
       "      <td>27.000000</td>\n",
       "    </tr>\n",
       "  </tbody>\n",
       "</table>\n",
       "<p>11241 rows × 5 columns</p>\n",
       "</div>"
      ],
      "text/plain": [
       "                real_time  temperature   humidity  windspeed  winddirection\n",
       "0     2020-09-01 15:00:00         31.0  65.000000       3.00     101.000000\n",
       "1     2020-09-01 18:00:00         29.0  80.000000       2.40      90.000000\n",
       "2     2020-09-01 21:00:00         26.0  90.000000       1.80      66.333333\n",
       "3     2020-09-02 00:00:00         25.5  90.000000       1.75      48.000000\n",
       "4     2020-09-02 03:00:00         25.0  90.000000       1.90      44.200000\n",
       "...                   ...          ...        ...        ...            ...\n",
       "11236 2022-07-03 20:00:00         26.0  80.000000       2.50      78.000000\n",
       "11237 2022-07-03 21:00:00         26.0  81.666667       2.10      76.000000\n",
       "11238 2022-07-03 22:00:00         25.0  85.000000       1.70      65.000000\n",
       "11239 2022-07-03 23:00:00         25.0  85.000000       1.60      43.000000\n",
       "11240 2022-07-04 00:00:00         25.0  85.000000       1.60      27.000000\n",
       "\n",
       "[11241 rows x 5 columns]"
      ]
     },
     "execution_count": 15,
     "metadata": {},
     "output_type": "execute_result"
    }
   ],
   "source": [
    "forecast_weather_eda"
   ]
  },
  {
   "cell_type": "code",
   "execution_count": 16,
   "metadata": {},
   "outputs": [
    {
     "data": {
      "text/html": [
       "<div>\n",
       "<style scoped>\n",
       "    .dataframe tbody tr th:only-of-type {\n",
       "        vertical-align: middle;\n",
       "    }\n",
       "\n",
       "    .dataframe tbody tr th {\n",
       "        vertical-align: top;\n",
       "    }\n",
       "\n",
       "    .dataframe thead th {\n",
       "        text-align: right;\n",
       "    }\n",
       "</style>\n",
       "<table border=\"1\" class=\"dataframe\">\n",
       "  <thead>\n",
       "    <tr style=\"text-align: right;\">\n",
       "      <th></th>\n",
       "      <th>Forecast time</th>\n",
       "      <th>forecast</th>\n",
       "      <th>temperature</th>\n",
       "      <th>humidity</th>\n",
       "      <th>windspeed</th>\n",
       "      <th>winddirection</th>\n",
       "      <th>real_time</th>\n",
       "    </tr>\n",
       "  </thead>\n",
       "  <tbody>\n",
       "    <tr>\n",
       "      <th>0</th>\n",
       "      <td>2020-09-01 11:00:00</td>\n",
       "      <td>4.0</td>\n",
       "      <td>31.0</td>\n",
       "      <td>65.0</td>\n",
       "      <td>3.0</td>\n",
       "      <td>101.0</td>\n",
       "      <td>2020-09-01 15:00:00</td>\n",
       "    </tr>\n",
       "    <tr>\n",
       "      <th>1</th>\n",
       "      <td>2020-09-01 11:00:00</td>\n",
       "      <td>7.0</td>\n",
       "      <td>29.0</td>\n",
       "      <td>80.0</td>\n",
       "      <td>2.4</td>\n",
       "      <td>90.0</td>\n",
       "      <td>2020-09-01 18:00:00</td>\n",
       "    </tr>\n",
       "    <tr>\n",
       "      <th>2</th>\n",
       "      <td>2020-09-01 11:00:00</td>\n",
       "      <td>10.0</td>\n",
       "      <td>26.0</td>\n",
       "      <td>90.0</td>\n",
       "      <td>1.7</td>\n",
       "      <td>65.0</td>\n",
       "      <td>2020-09-01 21:00:00</td>\n",
       "    </tr>\n",
       "    <tr>\n",
       "      <th>3</th>\n",
       "      <td>2020-09-01 11:00:00</td>\n",
       "      <td>13.0</td>\n",
       "      <td>26.0</td>\n",
       "      <td>90.0</td>\n",
       "      <td>1.5</td>\n",
       "      <td>48.0</td>\n",
       "      <td>2020-09-02 00:00:00</td>\n",
       "    </tr>\n",
       "    <tr>\n",
       "      <th>4</th>\n",
       "      <td>2020-09-01 11:00:00</td>\n",
       "      <td>16.0</td>\n",
       "      <td>25.0</td>\n",
       "      <td>90.0</td>\n",
       "      <td>1.6</td>\n",
       "      <td>40.0</td>\n",
       "      <td>2020-09-02 03:00:00</td>\n",
       "    </tr>\n",
       "    <tr>\n",
       "      <th>...</th>\n",
       "      <td>...</td>\n",
       "      <td>...</td>\n",
       "      <td>...</td>\n",
       "      <td>...</td>\n",
       "      <td>...</td>\n",
       "      <td>...</td>\n",
       "      <td>...</td>\n",
       "    </tr>\n",
       "    <tr>\n",
       "      <th>230259</th>\n",
       "      <td>2022-07-01 08:00:00</td>\n",
       "      <td>60.0</td>\n",
       "      <td>26.0</td>\n",
       "      <td>80.0</td>\n",
       "      <td>2.5</td>\n",
       "      <td>78.0</td>\n",
       "      <td>2022-07-03 20:00:00</td>\n",
       "    </tr>\n",
       "    <tr>\n",
       "      <th>230260</th>\n",
       "      <td>2022-07-01 08:00:00</td>\n",
       "      <td>61.0</td>\n",
       "      <td>26.0</td>\n",
       "      <td>85.0</td>\n",
       "      <td>2.1</td>\n",
       "      <td>76.0</td>\n",
       "      <td>2022-07-03 21:00:00</td>\n",
       "    </tr>\n",
       "    <tr>\n",
       "      <th>230261</th>\n",
       "      <td>2022-07-01 08:00:00</td>\n",
       "      <td>62.0</td>\n",
       "      <td>25.0</td>\n",
       "      <td>85.0</td>\n",
       "      <td>1.7</td>\n",
       "      <td>65.0</td>\n",
       "      <td>2022-07-03 22:00:00</td>\n",
       "    </tr>\n",
       "    <tr>\n",
       "      <th>230262</th>\n",
       "      <td>2022-07-01 08:00:00</td>\n",
       "      <td>63.0</td>\n",
       "      <td>25.0</td>\n",
       "      <td>85.0</td>\n",
       "      <td>1.6</td>\n",
       "      <td>43.0</td>\n",
       "      <td>2022-07-03 23:00:00</td>\n",
       "    </tr>\n",
       "    <tr>\n",
       "      <th>230263</th>\n",
       "      <td>2022-07-01 08:00:00</td>\n",
       "      <td>64.0</td>\n",
       "      <td>25.0</td>\n",
       "      <td>85.0</td>\n",
       "      <td>1.6</td>\n",
       "      <td>27.0</td>\n",
       "      <td>2022-07-04 00:00:00</td>\n",
       "    </tr>\n",
       "  </tbody>\n",
       "</table>\n",
       "<p>230264 rows × 7 columns</p>\n",
       "</div>"
      ],
      "text/plain": [
       "             Forecast time  forecast  temperature  humidity  windspeed  \\\n",
       "0      2020-09-01 11:00:00       4.0         31.0      65.0        3.0   \n",
       "1      2020-09-01 11:00:00       7.0         29.0      80.0        2.4   \n",
       "2      2020-09-01 11:00:00      10.0         26.0      90.0        1.7   \n",
       "3      2020-09-01 11:00:00      13.0         26.0      90.0        1.5   \n",
       "4      2020-09-01 11:00:00      16.0         25.0      90.0        1.6   \n",
       "...                    ...       ...          ...       ...        ...   \n",
       "230259 2022-07-01 08:00:00      60.0         26.0      80.0        2.5   \n",
       "230260 2022-07-01 08:00:00      61.0         26.0      85.0        2.1   \n",
       "230261 2022-07-01 08:00:00      62.0         25.0      85.0        1.7   \n",
       "230262 2022-07-01 08:00:00      63.0         25.0      85.0        1.6   \n",
       "230263 2022-07-01 08:00:00      64.0         25.0      85.0        1.6   \n",
       "\n",
       "        winddirection            real_time  \n",
       "0               101.0  2020-09-01 15:00:00  \n",
       "1                90.0  2020-09-01 18:00:00  \n",
       "2                65.0  2020-09-01 21:00:00  \n",
       "3                48.0  2020-09-02 00:00:00  \n",
       "4                40.0  2020-09-02 03:00:00  \n",
       "...               ...                  ...  \n",
       "230259           78.0  2022-07-03 20:00:00  \n",
       "230260           76.0  2022-07-03 21:00:00  \n",
       "230261           65.0  2022-07-03 22:00:00  \n",
       "230262           43.0  2022-07-03 23:00:00  \n",
       "230263           27.0  2022-07-04 00:00:00  \n",
       "\n",
       "[230264 rows x 7 columns]"
      ]
     },
     "execution_count": 16,
     "metadata": {},
     "output_type": "execute_result"
    }
   ],
   "source": [
    "forecast_weather"
   ]
  },
  {
   "cell_type": "code",
   "execution_count": 17,
   "metadata": {},
   "outputs": [],
   "source": [
    "solar['datetime'] = pd.to_datetime(solar['datetime'])"
   ]
  },
  {
   "cell_type": "code",
   "execution_count": 111,
   "metadata": {},
   "outputs": [],
   "source": [
    "solar.target.replace(65535.0, solar.target.mean(), inplace=True)"
   ]
  },
  {
   "cell_type": "code",
   "execution_count": 18,
   "metadata": {},
   "outputs": [],
   "source": [
    "solar['month'] = solar.datetime.dt.month\n",
    "solar['hour'] = solar.datetime.dt.hour\n",
    "solar['year'] = solar.datetime.dt.year\n",
    "solar['day'] = solar.datetime.dt.day"
   ]
  },
  {
   "cell_type": "code",
   "execution_count": 19,
   "metadata": {},
   "outputs": [],
   "source": [
    "solar_eda = solar.groupby(['year','month','day','hour']).mean().reset_index()"
   ]
  },
  {
   "cell_type": "code",
   "execution_count": 20,
   "metadata": {},
   "outputs": [],
   "source": [
    "solar_eda[['year','month','day','hour']] = solar_eda[['year','month','day','hour']].astype('str')"
   ]
  },
  {
   "cell_type": "code",
   "execution_count": 21,
   "metadata": {},
   "outputs": [],
   "source": [
    "solar_eda['date'] = (solar_eda.year + '-' + solar_eda.month + '-' + solar_eda.day + ' ' + solar_eda.hour + ':00')"
   ]
  },
  {
   "cell_type": "code",
   "execution_count": 22,
   "metadata": {},
   "outputs": [],
   "source": [
    "solar_eda.date = pd.to_datetime(solar_eda.date)"
   ]
  },
  {
   "cell_type": "code",
   "execution_count": null,
   "metadata": {},
   "outputs": [
    {
     "data": {
      "image/png": "[encoded data removed]",
      "text/plain": [
       "<Figure size 1000x800 with 1 Axes>"
      ]
     },
     "metadata": {},
     "output_type": "display_data"
    }
   ],
   "source": [
    "ee = solar.groupby(['hour']).mean().target\n",
    "plt.figure(figsize=(10,8))\n",
    "plt.plot(ee, color = 'k')\n",
    "plt.grid(True)\n",
    "plt.yticks(fontsize = 12)\n",
    "plt.xticks(np.arange(0,24,1) , fontsize = 12)\n",
    "plt.xlabel('시간', fontsize = 15)\n",
    "plt.ylabel('전력 발전량(kWh)', fontsize = 15)\n",
    "plt.show()"
   ]
  },
  {
   "cell_type": "code",
   "execution_count": 23,
   "metadata": {},
   "outputs": [],
   "source": [
    "solar_eda = solar_eda.set_index('date')"
   ]
  },
  {
   "cell_type": "code",
   "execution_count": 24,
   "metadata": {},
   "outputs": [],
   "source": [
    "real_weather = real_weather.set_index('date')"
   ]
  },
  {
   "cell_type": "code",
   "execution_count": 25,
   "metadata": {},
   "outputs": [],
   "source": [
    "forecast_weather_eda.set_index('real_time', inplace=True)"
   ]
  },
  {
   "cell_type": "code",
   "execution_count": 26,
   "metadata": {},
   "outputs": [],
   "source": [
    "forecast_x = forecast_weather_eda.loc[solar_eda.index[0]:solar_eda.index[-1]]"
   ]
  },
  {
   "cell_type": "code",
   "execution_count": 27,
   "metadata": {},
   "outputs": [],
   "source": [
    "real_weather.index = pd.to_datetime(real_weather.index)"
   ]
  },
  {
   "cell_type": "code",
   "execution_count": 28,
   "metadata": {},
   "outputs": [],
   "source": [
    "real_x = real_weather.loc[solar_eda.index[0]:solar_eda.index[-1]]"
   ]
  },
  {
   "cell_type": "code",
   "execution_count": 29,
   "metadata": {},
   "outputs": [],
   "source": [
    "solar_eda = solar_eda.fillna(0)"
   ]
  },
  {
   "cell_type": "code",
   "execution_count": 30,
   "metadata": {},
   "outputs": [],
   "source": [
    "from sklearn.preprocessing import StandardScaler "
   ]
  },
  {
   "cell_type": "code",
   "execution_count": 31,
   "metadata": {},
   "outputs": [],
   "source": [
    "sc = StandardScaler()"
   ]
  },
  {
   "cell_type": "code",
   "execution_count": 32,
   "metadata": {},
   "outputs": [
    {
     "data": {
      "text/html": [
       "<div>\n",
       "<style scoped>\n",
       "    .dataframe tbody tr th:only-of-type {\n",
       "        vertical-align: middle;\n",
       "    }\n",
       "\n",
       "    .dataframe tbody tr th {\n",
       "        vertical-align: top;\n",
       "    }\n",
       "\n",
       "    .dataframe thead th {\n",
       "        text-align: right;\n",
       "    }\n",
       "</style>\n",
       "<table border=\"1\" class=\"dataframe\">\n",
       "  <thead>\n",
       "    <tr style=\"text-align: right;\">\n",
       "      <th></th>\n",
       "      <th>year</th>\n",
       "      <th>month</th>\n",
       "      <th>day</th>\n",
       "      <th>hour</th>\n",
       "      <th>target</th>\n",
       "    </tr>\n",
       "    <tr>\n",
       "      <th>date</th>\n",
       "      <th></th>\n",
       "      <th></th>\n",
       "      <th></th>\n",
       "      <th></th>\n",
       "      <th></th>\n",
       "    </tr>\n",
       "  </thead>\n",
       "  <tbody>\n",
       "    <tr>\n",
       "      <th>2020-09-10 00:00:00</th>\n",
       "      <td>2020</td>\n",
       "      <td>9</td>\n",
       "      <td>10</td>\n",
       "      <td>0</td>\n",
       "      <td>0.00</td>\n",
       "    </tr>\n",
       "    <tr>\n",
       "      <th>2020-09-10 01:00:00</th>\n",
       "      <td>2020</td>\n",
       "      <td>9</td>\n",
       "      <td>10</td>\n",
       "      <td>1</td>\n",
       "      <td>0.00</td>\n",
       "    </tr>\n",
       "    <tr>\n",
       "      <th>2020-09-10 02:00:00</th>\n",
       "      <td>2020</td>\n",
       "      <td>9</td>\n",
       "      <td>10</td>\n",
       "      <td>2</td>\n",
       "      <td>0.00</td>\n",
       "    </tr>\n",
       "    <tr>\n",
       "      <th>2020-09-10 03:00:00</th>\n",
       "      <td>2020</td>\n",
       "      <td>9</td>\n",
       "      <td>10</td>\n",
       "      <td>3</td>\n",
       "      <td>0.00</td>\n",
       "    </tr>\n",
       "    <tr>\n",
       "      <th>2020-09-10 04:00:00</th>\n",
       "      <td>2020</td>\n",
       "      <td>9</td>\n",
       "      <td>10</td>\n",
       "      <td>4</td>\n",
       "      <td>0.00</td>\n",
       "    </tr>\n",
       "    <tr>\n",
       "      <th>...</th>\n",
       "      <td>...</td>\n",
       "      <td>...</td>\n",
       "      <td>...</td>\n",
       "      <td>...</td>\n",
       "      <td>...</td>\n",
       "    </tr>\n",
       "    <tr>\n",
       "      <th>2022-04-30 19:00:00</th>\n",
       "      <td>2022</td>\n",
       "      <td>4</td>\n",
       "      <td>30</td>\n",
       "      <td>19</td>\n",
       "      <td>0.85</td>\n",
       "    </tr>\n",
       "    <tr>\n",
       "      <th>2022-04-30 20:00:00</th>\n",
       "      <td>2022</td>\n",
       "      <td>4</td>\n",
       "      <td>30</td>\n",
       "      <td>20</td>\n",
       "      <td>0.00</td>\n",
       "    </tr>\n",
       "    <tr>\n",
       "      <th>2022-04-30 21:00:00</th>\n",
       "      <td>2022</td>\n",
       "      <td>4</td>\n",
       "      <td>30</td>\n",
       "      <td>21</td>\n",
       "      <td>0.00</td>\n",
       "    </tr>\n",
       "    <tr>\n",
       "      <th>2022-04-30 22:00:00</th>\n",
       "      <td>2022</td>\n",
       "      <td>4</td>\n",
       "      <td>30</td>\n",
       "      <td>22</td>\n",
       "      <td>0.00</td>\n",
       "    </tr>\n",
       "    <tr>\n",
       "      <th>2022-04-30 23:00:00</th>\n",
       "      <td>2022</td>\n",
       "      <td>4</td>\n",
       "      <td>30</td>\n",
       "      <td>23</td>\n",
       "      <td>0.00</td>\n",
       "    </tr>\n",
       "  </tbody>\n",
       "</table>\n",
       "<p>14352 rows × 5 columns</p>\n",
       "</div>"
      ],
      "text/plain": [
       "                     year month day hour  target\n",
       "date                                            \n",
       "2020-09-10 00:00:00  2020     9  10    0    0.00\n",
       "2020-09-10 01:00:00  2020     9  10    1    0.00\n",
       "2020-09-10 02:00:00  2020     9  10    2    0.00\n",
       "2020-09-10 03:00:00  2020     9  10    3    0.00\n",
       "2020-09-10 04:00:00  2020     9  10    4    0.00\n",
       "...                   ...   ...  ..  ...     ...\n",
       "2022-04-30 19:00:00  2022     4  30   19    0.85\n",
       "2022-04-30 20:00:00  2022     4  30   20    0.00\n",
       "2022-04-30 21:00:00  2022     4  30   21    0.00\n",
       "2022-04-30 22:00:00  2022     4  30   22    0.00\n",
       "2022-04-30 23:00:00  2022     4  30   23    0.00\n",
       "\n",
       "[14352 rows x 5 columns]"
      ]
     },
     "execution_count": 32,
     "metadata": {},
     "output_type": "execute_result"
    }
   ],
   "source": [
    "solar_eda"
   ]
  },
  {
   "cell_type": "code",
   "execution_count": 33,
   "metadata": {},
   "outputs": [],
   "source": [
    "real_x = pd.DataFrame(sc.fit_transform(real_x), columns=['temp','wind_speed','wind_dir','humidity'])\n",
    "solar_eda = pd.DataFrame(sc.fit_transform(solar_eda), columns = ['year','month','day','hour','target'])"
   ]
  },
  {
   "cell_type": "code",
   "execution_count": 34,
   "metadata": {},
   "outputs": [],
   "source": [
    "y = solar_eda.target"
   ]
  },
  {
   "cell_type": "code",
   "execution_count": 35,
   "metadata": {},
   "outputs": [],
   "source": [
    "train_x = real_x.iloc[:int(len(real_x)*0.8),:]\n",
    "test_x = real_x.iloc[int(len(real_x)*0.8):,:]"
   ]
  },
  {
   "cell_type": "code",
   "execution_count": 36,
   "metadata": {},
   "outputs": [],
   "source": [
    "train_y = y.iloc[:int(len(y)*0.8)]\n",
    "test_y = y.iloc[int(len(y)*0.8):]"
   ]
  },
  {
   "cell_type": "code",
   "execution_count": 37,
   "metadata": {},
   "outputs": [],
   "source": [
    "import pvlib\n",
    "from pvlib import clearsky, atmosphere, solarposition\n",
    "from pvlib.location import Location\n",
    "from pvlib.iotools import read_tmy3"
   ]
  },
  {
   "cell_type": "code",
   "execution_count": 38,
   "metadata": {},
   "outputs": [],
   "source": [
    "latitude = 37.456\n",
    "longitude = 126.705"
   ]
  },
  {
   "cell_type": "code",
   "execution_count": 39,
   "metadata": {},
   "outputs": [],
   "source": [
    "tus = Location(latitude, longitude, 'ROK')"
   ]
  },
  {
   "cell_type": "code",
   "execution_count": 40,
   "metadata": {},
   "outputs": [],
   "source": [
    "time = pd.date_range(start=forecast_weather_eda.index.min(), end = forecast_weather_eda.index.max(), freq='H', tz = tus.tz)"
   ]
  },
  {
   "cell_type": "code",
   "execution_count": 41,
   "metadata": {},
   "outputs": [],
   "source": [
    "cs = tus.get_clearsky(time)"
   ]
  },
  {
   "cell_type": "code",
   "execution_count": 42,
   "metadata": {},
   "outputs": [
    {
     "data": {
      "text/html": [
       "<div>\n",
       "<style scoped>\n",
       "    .dataframe tbody tr th:only-of-type {\n",
       "        vertical-align: middle;\n",
       "    }\n",
       "\n",
       "    .dataframe tbody tr th {\n",
       "        vertical-align: top;\n",
       "    }\n",
       "\n",
       "    .dataframe thead th {\n",
       "        text-align: right;\n",
       "    }\n",
       "</style>\n",
       "<table border=\"1\" class=\"dataframe\">\n",
       "  <thead>\n",
       "    <tr style=\"text-align: right;\">\n",
       "      <th></th>\n",
       "      <th>ghi</th>\n",
       "      <th>dni</th>\n",
       "      <th>dhi</th>\n",
       "    </tr>\n",
       "  </thead>\n",
       "  <tbody>\n",
       "    <tr>\n",
       "      <th>2020-09-01 15:00:00+09:00</th>\n",
       "      <td>672.205540</td>\n",
       "      <td>763.020810</td>\n",
       "      <td>126.066169</td>\n",
       "    </tr>\n",
       "    <tr>\n",
       "      <th>2020-09-01 16:00:00+09:00</th>\n",
       "      <td>509.779364</td>\n",
       "      <td>695.181238</td>\n",
       "      <td>111.699856</td>\n",
       "    </tr>\n",
       "    <tr>\n",
       "      <th>2020-09-01 17:00:00+09:00</th>\n",
       "      <td>313.589459</td>\n",
       "      <td>565.928253</td>\n",
       "      <td>89.242537</td>\n",
       "    </tr>\n",
       "    <tr>\n",
       "      <th>2020-09-01 18:00:00+09:00</th>\n",
       "      <td>109.238226</td>\n",
       "      <td>298.243072</td>\n",
       "      <td>49.738810</td>\n",
       "    </tr>\n",
       "    <tr>\n",
       "      <th>2020-09-01 19:00:00+09:00</th>\n",
       "      <td>0.010326</td>\n",
       "      <td>0.070536</td>\n",
       "      <td>0.010165</td>\n",
       "    </tr>\n",
       "    <tr>\n",
       "      <th>...</th>\n",
       "      <td>...</td>\n",
       "      <td>...</td>\n",
       "      <td>...</td>\n",
       "    </tr>\n",
       "    <tr>\n",
       "      <th>2022-07-03 20:00:00+09:00</th>\n",
       "      <td>0.000000</td>\n",
       "      <td>0.000000</td>\n",
       "      <td>0.000000</td>\n",
       "    </tr>\n",
       "    <tr>\n",
       "      <th>2022-07-03 21:00:00+09:00</th>\n",
       "      <td>0.000000</td>\n",
       "      <td>0.000000</td>\n",
       "      <td>0.000000</td>\n",
       "    </tr>\n",
       "    <tr>\n",
       "      <th>2022-07-03 22:00:00+09:00</th>\n",
       "      <td>0.000000</td>\n",
       "      <td>0.000000</td>\n",
       "      <td>0.000000</td>\n",
       "    </tr>\n",
       "    <tr>\n",
       "      <th>2022-07-03 23:00:00+09:00</th>\n",
       "      <td>0.000000</td>\n",
       "      <td>0.000000</td>\n",
       "      <td>0.000000</td>\n",
       "    </tr>\n",
       "    <tr>\n",
       "      <th>2022-07-04 00:00:00+09:00</th>\n",
       "      <td>0.000000</td>\n",
       "      <td>0.000000</td>\n",
       "      <td>0.000000</td>\n",
       "    </tr>\n",
       "  </tbody>\n",
       "</table>\n",
       "<p>16090 rows × 3 columns</p>\n",
       "</div>"
      ],
      "text/plain": [
       "                                  ghi         dni         dhi\n",
       "2020-09-01 15:00:00+09:00  672.205540  763.020810  126.066169\n",
       "2020-09-01 16:00:00+09:00  509.779364  695.181238  111.699856\n",
       "2020-09-01 17:00:00+09:00  313.589459  565.928253   89.242537\n",
       "2020-09-01 18:00:00+09:00  109.238226  298.243072   49.738810\n",
       "2020-09-01 19:00:00+09:00    0.010326    0.070536    0.010165\n",
       "...                               ...         ...         ...\n",
       "2022-07-03 20:00:00+09:00    0.000000    0.000000    0.000000\n",
       "2022-07-03 21:00:00+09:00    0.000000    0.000000    0.000000\n",
       "2022-07-03 22:00:00+09:00    0.000000    0.000000    0.000000\n",
       "2022-07-03 23:00:00+09:00    0.000000    0.000000    0.000000\n",
       "2022-07-04 00:00:00+09:00    0.000000    0.000000    0.000000\n",
       "\n",
       "[16090 rows x 3 columns]"
      ]
     },
     "execution_count": 42,
     "metadata": {},
     "output_type": "execute_result"
    }
   ],
   "source": [
    "cs"
   ]
  },
  {
   "cell_type": "code",
   "execution_count": 43,
   "metadata": {},
   "outputs": [
    {
     "data": {
      "text/plain": [
       "<Axes: >"
      ]
     },
     "execution_count": 43,
     "metadata": {},
     "output_type": "execute_result"
    },
    {
     "data": {
      "image/png": "[encoded data removed]",
      "text/plain": [
       "<Figure size 640x480 with 1 Axes>"
      ]
     },
     "metadata": {},
     "output_type": "display_data"
    }
   ],
   "source": [
    "cs.plot()"
   ]
  },
  {
   "cell_type": "code",
   "execution_count": 44,
   "metadata": {},
   "outputs": [
    {
     "data": {
      "text/plain": [
       "<Axes: >"
      ]
     },
     "execution_count": 44,
     "metadata": {},
     "output_type": "execute_result"
    },
    {
     "data": {
      "image/png": "[encoded data removed]",
      "text/plain": [
       "<Figure size 640x480 with 1 Axes>"
      ]
     },
     "metadata": {},
     "output_type": "display_data"
    }
   ],
   "source": [
    "cs.iloc[:25,:].plot()"
   ]
  },
  {
   "attachments": {},
   "cell_type": "markdown",
   "metadata": {},
   "source": [
    "### DNI : Direct normal irradiance\n",
    "### DHI : Diffuse horizontal irradiance\n",
    "### GHI : Global solar radiation on a horizontal irradiance"
   ]
  },
  {
   "attachments": {},
   "cell_type": "markdown",
   "metadata": {},
   "source": [
    "---\n",
    "# LSTM model"
   ]
  },
  {
   "cell_type": "code",
   "execution_count": 45,
   "metadata": {},
   "outputs": [],
   "source": [
    "x_test = tf.convert_to_tensor(test_x.values, dtype=tf.float32)\n",
    "x_train = tf.convert_to_tensor(train_x.values, dtype=tf.float32)"
   ]
  },
  {
   "cell_type": "code",
   "execution_count": 46,
   "metadata": {},
   "outputs": [
    {
     "data": {
      "text/plain": [
       "<tf.Tensor: shape=(11481, 4), dtype=float32, numpy=\n",
       "array([[ 0.8684744 ,  0.23210898, -0.30905777,  1.5428333 ],\n",
       "       [ 0.8684744 ,  0.6914258 , -0.30905777,  1.6568648 ],\n",
       "       [ 0.88804686, -0.03035778, -0.30905777,  1.6568648 ],\n",
       "       ...,\n",
       "       [-1.8227336 , -0.09597447, -1.7951756 , -1.1369047 ],\n",
       "       [-1.842306  , -0.620908  , -1.144999  , -0.9658576 ],\n",
       "       [-1.8325199 , -0.35844123, -1.144999  , -0.9088419 ]],\n",
       "      dtype=float32)>"
      ]
     },
     "execution_count": 46,
     "metadata": {},
     "output_type": "execute_result"
    }
   ],
   "source": [
    "x_train"
   ]
  },
  {
   "cell_type": "code",
   "execution_count": 47,
   "metadata": {},
   "outputs": [],
   "source": [
    "y_test = tf.convert_to_tensor(test_y.values, dtype=tf.float32)\n",
    "y_train = tf.convert_to_tensor(train_y.values, dtype=tf.float32)"
   ]
  },
  {
   "cell_type": "code",
   "execution_count": 48,
   "metadata": {},
   "outputs": [],
   "source": [
    "x_tr = tf.reshape(x_train, (-1, 4, 1))\n",
    "y_tr = tf.reshape(y_train, (-1, 1, 1))\n",
    "\n",
    "x_te = tf.reshape(x_test, (-1, 4, 1))"
   ]
  },
  {
   "cell_type": "code",
   "execution_count": 66,
   "metadata": {},
   "outputs": [],
   "source": [
    "model = tf.keras.models.Sequential()\n",
    "model.add(tf.keras.layers.LSTM(32, input_shape=(4,1), return_sequences=True))\n",
    "model.add(tf.keras.layers.LSTM(64))\n",
    "#model.add(tf.keras.layers.Dropout(0.2))\n",
    "model.add(tf.keras.layers.Dense(32))\n",
    "model.add(tf.keras.layers.Dense(1))"
   ]
  },
  {
   "cell_type": "code",
   "execution_count": 67,
   "metadata": {},
   "outputs": [
    {
     "name": "stdout",
     "output_type": "stream",
     "text": [
      "Model: \"sequential_2\"\n",
      "_________________________________________________________________\n",
      " Layer (type)                Output Shape              Param #   \n",
      "=================================================================\n",
      " lstm_4 (LSTM)               (None, 4, 32)             4352      \n",
      "                                                                 \n",
      " lstm_5 (LSTM)               (None, 64)                24832     \n",
      "                                                                 \n",
      " dense_4 (Dense)             (None, 32)                2080      \n",
      "                                                                 \n",
      " dense_5 (Dense)             (None, 1)                 33        \n",
      "                                                                 \n",
      "=================================================================\n",
      "Total params: 31,297\n",
      "Trainable params: 31,297\n",
      "Non-trainable params: 0\n",
      "_________________________________________________________________\n"
     ]
    }
   ],
   "source": [
    "model.summary()"
   ]
  },
  {
   "cell_type": "code",
   "execution_count": 69,
   "metadata": {},
   "outputs": [],
   "source": [
    "model.compile(loss = 'mse', optimizer = 'adam')"
   ]
  },
  {
   "cell_type": "code",
   "execution_count": 70,
   "metadata": {},
   "outputs": [
    {
     "name": "stdout",
     "output_type": "stream",
     "text": [
      "Epoch 1/100\n",
      "359/359 [==============================] - 4s 2ms/step - loss: 0.8771\n",
      "Epoch 2/100\n",
      "359/359 [==============================] - 1s 2ms/step - loss: 0.8528\n",
      "Epoch 3/100\n",
      "359/359 [==============================] - 1s 2ms/step - loss: 0.8480\n",
      "Epoch 4/100\n",
      "359/359 [==============================] - 1s 2ms/step - loss: 0.8453\n",
      "Epoch 5/100\n",
      "359/359 [==============================] - 1s 2ms/step - loss: 0.8434\n",
      "Epoch 6/100\n",
      "359/359 [==============================] - 1s 2ms/step - loss: 0.8402\n",
      "Epoch 7/100\n",
      "359/359 [==============================] - 1s 2ms/step - loss: 0.8386\n",
      "Epoch 8/100\n",
      "359/359 [==============================] - 1s 2ms/step - loss: 0.8368\n",
      "Epoch 9/100\n",
      "359/359 [==============================] - 1s 2ms/step - loss: 0.8344\n",
      "Epoch 10/100\n",
      "359/359 [==============================] - 1s 2ms/step - loss: 0.8336\n",
      "Epoch 11/100\n",
      "359/359 [==============================] - 1s 2ms/step - loss: 0.8317\n",
      "Epoch 12/100\n",
      "359/359 [==============================] - 1s 2ms/step - loss: 0.8300\n",
      "Epoch 13/100\n",
      "359/359 [==============================] - 1s 2ms/step - loss: 0.8280\n",
      "Epoch 14/100\n",
      "359/359 [==============================] - 1s 2ms/step - loss: 0.8269\n",
      "Epoch 15/100\n",
      "359/359 [==============================] - 1s 2ms/step - loss: 0.8253\n",
      "Epoch 16/100\n",
      "359/359 [==============================] - 1s 2ms/step - loss: 0.8226\n",
      "Epoch 17/100\n",
      "359/359 [==============================] - 1s 2ms/step - loss: 0.8215\n",
      "Epoch 18/100\n",
      "359/359 [==============================] - 1s 2ms/step - loss: 0.8198\n",
      "Epoch 19/100\n",
      "359/359 [==============================] - 1s 2ms/step - loss: 0.8175\n",
      "Epoch 20/100\n",
      "359/359 [==============================] - 1s 2ms/step - loss: 0.8156\n",
      "Epoch 21/100\n",
      "359/359 [==============================] - 1s 2ms/step - loss: 0.8140\n",
      "Epoch 22/100\n",
      "359/359 [==============================] - 1s 2ms/step - loss: 0.8123\n",
      "Epoch 23/100\n",
      "359/359 [==============================] - 1s 2ms/step - loss: 0.8116\n",
      "Epoch 24/100\n",
      "359/359 [==============================] - 1s 2ms/step - loss: 0.8089\n",
      "Epoch 25/100\n",
      "359/359 [==============================] - 1s 2ms/step - loss: 0.8039\n",
      "Epoch 26/100\n",
      "359/359 [==============================] - 1s 2ms/step - loss: 0.8011\n",
      "Epoch 27/100\n",
      "359/359 [==============================] - 1s 2ms/step - loss: 0.7985\n",
      "Epoch 28/100\n",
      "359/359 [==============================] - 1s 2ms/step - loss: 0.8056\n",
      "Epoch 29/100\n",
      "359/359 [==============================] - 1s 2ms/step - loss: 0.7848\n",
      "Epoch 30/100\n",
      "359/359 [==============================] - 1s 2ms/step - loss: 0.7832\n",
      "Epoch 31/100\n",
      "359/359 [==============================] - 1s 2ms/step - loss: 0.7764\n",
      "Epoch 32/100\n",
      "359/359 [==============================] - 1s 2ms/step - loss: 0.7640\n",
      "Epoch 33/100\n",
      "359/359 [==============================] - 1s 2ms/step - loss: 0.7559\n",
      "Epoch 34/100\n",
      "359/359 [==============================] - 1s 2ms/step - loss: 0.7897\n",
      "Epoch 35/100\n",
      "359/359 [==============================] - 1s 2ms/step - loss: 0.7659\n",
      "Epoch 36/100\n",
      "359/359 [==============================] - 1s 2ms/step - loss: 0.7398\n",
      "Epoch 37/100\n",
      "359/359 [==============================] - 1s 2ms/step - loss: 0.7197\n",
      "Epoch 38/100\n",
      "359/359 [==============================] - 1s 2ms/step - loss: 0.6985\n",
      "Epoch 39/100\n",
      "359/359 [==============================] - 1s 2ms/step - loss: 0.7070\n",
      "Epoch 40/100\n",
      "359/359 [==============================] - 1s 2ms/step - loss: 0.6632\n",
      "Epoch 41/100\n",
      "359/359 [==============================] - 1s 2ms/step - loss: 0.6791\n",
      "Epoch 42/100\n",
      "359/359 [==============================] - 1s 2ms/step - loss: 0.8146\n",
      "Epoch 43/100\n",
      "359/359 [==============================] - 1s 2ms/step - loss: 0.6455\n",
      "Epoch 44/100\n",
      "359/359 [==============================] - 1s 2ms/step - loss: 0.6300\n",
      "Epoch 45/100\n",
      "359/359 [==============================] - 1s 2ms/step - loss: 0.5930\n",
      "Epoch 46/100\n",
      "359/359 [==============================] - 1s 2ms/step - loss: 0.5691\n",
      "Epoch 47/100\n",
      "359/359 [==============================] - 1s 2ms/step - loss: 0.5609\n",
      "Epoch 48/100\n",
      "359/359 [==============================] - 1s 2ms/step - loss: 0.5414\n",
      "Epoch 49/100\n",
      "359/359 [==============================] - 1s 2ms/step - loss: 0.5101\n",
      "Epoch 50/100\n",
      "359/359 [==============================] - 1s 2ms/step - loss: 0.4892\n",
      "Epoch 51/100\n",
      "359/359 [==============================] - 1s 2ms/step - loss: 0.4775\n",
      "Epoch 52/100\n",
      "359/359 [==============================] - 1s 2ms/step - loss: 0.4667\n",
      "Epoch 53/100\n",
      "359/359 [==============================] - 1s 2ms/step - loss: 0.4629\n",
      "Epoch 54/100\n",
      "359/359 [==============================] - 1s 2ms/step - loss: 0.4633\n",
      "Epoch 55/100\n",
      "359/359 [==============================] - 1s 2ms/step - loss: 0.4619\n",
      "Epoch 56/100\n",
      "359/359 [==============================] - 1s 2ms/step - loss: 0.4707\n",
      "Epoch 57/100\n",
      "359/359 [==============================] - 1s 2ms/step - loss: 0.4628\n",
      "Epoch 58/100\n",
      "359/359 [==============================] - 1s 2ms/step - loss: 0.4633\n",
      "Epoch 59/100\n",
      "359/359 [==============================] - 1s 2ms/step - loss: 0.4672\n",
      "Epoch 60/100\n",
      "359/359 [==============================] - 1s 2ms/step - loss: 0.4843\n",
      "Epoch 61/100\n",
      "359/359 [==============================] - 1s 2ms/step - loss: 0.7004\n",
      "Epoch 62/100\n",
      "359/359 [==============================] - 1s 2ms/step - loss: 0.5098\n",
      "Epoch 63/100\n",
      "359/359 [==============================] - 1s 2ms/step - loss: 0.5652\n",
      "Epoch 64/100\n",
      "359/359 [==============================] - 1s 2ms/step - loss: 0.6620\n",
      "Epoch 65/100\n",
      "359/359 [==============================] - 1s 2ms/step - loss: 0.4843\n",
      "Epoch 66/100\n",
      "359/359 [==============================] - 1s 2ms/step - loss: 0.4566\n",
      "Epoch 67/100\n",
      "359/359 [==============================] - 1s 2ms/step - loss: 0.4559\n",
      "Epoch 68/100\n",
      "359/359 [==============================] - 1s 2ms/step - loss: 0.4558\n",
      "Epoch 69/100\n",
      "359/359 [==============================] - 1s 2ms/step - loss: 0.4548\n",
      "Epoch 70/100\n",
      "359/359 [==============================] - 1s 2ms/step - loss: 0.4561\n",
      "Epoch 71/100\n",
      "359/359 [==============================] - 1s 2ms/step - loss: 0.4562\n",
      "Epoch 72/100\n",
      "359/359 [==============================] - 1s 2ms/step - loss: 0.4561\n",
      "Epoch 73/100\n",
      "359/359 [==============================] - 1s 2ms/step - loss: 0.4561\n",
      "Epoch 74/100\n",
      "359/359 [==============================] - 1s 2ms/step - loss: 0.4568\n",
      "Epoch 75/100\n",
      "359/359 [==============================] - 1s 2ms/step - loss: 0.4562\n",
      "Epoch 76/100\n",
      "359/359 [==============================] - 1s 2ms/step - loss: 0.4609\n",
      "Epoch 77/100\n",
      "359/359 [==============================] - 1s 2ms/step - loss: 0.4617\n",
      "Epoch 78/100\n",
      "359/359 [==============================] - 1s 2ms/step - loss: 0.4616\n",
      "Epoch 79/100\n",
      "359/359 [==============================] - 1s 2ms/step - loss: 0.4566\n",
      "Epoch 80/100\n",
      "359/359 [==============================] - 1s 2ms/step - loss: 0.4576\n",
      "Epoch 81/100\n",
      "359/359 [==============================] - 1s 2ms/step - loss: 0.4548\n",
      "Epoch 82/100\n",
      "359/359 [==============================] - 1s 2ms/step - loss: 0.4669\n",
      "Epoch 83/100\n",
      "359/359 [==============================] - 1s 2ms/step - loss: 0.6392\n",
      "Epoch 84/100\n",
      "359/359 [==============================] - 1s 2ms/step - loss: 0.8237\n",
      "Epoch 85/100\n",
      "359/359 [==============================] - 1s 2ms/step - loss: 0.7122\n",
      "Epoch 86/100\n",
      "359/359 [==============================] - 1s 2ms/step - loss: 0.4593\n",
      "Epoch 87/100\n",
      "359/359 [==============================] - 1s 2ms/step - loss: 0.4538\n",
      "Epoch 88/100\n",
      "359/359 [==============================] - 1s 2ms/step - loss: 0.4527\n",
      "Epoch 89/100\n",
      "359/359 [==============================] - 1s 2ms/step - loss: 0.4530\n",
      "Epoch 90/100\n",
      "359/359 [==============================] - 1s 2ms/step - loss: 0.4516\n",
      "Epoch 91/100\n",
      "359/359 [==============================] - 1s 2ms/step - loss: 0.4535\n",
      "Epoch 92/100\n",
      "359/359 [==============================] - 1s 2ms/step - loss: 0.4516\n",
      "Epoch 93/100\n",
      "359/359 [==============================] - 1s 2ms/step - loss: 0.4523\n",
      "Epoch 94/100\n",
      "359/359 [==============================] - 1s 2ms/step - loss: 0.4530\n",
      "Epoch 95/100\n",
      "359/359 [==============================] - 1s 2ms/step - loss: 0.4540\n",
      "Epoch 96/100\n",
      "359/359 [==============================] - 1s 2ms/step - loss: 0.4553\n",
      "Epoch 97/100\n",
      "359/359 [==============================] - 1s 2ms/step - loss: 0.4535\n",
      "Epoch 98/100\n",
      "359/359 [==============================] - 1s 2ms/step - loss: 0.4534\n",
      "Epoch 99/100\n",
      "359/359 [==============================] - 1s 2ms/step - loss: 0.4564\n",
      "Epoch 100/100\n",
      "359/359 [==============================] - 1s 2ms/step - loss: 0.4570\n"
     ]
    }
   ],
   "source": [
    "his = model.fit(x_train, y_train, epochs=100)"
   ]
  },
  {
   "cell_type": "code",
   "execution_count": 71,
   "metadata": {},
   "outputs": [
    {
     "name": "stdout",
     "output_type": "stream",
     "text": [
      "90/90 [==============================] - 1s 894us/step\n"
     ]
    }
   ],
   "source": [
    "predict = model.predict(x_test)"
   ]
  },
  {
   "cell_type": "code",
   "execution_count": 72,
   "metadata": {},
   "outputs": [
    {
     "data": {
      "text/plain": [
       "[<matplotlib.lines.Line2D at 0x2290483c610>]"
      ]
     },
     "execution_count": 72,
     "metadata": {},
     "output_type": "execute_result"
    },
    {
     "data": {
      "image/png": "[encoded data removed]",
      "text/plain": [
       "<Figure size 640x480 with 1 Axes>"
      ]
     },
     "metadata": {},
     "output_type": "display_data"
    }
   ],
   "source": [
    "plt.plot(his.history['loss'])"
   ]
  },
  {
   "cell_type": "code",
   "execution_count": 73,
   "metadata": {},
   "outputs": [],
   "source": [
    "from sklearn.metrics import mean_squared_error"
   ]
  },
  {
   "cell_type": "code",
   "execution_count": 74,
   "metadata": {},
   "outputs": [
    {
     "data": {
      "text/plain": [
       "1.1566458"
      ]
     },
     "execution_count": 74,
     "metadata": {},
     "output_type": "execute_result"
    }
   ],
   "source": [
    "mean_squared_error(y_test, predict)"
   ]
  },
  {
   "cell_type": "code",
   "execution_count": 75,
   "metadata": {},
   "outputs": [],
   "source": [
    "from sklearn.metrics import r2_score"
   ]
  },
  {
   "cell_type": "code",
   "execution_count": 76,
   "metadata": {},
   "outputs": [
    {
     "data": {
      "text/plain": [
       "0.03488968196109177"
      ]
     },
     "execution_count": 76,
     "metadata": {},
     "output_type": "execute_result"
    }
   ],
   "source": [
    "r2_score(y_test, predict)"
   ]
  },
  {
   "cell_type": "code",
   "execution_count": 77,
   "metadata": {},
   "outputs": [
    {
     "data": {
      "text/plain": [
       "[<matplotlib.lines.Line2D at 0x2297e5a7750>]"
      ]
     },
     "execution_count": 77,
     "metadata": {},
     "output_type": "execute_result"
    },
    {
     "data": {
      "image/png": "[encoded data removed]",
      "text/plain": [
       "<Figure size 640x480 with 1 Axes>"
      ]
     },
     "metadata": {},
     "output_type": "display_data"
    }
   ],
   "source": [
    "plt.plot(y_test)\n",
    "plt.plot(predict)"
   ]
  },
  {
   "cell_type": "code",
   "execution_count": 78,
   "metadata": {},
   "outputs": [
    {
     "data": {
      "text/plain": [
       "[<matplotlib.lines.Line2D at 0x22904901d90>]"
      ]
     },
     "execution_count": 78,
     "metadata": {},
     "output_type": "execute_result"
    },
    {
     "data": {
      "image/png": "[encoded data removed]",
      "text/plain": [
       "<Figure size 640x480 with 1 Axes>"
      ]
     },
     "metadata": {},
     "output_type": "display_data"
    }
   ],
   "source": [
    "plt.plot(predict.reshape(-1,1))"
   ]
  },
  {
   "cell_type": "code",
   "execution_count": 79,
   "metadata": {},
   "outputs": [
    {
     "data": {
      "text/plain": [
       "[<matplotlib.lines.Line2D at 0x22904935990>]"
      ]
     },
     "execution_count": 79,
     "metadata": {},
     "output_type": "execute_result"
    },
    {
     "data": {
      "image/png": "[encoded data removed]",
      "text/plain": [
       "<Figure size 640x480 with 1 Axes>"
      ]
     },
     "metadata": {},
     "output_type": "display_data"
    }
   ],
   "source": [
    "plt.plot(y_test)"
   ]
  },
  {
   "cell_type": "code",
   "execution_count": null,
   "metadata": {},
   "outputs": [],
   "source": []
  }
 ],
 "metadata": {
  "kernelspec": {
   "display_name": "Python 3",
   "language": "python",
   "name": "python3"
  },
  "language_info": {
   "codemirror_mode": {
    "name": "ipython",
    "version": 3
   },
   "file_extension": ".py",
   "mimetype": "text/x-python",
   "name": "python",
   "nbconvert_exporter": "python",
   "pygments_lexer": "ipython3",
   "version": "3.11.1"
  },
  "orig_nbformat": 4
 },
 "nbformat": 4,
 "nbformat_minor": 2
}
