{
 "cells": [
  {
   "cell_type": "code",
   "execution_count": 17,
   "metadata": {},
   "outputs": [],
   "source": [
    "import pandas as pd\n",
    "import urllib\n",
    "import urllib.request\n",
    "import json\n",
    "\n",
    "url = 'http://apis.data.go.kr/1360000/VilageFcstInfoService_2.0/getVilageFcst'\n",
    "params ={'serviceKey' : 'HBsd7IB4qCP0hHVD3lw2kZl+bAP0XU7KmA6WDTB8lh8AAbPtxJmuIgLJne4VTQB6NPgsIf9jRJ6nTjW9ZYykdw=='}\n"
   ]
  },
  {
   "cell_type": "code",
   "execution_count": 14,
   "metadata": {},
   "outputs": [],
   "source": [
    "ServiceKey = 'HBsd7IB4qCP0hHVD3lw2kZl+bAP0XU7KmA6WDTB8lh8AAbPtxJmuIgLJne4VTQB6NPgsIf9jRJ6nTjW9ZYykdw=='"
   ]
  },
  {
   "cell_type": "code",
   "execution_count": 28,
   "metadata": {},
   "outputs": [],
   "source": [
    "queryParams = '?' + urllib.parse.urlencode(\n",
    "    {\n",
    "        urllib.parse.quote_plus('serviceKey') : ServiceKey, # key를 바로 입력해도 됩니다.\n",
    "        urllib.parse.quote_plus('numOfRows') : '113', # 총 14개의 항목을 3시간 단위로 순차적으로 불러옵니다. 다음날 24시간예보에 필요한 만큼만 가져왔습니다.\n",
    "        urllib.parse.quote_plus('dataType') : 'JSON', # JSON, XML 두가지 포멧을 제공합니다.\n",
    "        urllib.parse.quote_plus('base_date') : '20230130', # 예보 받을 날짜를 입력합니다. 최근 1일간의 자료만 제공합니다.\n",
    "        urllib.parse.quote_plus('base_time') : '1100', # 예보 시간을 입력합니다. 2시부터 시작하여 3시간 단위로 입력 가능합니다.\n",
    "        urllib.parse.quote_plus('nx') : '102', # 울산 태양광 발전소 x 좌표입니다. '기상청18_동네예보 조회서비스_오픈API활용가이드.zip'에 포함 된 excel파일을 통해 확인 가능합니다.\n",
    "        urllib.parse.quote_plus('ny') : '83' # 울산 태양광 발전소 y 좌표입니다. '기상청18_동네예보 조회서비스_오픈API활용가이드.zip'에 포함 된 excel파일을 통해 확인 가능합니다.\n",
    "    }\n",
    ")\n",
    "\n",
    "response = urllib.request.urlopen(url + queryParams).read()\n",
    "response = json.loads(response)"
   ]
  },
  {
   "cell_type": "code",
   "execution_count": 29,
   "metadata": {},
   "outputs": [
    {
     "data": {
      "text/plain": [
       "{'header': {'resultCode': '03', 'resultMsg': 'NO_DATA'}}"
      ]
     },
     "execution_count": 29,
     "metadata": {},
     "output_type": "execute_result"
    }
   ],
   "source": [
    "response['response']"
   ]
  },
  {
   "cell_type": "code",
   "execution_count": 19,
   "metadata": {},
   "outputs": [
    {
     "ename": "KeyError",
     "evalue": "'body'",
     "output_type": "error",
     "traceback": [
      "\u001b[1;31m---------------------------------------------------------------------------\u001b[0m",
      "\u001b[1;31mKeyError\u001b[0m                                  Traceback (most recent call last)",
      "Cell \u001b[1;32mIn [19], line 6\u001b[0m\n\u001b[0;32m      3\u001b[0m fcst_df[\u001b[39m'\u001b[39m\u001b[39mForecast_time\u001b[39m\u001b[39m'\u001b[39m] \u001b[39m=\u001b[39m [\u001b[39mf\u001b[39m\u001b[39m'\u001b[39m\u001b[39m{\u001b[39;00mdate\u001b[39m}\u001b[39;00m\u001b[39m \u001b[39m\u001b[39m{\u001b[39;00mhour\u001b[39m}\u001b[39;00m\u001b[39m:00\u001b[39m\u001b[39m'\u001b[39m \u001b[39mfor\u001b[39;00m hour \u001b[39min\u001b[39;00m \u001b[39mrange\u001b[39m(\u001b[39m24\u001b[39m)]\n\u001b[0;32m      4\u001b[0m row_idx \u001b[39m=\u001b[39m \u001b[39m0\u001b[39m\n\u001b[1;32m----> 6\u001b[0m \u001b[39mfor\u001b[39;00m i, data \u001b[39min\u001b[39;00m \u001b[39menumerate\u001b[39m(response[\u001b[39m'\u001b[39;49m\u001b[39mresponse\u001b[39;49m\u001b[39m'\u001b[39;49m][\u001b[39m'\u001b[39;49m\u001b[39mbody\u001b[39;49m\u001b[39m'\u001b[39;49m][\u001b[39m'\u001b[39m\u001b[39mitems\u001b[39m\u001b[39m'\u001b[39m][\u001b[39m'\u001b[39m\u001b[39mitem\u001b[39m\u001b[39m'\u001b[39m]):\n\u001b[0;32m      7\u001b[0m     \u001b[39mif\u001b[39;00m i \u001b[39m>\u001b[39m \u001b[39m19\u001b[39m:\n\u001b[0;32m      8\u001b[0m         \u001b[39mif\u001b[39;00m data[\u001b[39m'\u001b[39m\u001b[39mcategory\u001b[39m\u001b[39m'\u001b[39m]\u001b[39m==\u001b[39m\u001b[39m'\u001b[39m\u001b[39mREH\u001b[39m\u001b[39m'\u001b[39m:\n",
      "\u001b[1;31mKeyError\u001b[0m: 'body'"
     ]
    }
   ],
   "source": [
    "fcst_df = pd.DataFrame()\n",
    "date = '2021-04-21'\n",
    "fcst_df['Forecast_time'] = [f'{date} {hour}:00' for hour in range(24)]\n",
    "row_idx = 0\n",
    "\n",
    "for i, data in enumerate(response['response']['body']['items']['item']):\n",
    "    if i > 19:\n",
    "        if data['category']=='REH':\n",
    "            fcst_df.loc[row_idx, 'Humidity'] = float(data['fcstValue'])\n",
    "            print('category:Humidity,',data['category'], 'baseTime:',data['baseTime'], ', fcstTime:', data['fcstTime'], ', fcstValue:', data['fcstValue'])\n",
    "        elif data['category']=='T3H':\n",
    "            fcst_df.loc[row_idx, 'Temperature'] = float(data['fcstValue'])\n",
    "            print('category:Temperature,',data['category'], 'baseTime:',data['baseTime'], ', fcstTime:', data['fcstTime'], ', fcstValue:', data['fcstValue'])\n",
    "        elif data['category']=='SKY':\n",
    "            fcst_df.loc[row_idx, 'Cloud'] = float(data['fcstValue'])\n",
    "            print('category:Cloud,',data['category'], 'baseTime:',data['baseTime'], ', fcstTime:', data['fcstTime'], ', fcstValue:', data['fcstValue'])\n",
    "        elif data['category']=='VEC':\n",
    "            fcst_df.loc[row_idx, 'WindDirection'] = float(data['fcstValue'])\n",
    "            print('category:WindDirection,',data['category'], 'baseTime:',data['baseTime'], ', fcstTime:', data['fcstTime'], ', fcstValue:', data['fcstValue'])\n",
    "        elif data['category']=='WSD':\n",
    "            fcst_df.loc[row_idx, 'WindSpeed'] = float(data['fcstValue'])\n",
    "            print('category:WindSpeed,',data['category'], 'baseTime:',data['baseTime'], ', fcstTime:', data['fcstTime'], ', fcstValue:', data['fcstValue'], '\\n')\n",
    "            row_idx+=3"
   ]
  }
 ],
 "metadata": {
  "kernelspec": {
   "display_name": "Python 3",
   "language": "python",
   "name": "python3"
  },
  "language_info": {
   "codemirror_mode": {
    "name": "ipython",
    "version": 3
   },
   "file_extension": ".py",
   "mimetype": "text/x-python",
   "name": "python",
   "nbconvert_exporter": "python",
   "pygments_lexer": "ipython3",
   "version": "3.11.0 (main, Oct 24 2022, 18:26:48) [MSC v.1933 64 bit (AMD64)]"
  },
  "orig_nbformat": 4,
  "vscode": {
   "interpreter": {
    "hash": "ebfc0a8d552866b0d59eba665220a57de3bc06f3ac643b8bef38dd8f66781fdd"
   }
  }
 },
 "nbformat": 4,
 "nbformat_minor": 2
}
